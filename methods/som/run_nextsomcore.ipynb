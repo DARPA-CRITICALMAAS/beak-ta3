{
 "cells": [
  {
   "cell_type": "markdown",
   "metadata": {},
   "source": [
    "<p style=\"font-size:35px; text-align:center; font-weight:bold\">CMAAS run SOM clustering method</p>\n",
    "<p style=\"font-size:17px; text-align:left\">Ina Storch 06-11-2023 </p>\n",
    "<p style=\"font-size:17px; text-align:left\">Note: This notebook is designed to run SOM using preprocessed data gained from the datacube from: Lawley et al., 2021. </p>\n",
    "<p style=\"font-size:17px; text-align:left\">Reference: Lawley, C.J.M., McCafferty, A.E., Graham, G.E., Gadd, M.G., Huston, D.L., Kelley, K.D., Paradis, S., Peter, J.M., and Czarnota, K., 2021. Datasets to support prospectivity modelling for sediment-hosted Zn-Pb mineral systems; Geological Survey of Canada, Open File 8836, 1 .zip file. https://doi.org/10.4095/329203</p>"
   ]
  },
  {
   "cell_type": "markdown",
   "metadata": {},
   "source": [
    "<p style=\"font-size:19px; text-align:left; font-weight:bold\">1) Import libraries, define SOM arguments</p>"
   ]
  },
  {
   "cell_type": "code",
   "execution_count": 1,
   "metadata": {},
   "outputs": [],
   "source": [
    "from src.nextsomcore.nextsomcore import NxtSomCore\n",
    "import pickle\n",
    "\n",
    "import configs.argsSOM\n",
    "\n",
    "args = configs.argsSOM.Args()"
   ]
  },
  {
   "cell_type": "markdown",
   "metadata": {},
   "source": [
    "<p style=\"font-size:19px; text-align:left; font-weight:bold\">2) Provide input file(s). \n",
    "\n",
    "Input data can eighter be in LRN file format (a table with X, Y, Z and one line with the values for each data layer) or geoTIF file format. Choose one.\n",
    "\n",
    "Create a \"data\" folder within the \"methods/som/\" folder. This \"data\" folder should contain a folder for \"input\" and \"output\" data, each. To be able to run this jupyter notebook, copy your input data into the folder \"methods/som/data/input\". \n",
    "\n",
    "In case of GeoTIF input files, you can create a subfolder and collect all TIF files that you want to use for SOM. In the following code cell you can provide a file path and a pattern (like \"*.tif\") for files within that specific folder that you want to use for SOM.\n",
    "\n",
    "If input file format is LRN, skip the next code cell and provide the file name (including file path) with args.input_file "
   ]
  },
  {
   "cell_type": "markdown",
   "metadata": {},
   "source": [
    "<p style=\"font-size:19px; text-align:left; font-weight:bold\">Either: Data input in geoTiff format:\n",
    "\n",
    "List geoTiff files, separated by komma: [\"path/name1.tiff\",\"path/name2.tiff\"] </br>\n",
    "\n",
    "Here an option is provided how to compose such a list: provide a file path and one or more file patterns (or a list of file names) to select all files matching this pattern inside the specified folder. The file patterns can also include subfolder specifications and * to select all files within this subfolder ('subfolder/*.tif') ."
   ]
  },
  {
   "cell_type": "code",
   "execution_count": 2,
   "metadata": {},
   "outputs": [
    {
     "name": "stdout",
     "output_type": "stream",
     "text": [
      "Number of files added: 2\n",
      "Files:\n",
      "data/input/MVT_PREFERRED_REPROJECTED/NUMERICAL_MINMAX/Magnetic_LongWavelength_HGM.tif\n",
      "data/input/MVT_PREFERRED_REPROJECTED/CATEGORICAL/Geology_Lithology_Majority_Igneous_Intrusive_Felsic.tif\n"
     ]
    }
   ],
   "source": [
    "file_path = \"data/input/MVT_PREFERRED_REPROJECTED/\"\n",
    "#file_path = \"data/input/testdata/\"\n",
    "\n",
    "#file_patterns = [\"NUMERICAL_MINMAX/*.tif\", \"CATEGORICAL/Geology_Lithology_Majority_Igneous_Intrusive_Felsic.tif\"]\n",
    "file_patterns = [\"NUMERICAL_MINMAX/Magnetic_LongWavelength_HGM.tif\", \"CATEGORICAL/Geology_Lithology_Majority_Igneous_Intrusive_Felsic.tif\"]\n",
    "#file_patterns = [\"NUMERICAL_MINMAX/Magnetic_LongWavelength_HGM*.tif\"]\n",
    "#file_patterns = [\"Magnetics.tif\", \"RockContact(gsh_bs).tif\"]\n",
    "\n",
    "#---------------\n",
    "args.input_file = args.create_list_from_pattern(file_path, file_patterns)\n",
    "args.geotiff_input=args.input_file      # geotiff_input files, separated by komma"
   ]
  },
  {
   "cell_type": "markdown",
   "metadata": {},
   "source": [
    "<p style=\"font-size:19px; text-align:left; font-weight:bold\">Or: Data input in LRN format (data table):\n",
    "\n",
    "Specify file path and name!"
   ]
  },
  {
   "cell_type": "code",
   "execution_count": null,
   "metadata": {},
   "outputs": [],
   "source": [
    "#args.input_file=\"/methods/methods/som/data/input/SOM_grav_mag.lrn\""
   ]
  },
  {
   "cell_type": "markdown",
   "metadata": {},
   "source": [
    "<p style=\"font-size:19px; text-align:left; font-weight:bold\">3) Specify parameter for SOM. "
   ]
  },
  {
   "cell_type": "code",
   "execution_count": 3,
   "metadata": {},
   "outputs": [],
   "source": [
    "\n",
    "args.output_folder=\"data/output\"         # Folder to save som dictionary and cluster dictionary\n",
    "#args.output_folder=\"/methods/methods/som/data/output\"\n",
    "args.output_file_somspace= args.output_folder+\"/result_som.txt\"   # DO NOT CHANGE! Text file that will contain calculated values: som_x som_y b_data1 b_data2 b_dataN umatrix cluster in geospace.\n",
    "\n",
    "args.som_x = 10                # X dimension of generated SOM\n",
    "args.som_y = 10               # Y dimension of generated SOM\n",
    "args.epochs = 10               # Number of epochs to run\n",
    "\n",
    "# Base parameters required for som calculation. \n",
    "# Additional optional parameters below:\n",
    "args.outgeofile= args.output_folder+\"/result_geo.txt\"             # DO NOT CHANGE!\n",
    "args.output_file_geospace=args.outgeofile   # Text file that will contain calculated values: {X Y Z} data1 data2 dataN som_x som_y cluster b_data1 b_data2 b_dataN in geospace.\n",
    "\n",
    "args.kmeans=\"true\"          # Run k-means clustering (true, false)\n",
    "args.kmeans_init = 5           # Number of initializations\n",
    "args.kmeans_min = 5            # Minimum number of k-mean clusters\n",
    "args.kmeans_max = 10           # Maximum number of k-mean clusters\n",
    "\n",
    "args.neighborhood = 'gaussian'     # Shape of the neighborhood function. gaussian or bubble\n",
    "args.std_coeff = 0.5               # Coefficient in the Gaussian neighborhood function\n",
    "args.maptype = 'toroid'            # Type of SOM (sheet, toroid)\n",
    "args.initialcodebook = None        # File path of initial codebook, 2D numpy.array of float32.\n",
    "args.radius0 = 0                   # Initial size of the neighborhood\n",
    "args.radiusN = 1                   # Final size of the neighborhood\n",
    "args.radiuscooling = 'linear'      # Function that defines the decrease in the neighborhood size as the training proceeds (linear, exponential)\n",
    "args.scalecooling = 'linear'       # Function that defines the decrease in the learning scale as the training proceeds (linear, exponential)\n",
    "args.scale0 = 0.1                  # Initial learning rate\n",
    "args.scaleN = 0.01                 # Final learning rate\n",
    "args.initialization = 'random'     # Type of SOM initialization (random, pca)\n",
    "args.gridtype = 'rectangular'      # Type of SOM grid (hexagonal, rectangular)\n",
    "#args.xmlfile=\"none\"              # SOM inputs as an xml file\n",
    "\n",
    "args.minN = 0                  # Minimum value for normalization\n",
    "args.maxN = 1                  # Maximum value for normalization\n",
    "args.label = None              # Whether data contains label column, true or false\n"
   ]
  },
  {
   "cell_type": "code",
   "execution_count": null,
   "metadata": {},
   "outputs": [],
   "source": [
    "print(args.input_file)\n",
    "print(args.geotiff_input)"
   ]
  },
  {
   "cell_type": "markdown",
   "metadata": {},
   "source": [
    "<p style=\"font-size:19px; text-align:left; font-weight:bold\">4) Run SOM \n",
    "\n",
    "Before running SOM - clean up existing files and move them to a subfolder."
   ]
  },
  {
   "cell_type": "markdown",
   "metadata": {},
   "source": [
    "Run SOM with parameters specified above and save the results. Uses NxtSomCore package to do the actual work. "
   ]
  },
  {
   "cell_type": "code",
   "execution_count": null,
   "metadata": {},
   "outputs": [],
   "source": [
    "import src.do_nextsomcore_save_results as dnsr\n",
    "import src.move_to_subfolder as mts\n",
    "\n",
    "# move existing SOM output files from previous runs into subfolder\n",
    "mts.move_som_results(args.output_folder, \"old_results\")\n",
    "\n",
    "# run SOM\n",
    "dnsr.run_SOM(args)"
   ]
  },
  {
   "cell_type": "code",
   "execution_count": null,
   "metadata": {},
   "outputs": [],
   "source": [
    "import src.plot_som_results as plot\n",
    "from IPython.display import Image, display, clear_output\n",
    "\n",
    "# Load cluster dictionary\n",
    "loaded_cluster_list = plot.load_cluster_dictionary(args.output_folder)\n",
    "# Plot and save the Davies-Bouldin Index vs Number of Clusters\n",
    "plot.plot_davies_bouldin(loaded_cluster_list, args.output_folder)"
   ]
  },
  {
   "cell_type": "markdown",
   "metadata": {},
   "source": [
    "<p style=\"font-size:19px; text-align:left; font-weight:bold\">5) Plot results."
   ]
  },
  {
   "cell_type": "markdown",
   "metadata": {},
   "source": [
    "Specify the parameters to plot the results and create figures. The Python script \"plot_som_results.py\" creates .png files of the results in som space, geospace and also creates boxplots."
   ]
  },
  {
   "cell_type": "markdown",
   "metadata": {},
   "source": [
    "Move figures into a sub folder. If the destination folder does not exist, it is created here. All file names are stored in a list that is used in the next step to show all output figures."
   ]
  },
  {
   "cell_type": "code",
   "execution_count": 4,
   "metadata": {},
   "outputs": [
    {
     "name": "stdout",
     "output_type": "stream",
     "text": [
      "Setup figures\n",
      "    Read som data execution time: 0.007599830627441406 seconds\n"
     ]
    },
    {
     "ename": "NameError",
     "evalue": "name 'time_A' is not defined",
     "output_type": "error",
     "traceback": [
      "\u001b[0;31m---------------------------------------------------------------------------\u001b[0m",
      "\u001b[0;31mNameError\u001b[0m                                 Traceback (most recent call last)",
      "Cell \u001b[0;32mIn[4], line 18\u001b[0m\n\u001b[1;32m     15\u001b[0m argsP\u001b[38;5;241m.\u001b[39mdataType\u001b[38;5;241m=\u001b[39m\u001b[38;5;124m'\u001b[39m\u001b[38;5;124mgrid\u001b[39m\u001b[38;5;124m'\u001b[39m       \u001b[38;5;66;03m# Data type (scatter or grid)\u001b[39;00m\n\u001b[1;32m     16\u001b[0m argsP\u001b[38;5;241m.\u001b[39mnoDataValue\u001b[38;5;241m=\u001b[39m\u001b[38;5;124m'\u001b[39m\u001b[38;5;124m-9999\u001b[39m\u001b[38;5;124m'\u001b[39m    \u001b[38;5;66;03m# noData value\u001b[39;00m\n\u001b[0;32m---> 18\u001b[0m \u001b[43mplot\u001b[49m\u001b[38;5;241;43m.\u001b[39;49m\u001b[43mrun_plotting_script\u001b[49m\u001b[43m(\u001b[49m\u001b[43margsP\u001b[49m\u001b[43m)\u001b[49m\n\u001b[1;32m     20\u001b[0m subfolder_name \u001b[38;5;241m=\u001b[39m \u001b[38;5;124m\"\u001b[39m\u001b[38;5;124mplots\u001b[39m\u001b[38;5;124m\"\u001b[39m\n\u001b[1;32m     21\u001b[0m images, labels \u001b[38;5;241m=\u001b[39m mts\u001b[38;5;241m.\u001b[39mmove_figures(args\u001b[38;5;241m.\u001b[39moutput_folder, subfolder_name)\n",
      "File \u001b[0;32m/methods/methods/som/src/plot_som_results.py:50\u001b[0m, in \u001b[0;36mrun_plotting_script\u001b[0;34m(argsP)\u001b[0m\n\u001b[1;32m     40\u001b[0m \u001b[38;5;28mprint\u001b[39m(\u001b[38;5;124m\"\u001b[39m\u001b[38;5;124mSetup figures\u001b[39m\u001b[38;5;124m\"\u001b[39m)\n\u001b[1;32m     41\u001b[0m start_time \u001b[38;5;241m=\u001b[39m time\u001b[38;5;241m.\u001b[39mtime()\n\u001b[1;32m     43\u001b[0m [geo_data, geo_headers, \n\u001b[1;32m     44\u001b[0m  som_data, som_table, som_headers, som_dict,\n\u001b[1;32m     45\u001b[0m  grid, grid_type, annot_ticks, annot_strings, \n\u001b[1;32m     46\u001b[0m  outgeofile, \n\u001b[1;32m     47\u001b[0m  clusters, cluster_ticks, cluster_tick_labels, \n\u001b[1;32m     48\u001b[0m  discrete_cmap, discrete_cmap_2, \n\u001b[1;32m     49\u001b[0m  labelIndex\n\u001b[0;32m---> 50\u001b[0m  ] \u001b[38;5;241m=\u001b[39m \u001b[43mbasic_setup\u001b[49m\u001b[43m(\u001b[49m\n\u001b[1;32m     51\u001b[0m \u001b[43m    \u001b[49m\u001b[43margsP\u001b[49m\u001b[38;5;241;43m.\u001b[39;49m\u001b[43moutsomfile\u001b[49m\u001b[43m,\u001b[49m\u001b[43m \u001b[49m\u001b[43margsP\u001b[49m\u001b[38;5;241;43m.\u001b[39;49m\u001b[43msom_x\u001b[49m\u001b[43m,\u001b[49m\u001b[43m \u001b[49m\u001b[43margsP\u001b[49m\u001b[38;5;241;43m.\u001b[39;49m\u001b[43msom_y\u001b[49m\u001b[43m,\u001b[49m\u001b[43m \u001b[49m\n\u001b[1;32m     52\u001b[0m \u001b[43m    \u001b[49m\u001b[43margsP\u001b[49m\u001b[38;5;241;43m.\u001b[39;49m\u001b[43minput_file\u001b[49m\u001b[43m,\u001b[49m\u001b[43m \u001b[49m\u001b[43margsP\u001b[49m\u001b[38;5;241;43m.\u001b[39;49m\u001b[43mdir\u001b[49m\u001b[43m,\u001b[49m\u001b[43m \u001b[49m\n\u001b[1;32m     53\u001b[0m \u001b[43m    \u001b[49m\u001b[43margsP\u001b[49m\u001b[38;5;241;43m.\u001b[39;49m\u001b[43mgrid_type\u001b[49m\u001b[43m,\u001b[49m\u001b[43m \u001b[49m\u001b[43margsP\u001b[49m\u001b[38;5;241;43m.\u001b[39;49m\u001b[43mredraw\u001b[49m\u001b[43m,\u001b[49m\u001b[43m \u001b[49m\n\u001b[1;32m     54\u001b[0m \u001b[43m    \u001b[49m\u001b[43margsP\u001b[49m\u001b[38;5;241;43m.\u001b[39;49m\u001b[43mdataType\u001b[49m\u001b[43m,\u001b[49m\u001b[43m \u001b[49m\u001b[43margsP\u001b[49m\u001b[38;5;241;43m.\u001b[39;49m\u001b[43mnoDataValue\u001b[49m\u001b[43m,\u001b[49m\u001b[43m \u001b[49m\u001b[43margsP\u001b[49m\u001b[38;5;241;43m.\u001b[39;49m\u001b[43moutgeofile\u001b[49m\u001b[43m)\u001b[49m\n\u001b[1;32m     56\u001b[0m end_time \u001b[38;5;241m=\u001b[39m time\u001b[38;5;241m.\u001b[39mtime()\n\u001b[1;32m     57\u001b[0m \u001b[38;5;28mprint\u001b[39m(\u001b[38;5;124mf\u001b[39m\u001b[38;5;124m\"\u001b[39m\u001b[38;5;124m    Execution time: \u001b[39m\u001b[38;5;132;01m{\u001b[39;00mend_time\u001b[38;5;250m \u001b[39m\u001b[38;5;241m-\u001b[39m\u001b[38;5;250m \u001b[39mstart_time\u001b[38;5;132;01m}\u001b[39;00m\u001b[38;5;124m seconds\u001b[39m\u001b[38;5;124m\"\u001b[39m)\n",
      "File \u001b[0;32m/methods/methods/som/src/plot_som_results.py:146\u001b[0m, in \u001b[0;36mbasic_setup\u001b[0;34m(outsomfile, som_x, som_y, input_file, working_dir, grid_type, redraw, dataType, noDataValue, aOutgeofile)\u001b[0m\n\u001b[1;32m    141\u001b[0m \u001b[38;5;28mprint\u001b[39m(\u001b[38;5;124mf\u001b[39m\u001b[38;5;124m\"\u001b[39m\u001b[38;5;124m    Read som data execution time: \u001b[39m\u001b[38;5;132;01m{\u001b[39;00mtime_1\u001b[38;5;250m \u001b[39m\u001b[38;5;241m-\u001b[39m\u001b[38;5;250m \u001b[39mtime_0\u001b[38;5;132;01m}\u001b[39;00m\u001b[38;5;124m seconds\u001b[39m\u001b[38;5;124m\"\u001b[39m)\n\u001b[1;32m    143\u001b[0m \u001b[38;5;28;01mif\u001b[39;00m outgeofile \u001b[38;5;129;01mis\u001b[39;00m \u001b[38;5;129;01mnot\u001b[39;00m \u001b[38;5;28;01mNone\u001b[39;00m:\n\u001b[1;32m    144\u001b[0m     \u001b[38;5;66;03m#geo_data=np.genfromtxt(outgeofile, skip_header=(1), delimiter=' ')\u001b[39;00m\n\u001b[1;32m    145\u001b[0m     \u001b[38;5;66;03m#time_A = time.time()\u001b[39;00m\n\u001b[0;32m--> 146\u001b[0m     \u001b[38;5;28mprint\u001b[39m(\u001b[38;5;124mf\u001b[39m\u001b[38;5;124m\"\u001b[39m\u001b[38;5;124m    Read geo data (genfromtxt):                 \u001b[39m\u001b[38;5;132;01m{\u001b[39;00mtime_A\u001b[38;5;250m \u001b[39m\u001b[38;5;241m-\u001b[39m\u001b[38;5;250m \u001b[39mtime_1\u001b[38;5;132;01m}\u001b[39;00m\u001b[38;5;124m seconds\u001b[39m\u001b[38;5;124m\"\u001b[39m)\n\u001b[1;32m    147\u001b[0m     geo_data \u001b[38;5;241m=\u001b[39m pd\u001b[38;5;241m.\u001b[39mread_csv(outgeofile, skiprows\u001b[38;5;241m=\u001b[39m\u001b[38;5;241m1\u001b[39m, delimiter\u001b[38;5;241m=\u001b[39m\u001b[38;5;124m'\u001b[39m\u001b[38;5;124m \u001b[39m\u001b[38;5;124m'\u001b[39m)\u001b[38;5;241m.\u001b[39mvalues\n\u001b[1;32m    148\u001b[0m     time_B \u001b[38;5;241m=\u001b[39m time\u001b[38;5;241m.\u001b[39mtime()\n",
      "\u001b[0;31mNameError\u001b[0m: name 'time_A' is not defined"
     ]
    }
   ],
   "source": [
    "import configs.argsPlot\n",
    "import src.plot_som_results as plot\n",
    "import src.move_to_subfolder as mts\n",
    "\n",
    "argsP = configs.argsPlot.Args()\n",
    "\n",
    "argsP.outsomfile= args.output_file_somspace   # som calculation somspace output text file\n",
    "argsP.som_x= args.som_x         # som x dimension\n",
    "argsP.som_y= args.som_y         # som y dimension\n",
    "argsP.input_file= args.input_file   # Input file(*.lrn)\n",
    "argsP.dir= args.output_folder            # Input file(*.lrn) or directory where som.dictionary was safet to (/output/som.dictionary)\n",
    "argsP.grid_type= 'rectangular' # grid type (square or hexa), (rectangular or hexagonal)\n",
    "argsP.redraw='true'       # whether to draw all plots, or only those required for clustering (true: draw all. false:draw only for clustering).\n",
    "argsP.outgeofile=args.output_file_geospace     # som geospace results txt file\n",
    "argsP.dataType='grid'       # Data type (scatter or grid)\n",
    "argsP.noDataValue='-9999'    # noData value\n",
    "\n",
    "plot.run_plotting_script(argsP)\n",
    "\n",
    "subfolder_name = \"plots\"\n",
    "images, labels = mts.move_figures(args.output_folder, subfolder_name)"
   ]
  },
  {
   "cell_type": "markdown",
   "metadata": {},
   "source": [
    "Show all figures that were produced by \"plot_som_results.py\" and moved into a subfolder.\n",
    "\n",
    "Boxplot:\n",
    "> x axis is Cluster ID </br>\n",
    "> Z axis is original data value </br>\n",
    "> legend: number of data points in each cluster </br>"
   ]
  },
  {
   "cell_type": "code",
   "execution_count": null,
   "metadata": {},
   "outputs": [],
   "source": [
    "import matplotlib.pyplot as plt\n",
    "from IPython.display import clear_output\n",
    "import ipyplot\n",
    "\n",
    "# Clear Matplotlib cache\n",
    "plt.close('all')\n",
    "\n",
    "# Clear output\n",
    "clear_output(wait=True)\n",
    "\n",
    "tabs = [image.split('_')[-2] for image in labels]\n",
    "\n",
    "print(\"List of figures:\")\n",
    "print(labels)\n",
    "#print(tabs)\n",
    "\n",
    "# Plot the images\n",
    "#ipyplot.plot_images(images, max_images=50, img_width=250)\n",
    "ipyplot.plot_class_representations(images,  labels, img_width=200, show_url=False)\n",
    "ipyplot.plot_class_tabs(images, tabs, max_imgs_per_tab=50, img_width=400)"
   ]
  }
 ],
 "metadata": {
  "kernelspec": {
   "display_name": "dev-env",
   "language": "python",
   "name": "python3"
  },
  "language_info": {
   "codemirror_mode": {
    "name": "ipython",
    "version": 3
   },
   "file_extension": ".py",
   "mimetype": "text/x-python",
   "name": "python",
   "nbconvert_exporter": "python",
   "pygments_lexer": "ipython3",
   "version": "3.9.15"
  },
  "orig_nbformat": 4
 },
 "nbformat": 4,
 "nbformat_minor": 2
}
