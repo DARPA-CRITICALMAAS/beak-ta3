{
 "cells": [
  {
   "cell_type": "markdown",
   "metadata": {},
   "source": [
    "<p style=\"font-size:35px; text-align:center; font-weight:bold\">CMAAS run SOM clustering method</p>\n",
    "<p style=\"font-size:17px; text-align:left\">Ina Storch 06-11-2023 </p>\n",
    "<p style=\"font-size:17px; text-align:left\">Note: This notebook is designed to run SOM using preprocessed data gained from the datacube from: Lawley et al., 2021. </p>\n",
    "<p style=\"font-size:17px; text-align:left\">Reference: Lawley, C.J.M., McCafferty, A.E., Graham, G.E., Gadd, M.G., Huston, D.L., Kelley, K.D., Paradis, S., Peter, J.M., and Czarnota, K., 2021. Datasets to support prospectivity modelling for sediment-hosted Zn-Pb mineral systems; Geological Survey of Canada, Open File 8836, 1 .zip file. https://doi.org/10.4095/329203</p>"
   ]
  },
  {
   "cell_type": "markdown",
   "metadata": {},
   "source": [
    "<p style=\"font-size:19px; text-align:left; font-weight:bold\">1) Import libraries, define SOM arguments</p>"
   ]
  },
  {
   "cell_type": "code",
   "execution_count": 1,
   "metadata": {},
   "outputs": [],
   "source": [
    "from src.nextsomcore.nextsomcore import NxtSomCore\n",
    "import pickle\n",
    "\n",
    "import configs.argsSOM\n",
    "\n",
    "args = configs.argsSOM.Args()"
   ]
  },
  {
   "cell_type": "markdown",
   "metadata": {},
   "source": [
    "<p style=\"font-size:19px; text-align:left; font-weight:bold\">2) Specify parameter for SOM. \n",
    "\n",
    "Input data can eighter be in LRN file format (a table with X, Y, Z and one line with the values for each data layer) or TIF file format. Choose one.\n",
    "\n",
    "Create a \"data\" folder within the \"methods/som/\" folder. This \"data\" folder should contain a folder for \"input\" and \"output\" data, each. To be able to run this jupyter notebook, copy your input data into the folder \"methods/som/data/input\". \n",
    "\n",
    "In case of GeoTIF input files, you can create a subfolder and collect all TIF files that you want to use for SOM. In the following code cell you can provide a file path and a pattern (like \"*.tif\") for files within that specific folder that you want to use for SOM.\n",
    "\n",
    "If input file format is LRN, skip the next code cell and provide the file name (including file path) with args.input_file "
   ]
  },
  {
   "cell_type": "code",
   "execution_count": 2,
   "metadata": {},
   "outputs": [
    {
     "name": "stdout",
     "output_type": "stream",
     "text": [
      "Number of files added: 20\n",
      "Files:\n",
      "data/input/MVT_PREFERRED_REPROJECTED/NUMERICAL_MINMAX/Geology_BlackShale_Proximity.tif\n",
      "data/input/MVT_PREFERRED_REPROJECTED/NUMERICAL_MINMAX/Geology_Fault_Proximity.tif\n",
      "data/input/MVT_PREFERRED_REPROJECTED/NUMERICAL_MINMAX/Geology_Paleolatitude_Period_Maximum.tif\n",
      "data/input/MVT_PREFERRED_REPROJECTED/NUMERICAL_MINMAX/Geology_Paleolatitude_Period_Minimum.tif\n",
      "data/input/MVT_PREFERRED_REPROJECTED/NUMERICAL_MINMAX/Geology_PassiveMargin_Proximity.tif\n",
      "data/input/MVT_PREFERRED_REPROJECTED/NUMERICAL_MINMAX/Gravity_Bouguer.tif\n",
      "data/input/MVT_PREFERRED_REPROJECTED/NUMERICAL_MINMAX/Gravity_Bouguer_HGM.tif\n",
      "data/input/MVT_PREFERRED_REPROJECTED/NUMERICAL_MINMAX/Gravity_Bouguer_HGM_Worms_Proximity.tif\n",
      "data/input/MVT_PREFERRED_REPROJECTED/NUMERICAL_MINMAX/Gravity_Bouguer_UpCont30km_HGM.tif\n",
      "data/input/MVT_PREFERRED_REPROJECTED/NUMERICAL_MINMAX/Gravity_Bouguer_UpCont30km_HGM_Worms_Proximity.tif\n",
      "...\n",
      "data/input/MVT_PREFERRED_REPROJECTED/CATEGORICAL/Geology_Lithology_Minority_Igneous_Intrusive_Felsic.tif\n"
     ]
    }
   ],
   "source": [
    "# #------------- \n",
    "# #- Data Input .tiff files:\n",
    "# #------------- \n",
    "# #- If input data is geotiff: list geotiff files: [\"name1.tiff\",\"name2.tiff\"]\n",
    "#in_folder = \"data/input/MVT_PREFERRED_REPROJECTED/NUMERICAL_MINMAX/\"\n",
    "#input_list_text=[file_path + file for file in \n",
    "#                    [\"Geology_BlackShale_Proximity.tif\",\n",
    "#                    \"Terrane_Proximity.tif\"]]\n",
    "#args.input_file= \",\".join(input_list_text)\n",
    "\n",
    "file_path = \"data/input/MVT_PREFERRED_REPROJECTED/\"\n",
    "file_patterns = [\"NUMERICAL_MINMAX/*.tif\", \"CATEGORICAL/*_Igneous_Intrusive_Felsic.tif\"]\n",
    "#file_patterns = [\"NUMERICAL_MINMAX/Magnetic_LongWavelength_HGM*.tif\", \"CATEGORICAL/*_Igneous_Intrusive_Felsic.tif\"]\n",
    "#file_patterns = [\"NUMERICAL_MINMAX/Mag*.tif\"]\n",
    "\n",
    "args.input_file = args.create_list_from_pattern(file_path, file_patterns)\n",
    "args.geotiff_input=args.input_file      # geotiff_input files, separated by komma\n",
    "\n",
    "#------------- \n",
    "#- Or: Data Input .lrn file:\n",
    "#------------- \n",
    "#args.input_file=\"/methods/methods/som/data/input/SOM_grav_mag.lrn\"\n",
    "\n",
    "#-------------\n",
    "#- Data Output\n",
    "#-------------\n",
    "\n",
    "#args.output_folder=\"data/output\"         # Folder to save som dictionary and cluster dictionary\n",
    "args.output_folder=\"/methods/methods/som/data/output\"\n",
    "\n",
    "args.output_file_somspace= args.output_folder+\"/result_som.txt\"   # DO NOT CHANGE! Text file that will contain calculated values: som_x som_y b_data1 b_data2 b_dataN umatrix cluster in geospace.\n",
    "        \n",
    "\n",
    "#-------------\n",
    "#- Parameter\n",
    "#-------------\n",
    "\n",
    "args.som_x=30                # X dimension of generated SOM\n",
    "args.som_y=30                # Y dimension of generated SOM\n",
    "args.epochs=10               # Number of epochs to run\n",
    "\n",
    "# Base parameters required for som calculation. \n",
    "# Additional optional parameters below:\n",
    "args.outgeofile= args.output_folder+\"/result_geo.txt\"             # DO NOT CHANGE!\n",
    "args.output_file_geospace=args.outgeofile   # Text file that will contain calculated values: {X Y Z} data1 data2 dataN som_x som_y cluster b_data1 b_data2 b_dataN in geospace.\n",
    "\n",
    "args.kmeans=\"true\"          # Run k-means clustering (true, false)\n",
    "args.kmeans_init=5           # Number of initializations\n",
    "args.kmeans_min=3            # Minimum number of k-mean clusters\n",
    "args.kmeans_max=25           # Maximum number of k-mean clusters\n",
    "\n",
    "args.neighborhood='gaussian'     # Shape of the neighborhood function. gaussian or bubble\n",
    "args.std_coeff=0.5               # Coefficient in the Gaussian neighborhood function\n",
    "args.maptype='toroid'            # Type of SOM (sheet, toroid)\n",
    "args.initialcodebook=None        # File path of initial codebook, 2D numpy.array of float32.\n",
    "args.radius0=0                   # Initial size of the neighborhood\n",
    "args.radiusN=1                   # Final size of the neighborhood\n",
    "args.radiuscooling='linear'      # Function that defines the decrease in the neighborhood size as the training proceeds (linear, exponential)\n",
    "args.scalecooling='linear'       # Function that defines the decrease in the learning scale as the training proceeds (linear, exponential)\n",
    "args.scale0=0.1                  # Initial learning rate\n",
    "args.scaleN=0.01                 # Final learning rate\n",
    "args.initialization='random'     # Type of SOM initialization (random, pca)\n",
    "args.gridtype='rectangular'      # Type of SOM grid (hexagonal, rectangular)\n",
    "#args.xmlfile=\"none\"              # SOM inputs as an xml file\n",
    "\n",
    "args.normalized=\"true\"      # Whether the data has been normalized or not (true, false)\n",
    "args.minN=0                  # Minimum value for normalization\n",
    "args.maxN=1                  # Maximum value for normalization\n",
    "args.label=None              # Whether data contains label column, true or false\n"
   ]
  },
  {
   "cell_type": "code",
   "execution_count": 3,
   "metadata": {},
   "outputs": [
    {
     "name": "stdout",
     "output_type": "stream",
     "text": [
      "data/input/MVT_PREFERRED_REPROJECTED/NUMERICAL_MINMAX/Geology_BlackShale_Proximity.tif,data/input/MVT_PREFERRED_REPROJECTED/NUMERICAL_MINMAX/Geology_Fault_Proximity.tif,data/input/MVT_PREFERRED_REPROJECTED/NUMERICAL_MINMAX/Geology_Paleolatitude_Period_Maximum.tif,data/input/MVT_PREFERRED_REPROJECTED/NUMERICAL_MINMAX/Geology_Paleolatitude_Period_Minimum.tif,data/input/MVT_PREFERRED_REPROJECTED/NUMERICAL_MINMAX/Geology_PassiveMargin_Proximity.tif,data/input/MVT_PREFERRED_REPROJECTED/NUMERICAL_MINMAX/Gravity_Bouguer.tif,data/input/MVT_PREFERRED_REPROJECTED/NUMERICAL_MINMAX/Gravity_Bouguer_HGM.tif,data/input/MVT_PREFERRED_REPROJECTED/NUMERICAL_MINMAX/Gravity_Bouguer_HGM_Worms_Proximity.tif,data/input/MVT_PREFERRED_REPROJECTED/NUMERICAL_MINMAX/Gravity_Bouguer_UpCont30km_HGM.tif,data/input/MVT_PREFERRED_REPROJECTED/NUMERICAL_MINMAX/Gravity_Bouguer_UpCont30km_HGM_Worms_Proximity.tif,data/input/MVT_PREFERRED_REPROJECTED/NUMERICAL_MINMAX/Gravity_GOCE_ShapeIndex.tif,data/input/MVT_PREFERRED_REPROJECTED/NUMERICAL_MINMAX/Magnetic_HGM.tif,data/input/MVT_PREFERRED_REPROJECTED/NUMERICAL_MINMAX/Magnetic_HGM_Worms_Proximity.tif,data/input/MVT_PREFERRED_REPROJECTED/NUMERICAL_MINMAX/Magnetic_LongWavelength_HGM.tif,data/input/MVT_PREFERRED_REPROJECTED/NUMERICAL_MINMAX/Magnetic_LongWavelength_HGM_Worms_Proximity.tif,data/input/MVT_PREFERRED_REPROJECTED/NUMERICAL_MINMAX/Seismic_LAB_Priestley.tif,data/input/MVT_PREFERRED_REPROJECTED/NUMERICAL_MINMAX/Seismic_Moho.tif,data/input/MVT_PREFERRED_REPROJECTED/NUMERICAL_MINMAX/Terrane_Proximity.tif,data/input/MVT_PREFERRED_REPROJECTED/CATEGORICAL/Geology_Lithology_Majority_Igneous_Intrusive_Felsic.tif,data/input/MVT_PREFERRED_REPROJECTED/CATEGORICAL/Geology_Lithology_Minority_Igneous_Intrusive_Felsic.tif\n",
      "data/input/MVT_PREFERRED_REPROJECTED/NUMERICAL_MINMAX/Geology_BlackShale_Proximity.tif,data/input/MVT_PREFERRED_REPROJECTED/NUMERICAL_MINMAX/Geology_Fault_Proximity.tif,data/input/MVT_PREFERRED_REPROJECTED/NUMERICAL_MINMAX/Geology_Paleolatitude_Period_Maximum.tif,data/input/MVT_PREFERRED_REPROJECTED/NUMERICAL_MINMAX/Geology_Paleolatitude_Period_Minimum.tif,data/input/MVT_PREFERRED_REPROJECTED/NUMERICAL_MINMAX/Geology_PassiveMargin_Proximity.tif,data/input/MVT_PREFERRED_REPROJECTED/NUMERICAL_MINMAX/Gravity_Bouguer.tif,data/input/MVT_PREFERRED_REPROJECTED/NUMERICAL_MINMAX/Gravity_Bouguer_HGM.tif,data/input/MVT_PREFERRED_REPROJECTED/NUMERICAL_MINMAX/Gravity_Bouguer_HGM_Worms_Proximity.tif,data/input/MVT_PREFERRED_REPROJECTED/NUMERICAL_MINMAX/Gravity_Bouguer_UpCont30km_HGM.tif,data/input/MVT_PREFERRED_REPROJECTED/NUMERICAL_MINMAX/Gravity_Bouguer_UpCont30km_HGM_Worms_Proximity.tif,data/input/MVT_PREFERRED_REPROJECTED/NUMERICAL_MINMAX/Gravity_GOCE_ShapeIndex.tif,data/input/MVT_PREFERRED_REPROJECTED/NUMERICAL_MINMAX/Magnetic_HGM.tif,data/input/MVT_PREFERRED_REPROJECTED/NUMERICAL_MINMAX/Magnetic_HGM_Worms_Proximity.tif,data/input/MVT_PREFERRED_REPROJECTED/NUMERICAL_MINMAX/Magnetic_LongWavelength_HGM.tif,data/input/MVT_PREFERRED_REPROJECTED/NUMERICAL_MINMAX/Magnetic_LongWavelength_HGM_Worms_Proximity.tif,data/input/MVT_PREFERRED_REPROJECTED/NUMERICAL_MINMAX/Seismic_LAB_Priestley.tif,data/input/MVT_PREFERRED_REPROJECTED/NUMERICAL_MINMAX/Seismic_Moho.tif,data/input/MVT_PREFERRED_REPROJECTED/NUMERICAL_MINMAX/Terrane_Proximity.tif,data/input/MVT_PREFERRED_REPROJECTED/CATEGORICAL/Geology_Lithology_Majority_Igneous_Intrusive_Felsic.tif,data/input/MVT_PREFERRED_REPROJECTED/CATEGORICAL/Geology_Lithology_Minority_Igneous_Intrusive_Felsic.tif\n"
     ]
    }
   ],
   "source": [
    "print(args.input_file)\n",
    "print(args.geotiff_input)"
   ]
  },
  {
   "cell_type": "markdown",
   "metadata": {},
   "source": [
    "<p style=\"font-size:19px; text-align:left; font-weight:bold\">3) Run SOM \n",
    "\n",
    "Before running SOM - clean up existing files and move them to a subfolder."
   ]
  },
  {
   "cell_type": "code",
   "execution_count": 4,
   "metadata": {},
   "outputs": [],
   "source": [
    "import shutil\n",
    "import os\n",
    "import glob\n",
    "\n",
    "file_path = args.output_folder\n",
    "file_patterns = [\"*som.*\",\"*geo.*\", \"RunStats.txt\",\"cluster.dictionary\"]\n",
    "destination_path = file_path+\"/old_results/\"\n",
    "\n",
    "# Create the destination folder if it doesn't exist\n",
    "if not os.path.exists(destination_path):\n",
    "    os.makedirs(destination_path)\n",
    "\n",
    "for file_pattern in file_patterns:\n",
    "    # Use glob to get all files with the specified pattern\n",
    "    matching_files = glob.glob(os.path.join(file_path, file_pattern))\n",
    "\n",
    "    # Move each matching file to the destination folder and overwrite existing files if necessary\n",
    "    for source_file in matching_files:\n",
    "        file_name = os.path.basename(source_file)\n",
    "        destination_file_path = os.path.join(destination_path, file_name)\n",
    "\n",
    "        # If the file already exists in the destination folder, delete it first\n",
    "        if os.path.exists(destination_file_path):\n",
    "            os.remove(destination_file_path)\n",
    "\n",
    "        # Move the file to the destination folder\n",
    "        shutil.move(source_file, destination_file_path)"
   ]
  },
  {
   "cell_type": "markdown",
   "metadata": {},
   "source": [
    "Run SOM with parameters specified above and save the results. Uses NxtSomCore package to do the actual work. "
   ]
  },
  {
   "cell_type": "code",
   "execution_count": 5,
   "metadata": {},
   "outputs": [
    {
     "name": "stdout",
     "output_type": "stream",
     "text": [
      "Warning: data was not float32. A 32-bit copy was made\n",
      "     10"
     ]
    },
    {
     "name": "stderr",
     "output_type": "stream",
     "text": [
      "Time for epoch 1: 1.667 Time for epoch 2: 1.654 Time for epoch 3: 1.476 Time for epoch 4: 1.515 Time for epoch 5: 1.426 Time for epoch 6: 1.513 Time for epoch 7: 1.422 Time for epoch 8: 1.413 Time for epoch 9: 1.25 Time for epoch 10: 1.323 "
     ]
    },
    {
     "name": "stdout",
     "output_type": "stream",
     "text": [
      "    100% [===================================================]\n"
     ]
    },
    {
     "ename": "KeyboardInterrupt",
     "evalue": "",
     "output_type": "error",
     "traceback": [
      "\u001b[0;31m---------------------------------------------------------------------------\u001b[0m",
      "\u001b[0;31mKeyboardInterrupt\u001b[0m                         Traceback (most recent call last)",
      "Cell \u001b[0;32mIn[5], line 3\u001b[0m\n\u001b[1;32m      1\u001b[0m \u001b[38;5;28;01mimport\u001b[39;00m \u001b[38;5;21;01msrc\u001b[39;00m\u001b[38;5;21;01m.\u001b[39;00m\u001b[38;5;21;01mdo_nextsomcore_save_results\u001b[39;00m \u001b[38;5;28;01mas\u001b[39;00m \u001b[38;5;21;01mdnsr\u001b[39;00m\n\u001b[0;32m----> 3\u001b[0m \u001b[43mdnsr\u001b[49m\u001b[38;5;241;43m.\u001b[39;49m\u001b[43mrun_SOM\u001b[49m\u001b[43m(\u001b[49m\u001b[43margs\u001b[49m\u001b[43m)\u001b[49m\n",
      "File \u001b[0;32m/methods/methods/som/src/do_nextsomcore_save_results.py:12\u001b[0m, in \u001b[0;36mrun_SOM\u001b[0;34m(args)\u001b[0m\n\u001b[1;32m     10\u001b[0m         args\u001b[38;5;241m.\u001b[39minitialization\u001b[38;5;241m=\u001b[39m\u001b[38;5;28;01mNone\u001b[39;00m           \n\u001b[1;32m     11\u001b[0m header \u001b[38;5;241m=\u001b[39m nxtsomcore\u001b[38;5;241m.\u001b[39mload_data(args\u001b[38;5;241m.\u001b[39minput_file) \n\u001b[0;32m---> 12\u001b[0m som \u001b[38;5;241m=\u001b[39m \u001b[43mnxtsomcore\u001b[49m\u001b[38;5;241;43m.\u001b[39;49m\u001b[43mtrain\u001b[49m\u001b[43m(\u001b[49m\n\u001b[1;32m     13\u001b[0m \u001b[43m    \u001b[49m\u001b[43mheader\u001b[49m\u001b[43m[\u001b[49m\u001b[38;5;124;43m'\u001b[39;49m\u001b[38;5;124;43mdata\u001b[39;49m\u001b[38;5;124;43m'\u001b[39;49m\u001b[43m]\u001b[49m\u001b[43m,\u001b[49m\n\u001b[1;32m     14\u001b[0m \u001b[43m    \u001b[49m\u001b[43margs\u001b[49m\u001b[38;5;241;43m.\u001b[39;49m\u001b[43msom_x\u001b[49m\u001b[43m,\u001b[49m\n\u001b[1;32m     15\u001b[0m \u001b[43m    \u001b[49m\u001b[43margs\u001b[49m\u001b[38;5;241;43m.\u001b[39;49m\u001b[43msom_y\u001b[49m\u001b[43m,\u001b[49m\n\u001b[1;32m     16\u001b[0m \u001b[43m    \u001b[49m\u001b[43margs\u001b[49m\u001b[38;5;241;43m.\u001b[39;49m\u001b[43mepochs\u001b[49m\u001b[43m,\u001b[49m\n\u001b[1;32m     17\u001b[0m \u001b[43m    \u001b[49m\u001b[43mkerneltype\u001b[49m\u001b[38;5;241;43m=\u001b[39;49m\u001b[38;5;241;43m0\u001b[39;49m\u001b[43m,\u001b[49m\n\u001b[1;32m     18\u001b[0m \u001b[43m    \u001b[49m\u001b[43mverbose\u001b[49m\u001b[38;5;241;43m=\u001b[39;49m\u001b[38;5;241;43m1\u001b[39;49m\u001b[43m,\u001b[49m\n\u001b[1;32m     19\u001b[0m \u001b[43m    \u001b[49m\u001b[43mneighborhood\u001b[49m\u001b[38;5;241;43m=\u001b[39;49m\u001b[43margs\u001b[49m\u001b[38;5;241;43m.\u001b[39;49m\u001b[43mneighborhood\u001b[49m\u001b[43m,\u001b[49m\n\u001b[1;32m     20\u001b[0m \u001b[43m    \u001b[49m\u001b[43mstd_coeff\u001b[49m\u001b[38;5;241;43m=\u001b[39;49m\u001b[43margs\u001b[49m\u001b[38;5;241;43m.\u001b[39;49m\u001b[43mstd_coeff\u001b[49m\u001b[43m,\u001b[49m\n\u001b[1;32m     21\u001b[0m \u001b[43m    \u001b[49m\u001b[43mmaptype\u001b[49m\u001b[38;5;241;43m=\u001b[39;49m\u001b[43margs\u001b[49m\u001b[38;5;241;43m.\u001b[39;49m\u001b[43mmaptype\u001b[49m\u001b[43m,\u001b[49m\n\u001b[1;32m     22\u001b[0m \u001b[43m    \u001b[49m\u001b[43mradiuscooling\u001b[49m\u001b[38;5;241;43m=\u001b[39;49m\u001b[43margs\u001b[49m\u001b[38;5;241;43m.\u001b[39;49m\u001b[43mradiuscooling\u001b[49m\u001b[43m,\u001b[49m\n\u001b[1;32m     23\u001b[0m \u001b[43m    \u001b[49m\u001b[43mscalecooling\u001b[49m\u001b[38;5;241;43m=\u001b[39;49m\u001b[43margs\u001b[49m\u001b[38;5;241;43m.\u001b[39;49m\u001b[43mscalecooling\u001b[49m\u001b[43m,\u001b[49m\n\u001b[1;32m     24\u001b[0m \u001b[43m    \u001b[49m\u001b[43minitialization\u001b[49m\u001b[38;5;241;43m=\u001b[39;49m\u001b[43margs\u001b[49m\u001b[38;5;241;43m.\u001b[39;49m\u001b[43minitialization\u001b[49m\u001b[43m,\u001b[49m\n\u001b[1;32m     25\u001b[0m \u001b[43m    \u001b[49m\u001b[43minitialcodebook\u001b[49m\u001b[38;5;241;43m=\u001b[39;49m\u001b[43margs\u001b[49m\u001b[38;5;241;43m.\u001b[39;49m\u001b[43minitialcodebook\u001b[49m\u001b[43m,\u001b[49m\n\u001b[1;32m     26\u001b[0m \u001b[43m    \u001b[49m\u001b[43mgridtype\u001b[49m\u001b[38;5;241;43m=\u001b[39;49m\u001b[43margs\u001b[49m\u001b[38;5;241;43m.\u001b[39;49m\u001b[43mgridtype\u001b[49m\n\u001b[1;32m     27\u001b[0m \u001b[43m    \u001b[49m\u001b[43m)\u001b[49m        \n\u001b[1;32m     28\u001b[0m \u001b[38;5;28;01mif\u001b[39;00m(args\u001b[38;5;241m.\u001b[39moutput_folder\u001b[38;5;241m==\u001b[39m\u001b[38;5;124m\"\u001b[39m\u001b[38;5;124m\"\u001b[39m):\n\u001b[1;32m     29\u001b[0m     output_folder\u001b[38;5;241m=\u001b[39m\u001b[38;5;124m\"\u001b[39m\u001b[38;5;124mC:/Temp/NextSom\u001b[39m\u001b[38;5;124m\"\u001b[39m\n",
      "File \u001b[0;32m/methods/methods/som/src/nextsomcore/nextsomcore.py:61\u001b[0m, in \u001b[0;36mNxtSomCore.train\u001b[0;34m(self, data, som_x, som_y, epochs, **kwargs)\u001b[0m\n\u001b[1;32m     41\u001b[0m \u001b[38;5;250m        \u001b[39m\u001b[38;5;124;03m\"\"\"Train the map and return results as a dict.\u001b[39;00m\n\u001b[1;32m     42\u001b[0m \u001b[38;5;124;03m        :param data: Training data used in SOM.\u001b[39;00m\n\u001b[1;32m     43\u001b[0m \u001b[38;5;124;03m        :type data: 2D numpy.array of float32.\u001b[39;00m\n\u001b[0;32m   (...)\u001b[0m\n\u001b[1;32m     50\u001b[0m \u001b[38;5;124;03m        :rtype: dict\u001b[39;00m\n\u001b[1;32m     51\u001b[0m \u001b[38;5;124;03m        \"\"\"\u001b[39;00m\n\u001b[1;32m     52\u001b[0m         \u001b[38;5;28mself\u001b[39m\u001b[38;5;241m.\u001b[39msom \u001b[38;5;241m=\u001b[39m somoclu\u001b[38;5;241m.\u001b[39mSomoclu(som_x, som_y, \n\u001b[1;32m     53\u001b[0m             kerneltype \u001b[38;5;241m=\u001b[39m kwargs\u001b[38;5;241m.\u001b[39mpop(\u001b[38;5;124m\"\u001b[39m\u001b[38;5;124mkerneltype\u001b[39m\u001b[38;5;124m\"\u001b[39m, \u001b[38;5;241m0\u001b[39m), \n\u001b[1;32m     54\u001b[0m   \t\t\tverbose \u001b[38;5;241m=\u001b[39m kwargs\u001b[38;5;241m.\u001b[39mpop(\u001b[38;5;124m\"\u001b[39m\u001b[38;5;124mverbose\u001b[39m\u001b[38;5;124m\"\u001b[39m, \u001b[38;5;241m2\u001b[39m),\n\u001b[0;32m   (...)\u001b[0m\n\u001b[1;32m     59\u001b[0m             initialization\u001b[38;5;241m=\u001b[39mkwargs\u001b[38;5;241m.\u001b[39mpop(\u001b[38;5;124m\"\u001b[39m\u001b[38;5;124minitialization\u001b[39m\u001b[38;5;124m\"\u001b[39m, \u001b[38;5;124m'\u001b[39m\u001b[38;5;124mrandom\u001b[39m\u001b[38;5;124m'\u001b[39m), \n\u001b[1;32m     60\u001b[0m             gridtype\u001b[38;5;241m=\u001b[39mkwargs\u001b[38;5;241m.\u001b[39mpop(\u001b[38;5;124m\"\u001b[39m\u001b[38;5;124mgridtype\u001b[39m\u001b[38;5;124m\"\u001b[39m,\u001b[38;5;124m\"\u001b[39m\u001b[38;5;124mrectangular\u001b[39m\u001b[38;5;124m\"\u001b[39m ) )\n\u001b[0;32m---> 61\u001b[0m         \u001b[38;5;28;43mself\u001b[39;49m\u001b[38;5;241;43m.\u001b[39;49m\u001b[43msom\u001b[49m\u001b[38;5;241;43m.\u001b[39;49m\u001b[43mtrain\u001b[49m\u001b[43m(\u001b[49m\u001b[43mdata\u001b[49m\u001b[43m,\u001b[49m\u001b[43m \u001b[49m\u001b[43mepochs\u001b[49m\u001b[43m,\u001b[49m\n\u001b[1;32m     62\u001b[0m \u001b[43m\t\t\t\u001b[49m\u001b[43mradius0\u001b[49m\u001b[43m \u001b[49m\u001b[38;5;241;43m=\u001b[39;49m\u001b[43m \u001b[49m\u001b[43mkwargs\u001b[49m\u001b[38;5;241;43m.\u001b[39;49m\u001b[43mpop\u001b[49m\u001b[43m(\u001b[49m\u001b[38;5;124;43m\"\u001b[39;49m\u001b[38;5;124;43mradius0\u001b[39;49m\u001b[38;5;124;43m\"\u001b[39;49m\u001b[43m,\u001b[49m\u001b[43m \u001b[49m\u001b[38;5;241;43m0\u001b[39;49m\u001b[43m)\u001b[49m\u001b[43m,\u001b[49m\n\u001b[1;32m     63\u001b[0m \u001b[43m\t\t\t\u001b[49m\u001b[43mradiusN\u001b[49m\u001b[43m \u001b[49m\u001b[38;5;241;43m=\u001b[39;49m\u001b[43m \u001b[49m\u001b[43mkwargs\u001b[49m\u001b[38;5;241;43m.\u001b[39;49m\u001b[43mpop\u001b[49m\u001b[43m(\u001b[49m\u001b[38;5;124;43m\"\u001b[39;49m\u001b[38;5;124;43mradiusN\u001b[39;49m\u001b[38;5;124;43m\"\u001b[39;49m\u001b[43m,\u001b[49m\u001b[43m \u001b[49m\u001b[38;5;241;43m1\u001b[39;49m\u001b[43m)\u001b[49m\u001b[43m,\u001b[49m\n\u001b[1;32m     64\u001b[0m \u001b[43m\t\t\t\u001b[49m\u001b[43mradiuscooling\u001b[49m\u001b[43m \u001b[49m\u001b[38;5;241;43m=\u001b[39;49m\u001b[43m \u001b[49m\u001b[43mkwargs\u001b[49m\u001b[38;5;241;43m.\u001b[39;49m\u001b[43mpop\u001b[49m\u001b[43m(\u001b[49m\u001b[38;5;124;43m\"\u001b[39;49m\u001b[38;5;124;43mradiuscooling\u001b[39;49m\u001b[38;5;124;43m\"\u001b[39;49m\u001b[43m,\u001b[49m\u001b[43m \u001b[49m\u001b[38;5;124;43m\"\u001b[39;49m\u001b[38;5;124;43mlinear\u001b[39;49m\u001b[38;5;124;43m\"\u001b[39;49m\u001b[43m)\u001b[49m\u001b[43m,\u001b[49m\n\u001b[1;32m     65\u001b[0m \u001b[43m\t\t\t\u001b[49m\u001b[43mscale0\u001b[49m\u001b[43m \u001b[49m\u001b[38;5;241;43m=\u001b[39;49m\u001b[43m \u001b[49m\u001b[43mkwargs\u001b[49m\u001b[38;5;241;43m.\u001b[39;49m\u001b[43mpop\u001b[49m\u001b[43m(\u001b[49m\u001b[38;5;124;43m\"\u001b[39;49m\u001b[38;5;124;43mscale0\u001b[39;49m\u001b[38;5;124;43m\"\u001b[39;49m\u001b[43m,\u001b[49m\u001b[43m \u001b[49m\u001b[38;5;241;43m0.1\u001b[39;49m\u001b[43m)\u001b[49m\u001b[43m,\u001b[49m\n\u001b[1;32m     66\u001b[0m \u001b[43m\t\t\t\u001b[49m\u001b[43mscaleN\u001b[49m\u001b[43m \u001b[49m\u001b[38;5;241;43m=\u001b[39;49m\u001b[43m \u001b[49m\u001b[43mkwargs\u001b[49m\u001b[38;5;241;43m.\u001b[39;49m\u001b[43mpop\u001b[49m\u001b[43m(\u001b[49m\u001b[38;5;124;43m\"\u001b[39;49m\u001b[38;5;124;43mscaleN\u001b[39;49m\u001b[38;5;124;43m\"\u001b[39;49m\u001b[43m,\u001b[49m\u001b[43m \u001b[49m\u001b[38;5;241;43m0.01\u001b[39;49m\u001b[43m)\u001b[49m\u001b[43m,\u001b[49m\n\u001b[1;32m     67\u001b[0m \u001b[43m\t\t\t\u001b[49m\u001b[43mscalecooling\u001b[49m\u001b[43m \u001b[49m\u001b[38;5;241;43m=\u001b[39;49m\u001b[43m \u001b[49m\u001b[43mkwargs\u001b[49m\u001b[38;5;241;43m.\u001b[39;49m\u001b[43mpop\u001b[49m\u001b[43m(\u001b[49m\u001b[38;5;124;43m\"\u001b[39;49m\u001b[38;5;124;43mscalecooling\u001b[39;49m\u001b[38;5;124;43m\"\u001b[39;49m\u001b[43m,\u001b[49m\u001b[43m \u001b[49m\u001b[38;5;124;43m\"\u001b[39;49m\u001b[38;5;124;43mlinear\u001b[39;49m\u001b[38;5;124;43m\"\u001b[39;49m\u001b[43m)\u001b[49m\u001b[43m)\u001b[49m\n\u001b[1;32m     68\u001b[0m         \u001b[38;5;28;01mreturn\u001b[39;00m {\n\u001b[1;32m     69\u001b[0m             \u001b[38;5;124m'\u001b[39m\u001b[38;5;124mcodebook\u001b[39m\u001b[38;5;124m'\u001b[39m: \u001b[38;5;28mself\u001b[39m\u001b[38;5;241m.\u001b[39msom\u001b[38;5;241m.\u001b[39mcodebook\u001b[38;5;241m.\u001b[39mcopy(),\n\u001b[1;32m     70\u001b[0m             \u001b[38;5;124m'\u001b[39m\u001b[38;5;124mbmus\u001b[39m\u001b[38;5;124m'\u001b[39m: \u001b[38;5;28mself\u001b[39m\u001b[38;5;241m.\u001b[39msom\u001b[38;5;241m.\u001b[39mbmus\u001b[38;5;241m.\u001b[39mcopy(),\n\u001b[0;32m   (...)\u001b[0m\n\u001b[1;32m     74\u001b[0m             \u001b[38;5;124m'\u001b[39m\u001b[38;5;124mn_dim\u001b[39m\u001b[38;5;124m'\u001b[39m: \u001b[38;5;28mself\u001b[39m\u001b[38;5;241m.\u001b[39msom\u001b[38;5;241m.\u001b[39mn_dim,\n\u001b[1;32m     75\u001b[0m             \u001b[38;5;124m'\u001b[39m\u001b[38;5;124mclusters\u001b[39m\u001b[38;5;124m'\u001b[39m: \u001b[38;5;28;01mNone\u001b[39;00m}\n",
      "File \u001b[0;32m/opt/conda/envs/dev-env/lib/python3.9/site-packages/somoclu/train.py:236\u001b[0m, in \u001b[0;36mSomoclu.train\u001b[0;34m(self, data, epochs, radius0, radiusN, radiuscooling, scale0, scaleN, scalecooling)\u001b[0m\n\u001b[1;32m    234\u001b[0m \u001b[38;5;28mself\u001b[39m\u001b[38;5;241m.\u001b[39mumatrix\u001b[38;5;241m.\u001b[39mshape \u001b[38;5;241m=\u001b[39m (\u001b[38;5;28mself\u001b[39m\u001b[38;5;241m.\u001b[39m_n_rows \u001b[38;5;241m*\u001b[39m \u001b[38;5;28mself\u001b[39m\u001b[38;5;241m.\u001b[39m_n_columns, )\n\u001b[1;32m    235\u001b[0m \u001b[38;5;28mself\u001b[39m\u001b[38;5;241m.\u001b[39mbmus\u001b[38;5;241m.\u001b[39mshape \u001b[38;5;241m=\u001b[39m (\u001b[38;5;28mself\u001b[39m\u001b[38;5;241m.\u001b[39mn_vectors \u001b[38;5;241m*\u001b[39m \u001b[38;5;241m2\u001b[39m, )\n\u001b[0;32m--> 236\u001b[0m \u001b[43mwrap_train\u001b[49m\u001b[43m(\u001b[49m\u001b[43mnp\u001b[49m\u001b[38;5;241;43m.\u001b[39;49m\u001b[43mravel\u001b[49m\u001b[43m(\u001b[49m\u001b[38;5;28;43mself\u001b[39;49m\u001b[38;5;241;43m.\u001b[39;49m\u001b[43m_data\u001b[49m\u001b[43m)\u001b[49m\u001b[43m,\u001b[49m\u001b[43m \u001b[49m\u001b[43mepochs\u001b[49m\u001b[43m,\u001b[49m\u001b[43m \u001b[49m\u001b[38;5;28;43mself\u001b[39;49m\u001b[38;5;241;43m.\u001b[39;49m\u001b[43m_n_columns\u001b[49m\u001b[43m,\u001b[49m\u001b[43m \u001b[49m\u001b[38;5;28;43mself\u001b[39;49m\u001b[38;5;241;43m.\u001b[39;49m\u001b[43m_n_rows\u001b[49m\u001b[43m,\u001b[49m\n\u001b[1;32m    237\u001b[0m \u001b[43m           \u001b[49m\u001b[38;5;28;43mself\u001b[39;49m\u001b[38;5;241;43m.\u001b[39;49m\u001b[43mn_dim\u001b[49m\u001b[43m,\u001b[49m\u001b[43m \u001b[49m\u001b[38;5;28;43mself\u001b[39;49m\u001b[38;5;241;43m.\u001b[39;49m\u001b[43mn_vectors\u001b[49m\u001b[43m,\u001b[49m\u001b[43m \u001b[49m\u001b[43mradius0\u001b[49m\u001b[43m,\u001b[49m\u001b[43m \u001b[49m\u001b[43mradiusN\u001b[49m\u001b[43m,\u001b[49m\n\u001b[1;32m    238\u001b[0m \u001b[43m           \u001b[49m\u001b[43mradiuscooling\u001b[49m\u001b[43m,\u001b[49m\u001b[43m \u001b[49m\u001b[43mscale0\u001b[49m\u001b[43m,\u001b[49m\u001b[43m \u001b[49m\u001b[43mscaleN\u001b[49m\u001b[43m,\u001b[49m\u001b[43m \u001b[49m\u001b[43mscalecooling\u001b[49m\u001b[43m,\u001b[49m\n\u001b[1;32m    239\u001b[0m \u001b[43m           \u001b[49m\u001b[38;5;28;43mself\u001b[39;49m\u001b[38;5;241;43m.\u001b[39;49m\u001b[43m_kernel_type\u001b[49m\u001b[43m,\u001b[49m\u001b[43m \u001b[49m\u001b[38;5;28;43mself\u001b[39;49m\u001b[38;5;241;43m.\u001b[39;49m\u001b[43m_map_type\u001b[49m\u001b[43m,\u001b[49m\u001b[43m \u001b[49m\u001b[38;5;28;43mself\u001b[39;49m\u001b[38;5;241;43m.\u001b[39;49m\u001b[43m_grid_type\u001b[49m\u001b[43m,\u001b[49m\n\u001b[1;32m    240\u001b[0m \u001b[43m           \u001b[49m\u001b[38;5;28;43mself\u001b[39;49m\u001b[38;5;241;43m.\u001b[39;49m\u001b[43m_compact_support\u001b[49m\u001b[43m,\u001b[49m\u001b[43m \u001b[49m\u001b[38;5;28;43mself\u001b[39;49m\u001b[38;5;241;43m.\u001b[39;49m\u001b[43m_neighborhood\u001b[49m\u001b[43m \u001b[49m\u001b[38;5;241;43m==\u001b[39;49m\u001b[43m \u001b[49m\u001b[38;5;124;43m\"\u001b[39;49m\u001b[38;5;124;43mgaussian\u001b[39;49m\u001b[38;5;124;43m\"\u001b[39;49m\u001b[43m,\u001b[49m\n\u001b[1;32m    241\u001b[0m \u001b[43m           \u001b[49m\u001b[38;5;28;43mself\u001b[39;49m\u001b[38;5;241;43m.\u001b[39;49m\u001b[43m_std_coeff\u001b[49m\u001b[43m,\u001b[49m\u001b[43m \u001b[49m\u001b[38;5;28;43mself\u001b[39;49m\u001b[38;5;241;43m.\u001b[39;49m\u001b[43m_verbose\u001b[49m\u001b[43m,\u001b[49m\u001b[43m \u001b[49m\u001b[38;5;28;43mself\u001b[39;49m\u001b[38;5;241;43m.\u001b[39;49m\u001b[43mcodebook\u001b[49m\u001b[43m,\u001b[49m\u001b[43m \u001b[49m\u001b[38;5;28;43mself\u001b[39;49m\u001b[38;5;241;43m.\u001b[39;49m\u001b[43mbmus\u001b[49m\u001b[43m,\u001b[49m\n\u001b[1;32m    242\u001b[0m \u001b[43m           \u001b[49m\u001b[38;5;28;43mself\u001b[39;49m\u001b[38;5;241;43m.\u001b[39;49m\u001b[43mumatrix\u001b[49m\u001b[43m,\u001b[49m\u001b[43m \u001b[49m\u001b[38;5;28;43mself\u001b[39;49m\u001b[38;5;241;43m.\u001b[39;49m\u001b[43m_vect_distance\u001b[49m\u001b[43m)\u001b[49m\n\u001b[1;32m    243\u001b[0m \u001b[38;5;28mself\u001b[39m\u001b[38;5;241m.\u001b[39mumatrix\u001b[38;5;241m.\u001b[39mshape \u001b[38;5;241m=\u001b[39m (\u001b[38;5;28mself\u001b[39m\u001b[38;5;241m.\u001b[39m_n_rows, \u001b[38;5;28mself\u001b[39m\u001b[38;5;241m.\u001b[39m_n_columns)\n\u001b[1;32m    244\u001b[0m \u001b[38;5;28mself\u001b[39m\u001b[38;5;241m.\u001b[39mbmus\u001b[38;5;241m.\u001b[39mshape \u001b[38;5;241m=\u001b[39m (\u001b[38;5;28mself\u001b[39m\u001b[38;5;241m.\u001b[39mn_vectors, \u001b[38;5;241m2\u001b[39m)\n",
      "File \u001b[0;32m/opt/conda/envs/dev-env/lib/python3.9/site-packages/somoclu/somoclu_wrap.py:62\u001b[0m, in \u001b[0;36mtrain\u001b[0;34m(data, nEpoch, nSomX, nSomY, nDimensions, nVectors, radius0, radiusN, radiusCooling, scale0, scaleN, scaleCooling, kernelType, mapType, gridType, compact_support, gaussian, std_coeff, verbose, codebook, globalBmus, uMatrix, vect_distance)\u001b[0m\n\u001b[1;32m     61\u001b[0m \u001b[38;5;28;01mdef\u001b[39;00m \u001b[38;5;21mtrain\u001b[39m(data, nEpoch, nSomX, nSomY, nDimensions, nVectors, radius0, radiusN, radiusCooling, scale0, scaleN, scaleCooling, kernelType, mapType, gridType, compact_support, gaussian, std_coeff, verbose, codebook, globalBmus, uMatrix, vect_distance):\n\u001b[0;32m---> 62\u001b[0m     \u001b[38;5;28;01mreturn\u001b[39;00m \u001b[43m_somoclu_wrap\u001b[49m\u001b[38;5;241;43m.\u001b[39;49m\u001b[43mtrain\u001b[49m\u001b[43m(\u001b[49m\u001b[43mdata\u001b[49m\u001b[43m,\u001b[49m\u001b[43m \u001b[49m\u001b[43mnEpoch\u001b[49m\u001b[43m,\u001b[49m\u001b[43m \u001b[49m\u001b[43mnSomX\u001b[49m\u001b[43m,\u001b[49m\u001b[43m \u001b[49m\u001b[43mnSomY\u001b[49m\u001b[43m,\u001b[49m\u001b[43m \u001b[49m\u001b[43mnDimensions\u001b[49m\u001b[43m,\u001b[49m\u001b[43m \u001b[49m\u001b[43mnVectors\u001b[49m\u001b[43m,\u001b[49m\u001b[43m \u001b[49m\u001b[43mradius0\u001b[49m\u001b[43m,\u001b[49m\u001b[43m \u001b[49m\u001b[43mradiusN\u001b[49m\u001b[43m,\u001b[49m\u001b[43m \u001b[49m\u001b[43mradiusCooling\u001b[49m\u001b[43m,\u001b[49m\u001b[43m \u001b[49m\u001b[43mscale0\u001b[49m\u001b[43m,\u001b[49m\u001b[43m \u001b[49m\u001b[43mscaleN\u001b[49m\u001b[43m,\u001b[49m\u001b[43m \u001b[49m\u001b[43mscaleCooling\u001b[49m\u001b[43m,\u001b[49m\u001b[43m \u001b[49m\u001b[43mkernelType\u001b[49m\u001b[43m,\u001b[49m\u001b[43m \u001b[49m\u001b[43mmapType\u001b[49m\u001b[43m,\u001b[49m\u001b[43m \u001b[49m\u001b[43mgridType\u001b[49m\u001b[43m,\u001b[49m\u001b[43m \u001b[49m\u001b[43mcompact_support\u001b[49m\u001b[43m,\u001b[49m\u001b[43m \u001b[49m\u001b[43mgaussian\u001b[49m\u001b[43m,\u001b[49m\u001b[43m \u001b[49m\u001b[43mstd_coeff\u001b[49m\u001b[43m,\u001b[49m\u001b[43m \u001b[49m\u001b[43mverbose\u001b[49m\u001b[43m,\u001b[49m\u001b[43m \u001b[49m\u001b[43mcodebook\u001b[49m\u001b[43m,\u001b[49m\u001b[43m \u001b[49m\u001b[43mglobalBmus\u001b[49m\u001b[43m,\u001b[49m\u001b[43m \u001b[49m\u001b[43muMatrix\u001b[49m\u001b[43m,\u001b[49m\u001b[43m \u001b[49m\u001b[43mvect_distance\u001b[49m\u001b[43m)\u001b[49m\n",
      "\u001b[0;31mKeyboardInterrupt\u001b[0m: "
     ]
    }
   ],
   "source": [
    "import src.do_nextsomcore_save_results as dnsr\n",
    "\n",
    "dnsr.run_SOM(args)"
   ]
  },
  {
   "cell_type": "code",
   "execution_count": null,
   "metadata": {},
   "outputs": [],
   "source": [
    "import src.plot_som_results as plot\n",
    "\n",
    "# Load cluster dictionary\n",
    "loaded_cluster_list = plot.load_cluster_dictionary(args.output_folder)\n",
    "# Plot and save the Davies-Bouldin Index vs Number of Clusters\n",
    "plot.plot_davies_bouldin(loaded_cluster_list, args.output_folder)"
   ]
  },
  {
   "cell_type": "markdown",
   "metadata": {},
   "source": [
    "<p style=\"font-size:19px; text-align:left; font-weight:bold\">4) Plot results."
   ]
  },
  {
   "cell_type": "markdown",
   "metadata": {},
   "source": [
    "Specify the parameters to plot the results and create figures. The Python script \"plot_som_results.py\" creates .png files of the results in som space, geospace and also creates boxplots."
   ]
  },
  {
   "cell_type": "code",
   "execution_count": null,
   "metadata": {},
   "outputs": [],
   "source": [
    "import configs.argsPlot\n",
    "import src.plot_som_results as plot\n",
    "\n",
    "argsP = configs.argsPlot.Args()\n",
    "\n",
    "argsP.outsomfile= args.output_file_somspace   # som calculation somspace output text file\n",
    "argsP.som_x= args.som_x         # som x dimension\n",
    "argsP.som_y= args.som_y         # som y dimension\n",
    "argsP.input_file= args.input_file   # Input file(*.lrn)\n",
    "argsP.dir= args.output_folder            # Input file(*.lrn) or directory where som.dictionary was safet to (/output/som.dictionary)\n",
    "argsP.grid_type= 'rectangular' # grid type (square or hexa), (rectangular or hexagonal)\n",
    "argsP.redraw='true'       # whether to draw all plots, or only those required for clustering (true: draw all. false:draw only for clustering).\n",
    "argsP.outgeofile=args.output_file_geospace     # som geospace results txt file\n",
    "argsP.dataType='grid'       # Data type (scatter or grid)\n",
    "argsP.noDataValue='-9999'    # noData value\n",
    "\n",
    "plot.run_plotting_script(argsP)"
   ]
  },
  {
   "cell_type": "markdown",
   "metadata": {},
   "source": [
    "Move figures into a sub folder, since \"plot_som_results.py\" does not override existing files. If the destination folder does not exist, it is created here. All file names are stored in a list that is used in the next step to show all output figures."
   ]
  },
  {
   "cell_type": "code",
   "execution_count": null,
   "metadata": {},
   "outputs": [],
   "source": [
    "import shutil\n",
    "import os\n",
    "import glob\n",
    "\n",
    "file_path = args.output_folder\n",
    "file_patterns = [\"geoplot_*.png\", \"somplot_*.png\", \"boxplot_*.png\", \"db_score.png\"]\n",
    "destination_path = file_path+\"/plots/\"\n",
    "\n",
    "\n",
    "# Lists to store matching files with their corresponding destination paths\n",
    "all_figs = []\n",
    "all_figs_lable = []\n",
    "\n",
    "# Create the destination folder if it doesn't exist\n",
    "if not os.path.exists(destination_path):\n",
    "    os.makedirs(destination_path)\n",
    "else:\n",
    "    # Delete all files in the destination folder\n",
    "    files_to_delete = glob.glob(os.path.join(destination_path, \"*\"))\n",
    "    for file_to_delete in files_to_delete:\n",
    "        os.remove(file_to_delete)\n",
    "\n",
    "for file_pattern in file_patterns:\n",
    "    # Use glob to get all files with the specified pattern\n",
    "    matching_files = glob.glob(os.path.join(file_path, file_pattern))\n",
    "\n",
    "    # Add matching files and their corresponding destination paths to the lists\n",
    "    all_figs.extend([os.path.join(destination_path, os.path.basename(file)) for file in matching_files])\n",
    "    all_figs_lable.extend([os.path.basename(file) for file in matching_files])\n",
    "\n",
    "    # Move each matching file to the destination folder and overwrite existing files if necessary\n",
    "    for source_file in matching_files:\n",
    "        file_name = os.path.basename(source_file)\n",
    "        destination_file_path = os.path.join(destination_path, file_name)\n",
    "\n",
    "        # If the file already exists in the destination folder, delete it first\n",
    "        if os.path.exists(destination_file_path):\n",
    "            os.remove(destination_file_path)\n",
    "\n",
    "        # Move the file to the destination folder\n",
    "        shutil.move(source_file, destination_file_path)\n",
    "\n",
    "print(all_figs)"
   ]
  },
  {
   "cell_type": "markdown",
   "metadata": {},
   "source": [
    "Show all figures that were produced by \"plot_som_results.py\" and moved into a subfolder.\n",
    "\n",
    "Boxplot:\n",
    "> x axis is Cluster ID </br>\n",
    "> Z axis is original data value </br>\n",
    "> legend: number of data points in each cluster </br>"
   ]
  },
  {
   "cell_type": "code",
   "execution_count": null,
   "metadata": {},
   "outputs": [],
   "source": [
    "import matplotlib.pyplot as plt\n",
    "from IPython.display import clear_output\n",
    "import ipyplot\n",
    "\n",
    "# Clear Matplotlib cache\n",
    "plt.close('all')\n",
    "\n",
    "# Clear output\n",
    "clear_output(wait=True)\n",
    "\n",
    "images = all_figs\n",
    "labels = all_figs_lable\n",
    "tabs = [image.split('_')[-2] for image in labels]\n",
    "\n",
    "print(\"List of figures:\")\n",
    "print(labels)\n",
    "#print(tabs)\n",
    "\n",
    "# Plot the images\n",
    "#ipyplot.plot_images(images, max_images=50, img_width=250)\n",
    "ipyplot.plot_class_representations(images,  labels, img_width=200, show_url=False)\n",
    "ipyplot.plot_class_tabs(images, tabs, max_imgs_per_tab=50, img_width=400)"
   ]
  }
 ],
 "metadata": {
  "kernelspec": {
   "display_name": "dev-env",
   "language": "python",
   "name": "python3"
  },
  "language_info": {
   "codemirror_mode": {
    "name": "ipython",
    "version": 3
   },
   "file_extension": ".py",
   "mimetype": "text/x-python",
   "name": "python",
   "nbconvert_exporter": "python",
   "pygments_lexer": "ipython3",
   "version": "3.9.15"
  },
  "orig_nbformat": 4
 },
 "nbformat": 4,
 "nbformat_minor": 2
}
