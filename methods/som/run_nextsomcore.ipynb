{
 "cells": [
  {
   "cell_type": "markdown",
   "metadata": {},
   "source": [
    "Script for performing SOM training and saving results."
   ]
  },
  {
   "cell_type": "code",
   "execution_count": null,
   "metadata": {},
   "outputs": [],
   "source": [
    "from nextsomcore.nextsomcore import NxtSomCore\n",
    "import pickle"
   ]
  },
  {
   "cell_type": "markdown",
   "metadata": {},
   "source": [
    "Specify parameter for SOM"
   ]
  },
  {
   "cell_type": "code",
   "execution_count": 3,
   "metadata": {},
   "outputs": [
    {
     "name": "stdout",
     "output_type": "stream",
     "text": [
      "25\n"
     ]
    }
   ],
   "source": [
    "import argsSOM\n",
    "\n",
    "arg = argsSOM.Args()\n",
    "#print(arg.kmeans_max)\n"
   ]
  },
  {
   "cell_type": "code",
   "execution_count": 4,
   "metadata": {},
   "outputs": [],
   "source": [
    "#arg.input_file=\"D:\\\\advangeo\\\\ghanaNW\\\\05_ParamModels\\\\Prediction\\\\PM_012\\\\Workspace\\\\SOM.lrn\"\n",
    "arg.input_file=\"nextsomcore/data/input/SOM.lrn\"\n",
    "\n",
    "arg.output_folder=\"nextsomcore/data/output\"         # Folder to save som dictionary and cluster dictionary\n",
    "arg.output_file_somspace=\"nextsomcore/data/output/somspace.txt\"   \n",
    "arg.outgeofile=\"nextsomcore/data/output/geospace.txt\"   \n",
    "\n",
    "# If input data is geotiff: list geotiff files, separated by \",\" [\"name1.tiff\",\"name2.tiff\"]\n",
    "#input_list_text=[]\n",
    "#input_file= \",\".join(input_list_text)\n",
    "        \n",
    "arg.som_x=10                # X dimension of generated SOM\n",
    "arg.som_y=10                # Y dimension of generated SOM\n",
    "arg.epochs=10               # Number of epochs to run\n",
    "\n",
    "arg.maptype='toroid'            # Type of SOM (sheet, toroid)\n",
    "arg.initialcodebook=None        # File path of initial codebook, 2D numpy.array of float32.\n",
    "arg.neighborhood='gaussian'     # Shape of the neighborhood function. gaussian or bubble\n",
    "arg.std_coeff=0.5               # Coefficient in the Gaussian neighborhood function\n",
    "arg.radius0=0                   # Initial size of the neighborhood\n",
    "arg.radiusN=1                   # Final size of the neighborhood\n",
    "arg.radiuscooling='linear'      # Function that defines the decrease in the neighborhood size as the training proceeds (linear, exponential)\n",
    "arg.scalecooling='linear'       # Function that defines the decrease in the learning scale as the training proceeds (linear, exponential)\n",
    "arg.scale0=0.1                  # Initial learning rate\n",
    "arg.scaleN=0.01                 # Final learning rate\n",
    "arg.initialization='random'     # Type of SOM initialization (random, pca)\n",
    "arg.gridtype='rectangular'      # Type of SOM grid (hexagonal, rectangular)\n",
    "#arg.xmlfile=\"none\"              # SOM inputs as an xml file\n",
    "\n",
    "arg.kmeans=\"true\"           # Run k-means clustering\n",
    "arg.kmeans_init=5           # Number of initializations\n",
    "arg.kmeans_min=2            # Minimum number of k-mean clusters\n",
    "arg.kmeans_max=25           # Maximum number of k-mean clusters\n",
    "\n",
    "#arg.output_file_geospace=None   # Text file that will contain calculated values: {X Y Z} data1 data2 dataN som_x som_y cluster b_data1 b_data2 b_dataN in geospace.\n",
    "arg.geotiff_input=None      # geotiff_input\n",
    "arg.normalized=\"false\"      # Whether the data has been normalized or not\n",
    "arg.minN=0                  # Minimum value for normalization\n",
    "arg.maxN=1                  # Maximum value for normalization\n",
    "arg.label=None              # Whether data contains label column, true or false\n"
   ]
  },
  {
   "cell_type": "markdown",
   "metadata": {},
   "source": [
    "Run SOM training and save the results. Uses NxtSomCore package to do the actual work."
   ]
  },
  {
   "cell_type": "code",
   "execution_count": 11,
   "metadata": {},
   "outputs": [
    {
     "ename": "AttributeError",
     "evalue": "module 'functions.do_nextsomcore_save_results' has no attribute 'run_SOM'",
     "output_type": "error",
     "traceback": [
      "\u001b[0;31m---------------------------------------------------------------------------\u001b[0m",
      "\u001b[0;31mAttributeError\u001b[0m                            Traceback (most recent call last)",
      "\u001b[1;32m/methods/methods/som/run_nextsomcore.ipynb Cell 7\u001b[0m line \u001b[0;36m3\n\u001b[1;32m      <a href='vscode-notebook-cell://attached-container%2B7b22636f6e7461696e65724e616d65223a222f6265616b2d7461332d646576227d/methods/methods/som/run_nextsomcore.ipynb#W6sdnNjb2RlLXJlbW90ZQ%3D%3D?line=0'>1</a>\u001b[0m \u001b[39mimport\u001b[39;00m \u001b[39mfunctions\u001b[39;00m\u001b[39m.\u001b[39;00m\u001b[39mdo_nextsomcore_save_results\u001b[39;00m \u001b[39mas\u001b[39;00m \u001b[39mdnsr\u001b[39;00m\n\u001b[0;32m----> <a href='vscode-notebook-cell://attached-container%2B7b22636f6e7461696e65724e616d65223a222f6265616b2d7461332d646576227d/methods/methods/som/run_nextsomcore.ipynb#W6sdnNjb2RlLXJlbW90ZQ%3D%3D?line=2'>3</a>\u001b[0m dnsr\u001b[39m.\u001b[39;49mrun_SOM(arg)\n",
      "\u001b[0;31mAttributeError\u001b[0m: module 'functions.do_nextsomcore_save_results' has no attribute 'run_SOM'"
     ]
    }
   ],
   "source": [
    "import functions.do_nextsomcore_save_results as dnsr\n",
    "\n",
    "dnsr.run_SOM(arg)"
   ]
  },
  {
   "cell_type": "code",
   "execution_count": null,
   "metadata": {},
   "outputs": [],
   "source": [
    "nxtsomcore = NxtSomCore()\n",
    "if initialcodebook is not None: #if initial codebook was provided (in the form of som.dictionary), open the file, and load som codebook from it.\n",
    "    with open(initialcodebook, 'rb') as som_dictionary_file:\n",
    "        som_dictionary = pickle.load(som_dictionary_file)\n",
    "        initialcodebook=som_dictionary['codebook']\n",
    "        initialization=None           \n",
    "header = nxtsomcore.load_data(input_file) \n",
    "som = nxtsomcore.train(\n",
    "    header['data'],\n",
    "    som_x,\n",
    "    som_y,\n",
    "    epochs,\n",
    "    kerneltype=0,\n",
    "    verbose=1,\n",
    "    neighborhood=neighborhood,\n",
    "    std_coeff=std_coeff,\n",
    "    maptype=maptype,\n",
    "    radiuscooling=radiuscooling,\n",
    "    scalecooling=scalecooling,\n",
    "    initialization=initialization,\n",
    "    initialcodebook=initialcodebook,\n",
    "    gridtype=gridtype\n",
    "    )          \n",
    "if(output_folder==\"\"):\n",
    "    output_folder=\"C:/Temp/NextSom\"\n",
    "else:\n",
    "    output_folder=output_folder\n",
    "print(output_folder)\n",
    "if(kmeans==\"true\"):\n",
    "    som['clusters']=nxtsomcore.clusters(som,kmeans_min,kmeans_max,kmeans_init,output_folder)     \n",
    "\n",
    "if outgeofile is not None:\n",
    "    nxtsomcore.save_geospace_result(outgeofile, header, som, output_folder, input_file, normalized, label) \n",
    "\n",
    "nxtsomcore.save_somspace_result(output_file_somspace, header, som, output_folder, input_file, normalized)  \n",
    "if(geotiff_input is not None):\n",
    "    inputFileArray=geotiff_input.split(\",\")    \n",
    "    nxtsomcore.write_geotiff_out(output_folder, inputFileArray[0])\n",
    "with open(output_folder+'/som.dictionary', 'wb') as som_dictionary_file:\n",
    "    pickle.dump(som, som_dictionary_file) #save som object to file."
   ]
  }
 ],
 "metadata": {
  "kernelspec": {
   "display_name": "dev-env",
   "language": "python",
   "name": "python3"
  },
  "language_info": {
   "codemirror_mode": {
    "name": "ipython",
    "version": 3
   },
   "file_extension": ".py",
   "mimetype": "text/x-python",
   "name": "python",
   "nbconvert_exporter": "python",
   "pygments_lexer": "ipython3",
   "version": "3.9.15"
  },
  "orig_nbformat": 4
 },
 "nbformat": 4,
 "nbformat_minor": 2
}
