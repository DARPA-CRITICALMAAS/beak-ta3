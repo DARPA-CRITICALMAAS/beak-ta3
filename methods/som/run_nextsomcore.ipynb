{
 "cells": [
  {
   "cell_type": "markdown",
   "metadata": {},
   "source": [
    "<p style=\"font-size:35px; text-align:center; font-weight:bold\">CMASS run SOM clustering method</p>\n",
    "<p style=\"font-size:17px; text-align:left\">Dr. Ina Storch 06-11-2023 </p>\n",
    "<p style=\"font-size:17px; text-align:left\">Note: This notebook is designed to run SOM using preprocessed data gained from the datacube from: Lawley et al., 2021. </p>\n",
    "<p style=\"font-size:17px; text-align:left\">Reference: Lawley, C.J.M., McCafferty, A.E., Graham, G.E., Gadd, M.G., Huston, D.L., Kelley, K.D., Paradis, S., Peter, J.M., and Czarnota, K., 2021. Datasets to support prospectivity modelling for sediment-hosted Zn-Pb mineral systems; Geological Survey of Canada, Open File 8836, 1 .zip file. https://doi.org/10.4095/329203</p>"
   ]
  },
  {
   "cell_type": "markdown",
   "metadata": {},
   "source": [
    "<p style=\"font-size:19px; text-align:left; font-weight:bold\">1) Import libraries</p>"
   ]
  },
  {
   "cell_type": "code",
   "execution_count": 1,
   "metadata": {},
   "outputs": [],
   "source": [
    "from src.nextsomcore.nextsomcore import NxtSomCore\n",
    "import pickle"
   ]
  },
  {
   "cell_type": "code",
   "execution_count": 2,
   "metadata": {},
   "outputs": [],
   "source": [
    "import src.argsSOM\n",
    "\n",
    "args = src.argsSOM.Args()"
   ]
  },
  {
   "cell_type": "markdown",
   "metadata": {},
   "source": [
    "<p style=\"font-size:19px; text-align:left; font-weight:bold\">2) Specify parameter for SOM. \n",
    "\n",
    "Input data can eighter be in .lrn file format or .tiff file format. Choose one.\n",
    "\n",
    "Create a \"data\" folder within the \"methods/som/\" folder. This \"data\" folder should contain a folder for \"input\" and \"output\" data, each. To be able to run this jupyter notebook, copy your input data into the folder \"methods/som/data/input\". \n",
    "\n",
    "No Data Handeling is not jet implemented."
   ]
  },
  {
   "cell_type": "code",
   "execution_count": 14,
   "metadata": {},
   "outputs": [],
   "source": [
    "# #------------- \n",
    "# #- Data Input .tiff files:\n",
    "# #------------- \n",
    "# #- If input data is geotiff: list geotiff files, separated by \",\" [\"name1.tiff\",\"name2.tiff\"]\n",
    "# #input_list_text=[\"data/input/70Gravity_Bouguer._norm.tif\",\"data/input/83Magnetic_LongWavelength_HGM._norm.tif\",\"data/input/50Geology_Fault_Proximity._norm.tif\"]\n",
    "# input_list_text=[\"data/input/testdata/Magnetics.tif\",\n",
    "#                 \"data/input/testdata/RockContact(bmgg_bvc).tif\",\n",
    "#                 \"data/input/testdata/RockContact(gsh_bs).tif\",\n",
    "#                 \"data/input/testdata/Unit(bmgg).tif\",\n",
    "#                 \"data/input/testdata/Unit(bvc).tif\",\n",
    "#                 \"data/input/testdata/Unit(gsb).tif\",\n",
    "#                 \"data/input/testdata/Unit(gsh).tif\"\n",
    "#                 ]\n",
    "# args.input_file= \",\".join(input_list_text)\n",
    " \n",
    "args.geotiff_input=None      # geotiff_input (\"None\", arg.input_file)\n",
    "\n",
    "#------------- \n",
    "#- Or: Data Input .lrn file:\n",
    "#------------- \n",
    "#args.input_file=\"data/input/SOM_grav_mag.lrn\"\n",
    "args.input_file=\"/methods/methods/som/data/input/SOM_grav_mag.lrn\"\n",
    "\n",
    "#-------------\n",
    "#- Data Output\n",
    "#-------------\n",
    "\n",
    "#args.output_folder=\"data/output\"         # Folder to save som dictionary and cluster dictionary\n",
    "args.output_folder=\"/methods/methods/som/data/output\"\n",
    "\n",
    "args.output_file_somspace= args.output_folder+\"/result_som.txt\"   # DO NOT CHANGE! Text file that will contain calculated values: som_x som_y b_data1 b_data2 b_dataN umatrix cluster in geospace.\n",
    "        \n",
    "\n",
    "#-------------\n",
    "#- Parameter\n",
    "#-------------\n",
    "\n",
    "args.som_x=10                # X dimension of generated SOM\n",
    "args.som_y=10                # Y dimension of generated SOM\n",
    "args.epochs=10               # Number of epochs to run\n",
    "\n",
    "# Base parameters required for som calculation. \n",
    "# Additional optional parameters below:\n",
    "args.outgeofile= args.output_folder+\"/result_geo.txt\"             # DO NOT CHANGE!\n",
    "args.output_file_geospace=args.outgeofile   # Text file that will contain calculated values: {X Y Z} data1 data2 dataN som_x som_y cluster b_data1 b_data2 b_dataN in geospace.\n",
    "\n",
    "args.kmeans=\"false\"          # Run k-means clustering (true, false)\n",
    "args.kmeans_init=5           # Number of initializations\n",
    "args.kmeans_min=2            # Minimum number of k-mean clusters\n",
    "args.kmeans_max=25           # Maximum number of k-mean clusters\n",
    "\n",
    "args.neighborhood='gaussian'     # Shape of the neighborhood function. gaussian or bubble\n",
    "args.std_coeff=0.5               # Coefficient in the Gaussian neighborhood function\n",
    "args.maptype='toroid'            # Type of SOM (sheet, toroid)\n",
    "args.initialcodebook=None        # File path of initial codebook, 2D numpy.array of float32.\n",
    "args.radius0=0                   # Initial size of the neighborhood\n",
    "args.radiusN=1                   # Final size of the neighborhood\n",
    "args.radiuscooling='linear'      # Function that defines the decrease in the neighborhood size as the training proceeds (linear, exponential)\n",
    "args.scalecooling='linear'       # Function that defines the decrease in the learning scale as the training proceeds (linear, exponential)\n",
    "args.scale0=0.1                  # Initial learning rate\n",
    "args.scaleN=0.01                 # Final learning rate\n",
    "args.initialization='random'     # Type of SOM initialization (random, pca)\n",
    "args.gridtype='rectangular'      # Type of SOM grid (hexagonal, rectangular)\n",
    "#args.xmlfile=\"none\"              # SOM inputs as an xml file\n",
    "\n",
    "args.normalized=\"false\"      # Whether the data has been normalized or not (true, false)\n",
    "args.minN=0                  # Minimum value for normalization\n",
    "args.maxN=1                  # Maximum value for normalization\n",
    "args.label=None              # Whether data contains label column, true or false\n"
   ]
  },
  {
   "cell_type": "code",
   "execution_count": 15,
   "metadata": {},
   "outputs": [
    {
     "name": "stdout",
     "output_type": "stream",
     "text": [
      "/methods/methods/som/data/input/SOM_grav_mag.lrn\n"
     ]
    }
   ],
   "source": [
    "print(args.input_file)"
   ]
  },
  {
   "cell_type": "markdown",
   "metadata": {},
   "source": [
    "<p style=\"font-size:19px; text-align:left; font-weight:bold\">3) Run SOM \n",
    "\n",
    "Run SOM with parameters specified above and save the results. Uses NxtSomCore package to do the actual work."
   ]
  },
  {
   "cell_type": "code",
   "execution_count": 16,
   "metadata": {},
   "outputs": [
    {
     "name": "stderr",
     "output_type": "stream",
     "text": [
      "Time for epoch 1: 0.5097 Time for epoch 2: 0.3899 Time for epoch 3: 0.4699 Time for epoch 4: 0.51 Time for epoch 5: 0.4401 Time for epoch 6: 0.4339 Time for epoch 7: 0.3359 Time for epoch 8: 0.3216 Time for epoch 9: 0.4385 Time for epoch 10: 0.4099 "
     ]
    },
    {
     "name": "stdout",
     "output_type": "stream",
     "text": [
      "    100% [===================================================]\n",
      "/methods/methods/som/data/output\n"
     ]
    },
    {
     "ename": "AttributeError",
     "evalue": "'Args' object has no attribute 'geotiff_input'",
     "output_type": "error",
     "traceback": [
      "\u001b[0;31m---------------------------------------------------------------------------\u001b[0m",
      "\u001b[0;31mAttributeError\u001b[0m                            Traceback (most recent call last)",
      "\u001b[1;32m/methods/methods/som/run_nextsomcore.ipynb Cell 9\u001b[0m line \u001b[0;36m3\n\u001b[1;32m      <a href='vscode-notebook-cell://attached-container%2B7b22636f6e7461696e65724e616d65223a222f6265616b2d7461332d646576227d/methods/methods/som/run_nextsomcore.ipynb#X11sdnNjb2RlLXJlbW90ZQ%3D%3D?line=0'>1</a>\u001b[0m \u001b[39mimport\u001b[39;00m \u001b[39msrc\u001b[39;00m\u001b[39m.\u001b[39;00m\u001b[39mdo_nextsomcore_save_results\u001b[39;00m \u001b[39mas\u001b[39;00m \u001b[39mdnsr\u001b[39;00m\n\u001b[0;32m----> <a href='vscode-notebook-cell://attached-container%2B7b22636f6e7461696e65724e616d65223a222f6265616b2d7461332d646576227d/methods/methods/som/run_nextsomcore.ipynb#X11sdnNjb2RlLXJlbW90ZQ%3D%3D?line=2'>3</a>\u001b[0m dnsr\u001b[39m.\u001b[39;49mrun_SOM(args)\n",
      "File \u001b[0;32m/methods/methods/som/src/do_nextsomcore_save_results.py:40\u001b[0m, in \u001b[0;36mrun_SOM\u001b[0;34m(args)\u001b[0m\n\u001b[1;32m     37\u001b[0m     nxtsomcore\u001b[39m.\u001b[39msave_geospace_result(args\u001b[39m.\u001b[39moutgeofile, header, som, output_folder, args\u001b[39m.\u001b[39minput_file, args\u001b[39m.\u001b[39mnormalized, args\u001b[39m.\u001b[39mlabel) \n\u001b[1;32m     39\u001b[0m nxtsomcore\u001b[39m.\u001b[39msave_somspace_result(args\u001b[39m.\u001b[39moutput_file_somspace, header, som, output_folder, args\u001b[39m.\u001b[39minput_file, args\u001b[39m.\u001b[39mnormalized)  \n\u001b[0;32m---> 40\u001b[0m \u001b[39mif\u001b[39;00m(args\u001b[39m.\u001b[39;49mgeotiff_input \u001b[39mis\u001b[39;00m \u001b[39mnot\u001b[39;00m \u001b[39mNone\u001b[39;00m):\n\u001b[1;32m     41\u001b[0m     inputFileArray\u001b[39m=\u001b[39margs\u001b[39m.\u001b[39mgeotiff_input\u001b[39m.\u001b[39msplit(\u001b[39m\"\u001b[39m\u001b[39m,\u001b[39m\u001b[39m\"\u001b[39m)    \n\u001b[1;32m     42\u001b[0m     nxtsomcore\u001b[39m.\u001b[39mwrite_geotiff_out(args\u001b[39m.\u001b[39moutput_folder, inputFileArray[\u001b[39m0\u001b[39m])\n",
      "\u001b[0;31mAttributeError\u001b[0m: 'Args' object has no attribute 'geotiff_input'"
     ]
    }
   ],
   "source": [
    "import src.do_nextsomcore_save_results as dnsr\n",
    "\n",
    "dnsr.run_SOM(args)"
   ]
  },
  {
   "cell_type": "markdown",
   "metadata": {},
   "source": [
    "<p style=\"font-size:19px; text-align:left; font-weight:bold\">4) Plot Results."
   ]
  },
  {
   "cell_type": "code",
   "execution_count": null,
   "metadata": {},
   "outputs": [],
   "source": [
    "#import functions.argsPlot\n",
    "#\n",
    "#argsP = functions.argsPlot.Args()\n",
    "#\n",
    "#argsP.outsomfile= \"data/output/somspace.txt\"   # som calculation somspace output text file\n",
    "#argsP.som_x= 100                 # som x dimension\n",
    "#argsP.som_y= 100                 # som y dimension\n",
    "#argsP.input_file= \"data/input/SOM_grav_mag.lrn\"    # Input file(*.lrn)\n",
    "#argsP.dir= \"data/output\"        # Input file(*.lrn) or directory where som.dictionary was safet to (/output/som.dictionary)\n",
    "#argsP.grid_type= 'rectangular'  # grid type (square or hexa), (rectangular or hexagonal)\n",
    "#argsP.redraw='true'             # whether to draw all plots, or only those required for clustering (true: draw all. false:draw only for clustering).\n",
    "#argsP.outgeofile='data/output/geospace.txt'     # som geospace results txt file\n",
    "#argsP.dataType=None             # Data type (scatter or grid)\n",
    "#argsP.noDataValue='NA'          # noData value"
   ]
  },
  {
   "cell_type": "code",
   "execution_count": 12,
   "metadata": {},
   "outputs": [
    {
     "name": "stdout",
     "output_type": "stream",
     "text": [
      "GeoSpace plots finished\n",
      "SomSpace plots finshed\n",
      "Boxplots finished\n"
     ]
    }
   ],
   "source": [
    "run src/plot_som_results.py"
   ]
  }
 ],
 "metadata": {
  "kernelspec": {
   "display_name": "dev-env",
   "language": "python",
   "name": "python3"
  },
  "language_info": {
   "codemirror_mode": {
    "name": "ipython",
    "version": 3
   },
   "file_extension": ".py",
   "mimetype": "text/x-python",
   "name": "python",
   "nbconvert_exporter": "python",
   "pygments_lexer": "ipython3",
   "version": "3.9.15"
  },
  "orig_nbformat": 4
 },
 "nbformat": 4,
 "nbformat_minor": 2
}
