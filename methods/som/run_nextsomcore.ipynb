{
 "cells": [
  {
   "cell_type": "markdown",
   "metadata": {},
   "source": [
    "Script for performing SOM training and saving results."
   ]
  },
  {
   "cell_type": "code",
   "execution_count": 1,
   "metadata": {},
   "outputs": [],
   "source": [
    "from nextsomcore.nextsomcore import NxtSomCore\n",
    "import pickle"
   ]
  },
  {
   "cell_type": "markdown",
   "metadata": {},
   "source": [
    "Specify parameter for SOM. Input data can eighter be in .lrn file format or .tiff file format. Choose one."
   ]
  },
  {
   "cell_type": "code",
   "execution_count": 2,
   "metadata": {},
   "outputs": [],
   "source": [
    "import argsSOM\n",
    "\n",
    "arg = argsSOM.Args()\n",
    "#print(arg.kmeans_max)\n"
   ]
  },
  {
   "cell_type": "code",
   "execution_count": 5,
   "metadata": {},
   "outputs": [],
   "source": [
    "#------------- \n",
    "#- Data Input .lrn file:\n",
    "#------------- \n",
    "#arg.input_file=\"D:\\\\advangeo\\\\ghanaNW\\\\05_ParamModels\\\\Prediction\\\\PM_012\\\\Workspace\\\\SOM.lrn\"\n",
    "arg.input_file=\"nextsomcore/data/input/SOM.lrn\"\n",
    "\n",
    "#- or:\n",
    "#------------- \n",
    "#- Data Input .tiff files:\n",
    "#------------- \n",
    "#- If input data is geotiff: list geotiff files, separated by \",\" [\"name1.tiff\",\"name2.tiff\"]\n",
    "#input_list_text=[\"D:/Projekte/CMAAS/Processing/MVT_Nat/Magnetic_RTP.tiff\",\"D:/Projekte/CMAAS/Processing/MVT_Nat/Gravity_Bouguer.tiff\"]\n",
    "#arg.input_file= \",\".join(input_list_text)\n",
    "\n",
    "\n",
    "#-------------\n",
    "#- Data Output\n",
    "#-------------\n",
    "\n",
    "arg.output_folder=\"nextsomcore/data/output\"         # Folder to save som dictionary and cluster dictionary\n",
    "arg.output_file_somspace=\"nextsomcore/data/output/somspace.txt\"   \n",
    "arg.outgeofile=\"nextsomcore/data/output/geospace.txt\"   \n",
    "        \n",
    "\n",
    "#-------------\n",
    "#- Parameter\n",
    "#-------------\n",
    "\n",
    "arg.som_x=10                # X dimension of generated SOM\n",
    "arg.som_y=10                # Y dimension of generated SOM\n",
    "arg.epochs=10               # Number of epochs to run\n",
    "\n",
    "arg.maptype='toroid'            # Type of SOM (sheet, toroid)\n",
    "arg.initialcodebook=None        # File path of initial codebook, 2D numpy.array of float32.\n",
    "arg.neighborhood='gaussian'     # Shape of the neighborhood function. gaussian or bubble\n",
    "arg.std_coeff=0.5               # Coefficient in the Gaussian neighborhood function\n",
    "arg.radius0=0                   # Initial size of the neighborhood\n",
    "arg.radiusN=1                   # Final size of the neighborhood\n",
    "arg.radiuscooling='linear'      # Function that defines the decrease in the neighborhood size as the training proceeds (linear, exponential)\n",
    "arg.scalecooling='linear'       # Function that defines the decrease in the learning scale as the training proceeds (linear, exponential)\n",
    "arg.scale0=0.1                  # Initial learning rate\n",
    "arg.scaleN=0.01                 # Final learning rate\n",
    "arg.initialization='random'     # Type of SOM initialization (random, pca)\n",
    "arg.gridtype='rectangular'      # Type of SOM grid (hexagonal, rectangular)\n",
    "#arg.xmlfile=\"none\"              # SOM inputs as an xml file\n",
    "\n",
    "arg.kmeans=\"true\"           # Run k-means clustering\n",
    "arg.kmeans_init=5           # Number of initializations\n",
    "arg.kmeans_min=2            # Minimum number of k-mean clusters\n",
    "arg.kmeans_max=25           # Maximum number of k-mean clusters\n",
    "\n",
    "#arg.output_file_geospace=None   # Text file that will contain calculated values: {X Y Z} data1 data2 dataN som_x som_y cluster b_data1 b_data2 b_dataN in geospace.\n",
    "arg.geotiff_input=None      # geotiff_input\n",
    "arg.normalized=\"false\"      # Whether the data has been normalized or not\n",
    "arg.minN=0                  # Minimum value for normalization\n",
    "arg.maxN=1                  # Maximum value for normalization\n",
    "arg.label=None              # Whether data contains label column, true or false\n"
   ]
  },
  {
   "cell_type": "markdown",
   "metadata": {},
   "source": [
    "Run SOM training and save the results. Uses NxtSomCore package to do the actual work."
   ]
  },
  {
   "cell_type": "code",
   "execution_count": 6,
   "metadata": {},
   "outputs": [
    {
     "name": "stderr",
     "output_type": "stream",
     "text": [
      "/opt/conda/envs/dev-env/lib/python3.9/site-packages/osgeo/gdal.py:287: FutureWarning: Neither gdal.UseExceptions() nor gdal.DontUseExceptions() has been explicitly called. In GDAL 4.0, exceptions will be enabled by default.\n",
      "  warnings.warn(\n",
      "ERROR 4: D:/Projekte/CMAAS/Processing/MVT_Nat/Magnetic_RTP.tiff: No such file or directory\n"
     ]
    },
    {
     "ename": "AttributeError",
     "evalue": "'NoneType' object has no attribute 'RasterXSize'",
     "output_type": "error",
     "traceback": [
      "\u001b[0;31m---------------------------------------------------------------------------\u001b[0m",
      "\u001b[0;31mAttributeError\u001b[0m                            Traceback (most recent call last)",
      "\u001b[1;32m/methods/methods/som/run_nextsomcore.ipynb Cell 7\u001b[0m line \u001b[0;36m3\n\u001b[1;32m      <a href='vscode-notebook-cell://attached-container%2B7b22636f6e7461696e65724e616d65223a222f6265616b2d7461332d646576227d/methods/methods/som/run_nextsomcore.ipynb#W6sdnNjb2RlLXJlbW90ZQ%3D%3D?line=0'>1</a>\u001b[0m \u001b[39mimport\u001b[39;00m \u001b[39mfunctions\u001b[39;00m\u001b[39m.\u001b[39;00m\u001b[39mdo_nextsomcore_save_results\u001b[39;00m \u001b[39mas\u001b[39;00m \u001b[39mdnsr\u001b[39;00m\n\u001b[0;32m----> <a href='vscode-notebook-cell://attached-container%2B7b22636f6e7461696e65724e616d65223a222f6265616b2d7461332d646576227d/methods/methods/som/run_nextsomcore.ipynb#W6sdnNjb2RlLXJlbW90ZQ%3D%3D?line=2'>3</a>\u001b[0m dnsr\u001b[39m.\u001b[39;49mrun_SOM(arg)\n",
      "File \u001b[0;32m/methods/methods/som/functions/do_nextsomcore_save_results.py:11\u001b[0m, in \u001b[0;36mrun_SOM\u001b[0;34m(args)\u001b[0m\n\u001b[1;32m      9\u001b[0m         args\u001b[39m.\u001b[39minitialcodebook\u001b[39m=\u001b[39msom_dictionary[\u001b[39m'\u001b[39m\u001b[39mcodebook\u001b[39m\u001b[39m'\u001b[39m]\n\u001b[1;32m     10\u001b[0m         args\u001b[39m.\u001b[39minitialization\u001b[39m=\u001b[39m\u001b[39mNone\u001b[39;00m           \n\u001b[0;32m---> 11\u001b[0m header \u001b[39m=\u001b[39m nxtsomcore\u001b[39m.\u001b[39;49mload_data(args\u001b[39m.\u001b[39;49minput_file) \n\u001b[1;32m     12\u001b[0m som \u001b[39m=\u001b[39m nxtsomcore\u001b[39m.\u001b[39mtrain(\n\u001b[1;32m     13\u001b[0m     header[\u001b[39m'\u001b[39m\u001b[39mdata\u001b[39m\u001b[39m'\u001b[39m],\n\u001b[1;32m     14\u001b[0m     args\u001b[39m.\u001b[39msom_x,\n\u001b[0;32m   (...)\u001b[0m\n\u001b[1;32m     26\u001b[0m     gridtype\u001b[39m=\u001b[39margs\u001b[39m.\u001b[39mgridtype\n\u001b[1;32m     27\u001b[0m     )          \n\u001b[1;32m     28\u001b[0m \u001b[39mif\u001b[39;00m(args\u001b[39m.\u001b[39moutput_folder\u001b[39m==\u001b[39m\u001b[39m\"\u001b[39m\u001b[39m\"\u001b[39m):\n",
      "File \u001b[0;32m/methods/methods/som/nextsomcore/nextsomcore.py:38\u001b[0m, in \u001b[0;36mNxtSomCore.load_data\u001b[0;34m(self, input_file)\u001b[0m\n\u001b[1;32m     32\u001b[0m \u001b[39mdef\u001b[39;00m \u001b[39mload_data\u001b[39m(\u001b[39mself\u001b[39m, input_file):\n\u001b[1;32m     33\u001b[0m \u001b[39m    \u001b[39m\u001b[39m\"\"\"Load and return the input data as a dict containing numpy array and metadata\u001b[39;00m\n\u001b[1;32m     34\u001b[0m \u001b[39m    :param input_file: The name of the file to be loaded.\u001b[39;00m\n\u001b[1;32m     35\u001b[0m \u001b[39m    :type filename: str.\u001b[39;00m\n\u001b[1;32m     36\u001b[0m \u001b[39m    :rtype: dict\u001b[39;00m\n\u001b[1;32m     37\u001b[0m \u001b[39m    \"\"\"\u001b[39;00m\n\u001b[0;32m---> 38\u001b[0m     \u001b[39mreturn\u001b[39;00m load_input_file(input_file)\n",
      "File \u001b[0;32m/methods/methods/som/nextsomcore/loadfile.py:28\u001b[0m, in \u001b[0;36mload_input_file\u001b[0;34m(input_file)\u001b[0m\n\u001b[1;32m     26\u001b[0m    \u001b[39mreturn\u001b[39;00m csv_header\n\u001b[1;32m     27\u001b[0m \u001b[39melse\u001b[39;00m: \n\u001b[0;32m---> 28\u001b[0m    geotiff_header\u001b[39m=\u001b[39mload_geotiff_files(input_file)\n\u001b[1;32m     29\u001b[0m    \u001b[39mreturn\u001b[39;00m geotiff_header\n",
      "File \u001b[0;32m/methods/methods/som/load_geotiff.py:30\u001b[0m, in \u001b[0;36mload_geotiff_files\u001b[0;34m(input_file_list)\u001b[0m\n\u001b[1;32m     28\u001b[0m src_ds \u001b[39m=\u001b[39m gdal\u001b[39m.\u001b[39mOpen(geotiffpath)       \n\u001b[1;32m     29\u001b[0m \u001b[39mif\u001b[39;00m(width_0 \u001b[39mis\u001b[39;00m \u001b[39mNone\u001b[39;00m):        \u001b[39m#stash baseline values on first loop, for checking that projection etc. match for all files\u001b[39;00m\n\u001b[0;32m---> 30\u001b[0m     width_0 \u001b[39m=\u001b[39m src_ds\u001b[39m.\u001b[39;49mRasterXSize\n\u001b[1;32m     31\u001b[0m     height_0 \u001b[39m=\u001b[39m src_ds\u001b[39m.\u001b[39mRasterYSize\n\u001b[1;32m     32\u001b[0m     gt_0 \u001b[39m=\u001b[39m src_ds\u001b[39m.\u001b[39mGetGeoTransform()\n",
      "\u001b[0;31mAttributeError\u001b[0m: 'NoneType' object has no attribute 'RasterXSize'"
     ]
    }
   ],
   "source": [
    "import functions.do_nextsomcore_save_results as dnsr\n",
    "\n",
    "dnsr.run_SOM(arg)"
   ]
  },
  {
   "cell_type": "code",
   "execution_count": null,
   "metadata": {},
   "outputs": [],
   "source": []
  }
 ],
 "metadata": {
  "kernelspec": {
   "display_name": "dev-env",
   "language": "python",
   "name": "python3"
  },
  "language_info": {
   "codemirror_mode": {
    "name": "ipython",
    "version": 3
   },
   "file_extension": ".py",
   "mimetype": "text/x-python",
   "name": "python",
   "nbconvert_exporter": "python",
   "pygments_lexer": "ipython3",
   "version": "3.9.15"
  },
  "orig_nbformat": 4
 },
 "nbformat": 4,
 "nbformat_minor": 2
}
