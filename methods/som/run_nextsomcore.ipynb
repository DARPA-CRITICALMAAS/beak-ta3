{
 "cells": [
  {
   "cell_type": "markdown",
   "metadata": {},
   "source": [
    "<p style=\"font-size:35px; text-align:center; font-weight:bold\">CMAAS run SOM clustering method</p>\n",
    "<p style=\"font-size:17px; text-align:left\">Ina Storch 06-11-2023 </p>\n",
    "<p style=\"font-size:17px; text-align:left\">Note: This notebook is designed to run SOM using preprocessed data gained from the datacube from: Lawley et al., 2021. </p>\n",
    "<p style=\"font-size:17px; text-align:left\">Reference: Lawley, C.J.M., McCafferty, A.E., Graham, G.E., Gadd, M.G., Huston, D.L., Kelley, K.D., Paradis, S., Peter, J.M., and Czarnota, K., 2021. Datasets to support prospectivity modelling for sediment-hosted Zn-Pb mineral systems; Geological Survey of Canada, Open File 8836, 1 .zip file. https://doi.org/10.4095/329203</p>"
   ]
  },
  {
   "cell_type": "markdown",
   "metadata": {},
   "source": [
    "<p style=\"font-size:19px; text-align:left; font-weight:bold\">1) Import libraries, define SOM arguments</p>"
   ]
  },
  {
   "cell_type": "code",
   "execution_count": 1,
   "metadata": {},
   "outputs": [],
   "source": [
    "from src.nextsomcore.nextsomcore import NxtSomCore\n",
    "import pickle\n",
    "\n",
    "import configs.argsSOM\n",
    "\n",
    "args = configs.argsSOM.Args()"
   ]
  },
  {
   "cell_type": "markdown",
   "metadata": {},
   "source": [
    "<p style=\"font-size:19px; text-align:left; font-weight:bold\">2) Provide input file(s). \n",
    "\n",
    "Input data can eighter be in LRN file format (a table with X, Y, Z and one line with the values for each data layer) or geoTIF file format. Choose one.\n",
    "\n",
    "Create a \"data\" folder within the \"methods/som/\" folder. This \"data\" folder should contain a folder for \"input\" and \"output\" data, each. To be able to run this jupyter notebook, copy your input data into the folder \"methods/som/data/input\". \n",
    "\n",
    "In case of GeoTIF input files, you can create a subfolder and collect all TIF files that you want to use for SOM. In the following code cell you can provide a file path and a pattern (like \"*.tif\") for files within that specific folder that you want to use for SOM.\n",
    "\n",
    "If input file format is LRN, skip the next code cell and provide the file name (including file path) with args.input_file "
   ]
  },
  {
   "cell_type": "markdown",
   "metadata": {},
   "source": [
    "<p style=\"font-size:19px; text-align:left; font-weight:bold\">Either: Data input in geoTiff format:\n",
    "\n",
    "List geoTiff files, separated by komma: [\"path/name1.tiff\",\"path/name2.tiff\"] </br>\n",
    "\n",
    "Here some options are provided how to compose such a list: </br>\n",
    "    - by providing a path and a list of file names that are all within the specified folder    \n",
    "    - by providing a path and file patterns to select all files matching this pattern inside the specified folder. The file patterns can also include subfolder specifications.  </br>"
   ]
  },
  {
   "cell_type": "code",
   "execution_count": 2,
   "metadata": {},
   "outputs": [
    {
     "name": "stdout",
     "output_type": "stream",
     "text": [
      "Number of files added: 4\n",
      "Files:\n",
      "data/input/MVT_PREFERRED_REPROJECTED/NUMERICAL_MINMAX/Magnetic_HGM.tif\n",
      "data/input/MVT_PREFERRED_REPROJECTED/NUMERICAL_MINMAX/Magnetic_HGM_Worms_Proximity.tif\n",
      "data/input/MVT_PREFERRED_REPROJECTED/NUMERICAL_MINMAX/Magnetic_LongWavelength_HGM.tif\n",
      "data/input/MVT_PREFERRED_REPROJECTED/NUMERICAL_MINMAX/Magnetic_LongWavelength_HGM_Worms_Proximity.tif\n"
     ]
    }
   ],
   "source": [
    "# #- If input data is geotiff: list geotiff files: [\"name1.tiff\",\"name2.tiff\"]\n",
    "#in_folder = \"data/input/MVT_PREFERRED_REPROJECTED/NUMERICAL_MINMAX/\"\n",
    "#input_list_text=[file_path + file for file in \n",
    "#                    [\"Geology_BlackShale_Proximity.tif\",\n",
    "#                    \"Terrane_Proximity.tif\"]]\n",
    "#args.input_file= \",\".join(input_list_text)\n",
    "\n",
    "file_path = \"data/input/MVT_PREFERRED_REPROJECTED/\"\n",
    "#file_patterns = [\"NUMERICAL_MINMAX/*.tif\", \"CATEGORICAL/*_Igneous_Intrusive_Felsic.tif\"]\n",
    "#file_patterns = [\"NUMERICAL_MINMAX/Magnetic_LongWavelength_HGM*.tif\", \"CATEGORICAL/*_Igneous_Intrusive_Felsic.tif\"]\n",
    "file_patterns = [\"NUMERICAL_MINMAX/Mag*.tif\"]\n",
    "\n",
    "args.input_file = args.create_list_from_pattern(file_path, file_patterns)\n",
    "\n",
    "#---------------\n",
    "args.geotiff_input=args.input_file      # geotiff_input files, separated by komma"
   ]
  },
  {
   "cell_type": "markdown",
   "metadata": {},
   "source": [
    "<p style=\"font-size:19px; text-align:left; font-weight:bold\">Or: Data input in LRN format (data table):\n",
    "\n",
    "Specify file path and name!"
   ]
  },
  {
   "cell_type": "code",
   "execution_count": 3,
   "metadata": {},
   "outputs": [],
   "source": [
    "#args.input_file=\"/methods/methods/som/data/input/SOM_grav_mag.lrn\""
   ]
  },
  {
   "cell_type": "markdown",
   "metadata": {},
   "source": [
    "<p style=\"font-size:19px; text-align:left; font-weight:bold\">3) Specify parameter for SOM. "
   ]
  },
  {
   "cell_type": "code",
   "execution_count": 4,
   "metadata": {},
   "outputs": [],
   "source": [
    "\n",
    "#args.output_folder=\"data/output\"         # Folder to save som dictionary and cluster dictionary\n",
    "args.output_folder=\"/methods/methods/som/data/output\"\n",
    "args.output_file_somspace= args.output_folder+\"/result_som.txt\"   # DO NOT CHANGE! Text file that will contain calculated values: som_x som_y b_data1 b_data2 b_dataN umatrix cluster in geospace.\n",
    "\n",
    "args.som_x=10                # X dimension of generated SOM\n",
    "args.som_y=10                # Y dimension of generated SOM\n",
    "args.epochs=10               # Number of epochs to run\n",
    "\n",
    "# Base parameters required for som calculation. \n",
    "# Additional optional parameters below:\n",
    "args.outgeofile= args.output_folder+\"/result_geo.txt\"             # DO NOT CHANGE!\n",
    "args.output_file_geospace=args.outgeofile   # Text file that will contain calculated values: {X Y Z} data1 data2 dataN som_x som_y cluster b_data1 b_data2 b_dataN in geospace.\n",
    "\n",
    "args.kmeans=\"true\"          # Run k-means clustering (true, false)\n",
    "args.kmeans_init=5           # Number of initializations\n",
    "args.kmeans_min=3            # Minimum number of k-mean clusters\n",
    "args.kmeans_max=35           # Maximum number of k-mean clusters\n",
    "\n",
    "args.neighborhood='gaussian'     # Shape of the neighborhood function. gaussian or bubble\n",
    "args.std_coeff=0.5               # Coefficient in the Gaussian neighborhood function\n",
    "args.maptype='toroid'            # Type of SOM (sheet, toroid)\n",
    "args.initialcodebook=None        # File path of initial codebook, 2D numpy.array of float32.\n",
    "args.radius0=0                   # Initial size of the neighborhood\n",
    "args.radiusN=1                   # Final size of the neighborhood\n",
    "args.radiuscooling='linear'      # Function that defines the decrease in the neighborhood size as the training proceeds (linear, exponential)\n",
    "args.scalecooling='linear'       # Function that defines the decrease in the learning scale as the training proceeds (linear, exponential)\n",
    "args.scale0=0.1                  # Initial learning rate\n",
    "args.scaleN=0.01                 # Final learning rate\n",
    "args.initialization='random'     # Type of SOM initialization (random, pca)\n",
    "args.gridtype='rectangular'      # Type of SOM grid (hexagonal, rectangular)\n",
    "#args.xmlfile=\"none\"              # SOM inputs as an xml file\n",
    "\n",
    "args.normalized=\"true\"      # Whether the data has been normalized or not (true, false)\n",
    "args.minN=0                  # Minimum value for normalization\n",
    "args.maxN=1                  # Maximum value for normalization\n",
    "args.label=None              # Whether data contains label column, true or false\n"
   ]
  },
  {
   "cell_type": "code",
   "execution_count": 5,
   "metadata": {},
   "outputs": [
    {
     "name": "stdout",
     "output_type": "stream",
     "text": [
      "data/input/MVT_PREFERRED_REPROJECTED/NUMERICAL_MINMAX/Magnetic_HGM.tif,data/input/MVT_PREFERRED_REPROJECTED/NUMERICAL_MINMAX/Magnetic_HGM_Worms_Proximity.tif,data/input/MVT_PREFERRED_REPROJECTED/NUMERICAL_MINMAX/Magnetic_LongWavelength_HGM.tif,data/input/MVT_PREFERRED_REPROJECTED/NUMERICAL_MINMAX/Magnetic_LongWavelength_HGM_Worms_Proximity.tif\n",
      "data/input/MVT_PREFERRED_REPROJECTED/NUMERICAL_MINMAX/Magnetic_HGM.tif,data/input/MVT_PREFERRED_REPROJECTED/NUMERICAL_MINMAX/Magnetic_HGM_Worms_Proximity.tif,data/input/MVT_PREFERRED_REPROJECTED/NUMERICAL_MINMAX/Magnetic_LongWavelength_HGM.tif,data/input/MVT_PREFERRED_REPROJECTED/NUMERICAL_MINMAX/Magnetic_LongWavelength_HGM_Worms_Proximity.tif\n"
     ]
    }
   ],
   "source": [
    "print(args.input_file)\n",
    "print(args.geotiff_input)"
   ]
  },
  {
   "cell_type": "markdown",
   "metadata": {},
   "source": [
    "<p style=\"font-size:19px; text-align:left; font-weight:bold\">4) Run SOM \n",
    "\n",
    "Before running SOM - clean up existing files and move them to a subfolder."
   ]
  },
  {
   "cell_type": "code",
   "execution_count": 6,
   "metadata": {},
   "outputs": [],
   "source": [
    "import shutil\n",
    "import os\n",
    "import glob\n",
    "\n",
    "file_path = args.output_folder\n",
    "file_patterns = [\"*som.*\",\"*geo.*\", \"RunStats.txt\",\"cluster.dictionary\"]\n",
    "destination_path = file_path+\"/old_results/\"\n",
    "\n",
    "# Create the destination folder if it doesn't exist\n",
    "if not os.path.exists(destination_path):\n",
    "    os.makedirs(destination_path)\n",
    "\n",
    "for file_pattern in file_patterns:\n",
    "    # Use glob to get all files with the specified pattern\n",
    "    matching_files = glob.glob(os.path.join(file_path, file_pattern))\n",
    "\n",
    "    # Move each matching file to the destination folder and overwrite existing files if necessary\n",
    "    for source_file in matching_files:\n",
    "        file_name = os.path.basename(source_file)\n",
    "        destination_file_path = os.path.join(destination_path, file_name)\n",
    "\n",
    "        # If the file already exists in the destination folder, delete it first\n",
    "        if os.path.exists(destination_file_path):\n",
    "            os.remove(destination_file_path)\n",
    "\n",
    "        # Move the file to the destination folder\n",
    "        shutil.move(source_file, destination_file_path)"
   ]
  },
  {
   "cell_type": "markdown",
   "metadata": {},
   "source": [
    "Run SOM with parameters specified above and save the results. Uses NxtSomCore package to do the actual work. "
   ]
  },
  {
   "cell_type": "code",
   "execution_count": 7,
   "metadata": {},
   "outputs": [
    {
     "name": "stderr",
     "output_type": "stream",
     "text": [
      "Time for epoch 1: 1.155 Time for epoch 2: 1.18 Time for epoch 3: 1.272 Time for epoch 4: 1.271 Time for epoch 5: 1.117 Time for epoch 6:  1.1 Time for epoch 7: 1.076 Time for epoch 8: 1.055 Time for epoch 9: 1.145 Time for epoch 10: 1.064 "
     ]
    },
    {
     "name": "stdout",
     "output_type": "stream",
     "text": [
      "    100% [===================================================]\n",
      "/methods/methods/som/data/output\n",
      "Clustering progress:\n",
      "0.00%\n",
      "9.70%\n",
      "19.39%\n",
      "29.09%\n",
      "38.79%\n",
      "48.48%\n",
      "58.18%\n",
      "67.88%\n",
      "77.58%\n",
      "87.27%\n",
      "96.97%\n",
      "100% Clustering completed.\n",
      "Could not create tif file\n"
     ]
    },
    {
     "name": "stderr",
     "output_type": "stream",
     "text": [
      "ERROR 4: Attempt to create new tiff file `/methods/methods/som/data/output/GeoTIFF/out_q_error.tif' failed: No such file or directory\n"
     ]
    },
    {
     "ename": "SystemExit",
     "evalue": "1",
     "output_type": "error",
     "traceback": [
      "An exception has occurred, use %tb to see the full traceback.\n",
      "\u001b[0;31mSystemExit\u001b[0m\u001b[0;31m:\u001b[0m 1\n"
     ]
    },
    {
     "name": "stderr",
     "output_type": "stream",
     "text": [
      "/opt/conda/envs/beak-ta3/lib/python3.9/site-packages/IPython/core/interactiveshell.py:3558: UserWarning: To exit: use 'exit', 'quit', or Ctrl-D.\n",
      "  warn(\"To exit: use 'exit', 'quit', or Ctrl-D.\", stacklevel=1)\n"
     ]
    }
   ],
   "source": [
    "import src.do_nextsomcore_save_results as dnsr\n",
    "\n",
    "dnsr.run_SOM(args)"
   ]
  },
  {
   "cell_type": "code",
   "execution_count": null,
   "metadata": {},
   "outputs": [],
   "source": [
    "import src.plot_som_results as plot\n",
    "from IPython.display import Image, display\n",
    "\n",
    "# Load cluster dictionary\n",
    "loaded_cluster_list = plot.load_cluster_dictionary(args.output_folder)\n",
    "# Plot and save the Davies-Bouldin Index vs Number of Clusters\n",
    "plot.plot_davies_bouldin(loaded_cluster_list, args.output_folder)\n",
    "\n",
    "display(Image(filename=args.output_folder+'db_score.png'))"
   ]
  },
  {
   "cell_type": "markdown",
   "metadata": {},
   "source": [
    "<p style=\"font-size:19px; text-align:left; font-weight:bold\">5) Plot results."
   ]
  },
  {
   "cell_type": "markdown",
   "metadata": {},
   "source": [
    "Specify the parameters to plot the results and create figures. The Python script \"plot_som_results.py\" creates .png files of the results in som space, geospace and also creates boxplots."
   ]
  },
  {
   "cell_type": "code",
   "execution_count": null,
   "metadata": {},
   "outputs": [],
   "source": [
    "import configs.argsPlot\n",
    "import src.plot_som_results as plot\n",
    "\n",
    "argsP = configs.argsPlot.Args()\n",
    "\n",
    "argsP.outsomfile= args.output_file_somspace   # som calculation somspace output text file\n",
    "argsP.som_x= args.som_x         # som x dimension\n",
    "argsP.som_y= args.som_y         # som y dimension\n",
    "argsP.input_file= args.input_file   # Input file(*.lrn)\n",
    "argsP.dir= args.output_folder            # Input file(*.lrn) or directory where som.dictionary was safet to (/output/som.dictionary)\n",
    "argsP.grid_type= 'rectangular' # grid type (square or hexa), (rectangular or hexagonal)\n",
    "argsP.redraw='true'       # whether to draw all plots, or only those required for clustering (true: draw all. false:draw only for clustering).\n",
    "argsP.outgeofile=args.output_file_geospace     # som geospace results txt file\n",
    "argsP.dataType='grid'       # Data type (scatter or grid)\n",
    "argsP.noDataValue='-9999'    # noData value\n",
    "\n",
    "plot.run_plotting_script(argsP)"
   ]
  },
  {
   "cell_type": "markdown",
   "metadata": {},
   "source": [
    "Move figures into a sub folder, since \"plot_som_results.py\" does not override existing files. If the destination folder does not exist, it is created here. All file names are stored in a list that is used in the next step to show all output figures."
   ]
  },
  {
   "cell_type": "code",
   "execution_count": null,
   "metadata": {},
   "outputs": [],
   "source": [
    "import shutil\n",
    "import os\n",
    "import glob\n",
    "\n",
    "file_path = args.output_folder\n",
    "file_patterns = [\"geoplot_*.png\", \"somplot_*.png\", \"boxplot_*.png\", \"db_score.png\"]\n",
    "destination_path = file_path+\"/plots/\"\n",
    "\n",
    "\n",
    "# Lists to store matching files with their corresponding destination paths\n",
    "all_figs = []\n",
    "all_figs_lable = []\n",
    "\n",
    "# Create the destination folder if it doesn't exist\n",
    "if not os.path.exists(destination_path):\n",
    "    os.makedirs(destination_path)\n",
    "else:\n",
    "    # Delete all files in the destination folder\n",
    "    files_to_delete = glob.glob(os.path.join(destination_path, \"*\"))\n",
    "    for file_to_delete in files_to_delete:\n",
    "        os.remove(file_to_delete)\n",
    "\n",
    "for file_pattern in file_patterns:\n",
    "    # Use glob to get all files with the specified pattern\n",
    "    matching_files = glob.glob(os.path.join(file_path, file_pattern))\n",
    "\n",
    "    # Add matching files and their corresponding destination paths to the lists\n",
    "    all_figs.extend([os.path.join(destination_path, os.path.basename(file)) for file in matching_files])\n",
    "    all_figs_lable.extend([os.path.basename(file) for file in matching_files])\n",
    "\n",
    "    # Move each matching file to the destination folder and overwrite existing files if necessary\n",
    "    for source_file in matching_files:\n",
    "        file_name = os.path.basename(source_file)\n",
    "        destination_file_path = os.path.join(destination_path, file_name)\n",
    "\n",
    "        # If the file already exists in the destination folder, delete it first\n",
    "        if os.path.exists(destination_file_path):\n",
    "            os.remove(destination_file_path)\n",
    "\n",
    "        # Move the file to the destination folder\n",
    "        shutil.move(source_file, destination_file_path)\n",
    "\n",
    "print(all_figs)"
   ]
  },
  {
   "cell_type": "markdown",
   "metadata": {},
   "source": [
    "Show all figures that were produced by \"plot_som_results.py\" and moved into a subfolder.\n",
    "\n",
    "Boxplot:\n",
    "> x axis is Cluster ID </br>\n",
    "> Z axis is original data value </br>\n",
    "> legend: number of data points in each cluster </br>"
   ]
  },
  {
   "cell_type": "code",
   "execution_count": null,
   "metadata": {},
   "outputs": [],
   "source": [
    "import matplotlib.pyplot as plt\n",
    "from IPython.display import clear_output\n",
    "import ipyplot\n",
    "\n",
    "# Clear Matplotlib cache\n",
    "plt.close('all')\n",
    "\n",
    "# Clear output\n",
    "clear_output(wait=True)\n",
    "\n",
    "images = all_figs\n",
    "labels = all_figs_lable\n",
    "tabs = [image.split('_')[-2] for image in labels]\n",
    "\n",
    "print(\"List of figures:\")\n",
    "print(labels)\n",
    "#print(tabs)\n",
    "\n",
    "# Plot the images\n",
    "#ipyplot.plot_images(images, max_images=50, img_width=250)\n",
    "ipyplot.plot_class_representations(images,  labels, img_width=200, show_url=False)\n",
    "ipyplot.plot_class_tabs(images, tabs, max_imgs_per_tab=50, img_width=400)"
   ]
  }
 ],
 "metadata": {
  "kernelspec": {
   "display_name": "dev-env",
   "language": "python",
   "name": "python3"
  },
  "language_info": {
   "codemirror_mode": {
    "name": "ipython",
    "version": 3
   },
   "file_extension": ".py",
   "mimetype": "text/x-python",
   "name": "python",
   "nbconvert_exporter": "python",
   "pygments_lexer": "ipython3",
   "version": "3.9.15"
  },
  "orig_nbformat": 4
 },
 "nbformat": 4,
 "nbformat_minor": 2
}
