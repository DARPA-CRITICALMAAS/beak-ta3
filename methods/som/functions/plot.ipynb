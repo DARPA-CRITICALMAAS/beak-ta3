{
 "cells": [
  {
   "cell_type": "code",
   "execution_count": 1,
   "metadata": {},
   "outputs": [],
   "source": [
    "import argsPlot\n",
    "\n",
    "args = argsPlot.Args()\n",
    "#print(args.grid_type)"
   ]
  },
  {
   "cell_type": "code",
   "execution_count": 2,
   "metadata": {},
   "outputs": [],
   "source": [
    "args.outsomfile= \"../data/data_output/somspace.txt\"   # som calculation somspace output text file\n",
    "args.som_x= 10          # som x dimension\n",
    "args.som_y= 10          # som y dimension\n",
    "args.input_file= \"../data/data_input/SOM.lrn\"    # Input file(*.lrn)\n",
    "args.dir= \"../data/data_output\"            # Input file(*.lrn) or directory where som.dictionary was safet to (/output/som.dictionary)\n",
    "args.grid_type='rectangular' # grid type (rectangular or hexagonal)\n",
    "args.redraw='true'       # whether to draw all plots, or only those required for clustering (true: draw all. false:draw only for clustering).\n",
    "args.outgeofile=\"../data/data_output/geospace.txt\"     # som geospace results txt file\n",
    "args.dataType=None       # Data type (scatter or grid)\n",
    "args.noDataValue='NA'    # noData value"
   ]
  },
  {
   "cell_type": "code",
   "execution_count": 3,
   "metadata": {},
   "outputs": [
    {
     "ename": "NameError",
     "evalue": "name 'grid_type' is not defined",
     "output_type": "error",
     "traceback": [
      "\u001b[0;31m---------------------------------------------------------------------------\u001b[0m",
      "\u001b[0;31mNameError\u001b[0m                                 Traceback (most recent call last)",
      "\u001b[1;32m/methods/methods/som/functions/plot.ipynb Cell 3\u001b[0m line \u001b[0;36m3\n\u001b[1;32m      <a href='vscode-notebook-cell://attached-container%2B7b22636f6e7461696e65724e616d65223a222f6265616b2d7461332d646576227d/methods/methods/som/functions/plot.ipynb#W2sdnNjb2RlLXJlbW90ZQ%3D%3D?line=0'>1</a>\u001b[0m \u001b[39mimport\u001b[39;00m \u001b[39mplot_som_results2\u001b[39;00m \u001b[39mas\u001b[39;00m \u001b[39mplot\u001b[39;00m\n\u001b[1;32m      <a href='vscode-notebook-cell://attached-container%2B7b22636f6e7461696e65724e616d65223a222f6265616b2d7461332d646576227d/methods/methods/som/functions/plot.ipynb#W2sdnNjb2RlLXJlbW90ZQ%3D%3D?line=1'>2</a>\u001b[0m \u001b[39m#[geo_data, geo_headers, som_data, som_table, som_headers, som_dict, grid, annot_ticks, outgeofile, clusters]=plot.initialize_plot(args)\u001b[39;00m\n\u001b[0;32m----> <a href='vscode-notebook-cell://attached-container%2B7b22636f6e7461696e65724e616d65223a222f6265616b2d7461332d646576227d/methods/methods/som/functions/plot.ipynb#W2sdnNjb2RlLXJlbW90ZQ%3D%3D?line=2'>3</a>\u001b[0m plot\u001b[39m.\u001b[39;49mrun_plot(args)\n",
      "File \u001b[0;32m/methods/methods/som/functions/plot_som_results2.py:258\u001b[0m, in \u001b[0;36mrun_plot\u001b[0;34m(args)\u001b[0m\n\u001b[1;32m    256\u001b[0m         \u001b[39mprint\u001b[39m(\u001b[39m\"\u001b[39m\u001b[39mGeoSpace plots finished\u001b[39m\u001b[39m\"\u001b[39m)\n\u001b[1;32m    257\u001b[0m \u001b[39mif\u001b[39;00m(clusters\u001b[39m>\u001b[39m\u001b[39m1\u001b[39m): \u001b[39m#draw som cluster plot if there is more than 1 cluster\u001b[39;00m\n\u001b[0;32m--> 258\u001b[0m     draw_som_clusters(som_data, som_table, annot_ticks, som_headers)\n\u001b[1;32m    260\u001b[0m draw_umatrix(som_data, som_table,grid, annot_ticks, som_headers)\n\u001b[1;32m    261\u001b[0m draw_number_of_hits()\n",
      "File \u001b[0;32m/methods/methods/som/functions/plot_som_results2.py:473\u001b[0m, in \u001b[0;36mdraw_som_clusters\u001b[0;34m(som_data, som_table, annot_ticks, som_headers)\u001b[0m\n\u001b[1;32m    472\u001b[0m \u001b[39mdef\u001b[39;00m \u001b[39mdraw_som_clusters\u001b[39m(som_data, som_table, annot_ticks, som_headers):    \n\u001b[0;32m--> 473\u001b[0m     \u001b[39mif\u001b[39;00m(grid_type\u001b[39m.\u001b[39mlower()\u001b[39m==\u001b[39m\u001b[39m\"\u001b[39m\u001b[39mrectangular\u001b[39m\u001b[39m\"\u001b[39m):\n\u001b[1;32m    474\u001b[0m         mpl\u001b[39m.\u001b[39mrcParams\u001b[39m.\u001b[39mupdate({\u001b[39m'\u001b[39m\u001b[39mfont.size\u001b[39m\u001b[39m'\u001b[39m: \u001b[39m14\u001b[39m})  \n\u001b[1;32m    475\u001b[0m         \u001b[39mfor\u001b[39;00m i \u001b[39min\u001b[39;00m \u001b[39mrange\u001b[39m(\u001b[39m0\u001b[39m,\u001b[39mlen\u001b[39m(som_data)): \n",
      "\u001b[0;31mNameError\u001b[0m: name 'grid_type' is not defined"
     ]
    }
   ],
   "source": [
    "import plot_som_results2 as plot\n",
    "#[geo_data, geo_headers, som_data, som_table, som_headers, som_dict, grid, annot_ticks, outgeofile, clusters]=plot.initialize_plot(args)\n",
    "plot.run_plot(args)"
   ]
  },
  {
   "cell_type": "code",
   "execution_count": 4,
   "metadata": {},
   "outputs": [
    {
     "ename": "NameError",
     "evalue": "name 'discrete_cmap' is not defined",
     "output_type": "error",
     "traceback": [
      "\u001b[0;31m---------------------------------------------------------------------------\u001b[0m",
      "\u001b[0;31mNameError\u001b[0m                                 Traceback (most recent call last)",
      "\u001b[1;32m/methods/methods/som/functions/plot.ipynb Cell 4\u001b[0m line \u001b[0;36m1\n\u001b[1;32m     <a href='vscode-notebook-cell://attached-container%2B7b22636f6e7461696e65724e616d65223a222f6265616b2d7461332d646576227d/methods/methods/som/functions/plot.ipynb#W3sdnNjb2RlLXJlbW90ZQ%3D%3D?line=16'>17</a>\u001b[0m         \u001b[39mprint\u001b[39m(\u001b[39m\"\u001b[39m\u001b[39mGeoSpace plots finished\u001b[39m\u001b[39m\"\u001b[39m)\n\u001b[1;32m     <a href='vscode-notebook-cell://attached-container%2B7b22636f6e7461696e65724e616d65223a222f6265616b2d7461332d646576227d/methods/methods/som/functions/plot.ipynb#W3sdnNjb2RlLXJlbW90ZQ%3D%3D?line=17'>18</a>\u001b[0m \u001b[39mif\u001b[39;00m(clusters\u001b[39m>\u001b[39m\u001b[39m1\u001b[39m): \u001b[39m#draw som cluster plot if there is more than 1 cluster\u001b[39;00m\n\u001b[0;32m---> <a href='vscode-notebook-cell://attached-container%2B7b22636f6e7461696e65724e616d65223a222f6265616b2d7461332d646576227d/methods/methods/som/functions/plot.ipynb#W3sdnNjb2RlLXJlbW90ZQ%3D%3D?line=18'>19</a>\u001b[0m     plot\u001b[39m.\u001b[39;49mdraw_som_clusters(som_data, som_table, annot_ticks, som_headers, outgeofile, clusters, args\u001b[39m.\u001b[39;49mgrid_type)\n\u001b[1;32m     <a href='vscode-notebook-cell://attached-container%2B7b22636f6e7461696e65724e616d65223a222f6265616b2d7461332d646576227d/methods/methods/som/functions/plot.ipynb#W3sdnNjb2RlLXJlbW90ZQ%3D%3D?line=20'>21</a>\u001b[0m plot\u001b[39m.\u001b[39mdraw_umatrix(som_data, som_table,grid, annot_ticks, som_headers)\n\u001b[1;32m     <a href='vscode-notebook-cell://attached-container%2B7b22636f6e7461696e65724e616d65223a222f6265616b2d7461332d646576227d/methods/methods/som/functions/plot.ipynb#W3sdnNjb2RlLXJlbW90ZQ%3D%3D?line=21'>22</a>\u001b[0m plot\u001b[39m.\u001b[39mdraw_number_of_hits()\n",
      "File \u001b[0;32m/methods/methods/som/functions/plot_som_results.py:447\u001b[0m, in \u001b[0;36mdraw_som_clusters\u001b[0;34m(som_data, som_table, annot_ticks, som_headers, outgeofile, clusters, grid_type)\u001b[0m\n\u001b[1;32m    445\u001b[0m \u001b[39mfor\u001b[39;00m i \u001b[39min\u001b[39;00m \u001b[39mrange\u001b[39m(\u001b[39m0\u001b[39m,\u001b[39mlen\u001b[39m(som_data)): \n\u001b[1;32m    446\u001b[0m     som_table[\u001b[39mint\u001b[39m(som_data[i][\u001b[39m0\u001b[39m])][\u001b[39mint\u001b[39m(som_data[i][\u001b[39m1\u001b[39m])]\u001b[39m=\u001b[39msom_data[i][\u001b[39mlen\u001b[39m(som_data[\u001b[39m0\u001b[39m])\u001b[39m-\u001b[39m\u001b[39m2\u001b[39m]          \n\u001b[0;32m--> 447\u001b[0m ax \u001b[39m=\u001b[39m sns\u001b[39m.\u001b[39mheatmap(som_table\u001b[39m.\u001b[39mtranspose(), cmap\u001b[39m=\u001b[39mdiscrete_cmap, linewidth\u001b[39m=\u001b[39m\u001b[39m0\u001b[39m, vmin\u001b[39m=\u001b[39m\u001b[39m-\u001b[39m\u001b[39m0.5\u001b[39m, vmax\u001b[39m=\u001b[39mclusters\u001b[39m-\u001b[39m\u001b[39m0.5\u001b[39m, center\u001b[39m=\u001b[39mclusters\u001b[39m/\u001b[39m\u001b[39m2\u001b[39m\u001b[39m-\u001b[39m\u001b[39m0.5\u001b[39m, cbar_kws\u001b[39m=\u001b[39m\u001b[39mdict\u001b[39m(ticks\u001b[39m=\u001b[39mcluster_ticks), annot\u001b[39m=\u001b[39mannot_ticks\u001b[39m.\u001b[39mtranspose(), fmt \u001b[39m=\u001b[39m \u001b[39m'\u001b[39m\u001b[39m'\u001b[39m)\n\u001b[1;32m    448\u001b[0m colorbar \u001b[39m=\u001b[39m ax\u001b[39m.\u001b[39mcollections[\u001b[39m0\u001b[39m]\u001b[39m.\u001b[39mcolorbar\n\u001b[1;32m    449\u001b[0m colorbar\u001b[39m.\u001b[39mset_ticklabels(cluster_tick_labels)\n",
      "\u001b[0;31mNameError\u001b[0m: name 'discrete_cmap' is not defined"
     ]
    }
   ],
   "source": [
    "\"\"\"\n",
    "Run plotting scripts\n",
    "\"\"\"          \n",
    "\n",
    "if args.outgeofile is not None: #if spatial, draw geo plots\n",
    "    if(args.dataType=='scatter'):\n",
    "        if(max(geo_data[:,(4)])>0):#if clusters\n",
    "            plot.plot_geospace_clusters_scatter(geo_data)\n",
    "        if(redraw!=\"false\"):\n",
    "            plot.plot_geospace_results_scatter(geo_data, geo_headers, som_data)\n",
    "        print(\"GeoSpace plots finished\")\n",
    "    else:\n",
    "        if(max(geo_data[:,(4)])>0):#if clusters\n",
    "            plot.plot_geospace_clusters_grid(geo_data)\n",
    "        if(redraw!=\"false\"):\n",
    "            plot.plot_geospace_results_grid(geo_data, geo_headers, som_data)\n",
    "        print(\"GeoSpace plots finished\")\n",
    "if(clusters>1): #draw som cluster plot if there is more than 1 cluster\n",
    "    plot.draw_som_clusters(som_data, som_table, annot_ticks, som_headers, outgeofile, clusters, args.grid_type)\n",
    "\n",
    "plot.draw_umatrix(som_data, som_table,grid, annot_ticks, som_headers)\n",
    "plot.draw_number_of_hits()\n",
    "#in case the function was called for redrawing after selecting a different clustering result. so that we can skip stuff we don't have to redraw to speed things up. CURRENTLY NOT IN USE, ALWAYS TRUE.\n",
    "#if(redraw!=\"false\"):\n",
    "plot.draw_som_results(som_data, som_table,grid, annot_ticks, som_headers, outgeofile)\n",
    "\n",
    "print(\"SomSpace plots finshed\")\n",
    "\n",
    "if(som_dict['clusters'] is not None):\n",
    "    plot.draw_boxplots(som_dict,som_data)\n",
    "print(\"Boxplots finished\")"
   ]
  }
 ],
 "metadata": {
  "kernelspec": {
   "display_name": "dev-env",
   "language": "python",
   "name": "python3"
  },
  "language_info": {
   "codemirror_mode": {
    "name": "ipython",
    "version": 3
   },
   "file_extension": ".py",
   "mimetype": "text/x-python",
   "name": "python",
   "nbconvert_exporter": "python",
   "pygments_lexer": "ipython3",
   "version": "3.9.15"
  }
 },
 "nbformat": 4,
 "nbformat_minor": 2
}
