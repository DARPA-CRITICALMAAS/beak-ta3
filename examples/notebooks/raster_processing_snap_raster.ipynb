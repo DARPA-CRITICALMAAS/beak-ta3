{
 "cells": [
  {
   "cell_type": "code",
   "execution_count": 1,
   "metadata": {},
   "outputs": [],
   "source": [
    "import numpy as np\n",
    "import rasterio\n",
    "import os\n",
    "\n",
    "from rasterio.enums import Resampling\n",
    "from pathlib import Path\n",
    "\n",
    "import sys\n",
    "if sys.version_info < (3, 9):\n",
    "    from importlib_resources import files\n",
    "else:\n",
    "    from importlib.resources import files\n",
    "\n",
    "from beak.utilities.io import save_raster\n",
    "from beak.utilities.raster_processing import snap_raster\n",
    "\n",
    "DATA_PATH = files('beak.data')"
   ]
  },
  {
   "cell_type": "markdown",
   "metadata": {},
   "source": [
    "# Tests\n",
    "Usually, unifying incorporates several steps. <br>\n",
    "Manually, these steps are:\n",
    "\n",
    "1. Reproject\n",
    "2. Resample\n",
    "3. Snap\n",
    "4. Clip\n",
    "\n",
    "However, it might be, that this order needs to be changed in some cases. <br>\n",
    "The provided tool is also capable of clipping the cells based on the <code>nodata</code> locations of the base raster.<p>\n",
    "**Note**: If the base raster contains <code>nodata</code> values within the area of interest, theses cells will be clipped, too. <br>"
   ]
  },
  {
   "cell_type": "markdown",
   "metadata": {},
   "source": [
    "## Case 1\n",
    "**Grids to dataframe export with U.S. continental states extent**<p>\n",
    "Conditions:\n",
    "- Same CRS\n",
    "- Different cell sizes\n",
    "- Different number of cells\n",
    "- Different extent"
   ]
  },
  {
   "cell_type": "code",
   "execution_count": 4,
   "metadata": {},
   "outputs": [
    {
     "name": "stdout",
     "output_type": "stream",
     "text": [
      "Snapped raster saved to:  SNAP_CASE_1_GeophysicsMagRTP.tif\n"
     ]
    }
   ],
   "source": [
    "RAW_PATH = DATA_PATH / \"MCCAFFERTY23-RAW\" / \"Geophysics\"\n",
    "TEST_FILE = RAW_PATH / \"GeophysicsMagRTP.tif\"\n",
    "\n",
    "base_raster = rasterio.open(DATA_PATH / \"BASE_RASTERS\" / \"EPSG_4326_RES_0_025_CLIPPED_USC.tif\")\n",
    "test_raster = rasterio.open(TEST_FILE)\n",
    "out_path = \"SNAP_CASE_1_\" + os.path.basename(TEST_FILE)\n",
    "\n",
    "# Base raster is the first tuple in the list, followed by the unified rasters\n",
    "out_test_raster, meta = snap_raster(raster=test_raster, snap_raster=base_raster)\n",
    "\n",
    "save_raster(out_path, \n",
    "            array=out_test_raster, \n",
    "            crs=meta['crs'], \n",
    "            height=meta['height'], \n",
    "            width=meta['width'], \n",
    "            nodata_value=meta['nodata'], \n",
    "            transform=meta['transform'],\n",
    "            dtype=\"float32\")\n",
    "\n",
    "print(\"Snapped raster saved to: \", out_path)"
   ]
  }
 ],
 "metadata": {
  "kernelspec": {
   "display_name": "beak-ta3",
   "language": "python",
   "name": "python3"
  },
  "language_info": {
   "codemirror_mode": {
    "name": "ipython",
    "version": 3
   },
   "file_extension": ".py",
   "mimetype": "text/x-python",
   "name": "python",
   "nbconvert_exporter": "python",
   "pygments_lexer": "ipython3",
   "version": "3.9.15"
  }
 },
 "nbformat": 4,
 "nbformat_minor": 2
}
