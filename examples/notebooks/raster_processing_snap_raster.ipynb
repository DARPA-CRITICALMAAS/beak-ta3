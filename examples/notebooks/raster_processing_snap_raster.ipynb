{
 "cells": [
  {
   "cell_type": "markdown",
   "metadata": {},
   "source": [
    "# Case\n",
    "**Snap or spatially align a raster to another raster**\n"
   ]
  },
  {
   "cell_type": "code",
   "execution_count": 1,
   "metadata": {},
   "outputs": [],
   "source": [
    "import numpy as np\n",
    "import rasterio\n",
    "import os\n",
    "\n",
    "from rasterio.enums import Resampling\n",
    "from pathlib import Path\n",
    "\n",
    "import sys\n",
    "if sys.version_info < (3, 9):\n",
    "    from importlib_resources import files\n",
    "else:\n",
    "    from importlib.resources import files\n",
    "\n",
    "from beak.utilities.io import save_raster\n",
    "from beak.utilities.raster_processing import snap_raster\n",
    "\n",
    "DATA_PATH = files('beak.data')"
   ]
  },
  {
   "cell_type": "code",
   "execution_count": 4,
   "metadata": {},
   "outputs": [
    {
     "name": "stdout",
     "output_type": "stream",
     "text": [
      "Snapped raster saved to:  SNAP_CASE_1_GeophysicsMagRTP.tif\n"
     ]
    }
   ],
   "source": [
    "# Paths\n",
    "RAW_PATH = DATA_PATH / \"MCCAFFERTY23\" / \"RAW\" / \"Geophysics\"\n",
    "TEST_FILE = RAW_PATH / \"GeophysicsMagRTP.tif\"\n",
    "\n",
    "# Open rasters\n",
    "base_raster = rasterio.open(DATA_PATH / \"BASE_RASTERS\" / \"EPSG_4326_RES_0_025_CLIPPED_USC.tif\")\n",
    "test_raster = rasterio.open(TEST_FILE)\n",
    "\n",
    "# Output path\n",
    "out_path = \"SNAP_CASE_1_\" + os.path.basename(TEST_FILE)\n",
    "\n",
    "# Snap raster and return updated metadata\n",
    "out_test_raster, meta = snap_raster(raster=test_raster, snap_raster=base_raster)\n",
    "\n",
    "# Save snapped raster\n",
    "save_raster(out_path, \n",
    "            array=out_test_raster, \n",
    "            crs=meta['crs'], \n",
    "            height=meta['height'], \n",
    "            width=meta['width'], \n",
    "            nodata_value=meta['nodata'], \n",
    "            transform=meta['transform'],\n",
    "            dtype=\"float32\")\n",
    "\n",
    "print(\"Snapped raster saved to: \", out_path)"
   ]
  }
 ],
 "metadata": {
  "kernelspec": {
   "display_name": "beak-ta3",
   "language": "python",
   "name": "python3"
  },
  "language_info": {
   "codemirror_mode": {
    "name": "ipython",
    "version": 3
   },
   "file_extension": ".py",
   "mimetype": "text/x-python",
   "name": "python",
   "nbconvert_exporter": "python",
   "pygments_lexer": "ipython3",
   "version": "3.9.15"
  }
 },
 "nbformat": 4,
 "nbformat_minor": 2
}
