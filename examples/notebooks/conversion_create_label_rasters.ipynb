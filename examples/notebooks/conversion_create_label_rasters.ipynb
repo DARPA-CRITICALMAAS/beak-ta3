{
 "cells": [
  {
   "cell_type": "markdown",
   "metadata": {},
   "source": [
    "# Case\n",
    "**Creates binary labels in raster format**\n",
    "\n",
    "The labels are either based on a provided text- or Esri-shapefile.<br>\n",
    "To spatially align the labels with other data sets, a template raster (base raster) can be provided.\n"
   ]
  },
  {
   "cell_type": "code",
   "execution_count": 11,
   "metadata": {},
   "outputs": [],
   "source": [
    "import rasterio\n",
    "import numpy as np\n",
    "import pandas as pd\n",
    "import geopandas as gpd\n",
    "import os\n",
    "\n",
    "from pathlib import Path\n",
    "from typing import List, Tuple, Optional, Union\n",
    "rasterio.enums import MergeAlg\n",
    "    \n",
    "from rasterio import features\n",
    "\n",
    "import sys\n",
    "if sys.version_info < (3, 9):\n",
    "    from importlib_resources import files\n",
    "else:\n",
    "    from importlib.resources import files\n",
    "\n",
    "from beak.utilities.conversions import create_geodataframe_from_points, create_geodataframe_from_polygons, _rasterize_vector_process\n",
    "from beak.utilities.io import save_raster, check_path, load_raster, load_dataset\n"
   ]
  },
  {
   "cell_type": "markdown",
   "metadata": {},
   "source": [
    "# Load data"
   ]
  },
  {
   "cell_type": "markdown",
   "metadata": {},
   "source": [
    "**User definitions**"
   ]
  },
  {
   "cell_type": "code",
   "execution_count": 12,
   "metadata": {},
   "outputs": [],
   "source": [
    "# Paths\n",
    "BASE_PATH = files(\"beak.data\")\n",
    "PATH_DATACUBE = BASE_PATH / \"LAWLEY22\" / \"RAW\" / \"2021_Table04_Datacube.csv\"\n",
    "PATH_SHAPEFILE = BASE_PATH / \"CRITICAL_MINERAL_DEPOSITS\" / \"critical_mineral_deposits.shp\"\n",
    "PATH_BASE_RASTER = BASE_PATH / \"BASE_RASTERS\" / \"EPSG_4326_RES_0_025_COMPLETE_DATASET.tif\"\n",
    "\n",
    "# Columns for x and y coordinates\n",
    "LONG_COL = \"Longitude_EPSG4326\"\n",
    "LAT_COL = \"Latitude_EPSG4326\"\n",
    "\n",
    "# Reference coordinate system code\n",
    "EPSG_CODE = 4326\n",
    "\n",
    "# Rows to read from the datacube\n",
    "NROWS = None\n",
    "\n",
    "# Filter datacube by region\n",
    "REGIONS =[\"United States of America\", \"Canada\"]\n",
    "COL_REGION_FILTER = \"Country_Majority\"\n",
    "\n",
    "# Select relevant columns to be used as labels\n",
    "LABELS = \"Training_MVT_Deposit=='Present' | Training_MVT_Occurrence=='Present'\""
   ]
  },
  {
   "cell_type": "markdown",
   "metadata": {},
   "source": [
    "# Create Labels"
   ]
  },
  {
   "cell_type": "markdown",
   "metadata": {},
   "source": [
    "## From textfile or data set"
   ]
  },
  {
   "cell_type": "code",
   "execution_count": 5,
   "metadata": {},
   "outputs": [],
   "source": [
    "from beak.utilities.conversions import create_binary_raster\n",
    "\n",
    "# Load data\n",
    "data = load_dataset(PATH_DATACUBE, nrows=NROWS)\n",
    "data = data[data[COL_REGION_FILTER].isin(REGIONS)]\n",
    "\n",
    "# Create geodataframe from points\n",
    "gdf = create_geodataframe_from_points(data, LONG_COL, LAT_COL, EPSG_CODE)\n",
    "\n",
    "# Load base raster\n",
    "base_raster = load_raster(PATH_BASE_RASTER)\n",
    "\n",
    "# Output path\n",
    "out_path = \"output_from_textfile.tif\"\n",
    "\n",
    "# Save raster and labels array\n",
    "labels_array = create_binary_raster(gdf, base_raster, query=LABELS, all_touched=False, same_shape=True, fill_negatives=True, out_file=out_path)"
   ]
  },
  {
   "cell_type": "markdown",
   "metadata": {},
   "source": [
    "## From shapefile"
   ]
  },
  {
   "cell_type": "code",
   "execution_count": 21,
   "metadata": {},
   "outputs": [],
   "source": [
    "from beak.utilities.conversions import create_binary_raster\n",
    "\n",
    "# Load shapefile and create geodataframe\n",
    "gdf = gpd.read_file(PATH_SHAPEFILE)\n",
    "\n",
    "# Load base raster\n",
    "base_raster = load_raster(PATH_BASE_RASTER)\n",
    "\n",
    "# Output path\n",
    "out_path = \"output_from_shapefile.tif\"\n",
    "\n",
    "# Save raster and labels array\n",
    "labels_array = create_binary_raster(gdf, base_raster, query=\"DepType == 'S-R-V tungsten'\", all_touched=False, same_shape=True, fill_negatives=True, out_file=out_path)"
   ]
  }
 ],
 "metadata": {
  "kernelspec": {
   "display_name": "beak-ta3",
   "language": "python",
   "name": "python3"
  },
  "language_info": {
   "codemirror_mode": {
    "name": "ipython",
    "version": 3
   },
   "file_extension": ".py",
   "mimetype": "text/x-python",
   "name": "python",
   "nbconvert_exporter": "python",
   "pygments_lexer": "ipython3",
   "version": "3.9.15"
  }
 },
 "nbformat": 4,
 "nbformat_minor": 2
}
