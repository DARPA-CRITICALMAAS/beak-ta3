{
 "cells": [
  {
   "cell_type": "code",
   "execution_count": 11,
   "metadata": {},
   "outputs": [],
   "source": [
    "import rasterio\n",
    "import numpy as np\n",
    "import pandas as pd\n",
    "import geopandas as gpd\n",
    "import os\n",
    "\n",
    "from pathlib import Path\n",
    "from typing import List, Tuple, Optional, Union\n",
    "rasterio.enums import MergeAlg\n",
    "    \n",
    "from rasterio import features\n",
    "\n",
    "import sys\n",
    "if sys.version_info < (3, 9):\n",
    "    from importlib_resources import files\n",
    "else:\n",
    "    from importlib.resources import files\n",
    "\n",
    "from beak.utilities.conversions import create_geodataframe_from_points, create_geodataframe_from_polygons, _rasterize_vector_process\n",
    "from beak.utilities.io import save_raster, check_path, load_raster, load_dataset\n"
   ]
  },
  {
   "cell_type": "markdown",
   "metadata": {},
   "source": [
    "# Load data"
   ]
  },
  {
   "cell_type": "markdown",
   "metadata": {},
   "source": [
    "**User definitions**"
   ]
  },
  {
   "cell_type": "code",
   "execution_count": 12,
   "metadata": {},
   "outputs": [],
   "source": [
    "BASE_PATH = files(\"beak.data\")\n",
    "PATH_DATACUBE = BASE_PATH / \"LAWLEY22-RAW\" / \"2021_Table04_Datacube.csv\"\n",
    "PATH_SHAPEFILE = BASE_PATH / \"CRITICAL_MINERALS\" / \"critical_mineral_deposits.shp\"\n",
    "PATH_BASE_RASTER = BASE_PATH / \"BASE_RASTERS\" / \"EPSG_4326_RES_0_025_COMPLETE_DATASET.tif\"\n",
    "\n",
    "LONG_COL = \"Longitude_EPSG4326\"\n",
    "LAT_COL = \"Latitude_EPSG4326\"\n",
    "EPSG_CODE = 4326\n",
    "\n",
    "NROWS = None\n",
    "REGIONS =[\"United States of America\", \"Canada\"]\n",
    "COL_REGION_FILTER = \"Country_Majority\"\n",
    "\n",
    "LABELS = \"Training_MVT_Deposit=='Present' | Training_MVT_Occurrence=='Present'\""
   ]
  },
  {
   "cell_type": "markdown",
   "metadata": {},
   "source": [
    "# Create Labels"
   ]
  },
  {
   "cell_type": "markdown",
   "metadata": {},
   "source": [
    "## From textfile or data set"
   ]
  },
  {
   "cell_type": "code",
   "execution_count": 5,
   "metadata": {},
   "outputs": [],
   "source": [
    "from beak.utilities.conversions import create_binary_raster\n",
    "\n",
    "data = load_dataset(PATH_DATACUBE, nrows=NROWS)\n",
    "data = data[data[COL_REGION_FILTER].isin(REGIONS)]\n",
    "\n",
    "gdf = create_geodataframe_from_points(data, LONG_COL, LAT_COL, EPSG_CODE)\n",
    "base_raster = load_raster(PATH_BASE_RASTER)\n",
    "out_path = \"S:/Projekte/20230082_DARPA_CriticalMAAS_TA3/Bearbeitung/GitHub/beak-ta3/local/notebooks/CASE_1_CREATE_BINARY_LABELS_MVT.tif\"\n",
    "\n",
    "labels_array = create_binary_raster(gdf, base_raster, query=LABELS, all_touched=False, same_shape=True, fill_negatives=True, out_file=out_path)"
   ]
  },
  {
   "cell_type": "markdown",
   "metadata": {},
   "source": [
    "## From shapefile"
   ]
  },
  {
   "cell_type": "code",
   "execution_count": 21,
   "metadata": {},
   "outputs": [],
   "source": [
    "from beak.utilities.conversions import create_binary_raster\n",
    "\n",
    "gdf = gpd.read_file(PATH_SHAPEFILE)\n",
    "\n",
    "base_raster = load_raster(PATH_BASE_RASTER)\n",
    "out_path = \"S:/Projekte/20230082_DARPA_CriticalMAAS_TA3/Bearbeitung/GitHub/beak-ta3/local/notebooks/CASE_2_CREATE_BINARY_LABELS_TUNGSTEN_SKARN.tif\"\n",
    "\n",
    "labels_array = create_binary_raster(gdf, base_raster, query=\"DepType == 'S-R-V tungsten'\", all_touched=False, same_shape=True, fill_negatives=True, out_file=out_path)"
   ]
  }
 ],
 "metadata": {
  "kernelspec": {
   "display_name": "beak-ta3",
   "language": "python",
   "name": "python3"
  },
  "language_info": {
   "codemirror_mode": {
    "name": "ipython",
    "version": 3
   },
   "file_extension": ".py",
   "mimetype": "text/x-python",
   "name": "python",
   "nbconvert_exporter": "python",
   "pygments_lexer": "ipython3",
   "version": "3.9.15"
  }
 },
 "nbformat": 4,
 "nbformat_minor": 2
}
