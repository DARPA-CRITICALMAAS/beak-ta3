{
 "cells": [
  {
   "cell_type": "markdown",
   "metadata": {},
   "source": [
    "# Case\n",
    "**Creates binary labels in raster format**\n",
    "\n",
    "The labels are either based on a provided text- or Esri-shapefile.<br>\n",
    "To spatially align the labels with other data sets, a template raster (base raster) can be provided.\n"
   ]
  },
  {
   "cell_type": "code",
   "execution_count": 3,
   "metadata": {},
   "outputs": [],
   "source": [
    "import rasterio\n",
    "import numpy as np\n",
    "import pandas as pd\n",
    "import geopandas as gpd\n",
    "import os\n",
    "\n",
    "from pathlib import Path\n",
    "from typing import List, Tuple, Optional, Union\n",
    "from rasterio.enums import MergeAlg\n",
    "    \n",
    "from rasterio import features\n",
    "\n",
    "import sys\n",
    "if sys.version_info < (3, 9):\n",
    "    from importlib_resources import files\n",
    "else:\n",
    "    from importlib.resources import files\n",
    "\n",
    "from beak.utilities.conversions import create_geodataframe_from_points, create_geodataframe_from_polygons, _rasterize_vector_process, create_binary_raster\n",
    "from beak.utilities.io import save_raster, check_path, load_raster, load_dataset\n"
   ]
  },
  {
   "cell_type": "markdown",
   "metadata": {},
   "source": [
    "# Load data"
   ]
  },
  {
   "cell_type": "markdown",
   "metadata": {},
   "source": [
    "**User definitions**"
   ]
  },
  {
   "cell_type": "code",
   "execution_count": 18,
   "metadata": {},
   "outputs": [],
   "source": [
    "# Set paths\n",
    "BASE_PATH = files(\"beak.data\")\n",
    "PATH_SHAPEFILE = files(\"beak.data\") / \"BOUNDARIES\" / \"tl_2012_us_state_EPSG_4326.shp\"\n",
    "OUT_FILE = \"test_base_raster_fn.tif\"\n",
    "\n",
    "# Reference coordinate system code\n",
    "RESOLUTION = 0.025\n",
    "\n",
    "QUERY = \"NAME!='Alaska' & NAME!='Hawaii' & NAME!='Puerto Rico' & NAME!='United Sats Virgin Islands' & NAME!='American Samoa' & NAME!='Guam' & NAME!='Commonwealth of the Northern Mariana Islands'\"\n"
   ]
  },
  {
   "cell_type": "markdown",
   "metadata": {},
   "source": [
    "# Create Base Raster"
   ]
  },
  {
   "cell_type": "markdown",
   "metadata": {},
   "source": [
    "## From shapefile\n",
    "\n",
    "`fill_negatives`<p>\n",
    "- True will fill the nodata values with a fill value, commonly 0 (i.e., the extent of the raster is filled completeley with values)<p>\n",
    "- False will only convert the queried polygons to **one** and the rest of the raster will be **nodata**<p>\n",
    "**Base rasters** commonly have **nodata** (`fill_negatives=False`) instead of filled values"
   ]
  },
  {
   "cell_type": "code",
   "execution_count": 21,
   "metadata": {},
   "outputs": [],
   "source": [
    "# Load shapefile and create geodataframe\n",
    "gdf = gpd.read_file(PATH_SHAPEFILE)\n",
    "\n",
    "# Save raster\n",
    "base_array = create_binary_raster(gdf, resolution=RESOLUTION, query=QUERY, all_touched=False, same_shape=True, fill_negatives=False, out_file=OUT_FILE)"
   ]
  },
  {
   "cell_type": "code",
   "execution_count": null,
   "metadata": {},
   "outputs": [],
   "source": []
  }
 ],
 "metadata": {
  "kernelspec": {
   "display_name": "beak-ta3",
   "language": "python",
   "name": "python3"
  },
  "language_info": {
   "codemirror_mode": {
    "name": "ipython",
    "version": 3
   },
   "file_extension": ".py",
   "mimetype": "text/x-python",
   "name": "python",
   "nbconvert_exporter": "python",
   "pygments_lexer": "ipython3",
   "version": "3.9.15"
  }
 },
 "nbformat": 4,
 "nbformat_minor": 2
}
