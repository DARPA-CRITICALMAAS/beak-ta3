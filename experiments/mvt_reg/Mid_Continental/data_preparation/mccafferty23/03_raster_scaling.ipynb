{
 "cells": [
  {
   "cell_type": "markdown",
   "metadata": {},
   "source": [
    "# Information\n",
    "## How to\n",
    "1. Set the parameters. **UPPERCASE** letters are user input variables\n",
    "2. Run the reprojection cell\n"
   ]
  },
  {
   "cell_type": "markdown",
   "metadata": {},
   "source": [
    "# Requirements"
   ]
  },
  {
   "cell_type": "code",
   "execution_count": 1,
   "metadata": {},
   "outputs": [],
   "source": [
    "import os\n",
    "from importlib_resources import files\n",
    "from pathlib import Path\n",
    "\n",
    "from beak.utilities import transformation\n"
   ]
  },
  {
   "cell_type": "markdown",
   "metadata": {},
   "source": [
    "# Scaling"
   ]
  },
  {
   "cell_type": "markdown",
   "metadata": {},
   "source": [
    "## Standard scaler"
   ]
  },
  {
   "cell_type": "markdown",
   "metadata": {},
   "source": [
    "**Scaling** all numerical folders within a specified model configuration.<br>\n",
    "Reads the <code>ROOT_FOLDER</code> and takes the <code>NUMERICAL</code> subfolder within each model configuration."
   ]
  },
  {
   "cell_type": "markdown",
   "metadata": {},
   "source": [
    "**User inputs**"
   ]
  },
  {
   "cell_type": "code",
   "execution_count": 2,
   "metadata": {},
   "outputs": [],
   "source": [
    "BASE_PATH = files(\"beak.data\")\n",
    "\n",
    "BASE_NAME = Path(\"MCCAFFERTY23\") / \"PROCESSED\"\n",
    "BASE_SPATIAL = \"EPSG_32615_RES_50_0\"\n",
    "METHODS = [\"standard\"]\n"
   ]
  },
  {
   "cell_type": "markdown",
   "metadata": {},
   "source": [
    "**Select** subfolders to be scaled."
   ]
  },
  {
   "cell_type": "code",
   "execution_count": 4,
   "metadata": {},
   "outputs": [
    {
     "name": "stdout",
     "output_type": "stream",
     "text": [
      "GEOPHYSICS\n"
     ]
    }
   ],
   "source": [
    "root_folder = BASE_PATH / BASE_NAME / BASE_SPATIAL\n",
    "\n",
    "for folder in os.listdir(root_folder):\n",
    "  if os.path.isdir(os.path.join(root_folder, folder)):\n",
    "    print(folder)"
   ]
  },
  {
   "cell_type": "code",
   "execution_count": 5,
   "metadata": {},
   "outputs": [
    {
     "name": "stdout",
     "output_type": "stream",
     "text": [
      "Selected folders:\n",
      "s:\\projekte\\20230082_darpa_criticalmaas_ta3\\bearbeitung\\github\\beak-ta3\\src\\beak\\data\\MCCAFFERTY23\\PROCESSED\\EPSG_32615_RES_50_0\\GEOPHYSICS\n"
     ]
    }
   ],
   "source": [
    "SELECTION = [\"GEOPHYSICS\"]\n",
    "input_folders = [root_folder / folder for folder in SELECTION]\n",
    "\n",
    "print(\"Selected folders:\")\n",
    "for folder in input_folders:\n",
    "  print(folder)"
   ]
  },
  {
   "cell_type": "markdown",
   "metadata": {},
   "source": [
    "**Run Scaling**"
   ]
  },
  {
   "cell_type": "code",
   "execution_count": 6,
   "metadata": {},
   "outputs": [
    {
     "name": "stdout",
     "output_type": "stream",
     "text": [
      "\n",
      "Processing s:\\projekte\\20230082_darpa_criticalmaas_ta3\\bearbeitung\\github\\beak-ta3\\src\\beak\\data\\MCCAFFERTY23\\PROCESSED\\EPSG_32615_RES_50_0\\GEOPHYSICS with standard method...\n",
      "Selected folder: S:\\Projekte\\20230082_DARPA_CriticalMAAS_TA3\\Bearbeitung\\GitHub\\beak-ta3\\src\\beak\\data\\MCCAFFERTY23\\PROCESSED\\EPSG_32615_RES_50_0\\GEOPHYSICS\n",
      "Total of folders found: 1\n",
      "Files loaded: 16\n"
     ]
    },
    {
     "name": "stderr",
     "output_type": "stream",
     "text": [
      "Processing files: 100%|██████████| 16/16 [00:23<00:00,  1.47s/it]\n"
     ]
    }
   ],
   "source": [
    "for folder in input_folders:\n",
    "  folder_relative = os.path.relpath(folder, root_folder)\n",
    "  for method in METHODS:\n",
    "    if method == \"standard\":\n",
    "      method_name = \"STD\"\n",
    "    if method == \"minmax\":\n",
    "      method_name = \"MINMAX\"\n",
    "      \n",
    "    print(f\"\\nProcessing {folder} with {method} method...\")\n",
    "    output_folder = root_folder / str(folder_relative + \"_SCALED_\" + str.upper(method_name))\n",
    "    transformation.scale_raster(folder, output_folder, method)"
   ]
  },
  {
   "cell_type": "markdown",
   "metadata": {},
   "source": [
    "## Log scaler"
   ]
  },
  {
   "cell_type": "code",
   "execution_count": 11,
   "metadata": {},
   "outputs": [
    {
     "name": "stdout",
     "output_type": "stream",
     "text": [
      "File list:\n",
      "s:\\projekte\\20230082_darpa_criticalmaas_ta3\\bearbeitung\\github\\beak-ta3\\src\\beak\\data\\MCCAFFERTY23\\PROCESSED\\EPSG_32615_RES_50_0\\GEOPHYSICS\\Gravity.tif\n",
      "s:\\projekte\\20230082_darpa_criticalmaas_ta3\\bearbeitung\\github\\beak-ta3\\src\\beak\\data\\MCCAFFERTY23\\PROCESSED\\EPSG_32615_RES_50_0\\GEOPHYSICS\\Gravity_HGM.tif\n",
      "s:\\projekte\\20230082_darpa_criticalmaas_ta3\\bearbeitung\\github\\beak-ta3\\src\\beak\\data\\MCCAFFERTY23\\PROCESSED\\EPSG_32615_RES_50_0\\GEOPHYSICS\\Gravity_Up30km.tif\n",
      "s:\\projekte\\20230082_darpa_criticalmaas_ta3\\bearbeitung\\github\\beak-ta3\\src\\beak\\data\\MCCAFFERTY23\\PROCESSED\\EPSG_32615_RES_50_0\\GEOPHYSICS\\Gravity_Up30km_HGM.tif\n",
      "s:\\projekte\\20230082_darpa_criticalmaas_ta3\\bearbeitung\\github\\beak-ta3\\src\\beak\\data\\MCCAFFERTY23\\PROCESSED\\EPSG_32615_RES_50_0\\GEOPHYSICS\\LAB.tif\n",
      "s:\\projekte\\20230082_darpa_criticalmaas_ta3\\bearbeitung\\github\\beak-ta3\\src\\beak\\data\\MCCAFFERTY23\\PROCESSED\\EPSG_32615_RES_50_0\\GEOPHYSICS\\LAB_HGM_cog.tif\n",
      "s:\\projekte\\20230082_darpa_criticalmaas_ta3\\bearbeitung\\github\\beak-ta3\\src\\beak\\data\\MCCAFFERTY23\\PROCESSED\\EPSG_32615_RES_50_0\\GEOPHYSICS\\LAB_Worms_Proximity.tif\n",
      "s:\\projekte\\20230082_darpa_criticalmaas_ta3\\bearbeitung\\github\\beak-ta3\\src\\beak\\data\\MCCAFFERTY23\\PROCESSED\\EPSG_32615_RES_50_0\\GEOPHYSICS\\Mag.tif\n",
      "s:\\projekte\\20230082_darpa_criticalmaas_ta3\\bearbeitung\\github\\beak-ta3\\src\\beak\\data\\MCCAFFERTY23\\PROCESSED\\EPSG_32615_RES_50_0\\GEOPHYSICS\\MagRTP.tif\n",
      "s:\\projekte\\20230082_darpa_criticalmaas_ta3\\bearbeitung\\github\\beak-ta3\\src\\beak\\data\\MCCAFFERTY23\\PROCESSED\\EPSG_32615_RES_50_0\\GEOPHYSICS\\MagRTP_DeepSources.tif\n",
      "s:\\projekte\\20230082_darpa_criticalmaas_ta3\\bearbeitung\\github\\beak-ta3\\src\\beak\\data\\MCCAFFERTY23\\PROCESSED\\EPSG_32615_RES_50_0\\GEOPHYSICS\\MagRTP_HGM.tif\n",
      "s:\\projekte\\20230082_darpa_criticalmaas_ta3\\bearbeitung\\github\\beak-ta3\\src\\beak\\data\\MCCAFFERTY23\\PROCESSED\\EPSG_32615_RES_50_0\\GEOPHYSICS\\MagRTP_HGMDeepSources.tif\n",
      "s:\\projekte\\20230082_darpa_criticalmaas_ta3\\bearbeitung\\github\\beak-ta3\\src\\beak\\data\\MCCAFFERTY23\\PROCESSED\\EPSG_32615_RES_50_0\\GEOPHYSICS\\MagRTP_VD.tif\n",
      "s:\\projekte\\20230082_darpa_criticalmaas_ta3\\bearbeitung\\github\\beak-ta3\\src\\beak\\data\\MCCAFFERTY23\\PROCESSED\\EPSG_32615_RES_50_0\\GEOPHYSICS\\Mag_AnalyticSignal_cog.tif\n",
      "s:\\projekte\\20230082_darpa_criticalmaas_ta3\\bearbeitung\\github\\beak-ta3\\src\\beak\\data\\MCCAFFERTY23\\PROCESSED\\EPSG_32615_RES_50_0\\GEOPHYSICS\\Moho.tif\n",
      "s:\\projekte\\20230082_darpa_criticalmaas_ta3\\bearbeitung\\github\\beak-ta3\\src\\beak\\data\\MCCAFFERTY23\\PROCESSED\\EPSG_32615_RES_50_0\\GEOPHYSICS\\SatelliteGravity_ShapeIndex.tif\n"
     ]
    }
   ],
   "source": [
    "# Get file list\n",
    "from beak.utilities.io import create_file_list\n",
    "\n",
    "# Get file list from selected folder\n",
    "file_list = create_file_list(input_folders[0])\n",
    "\n",
    "print(\"File list:\")\n",
    "for file in file_list:\n",
    "  print(file)"
   ]
  },
  {
   "cell_type": "code",
   "execution_count": 12,
   "metadata": {},
   "outputs": [
    {
     "name": "stdout",
     "output_type": "stream",
     "text": [
      "Files to convert to log:\n",
      "s:\\projekte\\20230082_darpa_criticalmaas_ta3\\bearbeitung\\github\\beak-ta3\\src\\beak\\data\\MCCAFFERTY23\\PROCESSED\\EPSG_32615_RES_50_0\\GEOPHYSICS\\Mag_AnalyticSignal_cog.tif\n"
     ]
    }
   ],
   "source": [
    "# Choose files\n",
    "convert_to_log = []\n",
    "\n",
    "for file in file_list:\n",
    "  if file.stem == \"Mag_AnalyticSignal_cog\":\n",
    "    convert_to_log.append(file)\n",
    "\n",
    "print(\"Files to convert to log:\")\n",
    "for file in convert_to_log:\n",
    "  print(file)\n"
   ]
  },
  {
   "cell_type": "code",
   "execution_count": 26,
   "metadata": {},
   "outputs": [
    {
     "name": "stdout",
     "output_type": "stream",
     "text": [
      "\n",
      "Converting s:\\projekte\\20230082_darpa_criticalmaas_ta3\\bearbeitung\\github\\beak-ta3\\src\\beak\\data\\MCCAFFERTY23\\PROCESSED\\EPSG_32615_RES_50_0\\GEOPHYSICS\\Mag_AnalyticSignal_cog.tif to log...\n"
     ]
    }
   ],
   "source": [
    "import rasterio\n",
    "import numpy as np\n",
    "\n",
    "from beak.utilities.io import check_path, save_raster\n",
    "\n",
    "# Convert to log\n",
    "for file in convert_to_log:\n",
    "  print(f\"\\nConverting {file} to log...\")\n",
    "  file = Path(file)\n",
    "  OUT_FOLDER = str(file.parent) + \"_SCALED_LOG\"\n",
    "  OUT_FOLDER = check_path(OUT_FOLDER)\n",
    "  \n",
    "  OUT_PATH = Path(OUT_FOLDER) / file.name\n",
    "  \n",
    "  raster = rasterio.open(file)\n",
    "  raster_meta = raster.meta.copy()\n",
    "  \n",
    "  data = raster.read(1)\n",
    "  data = np.where(data == raster.nodata, np.nan, data)\n",
    "  data = np.log(data)\n",
    "  data = np.where(np.isnan(data), raster.nodata, data)\n",
    "  \n",
    "  save_raster(OUT_PATH, data, metadata=raster_meta)\n",
    "  "
   ]
  }
 ],
 "metadata": {
  "kernelspec": {
   "display_name": "Python 3 (ipykernel)",
   "language": "python",
   "name": "python3"
  },
  "language_info": {
   "codemirror_mode": {
    "name": "ipython",
    "version": 3
   },
   "file_extension": ".py",
   "mimetype": "text/x-python",
   "name": "python",
   "nbconvert_exporter": "python",
   "pygments_lexer": "ipython3",
   "version": "3.9.15"
  }
 },
 "nbformat": 4,
 "nbformat_minor": 4
}
