{
 "cells": [
  {
   "cell_type": "markdown",
   "metadata": {},
   "source": [
    "# Unify rasters to a base raster"
   ]
  },
  {
   "cell_type": "code",
   "execution_count": 1,
   "metadata": {},
   "outputs": [],
   "source": [
    "import rasterio\n",
    "import os\n",
    "from importlib.resources import files\n",
    "from rasterio.enums import Resampling\n",
    "from pathlib import Path\n",
    "from tqdm import tqdm\n",
    "\n",
    "from beak.utilities.io import save_raster, create_file_folder_list, create_file_list, check_path\n",
    "from beak.utilities.raster_processing import unify_raster_grids"
   ]
  },
  {
   "cell_type": "code",
   "execution_count": 2,
   "metadata": {},
   "outputs": [
    {
     "name": "stdout",
     "output_type": "stream",
     "text": [
      "Input folder: s:\\projekte\\20230082_darpa_criticalmaas_ta3\\bearbeitung\\github\\beak-ta3\\src\\beak\\data\\MCCAFFERTY23\\RAW\n",
      "Output folder: s:\\projekte\\20230082_darpa_criticalmaas_ta3\\bearbeitung\\github\\beak-ta3\\src\\beak\\data\\MCCAFFERTY23\\PROCESSED\\EPSG_32615_RES_50_0\\GEOPHYSICS\n",
      "Base raster: s:\\projekte\\20230082_darpa_criticalmaas_ta3\\bearbeitung\\github\\beak-ta3\\src\\beak\\data\\BASE_RASTERS\\EPSG_32615_RES_50_0.tif\n"
     ]
    }
   ],
   "source": [
    "BASE_PATH = files(\"beak.data\")\n",
    "BASE_NAME = \"MCCAFFERTY23\"\n",
    "BASE_SPATIAL = \"EPSG_32615_RES_50_0\"\n",
    "\n",
    "input_folder = BASE_PATH / BASE_NAME / \"RAW\"\n",
    "output_folder = BASE_PATH / BASE_NAME / \"PROCESSED\" / BASE_SPATIAL / \"GEOPHYSICS\"\n",
    "base_raster = BASE_PATH / \"BASE_RASTERS\" / str(BASE_SPATIAL + \".tif\")\n",
    "\n",
    "print(f\"Input folder: {input_folder}\")\n",
    "print(f\"Output folder: {output_folder}\")\n",
    "print(f\"Base raster: {base_raster}\")\n"
   ]
  },
  {
   "cell_type": "code",
   "execution_count": 4,
   "metadata": {},
   "outputs": [
    {
     "name": "stdout",
     "output_type": "stream",
     "text": [
      "Found 16 files in 10 folders:\n",
      "s:\\projekte\\20230082_darpa_criticalmaas_ta3\\bearbeitung\\github\\beak-ta3\\src\\beak\\data\\MCCAFFERTY23\\RAW\\Geophysics\\Gravity.tif\n",
      "s:\\projekte\\20230082_darpa_criticalmaas_ta3\\bearbeitung\\github\\beak-ta3\\src\\beak\\data\\MCCAFFERTY23\\RAW\\Geophysics\\Gravity_HGM.tif\n",
      "s:\\projekte\\20230082_darpa_criticalmaas_ta3\\bearbeitung\\github\\beak-ta3\\src\\beak\\data\\MCCAFFERTY23\\RAW\\Geophysics\\Gravity_Up30km.tif\n",
      "s:\\projekte\\20230082_darpa_criticalmaas_ta3\\bearbeitung\\github\\beak-ta3\\src\\beak\\data\\MCCAFFERTY23\\RAW\\Geophysics\\Gravity_Up30km_HGM.tif\n",
      "s:\\projekte\\20230082_darpa_criticalmaas_ta3\\bearbeitung\\github\\beak-ta3\\src\\beak\\data\\MCCAFFERTY23\\RAW\\Geophysics\\LAB.tif\n",
      "s:\\projekte\\20230082_darpa_criticalmaas_ta3\\bearbeitung\\github\\beak-ta3\\src\\beak\\data\\MCCAFFERTY23\\RAW\\Geophysics\\LAB_HGM_cog.tif\n",
      "s:\\projekte\\20230082_darpa_criticalmaas_ta3\\bearbeitung\\github\\beak-ta3\\src\\beak\\data\\MCCAFFERTY23\\RAW\\Geophysics\\LAB_Worms_Proximity.tif\n",
      "s:\\projekte\\20230082_darpa_criticalmaas_ta3\\bearbeitung\\github\\beak-ta3\\src\\beak\\data\\MCCAFFERTY23\\RAW\\Geophysics\\Mag.tif\n",
      "s:\\projekte\\20230082_darpa_criticalmaas_ta3\\bearbeitung\\github\\beak-ta3\\src\\beak\\data\\MCCAFFERTY23\\RAW\\Geophysics\\MagRTP.tif\n",
      "s:\\projekte\\20230082_darpa_criticalmaas_ta3\\bearbeitung\\github\\beak-ta3\\src\\beak\\data\\MCCAFFERTY23\\RAW\\Geophysics\\MagRTP_DeepSources.tif\n",
      "s:\\projekte\\20230082_darpa_criticalmaas_ta3\\bearbeitung\\github\\beak-ta3\\src\\beak\\data\\MCCAFFERTY23\\RAW\\Geophysics\\MagRTP_HGM.tif\n",
      "s:\\projekte\\20230082_darpa_criticalmaas_ta3\\bearbeitung\\github\\beak-ta3\\src\\beak\\data\\MCCAFFERTY23\\RAW\\Geophysics\\MagRTP_HGMDeepSources.tif\n",
      "s:\\projekte\\20230082_darpa_criticalmaas_ta3\\bearbeitung\\github\\beak-ta3\\src\\beak\\data\\MCCAFFERTY23\\RAW\\Geophysics\\MagRTP_VD.tif\n",
      "s:\\projekte\\20230082_darpa_criticalmaas_ta3\\bearbeitung\\github\\beak-ta3\\src\\beak\\data\\MCCAFFERTY23\\RAW\\Geophysics\\Mag_AnalyticSignal_cog.tif\n",
      "s:\\projekte\\20230082_darpa_criticalmaas_ta3\\bearbeitung\\github\\beak-ta3\\src\\beak\\data\\MCCAFFERTY23\\RAW\\Geophysics\\Moho.tif\n",
      "s:\\projekte\\20230082_darpa_criticalmaas_ta3\\bearbeitung\\github\\beak-ta3\\src\\beak\\data\\MCCAFFERTY23\\RAW\\Geophysics\\SatelliteGravity_ShapeIndex.tif\n"
     ]
    }
   ],
   "source": [
    "# Create file and folder list\n",
    "folders, _ = create_file_folder_list(input_folder)\n",
    "folders.insert(0, input_folder)\n",
    "\n",
    "file_list = []\n",
    "for folder in folders:\n",
    "  folder_files = create_file_list(folder, recursive=False)\n",
    "  file_list.extend(folder_files)\n",
    "  \n",
    "print(f\"Found {len(file_list)} files in {len(folders)} folders:\")\n",
    "\n",
    "for file in file_list:\n",
    "  print(file)"
   ]
  },
  {
   "cell_type": "code",
   "execution_count": 5,
   "metadata": {},
   "outputs": [
    {
     "name": "stderr",
     "output_type": "stream",
     "text": [
      "100%|██████████| 16/16 [02:48<00:00, 10.55s/it]\n"
     ]
    }
   ],
   "source": [
    "dry_run = False\n",
    "if dry_run:\n",
    "  print(\"Dry run, no files will be written.\\n\")\n",
    "  \n",
    "for file in tqdm(file_list, total=len(file_list)):\n",
    "  out_path = output_folder / file.name\n",
    "  check_path(Path(os.path.dirname(out_path)))\n",
    "  \n",
    "  raster = rasterio.open(file)\n",
    "  unified_raster, meta = unify_raster_grids(base_raster, [file], resampling_method=Resampling.bilinear, same_extent=True, same_shape=True)[0]\n",
    "\n",
    "  if not dry_run:\n",
    "    save_raster(out_path, array=unified_raster, dtype=\"float32\", metadata=meta)\n"
   ]
  }
 ],
 "metadata": {
  "kernelspec": {
   "display_name": "beak-ta3",
   "language": "python",
   "name": "python3"
  },
  "language_info": {
   "codemirror_mode": {
    "name": "ipython",
    "version": 3
   },
   "file_extension": ".py",
   "mimetype": "text/x-python",
   "name": "python",
   "nbconvert_exporter": "python",
   "pygments_lexer": "ipython3",
   "version": "3.9.15"
  }
 },
 "nbformat": 4,
 "nbformat_minor": 2
}
