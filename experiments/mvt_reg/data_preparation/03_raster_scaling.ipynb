{
 "cells": [
  {
   "cell_type": "markdown",
   "metadata": {},
   "source": [
    "# Information\n",
    "## How to\n",
    "1. Set the parameters. **UPPERCASE** letters are user input variables\n",
    "2. Run the reprojection cell\n"
   ]
  },
  {
   "cell_type": "markdown",
   "metadata": {},
   "source": [
    "# Requirements"
   ]
  },
  {
   "cell_type": "code",
   "execution_count": 1,
   "metadata": {},
   "outputs": [],
   "source": [
    "# Standard libraries\n",
    "import sys\n",
    "import os\n",
    "import rasterio\n",
    "import numpy as np\n",
    "\n",
    "from pathlib import Path\n",
    "from importlib_resources import files\n",
    "\n",
    "# Insert the path to the root directory of the project\n",
    "sys.path.insert(0, str(Path(os.getcwd()).parent.parent))\n",
    "\n",
    "# Custom modules\n",
    "from beak.utilities import transformation\n"
   ]
  },
  {
   "cell_type": "markdown",
   "metadata": {},
   "source": [
    "**User inputs**"
   ]
  },
  {
   "cell_type": "code",
   "execution_count": 2,
   "metadata": {},
   "outputs": [],
   "source": [
    "BASE_PATH = files(\"beak.data\")\n",
    "ROOT_FOLDER = BASE_PATH / \"GEOPHYSICS_AEROMAGNETICS\" / \"RAW\"\n",
    "\n",
    "METHODS = [\"standard\"]\n",
    "\n",
    "for folder in os.listdir(ROOT_FOLDER):\n",
    "  if os.path.isdir(os.path.join(ROOT_FOLDER, folder)):\n",
    "    print(folder)\n",
    "\n",
    "input_folders = os.listdir(ROOT_FOLDER)\n",
    "input_folders = [ROOT_FOLDER / folder for folder in input_folders]\n"
   ]
  },
  {
   "cell_type": "markdown",
   "metadata": {},
   "source": [
    "# Scaling isostatic gravity data"
   ]
  },
  {
   "cell_type": "code",
   "execution_count": 3,
   "metadata": {},
   "outputs": [],
   "source": [
    "METHODS = [\"standard\"]\n",
    "\n",
    "for folder in os.listdir(ROOT_FOLDER):\n",
    "  if os.path.isdir(os.path.join(ROOT_FOLDER, folder)):\n",
    "    print(folder)\n"
   ]
  },
  {
   "cell_type": "code",
   "execution_count": 4,
   "metadata": {},
   "outputs": [
    {
     "name": "stdout",
     "output_type": "stream",
     "text": [
      "[WindowsPath('s:/projekte/20230082_darpa_criticalmaas_ta3/bearbeitung/github/beak-ta3/src/beak/data/GEOPHYSICS_AEROMAGNETICS/RAW')]\n"
     ]
    }
   ],
   "source": [
    "input_folders = [ROOT_FOLDER]\n",
    "print(input_folders)"
   ]
  },
  {
   "cell_type": "code",
   "execution_count": 5,
   "metadata": {},
   "outputs": [
    {
     "name": "stdout",
     "output_type": "stream",
     "text": [
      "\n",
      "Processing standard scaling...\n",
      "Saving outputs to s:\\projekte\\20230082_darpa_criticalmaas_ta3\\bearbeitung\\github\\beak-ta3\\src\\beak\\data\\AEROMAGNETICS-PROCESSED\\EPSG_32615_RES_50\\SCALED_STD\n",
      "Selected folder: S:\\Projekte\\20230082_DARPA_CriticalMAAS_TA3\\Bearbeitung\\GitHub\\beak-ta3\\src\\beak\\data\\AEROMAGNETICS-RAW\n",
      "Total of folders found: 1\n",
      "Files loaded: 2\n"
     ]
    },
    {
     "name": "stderr",
     "output_type": "stream",
     "text": [
      "Processing files: 100%|██████████| 2/2 [00:07<00:00,  3.70s/it]\n"
     ]
    }
   ],
   "source": [
    "methods = METHODS\n",
    "\n",
    "for folder in input_folders:\n",
    "  for method in methods:\n",
    "    if method == \"standard\":\n",
    "      method_name = \"STD\"\n",
    "    elif method == \"minmax\":\n",
    "      method_name = \"MINMAX\"\n",
    "    \n",
    "    print(f\"\\nProcessing {method} scaling...\")\n",
    "    output_folder = BASE_PATH / \"GEOPHYSICS_AEROMAGNETICS\" / \"PROCESSED\" / \"EPSG_32615_RES_50\" / str(\"SCALED_\" + method_name).upper()\n",
    "\n",
    "    print(f\"Saving outputs to {output_folder}\")\n",
    "    transformation.scale_raster(folder, output_folder, method)\n"
   ]
  }
 ],
 "metadata": {
  "kernelspec": {
   "display_name": "Python 3 (ipykernel)",
   "language": "python",
   "name": "python3"
  },
  "language_info": {
   "codemirror_mode": {
    "name": "ipython",
    "version": 3
   },
   "file_extension": ".py",
   "mimetype": "text/x-python",
   "name": "python",
   "nbconvert_exporter": "python",
   "pygments_lexer": "ipython3",
   "version": "3.9.15"
  }
 },
 "nbformat": 4,
 "nbformat_minor": 4
}
