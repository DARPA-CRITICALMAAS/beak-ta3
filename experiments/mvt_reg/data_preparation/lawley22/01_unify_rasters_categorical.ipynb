{
 "cells": [
  {
   "cell_type": "markdown",
   "metadata": {},
   "source": [
    "# Unify rasters to a base raster"
   ]
  },
  {
   "cell_type": "code",
   "execution_count": 1,
   "metadata": {},
   "outputs": [],
   "source": [
    "import os\n",
    "from importlib.resources import files\n",
    "from rasterio.enums import Resampling\n",
    "from pathlib import Path\n",
    "from tqdm import tqdm\n",
    "\n",
    "from beak.utilities.io import save_raster, create_file_folder_list, create_file_list, check_path\n",
    "from beak.utilities.raster_processing import unify_raster_grids"
   ]
  },
  {
   "cell_type": "code",
   "execution_count": 2,
   "metadata": {},
   "outputs": [
    {
     "name": "stdout",
     "output_type": "stream",
     "text": [
      "Input folder: s:\\projekte\\20230082_darpa_criticalmaas_ta3\\bearbeitung\\github\\beak-ta3\\src\\beak\\data\\LAWLEY22-EXPORT\\EPSG_4326_RES_0_015\\CLIPPED_USC\\CATEGORICAL\n",
      "Output folder: s:\\projekte\\20230082_darpa_criticalmaas_ta3\\bearbeitung\\github\\beak-ta3\\src\\beak\\data\\LAWLEY22-EXPORT\\EPSG_32615_RES_50_0\\CATEGORICAL\n",
      "Base raster: s:\\projekte\\20230082_darpa_criticalmaas_ta3\\bearbeitung\\github\\beak-ta3\\src\\beak\\data\\BASE_RASTERS\\EPSG_32615_RES_50_0.tif\n"
     ]
    }
   ],
   "source": [
    "BASE_PATH = files(\"beak.data\")\n",
    "BASE_NAME = \"LAWLEY22\"\n",
    "BASE_SPATIAL = \"EPSG_32615_RES_50_0\"\n",
    "\n",
    "input_folder = BASE_PATH / BASE_NAME / \"EXPORT\" / \"EPSG_4326_RES_0_015\" / \"CLIPPED_USC\" / \"CATEGORICAL\"\n",
    "output_folder = BASE_PATH / BASE_NAME / \"EXPORT\" / BASE_SPATIAL / \"CATEGORICAL\"\n",
    "base_raster = BASE_PATH / \"BASE_RASTERS\" / str(BASE_SPATIAL + \".tif\")\n",
    "\n",
    "print(f\"Input folder: {input_folder}\")\n",
    "print(f\"Output folder: {output_folder}\")\n",
    "print(f\"Base raster: {base_raster}\")\n"
   ]
  },
  {
   "cell_type": "markdown",
   "metadata": {},
   "source": [
    "**Check** files and folders, since there are a lot of categorical binarized rasters"
   ]
  },
  {
   "cell_type": "code",
   "execution_count": 3,
   "metadata": {},
   "outputs": [
    {
     "name": "stdout",
     "output_type": "stream",
     "text": [
      "Found 768 files in 43 folders:\n"
     ]
    }
   ],
   "source": [
    "# Check file and folder list\n",
    "folders, _ = create_file_folder_list(input_folder)\n",
    "\n",
    "file_list = []\n",
    "for folder in folders:\n",
    "  folder_files = create_file_list(folder, recursive=False)\n",
    "  file_list.extend(folder_files)\n",
    "  \n",
    "print(f\"Found {len(file_list)} files in {len(folders)} folders:\")"
   ]
  },
  {
   "cell_type": "markdown",
   "metadata": {},
   "source": [
    "**Run**"
   ]
  },
  {
   "cell_type": "code",
   "execution_count": 5,
   "metadata": {},
   "outputs": [
    {
     "name": "stderr",
     "output_type": "stream",
     "text": [
      "Processing folders...:   0%|          | 0/43 [00:00<?, ?it/s]"
     ]
    },
    {
     "name": "stderr",
     "output_type": "stream",
     "text": [
      "Processing folders...: 100%|██████████| 43/43 [05:10<00:00,  7.21s/it]\n"
     ]
    }
   ],
   "source": [
    "import multiprocessing as mp\n",
    "from gc import collect\n",
    "\n",
    "# Create folder list\n",
    "folders, _ = create_file_folder_list(input_folder)\n",
    "DRY_RUN = False\n",
    "THREADS = mp.cpu_count()\n",
    "\n",
    "for folder in tqdm(folders, total=len(folders), desc=\"Processing folders...\"):\n",
    "  # Create file list\n",
    "  file_list = create_file_list(folder, recursive=False)\n",
    "  \n",
    "  if not os.path.exists(output_folder / folder.name):\n",
    "    n_files = len(file_list)\n",
    "    batch_size = THREADS\n",
    "    \n",
    "    for i in range(0, n_files, batch_size):\n",
    "        batch_files = file_list[i:i+batch_size]\n",
    "        batch_results = unify_raster_grids(base_raster, batch_files, resampling_method=Resampling.nearest, same_extent=True, same_shape=True, n_workers=THREADS)\n",
    "        \n",
    "        for i, file in enumerate(batch_files):\n",
    "          unified_raster = batch_results[i][0]\n",
    "          meta = batch_results[i][1]\n",
    "          \n",
    "          out_path = output_folder / folder.name / file.name\n",
    "          check_path(Path(os.path.dirname(out_path)))\n",
    "          \n",
    "          if not DRY_RUN:\n",
    "              save_raster(out_path, array=unified_raster, dtype=\"int8\", metadata=meta)\n",
    "          \n",
    "          del unified_raster, meta\n",
    "      \n",
    "        del batch_results\n",
    "        collect()\n"
   ]
  }
 ],
 "metadata": {
  "kernelspec": {
   "display_name": "beak-ta3",
   "language": "python",
   "name": "python3"
  },
  "language_info": {
   "codemirror_mode": {
    "name": "ipython",
    "version": 3
   },
   "file_extension": ".py",
   "mimetype": "text/x-python",
   "name": "python",
   "nbconvert_exporter": "python",
   "pygments_lexer": "ipython3",
   "version": "3.9.15"
  }
 },
 "nbformat": 4,
 "nbformat_minor": 2
}
