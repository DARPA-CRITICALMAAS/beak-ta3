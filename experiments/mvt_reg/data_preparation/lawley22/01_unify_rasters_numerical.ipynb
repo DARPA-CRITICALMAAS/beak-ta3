{
 "cells": [
  {
   "cell_type": "markdown",
   "metadata": {},
   "source": [
    "# Unify rasters to a base raster"
   ]
  },
  {
   "cell_type": "code",
   "execution_count": 11,
   "metadata": {},
   "outputs": [],
   "source": [
    "import rasterio\n",
    "import os\n",
    "from importlib.resources import files\n",
    "from rasterio.enums import Resampling\n",
    "from pathlib import Path\n",
    "from tqdm import tqdm\n",
    "\n",
    "from beak.utilities.io import save_raster, create_file_folder_list, create_file_list, check_path\n",
    "from beak.utilities.raster_processing import unify_raster_grids"
   ]
  },
  {
   "cell_type": "code",
   "execution_count": 12,
   "metadata": {},
   "outputs": [
    {
     "name": "stdout",
     "output_type": "stream",
     "text": [
      "Input folder: s:\\projekte\\20230082_darpa_criticalmaas_ta3\\bearbeitung\\github\\beak-ta3\\src\\beak\\data\\LAWLEY22-EXPORT\\EPSG_4326_RES_0_015\\CLIPPED_USC\\NUMERICAL_IMPUTED_SCALED_STANDARD\n",
      "Output folder: s:\\projekte\\20230082_darpa_criticalmaas_ta3\\bearbeitung\\github\\beak-ta3\\src\\beak\\data\\LAWLEY22-EXPORT\\EPSG_32615_RES_50_0\\NUMERICAL_IMPUTED_SCALED_STANDARD\n",
      "Base raster: s:\\projekte\\20230082_darpa_criticalmaas_ta3\\bearbeitung\\github\\beak-ta3\\src\\beak\\data\\BASE_RASTERS\\EPSG_32615_RES_50_0.tif\n"
     ]
    }
   ],
   "source": [
    "BASE_PATH = files(\"beak.data\")\n",
    "BASE_NAME = \"LAWLEY22\"\n",
    "BASE_SPATIAL = \"EPSG_32615_RES_50_0\"\n",
    "\n",
    "input_folder = BASE_PATH / BASE_NAME / \"EXPORT\" / \"EPSG_4326_RES_0_015\" / \"CLIPPED_USC\" / \"NUMERICAL_IMPUTED_SCALED_STANDARD\"\n",
    "output_folder = BASE_PATH / BASE_NAME / \"EXPORT\" / BASE_SPATIAL / \"NUMERICAL_IMPUTED_SCALED_STANDARD\"\n",
    "base_raster = BASE_PATH / \"BASE_RASTERS\" / str(BASE_SPATIAL + \".tif\")\n",
    "\n",
    "print(f\"Input folder: {input_folder}\")\n",
    "print(f\"Output folder: {output_folder}\")\n",
    "print(f\"Base raster: {base_raster}\")\n"
   ]
  },
  {
   "cell_type": "code",
   "execution_count": 13,
   "metadata": {},
   "outputs": [
    {
     "name": "stdout",
     "output_type": "stream",
     "text": [
      "Found 45 files in 1 folders:\n",
      "s:\\projekte\\20230082_darpa_criticalmaas_ta3\\bearbeitung\\github\\beak-ta3\\src\\beak\\data\\LAWLEY22-EXPORT\\EPSG_4326_RES_0_015\\CLIPPED_USC\\NUMERICAL_IMPUTED_SCALED_STANDARD\\Crust1_CrustalThickness.tif\n",
      "s:\\projekte\\20230082_darpa_criticalmaas_ta3\\bearbeitung\\github\\beak-ta3\\src\\beak\\data\\LAWLEY22-EXPORT\\EPSG_4326_RES_0_015\\CLIPPED_USC\\NUMERICAL_IMPUTED_SCALED_STANDARD\\Crust1_SedimentThickness.tif\n",
      "s:\\projekte\\20230082_darpa_criticalmaas_ta3\\bearbeitung\\github\\beak-ta3\\src\\beak\\data\\LAWLEY22-EXPORT\\EPSG_4326_RES_0_015\\CLIPPED_USC\\NUMERICAL_IMPUTED_SCALED_STANDARD\\Geology_BlackShale_Proximity.tif\n",
      "s:\\projekte\\20230082_darpa_criticalmaas_ta3\\bearbeitung\\github\\beak-ta3\\src\\beak\\data\\LAWLEY22-EXPORT\\EPSG_4326_RES_0_015\\CLIPPED_USC\\NUMERICAL_IMPUTED_SCALED_STANDARD\\Geology_CoverThickness.tif\n",
      "s:\\projekte\\20230082_darpa_criticalmaas_ta3\\bearbeitung\\github\\beak-ta3\\src\\beak\\data\\LAWLEY22-EXPORT\\EPSG_4326_RES_0_015\\CLIPPED_USC\\NUMERICAL_IMPUTED_SCALED_STANDARD\\Geology_Fault_Proximity.tif\n",
      "s:\\projekte\\20230082_darpa_criticalmaas_ta3\\bearbeitung\\github\\beak-ta3\\src\\beak\\data\\LAWLEY22-EXPORT\\EPSG_4326_RES_0_015\\CLIPPED_USC\\NUMERICAL_IMPUTED_SCALED_STANDARD\\Geology_Paleolatitude_Period_Maximum.tif\n",
      "s:\\projekte\\20230082_darpa_criticalmaas_ta3\\bearbeitung\\github\\beak-ta3\\src\\beak\\data\\LAWLEY22-EXPORT\\EPSG_4326_RES_0_015\\CLIPPED_USC\\NUMERICAL_IMPUTED_SCALED_STANDARD\\Geology_Paleolatitude_Period_Minimum.tif\n",
      "s:\\projekte\\20230082_darpa_criticalmaas_ta3\\bearbeitung\\github\\beak-ta3\\src\\beak\\data\\LAWLEY22-EXPORT\\EPSG_4326_RES_0_015\\CLIPPED_USC\\NUMERICAL_IMPUTED_SCALED_STANDARD\\Geology_Paleolongitude_Period_Maximum.tif\n",
      "s:\\projekte\\20230082_darpa_criticalmaas_ta3\\bearbeitung\\github\\beak-ta3\\src\\beak\\data\\LAWLEY22-EXPORT\\EPSG_4326_RES_0_015\\CLIPPED_USC\\NUMERICAL_IMPUTED_SCALED_STANDARD\\Geology_Paleolongitude_Period_Minimum.tif\n",
      "s:\\projekte\\20230082_darpa_criticalmaas_ta3\\bearbeitung\\github\\beak-ta3\\src\\beak\\data\\LAWLEY22-EXPORT\\EPSG_4326_RES_0_015\\CLIPPED_USC\\NUMERICAL_IMPUTED_SCALED_STANDARD\\Geology_PassiveMargin_Proximity.tif\n",
      "s:\\projekte\\20230082_darpa_criticalmaas_ta3\\bearbeitung\\github\\beak-ta3\\src\\beak\\data\\LAWLEY22-EXPORT\\EPSG_4326_RES_0_015\\CLIPPED_USC\\NUMERICAL_IMPUTED_SCALED_STANDARD\\Gravity_Bouguer.tif\n",
      "s:\\projekte\\20230082_darpa_criticalmaas_ta3\\bearbeitung\\github\\beak-ta3\\src\\beak\\data\\LAWLEY22-EXPORT\\EPSG_4326_RES_0_015\\CLIPPED_USC\\NUMERICAL_IMPUTED_SCALED_STANDARD\\Gravity_Bouguer_BGI.tif\n",
      "s:\\projekte\\20230082_darpa_criticalmaas_ta3\\bearbeitung\\github\\beak-ta3\\src\\beak\\data\\LAWLEY22-EXPORT\\EPSG_4326_RES_0_015\\CLIPPED_USC\\NUMERICAL_IMPUTED_SCALED_STANDARD\\Gravity_Bouguer_HGM.tif\n",
      "s:\\projekte\\20230082_darpa_criticalmaas_ta3\\bearbeitung\\github\\beak-ta3\\src\\beak\\data\\LAWLEY22-EXPORT\\EPSG_4326_RES_0_015\\CLIPPED_USC\\NUMERICAL_IMPUTED_SCALED_STANDARD\\Gravity_Bouguer_HGM_Worms_Proximity.tif\n",
      "s:\\projekte\\20230082_darpa_criticalmaas_ta3\\bearbeitung\\github\\beak-ta3\\src\\beak\\data\\LAWLEY22-EXPORT\\EPSG_4326_RES_0_015\\CLIPPED_USC\\NUMERICAL_IMPUTED_SCALED_STANDARD\\Gravity_Bouguer_UpCont30km.tif\n",
      "s:\\projekte\\20230082_darpa_criticalmaas_ta3\\bearbeitung\\github\\beak-ta3\\src\\beak\\data\\LAWLEY22-EXPORT\\EPSG_4326_RES_0_015\\CLIPPED_USC\\NUMERICAL_IMPUTED_SCALED_STANDARD\\Gravity_Bouguer_UpCont30km_HGM.tif\n",
      "s:\\projekte\\20230082_darpa_criticalmaas_ta3\\bearbeitung\\github\\beak-ta3\\src\\beak\\data\\LAWLEY22-EXPORT\\EPSG_4326_RES_0_015\\CLIPPED_USC\\NUMERICAL_IMPUTED_SCALED_STANDARD\\Gravity_Bouguer_UpCont30km_HGM_Worms_Proximity.tif\n",
      "s:\\projekte\\20230082_darpa_criticalmaas_ta3\\bearbeitung\\github\\beak-ta3\\src\\beak\\data\\LAWLEY22-EXPORT\\EPSG_4326_RES_0_015\\CLIPPED_USC\\NUMERICAL_IMPUTED_SCALED_STANDARD\\Gravity_GOCE_Differential.tif\n",
      "s:\\projekte\\20230082_darpa_criticalmaas_ta3\\bearbeitung\\github\\beak-ta3\\src\\beak\\data\\LAWLEY22-EXPORT\\EPSG_4326_RES_0_015\\CLIPPED_USC\\NUMERICAL_IMPUTED_SCALED_STANDARD\\Gravity_GOCE_MaximumCurve.tif\n",
      "s:\\projekte\\20230082_darpa_criticalmaas_ta3\\bearbeitung\\github\\beak-ta3\\src\\beak\\data\\LAWLEY22-EXPORT\\EPSG_4326_RES_0_015\\CLIPPED_USC\\NUMERICAL_IMPUTED_SCALED_STANDARD\\Gravity_GOCE_MeanCurve.tif\n",
      "s:\\projekte\\20230082_darpa_criticalmaas_ta3\\bearbeitung\\github\\beak-ta3\\src\\beak\\data\\LAWLEY22-EXPORT\\EPSG_4326_RES_0_015\\CLIPPED_USC\\NUMERICAL_IMPUTED_SCALED_STANDARD\\Gravity_GOCE_MinimumCurve.tif\n",
      "s:\\projekte\\20230082_darpa_criticalmaas_ta3\\bearbeitung\\github\\beak-ta3\\src\\beak\\data\\LAWLEY22-EXPORT\\EPSG_4326_RES_0_015\\CLIPPED_USC\\NUMERICAL_IMPUTED_SCALED_STANDARD\\Gravity_GOCE_ShapeIndex.tif\n",
      "s:\\projekte\\20230082_darpa_criticalmaas_ta3\\bearbeitung\\github\\beak-ta3\\src\\beak\\data\\LAWLEY22-EXPORT\\EPSG_4326_RES_0_015\\CLIPPED_USC\\NUMERICAL_IMPUTED_SCALED_STANDARD\\HeatFlow.tif\n",
      "s:\\projekte\\20230082_darpa_criticalmaas_ta3\\bearbeitung\\github\\beak-ta3\\src\\beak\\data\\LAWLEY22-EXPORT\\EPSG_4326_RES_0_015\\CLIPPED_USC\\NUMERICAL_IMPUTED_SCALED_STANDARD\\Litmod_Density_Asthenosphere.tif\n",
      "s:\\projekte\\20230082_darpa_criticalmaas_ta3\\bearbeitung\\github\\beak-ta3\\src\\beak\\data\\LAWLEY22-EXPORT\\EPSG_4326_RES_0_015\\CLIPPED_USC\\NUMERICAL_IMPUTED_SCALED_STANDARD\\Litmod_Density_Crust.tif\n",
      "s:\\projekte\\20230082_darpa_criticalmaas_ta3\\bearbeitung\\github\\beak-ta3\\src\\beak\\data\\LAWLEY22-EXPORT\\EPSG_4326_RES_0_015\\CLIPPED_USC\\NUMERICAL_IMPUTED_SCALED_STANDARD\\Litmod_Density_Lithosphere.tif\n",
      "s:\\projekte\\20230082_darpa_criticalmaas_ta3\\bearbeitung\\github\\beak-ta3\\src\\beak\\data\\LAWLEY22-EXPORT\\EPSG_4326_RES_0_015\\CLIPPED_USC\\NUMERICAL_IMPUTED_SCALED_STANDARD\\Magnetic_1VD.tif\n",
      "s:\\projekte\\20230082_darpa_criticalmaas_ta3\\bearbeitung\\github\\beak-ta3\\src\\beak\\data\\LAWLEY22-EXPORT\\EPSG_4326_RES_0_015\\CLIPPED_USC\\NUMERICAL_IMPUTED_SCALED_STANDARD\\Magnetic_EMAG2v3.tif\n",
      "s:\\projekte\\20230082_darpa_criticalmaas_ta3\\bearbeitung\\github\\beak-ta3\\src\\beak\\data\\LAWLEY22-EXPORT\\EPSG_4326_RES_0_015\\CLIPPED_USC\\NUMERICAL_IMPUTED_SCALED_STANDARD\\Magnetic_EMAG2v3_CuriePoint.tif\n",
      "s:\\projekte\\20230082_darpa_criticalmaas_ta3\\bearbeitung\\github\\beak-ta3\\src\\beak\\data\\LAWLEY22-EXPORT\\EPSG_4326_RES_0_015\\CLIPPED_USC\\NUMERICAL_IMPUTED_SCALED_STANDARD\\Magnetic_HGM.tif\n",
      "s:\\projekte\\20230082_darpa_criticalmaas_ta3\\bearbeitung\\github\\beak-ta3\\src\\beak\\data\\LAWLEY22-EXPORT\\EPSG_4326_RES_0_015\\CLIPPED_USC\\NUMERICAL_IMPUTED_SCALED_STANDARD\\Magnetic_HGM_Worms_Proximity.tif\n",
      "s:\\projekte\\20230082_darpa_criticalmaas_ta3\\bearbeitung\\github\\beak-ta3\\src\\beak\\data\\LAWLEY22-EXPORT\\EPSG_4326_RES_0_015\\CLIPPED_USC\\NUMERICAL_IMPUTED_SCALED_STANDARD\\Magnetic_LongWavelength_HGM.tif\n",
      "s:\\projekte\\20230082_darpa_criticalmaas_ta3\\bearbeitung\\github\\beak-ta3\\src\\beak\\data\\LAWLEY22-EXPORT\\EPSG_4326_RES_0_015\\CLIPPED_USC\\NUMERICAL_IMPUTED_SCALED_STANDARD\\Magnetic_LongWavelength_HGM_Worms_Proximity.tif\n",
      "s:\\projekte\\20230082_darpa_criticalmaas_ta3\\bearbeitung\\github\\beak-ta3\\src\\beak\\data\\LAWLEY22-EXPORT\\EPSG_4326_RES_0_015\\CLIPPED_USC\\NUMERICAL_IMPUTED_SCALED_STANDARD\\Magnetic_RTP.tif\n",
      "s:\\projekte\\20230082_darpa_criticalmaas_ta3\\bearbeitung\\github\\beak-ta3\\src\\beak\\data\\LAWLEY22-EXPORT\\EPSG_4326_RES_0_015\\CLIPPED_USC\\NUMERICAL_IMPUTED_SCALED_STANDARD\\Magnetotelluric.tif\n",
      "s:\\projekte\\20230082_darpa_criticalmaas_ta3\\bearbeitung\\github\\beak-ta3\\src\\beak\\data\\LAWLEY22-EXPORT\\EPSG_4326_RES_0_015\\CLIPPED_USC\\NUMERICAL_IMPUTED_SCALED_STANDARD\\Seismic_LAB_Hoggard.tif\n",
      "s:\\projekte\\20230082_darpa_criticalmaas_ta3\\bearbeitung\\github\\beak-ta3\\src\\beak\\data\\LAWLEY22-EXPORT\\EPSG_4326_RES_0_015\\CLIPPED_USC\\NUMERICAL_IMPUTED_SCALED_STANDARD\\Seismic_LAB_Priestley.tif\n",
      "s:\\projekte\\20230082_darpa_criticalmaas_ta3\\bearbeitung\\github\\beak-ta3\\src\\beak\\data\\LAWLEY22-EXPORT\\EPSG_4326_RES_0_015\\CLIPPED_USC\\NUMERICAL_IMPUTED_SCALED_STANDARD\\Seismic_Moho.tif\n",
      "s:\\projekte\\20230082_darpa_criticalmaas_ta3\\bearbeitung\\github\\beak-ta3\\src\\beak\\data\\LAWLEY22-EXPORT\\EPSG_4326_RES_0_015\\CLIPPED_USC\\NUMERICAL_IMPUTED_SCALED_STANDARD\\Seismic_Moho_GEMMA.tif\n",
      "s:\\projekte\\20230082_darpa_criticalmaas_ta3\\bearbeitung\\github\\beak-ta3\\src\\beak\\data\\LAWLEY22-EXPORT\\EPSG_4326_RES_0_015\\CLIPPED_USC\\NUMERICAL_IMPUTED_SCALED_STANDARD\\Seismic_Moho_Szwillus.tif\n",
      "s:\\projekte\\20230082_darpa_criticalmaas_ta3\\bearbeitung\\github\\beak-ta3\\src\\beak\\data\\LAWLEY22-EXPORT\\EPSG_4326_RES_0_015\\CLIPPED_USC\\NUMERICAL_IMPUTED_SCALED_STANDARD\\Seismic_Velocity_050km.tif\n",
      "s:\\projekte\\20230082_darpa_criticalmaas_ta3\\bearbeitung\\github\\beak-ta3\\src\\beak\\data\\LAWLEY22-EXPORT\\EPSG_4326_RES_0_015\\CLIPPED_USC\\NUMERICAL_IMPUTED_SCALED_STANDARD\\Seismic_Velocity_100km.tif\n",
      "s:\\projekte\\20230082_darpa_criticalmaas_ta3\\bearbeitung\\github\\beak-ta3\\src\\beak\\data\\LAWLEY22-EXPORT\\EPSG_4326_RES_0_015\\CLIPPED_USC\\NUMERICAL_IMPUTED_SCALED_STANDARD\\Seismic_Velocity_150km.tif\n",
      "s:\\projekte\\20230082_darpa_criticalmaas_ta3\\bearbeitung\\github\\beak-ta3\\src\\beak\\data\\LAWLEY22-EXPORT\\EPSG_4326_RES_0_015\\CLIPPED_USC\\NUMERICAL_IMPUTED_SCALED_STANDARD\\Seismic_Velocity_200km.tif\n",
      "s:\\projekte\\20230082_darpa_criticalmaas_ta3\\bearbeitung\\github\\beak-ta3\\src\\beak\\data\\LAWLEY22-EXPORT\\EPSG_4326_RES_0_015\\CLIPPED_USC\\NUMERICAL_IMPUTED_SCALED_STANDARD\\Terrane_Proximity.tif\n"
     ]
    }
   ],
   "source": [
    "# Create file and folder list\n",
    "folders, _ = create_file_folder_list(input_folder)\n",
    "folders.insert(0, input_folder)\n",
    "\n",
    "file_list = []\n",
    "for folder in folders:\n",
    "  folder_files = create_file_list(folder, recursive=False)\n",
    "  file_list.extend(folder_files)\n",
    "  \n",
    "print(f\"Found {len(file_list)} files in {len(folders)} folders:\")\n",
    "\n",
    "for file in file_list:\n",
    "  print(file)"
   ]
  },
  {
   "cell_type": "code",
   "execution_count": 14,
   "metadata": {},
   "outputs": [
    {
     "name": "stdout",
     "output_type": "stream",
     "text": [
      "Starting parallel processing...\n",
      "Done!\n"
     ]
    }
   ],
   "source": [
    "import multiprocessing as mp\n",
    "from beak.utilities.raster_processing import unify_raster_grids\n",
    "\n",
    "# Unify raster grids\n",
    "results = unify_raster_grids(base_raster, file_list, resampling_method=Resampling.bilinear, same_extent=True, same_shape=True, n_workers=mp.cpu_count())"
   ]
  },
  {
   "cell_type": "code",
   "execution_count": 16,
   "metadata": {},
   "outputs": [
    {
     "name": "stderr",
     "output_type": "stream",
     "text": [
      "100%|██████████| 45/45 [00:30<00:00,  1.45it/s]\n"
     ]
    }
   ],
   "source": [
    "dry_run = False\n",
    "if dry_run:\n",
    "  print(\"Dry run, no files will be written.\\n\")\n",
    "  \n",
    "for i, file in enumerate(tqdm(file_list, total=len(file_list))):\n",
    "  unified_raster = results[i][0]\n",
    "  meta = results[i][1]\n",
    "  \n",
    "  out_path = output_folder / file.name\n",
    "  check_path(Path(os.path.dirname(out_path)))\n",
    "  \n",
    "  if not dry_run:\n",
    "    save_raster(out_path, array=unified_raster, dtype=\"float32\", metadata=meta)\n"
   ]
  }
 ],
 "metadata": {
  "kernelspec": {
   "display_name": "beak-ta3",
   "language": "python",
   "name": "python3"
  },
  "language_info": {
   "codemirror_mode": {
    "name": "ipython",
    "version": 3
   },
   "file_extension": ".py",
   "mimetype": "text/x-python",
   "name": "python",
   "nbconvert_exporter": "python",
   "pygments_lexer": "ipython3",
   "version": "3.9.15"
  }
 },
 "nbformat": 4,
 "nbformat_minor": 2
}
