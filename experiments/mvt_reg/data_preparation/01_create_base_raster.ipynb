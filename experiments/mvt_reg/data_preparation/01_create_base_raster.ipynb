{
 "cells": [
  {
   "cell_type": "code",
   "execution_count": 1,
   "metadata": {},
   "outputs": [],
   "source": [
    "import numpy as np\n",
    "import rasterio\n",
    "\n",
    "from importlib_resources import files\n",
    "from pathlib import Path\n",
    "from beak.utilities.io import save_raster\n",
    "from beak.utilities.misc import replace_invalid_characters\n",
    "\n",
    "BASE_PATH = files('beak.data')\n",
    "BASE_RASTER_PATH = BASE_PATH / \"BASE_RASTERS\"\n",
    "TEMPLATE_PATH = BASE_PATH / \"AEROMAGNETICS-RAW\" / \"SMidCont_RTP_UTM15.tif\"\n",
    "RES = 50\n"
   ]
  },
  {
   "cell_type": "code",
   "execution_count": 2,
   "metadata": {},
   "outputs": [],
   "source": [
    "template = rasterio.open(TEMPLATE_PATH)\n",
    "template_array = template.read()\n",
    "meta = template.meta.copy()\n",
    "nodata = -99\n",
    "\n",
    "epsg_code = template.crs.to_epsg()\n",
    "res = template.transform.a\n",
    "\n",
    "base_raster_file = BASE_RASTER_PATH / f\"EPSG_{epsg_code}_RES_{replace_invalid_characters(str(res))}.tif\"\n"
   ]
  },
  {
   "cell_type": "code",
   "execution_count": 3,
   "metadata": {},
   "outputs": [],
   "source": [
    "base_raster = np.where(template_array==template.nodata, nodata, 1)\n",
    "save_raster(base_raster_file, base_raster, metadata=meta, dtype=\"int8\", nodata_value=nodata)"
   ]
  }
 ],
 "metadata": {
  "kernelspec": {
   "display_name": "beak-ta3",
   "language": "python",
   "name": "python3"
  },
  "language_info": {
   "codemirror_mode": {
    "name": "ipython",
    "version": 3
   },
   "file_extension": ".py",
   "mimetype": "text/x-python",
   "name": "python",
   "nbconvert_exporter": "python",
   "pygments_lexer": "ipython3",
   "version": "3.9.15"
  }
 },
 "nbformat": 4,
 "nbformat_minor": 2
}
