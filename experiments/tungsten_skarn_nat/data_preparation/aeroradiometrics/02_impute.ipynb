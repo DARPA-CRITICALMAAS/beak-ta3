{
 "cells": [
  {
   "cell_type": "markdown",
   "metadata": {},
   "source": [
    "# Information\n",
    "## How to\n",
    "1. Set the parameters. **UPPERCASE** letters are user input variables\n",
    "2. Run the reprojection cell\n"
   ]
  },
  {
   "cell_type": "markdown",
   "metadata": {},
   "source": [
    "# Requirements"
   ]
  },
  {
   "cell_type": "code",
   "execution_count": 5,
   "metadata": {},
   "outputs": [],
   "source": [
    "# Standard libraries\n",
    "import os\n",
    "import rasterio\n",
    "import numpy as np\n",
    "\n",
    "from pathlib import Path\n",
    "from importlib_resources import files\n",
    "\n",
    "# Custom modules\n",
    "from beak.utilities.preparation import impute_data\n",
    "from beak.utilities.io import create_file_list, save_raster, check_path\n"
   ]
  },
  {
   "cell_type": "markdown",
   "metadata": {},
   "source": [
    "# Scaling"
   ]
  },
  {
   "cell_type": "markdown",
   "metadata": {},
   "source": [
    "**Scaling** all numerical folders within a specified model configuration.<br>\n",
    "Reads the <code>ROOT_FOLDER</code> and takes the <code>NUMERICAL</code> subfolder within each model configuration."
   ]
  },
  {
   "cell_type": "markdown",
   "metadata": {},
   "source": [
    "**User inputs**"
   ]
  },
  {
   "cell_type": "code",
   "execution_count": 6,
   "metadata": {},
   "outputs": [],
   "source": [
    "BASE_PATH = files(\"beak.data\")\n",
    "BASE_NAME = \"AERORADIOMETRICS-PROCESSED\"\n",
    "BASE_SPATIAL = [\"EPSG_4326_RES_0_015\"]\n",
    "BASE_EXTENT = \"CLIPPED_USC\"\n",
    "\n",
    "input_folders = []\n",
    "base_rasters = []\n",
    "\n",
    "for spatial in BASE_SPATIAL:\n",
    "    input_folder = BASE_PATH / BASE_NAME / spatial / BASE_EXTENT / \"USGS\" / \"UNIFIED\"\n",
    "    base_raster = BASE_PATH / \"BASE_RASTERS\" / (spatial + \"_\" + BASE_EXTENT + \".tif\")\n",
    "\n",
    "    input_folders.append(input_folder)\n",
    "    base_rasters.append(base_raster)\n",
    "  "
   ]
  },
  {
   "cell_type": "markdown",
   "metadata": {},
   "source": [
    "**Run**"
   ]
  },
  {
   "cell_type": "code",
   "execution_count": 7,
   "metadata": {},
   "outputs": [
    {
     "name": "stdout",
     "output_type": "stream",
     "text": [
      "Imputing data for s:\\projekte\\20230082_darpa_criticalmaas_ta3\\bearbeitung\\github\\beak-ta3\\src\\beak\\data\\AERORADIOMETRICS-PROCESSED\\EPSG_4326_RES_0_015\\CLIPPED_USC\\USGS\\UNIFIED\\NAMrad_K.tif...\n",
      "Imputing data for s:\\projekte\\20230082_darpa_criticalmaas_ta3\\bearbeitung\\github\\beak-ta3\\src\\beak\\data\\AERORADIOMETRICS-PROCESSED\\EPSG_4326_RES_0_015\\CLIPPED_USC\\USGS\\UNIFIED\\NAMrad_Th.tif...\n",
      "Imputing data for s:\\projekte\\20230082_darpa_criticalmaas_ta3\\bearbeitung\\github\\beak-ta3\\src\\beak\\data\\AERORADIOMETRICS-PROCESSED\\EPSG_4326_RES_0_015\\CLIPPED_USC\\USGS\\UNIFIED\\NAMrad_U.tif...\n"
     ]
    }
   ],
   "source": [
    "for i, input_folder in enumerate(input_folders):\n",
    "  output_folder = Path(str(input_folder) + \"_IMPUTED\")\n",
    "  \n",
    "  base_raster = rasterio.open(base_rasters[i])\n",
    "  base_meta = base_raster.meta.copy()\n",
    "  base_raster = base_raster.read()\n",
    "  \n",
    "  file_list = create_file_list(input_folder, recursive=False)\n",
    "  \n",
    "  for file in file_list:\n",
    "    raster = rasterio.open(file)\n",
    "    array = raster.read()\n",
    "\n",
    "    # Impute data\n",
    "    print(f\"Imputing data for {file}...\")\n",
    "    imputed_array = np.where(array == raster.nodata, np.nan, array)\n",
    "    imputed_array = impute_data(imputed_array)\n",
    "    imputed_array = np.where(base_raster == base_meta[\"nodata\"], np.nan, imputed_array)\n",
    "    \n",
    "    out_path = output_folder / Path(file).name\n",
    "    check_path(Path(os.path.dirname(out_path)))\n",
    "    \n",
    "    # Save\n",
    "    save_raster(out_path, array=imputed_array, dtype=\"float32\", metadata=raster.meta)   \n"
   ]
  }
 ],
 "metadata": {
  "kernelspec": {
   "display_name": "Python 3 (ipykernel)",
   "language": "python",
   "name": "python3"
  },
  "language_info": {
   "codemirror_mode": {
    "name": "ipython",
    "version": 3
   },
   "file_extension": ".py",
   "mimetype": "text/x-python",
   "name": "python",
   "nbconvert_exporter": "python",
   "pygments_lexer": "ipython3",
   "version": "3.9.15"
  }
 },
 "nbformat": 4,
 "nbformat_minor": 4
}
