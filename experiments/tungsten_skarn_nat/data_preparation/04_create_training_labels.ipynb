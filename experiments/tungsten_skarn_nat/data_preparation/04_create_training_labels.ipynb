{
 "cells": [
  {
   "cell_type": "code",
   "execution_count": 1,
   "metadata": {},
   "outputs": [],
   "source": [
    "import rasterio\n",
    "import numpy as np\n",
    "import pandas as pd\n",
    "import geopandas as gpd\n",
    "import os\n",
    "\n",
    "from pathlib import Path\n",
    "from typing import List, Tuple, Optional, Union\n",
    "from importlib_resources import files\n",
    "from rasterio.enums import MergeAlg\n",
    "from rasterio import features\n",
    "\n",
    "from beak.utilities.conversions import create_geodataframe_from_points, create_geodataframe_from_polygons, _rasterize_vector_process\n",
    "from beak.utilities.io import save_raster, check_path, load_raster, load_dataset\n"
   ]
  },
  {
   "cell_type": "markdown",
   "metadata": {},
   "source": [
    "# Load data"
   ]
  },
  {
   "cell_type": "markdown",
   "metadata": {},
   "source": [
    "**User definitions**"
   ]
  },
  {
   "cell_type": "code",
   "execution_count": 5,
   "metadata": {},
   "outputs": [],
   "source": [
    "BASE_PATH = files(\"beak.data\")\n",
    "PATH_SHAPEFILE = BASE_PATH / \"CRITICAL_MINERAL_DEPOSITS\" / \"critical_mineral_deposits.shp\"\n",
    "PATH_BASE_RASTER = BASE_PATH / \"BASE_RASTERS\" / \"EPSG_4326_RES_0_025_CLIPPED_USC.tif\"\n"
   ]
  },
  {
   "cell_type": "markdown",
   "metadata": {},
   "source": [
    "# Create Labels"
   ]
  },
  {
   "cell_type": "markdown",
   "metadata": {},
   "source": [
    "## From shapefile"
   ]
  },
  {
   "cell_type": "code",
   "execution_count": 6,
   "metadata": {},
   "outputs": [],
   "source": [
    "from beak.utilities.conversions import create_binary_raster\n",
    "\n",
    "gdf = gpd.read_file(PATH_SHAPEFILE)\n",
    "base_raster = load_raster(PATH_BASE_RASTER)\n",
    "out_path = BASE_PATH / \"TRAINING_LABELS\" / \"TUNGSTEN_SKARN_NAT\" / \"TUNGSTEN_SKARN_EPSG_4326_RES_0_025_CLIPPED_USC.tif\"\n",
    "\n",
    "labels_array = create_binary_raster(gdf, base_raster, query=\"DepType == 'S-R-V tungsten'\", all_touched=False, same_shape=True, fill_negatives=True, out_file=out_path)"
   ]
  }
 ],
 "metadata": {
  "kernelspec": {
   "display_name": "beak-ta3",
   "language": "python",
   "name": "python3"
  },
  "language_info": {
   "codemirror_mode": {
    "name": "ipython",
    "version": 3
   },
   "file_extension": ".py",
   "mimetype": "text/x-python",
   "name": "python",
   "nbconvert_exporter": "python",
   "pygments_lexer": "ipython3",
   "version": "3.9.15"
  }
 },
 "nbformat": 4,
 "nbformat_minor": 2
}
