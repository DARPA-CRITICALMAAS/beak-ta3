{
 "cells": [
  {
   "cell_type": "markdown",
   "metadata": {},
   "source": [
    "# Information\n",
    "## Source\n",
    "This notebook prepares the data from Lawley et al. (2022) for categoricals and but for numericals, the uninfied data from McCafferty (2023) will be used.\n",
    "\n",
    "## General workflow\n",
    "1. Create a file list of the data files from different source folders needed for modeling\n",
    "2. Read the rasters and convert them into a dataframe with column names acording to the file names\n",
    "3. Check outliers for each numerial column and set those to the nearest value within the 1.5 IQR range\n",
    "4. Impute (basic imputation to get some progress, but not very suitable for spatial data)<br>\n",
    "4.1 Numerical columns (mean)<br>\n",
    "4.2 Categorical columns (zeros)<br>\n",
    "6. Scale the data (numerical columns only)\n",
    "7. Add the mask based on the base raster and remove the rows with missing values\n",
    "8. Prepare data for modeling:\n",
    "   - Split the data into train and test sets\n",
    "   - Sample data\n",
    "9. Train and evaluate the model\n",
    "10. Predict on full dataset (imputed, scaled)"
   ]
  },
  {
   "cell_type": "markdown",
   "metadata": {},
   "source": [
    "# Set up"
   ]
  },
  {
   "cell_type": "code",
   "execution_count": 1,
   "metadata": {},
   "outputs": [],
   "source": [
    "import sys\n",
    "if sys.version_info < (3, 9):\n",
    "    from importlib_resources import files\n",
    "else:\n",
    "    from importlib.resources import files\n",
    "\n",
    "import numpy as np\n",
    "import pandas as pd\n",
    "import seaborn as sns\n",
    "import rasterio\n",
    "import tensorflow as tf\n",
    "\n",
    "import matplotlib.pyplot as plt\n",
    "import matplotlib.ticker as ticker\n",
    "import gc\n",
    "\n",
    "from tensorflow import keras\n",
    "from tensorflow.keras import layers\n",
    "\n",
    "from sklearn.preprocessing import StandardScaler, MinMaxScaler\n",
    "from sklearn.model_selection import train_test_split\n",
    "\n",
    "from tqdm import tqdm\n",
    "from collections import Counter\n",
    "\n",
    "import sys, os, warnings\n",
    "from pathlib import Path\n",
    "\n",
    "# Custom modules\n",
    "from beak.utilities.io import load_model, save_raster, check_path\n",
    "from beak.utilities.eda import clip_outliers\n",
    "from beak.utilities.preparation import impute_data\n",
    "from beak.utilities.transformation import _scale_data\n",
    "from beak.models import magmatic_nickel_nat                   # Includes the model definitions used in this notebook \n",
    "\n",
    "BASE_PATH = files(\"beak.data\")\n",
    "gc.enable()\n",
    "\n",
    "scaler_type = \"standard\"\n",
    "seed = 42\n"
   ]
  },
  {
   "cell_type": "markdown",
   "metadata": {},
   "source": [
    "**User** inputs"
   ]
  },
  {
   "cell_type": "code",
   "execution_count": 2,
   "metadata": {},
   "outputs": [],
   "source": [
    "# Choose model\n",
    "MODEL = \"BASELINE_FINAL\"\n",
    "model = magmatic_nickel_nat.models[MODEL]\n",
    "\n",
    "BASE_SPATIAL = \"EPSG_4326_RES_0_025\"\n",
    "BASE_EXTENT = \"CLIPPED_USC\"\n",
    "\n",
    "PATH_ML_MODELS = Path(\"models\")\n",
    "check_path(PATH_ML_MODELS)\n",
    "\n",
    "PATH_MODEL_RESULTS = Path(\"exports\")\n",
    "check_path(PATH_MODEL_RESULTS)\n",
    "\n",
    "PATH_TRAIN_LOGS = Path(\"logs\")\n",
    "check_path(PATH_TRAIN_LOGS)\n",
    "\n",
    "PATH_NUMERICAL_LAWLEY = BASE_PATH / \"LAWLEY22-EXPORT\" / BASE_SPATIAL / BASE_EXTENT / \"NUMERICAL\"\n",
    "PATH_NUMERICAL_MCCAFFERTY = BASE_PATH / \"MCCAFFERTY23-PROCESSED\" / BASE_SPATIAL / BASE_EXTENT / \"GEOPHYSICS\"\n",
    "PATH_NUMERICAL_ISOGRAVITY = BASE_PATH / \"ISOGRAVITY-PROCESSED\" / BASE_SPATIAL / BASE_EXTENT / \"UNIFIED\"\n",
    "PATH_NUMERICAL_MAGNETOTELLURIC = BASE_PATH / \"MAGNETOTELLURICS-PROCESSED\" / BASE_SPATIAL / BASE_EXTENT / \"UNIFIED\"\n",
    "PATH_CATEGORICAL = BASE_PATH / \"LAWLEY22-EXPORT\" / BASE_SPATIAL / BASE_EXTENT / \"CATEGORICAL\"\n",
    "PATH_ULTRAMAFICS = BASE_PATH / \"GEOLOGY_US_ULTRAMAFICS-PROCESSED\" / BASE_SPATIAL / BASE_EXTENT / \"UNIFIED\"\n",
    "\n",
    "PATH_BASE_RASTER = BASE_PATH / \"BASE_RASTERS\" / \"EPSG_4326_RES_0_025_CLIPPED_USC.tif\" \n",
    "PATH_LABELS = BASE_PATH / \"TRAINING_LABELS\" / \"MAGMATIC_NICKEL_TA2_EPSG_4326_RES_0_025_CLIPPED_USC.tif\"\n",
    "\n",
    "LABELS_COL = \"LABELS\"\n",
    "BASE_RASTER_COL = \"BASE_RASTER\""
   ]
  },
  {
   "cell_type": "markdown",
   "metadata": {},
   "source": [
    "# 0: Functions"
   ]
  },
  {
   "cell_type": "markdown",
   "metadata": {},
   "source": [
    "## General"
   ]
  },
  {
   "cell_type": "markdown",
   "metadata": {},
   "source": [
    "**Save** and **load** models"
   ]
  },
  {
   "cell_type": "code",
   "execution_count": 3,
   "metadata": {},
   "outputs": [],
   "source": [
    "def save_ml_model(model, model_name, path=PATH_ML_MODELS):\n",
    "  \"\"\"Saves model to disk\"\"\"\n",
    "  model.save(path / str(model_name + \".keras\"))\n",
    "  \n",
    "\n",
    "def load_ml_model(model_name, path=PATH_ML_MODELS):\n",
    "  \"\"\"Loads model from disk\"\"\"\n",
    "  return keras.models.load_model(path + model_name + \".keras\")"
   ]
  },
  {
   "cell_type": "markdown",
   "metadata": {},
   "source": [
    "**Create** callbacks"
   ]
  },
  {
   "cell_type": "code",
   "execution_count": 4,
   "metadata": {},
   "outputs": [],
   "source": [
    "import datetime\n",
    "\n",
    "def tensorboard_callback(folder, model_name):\n",
    "  log_dir = os.path.join(folder, model_name + \"_\" + datetime.datetime.now().strftime(\"%Y%m%d-%H%M%S\"))\n",
    "  \n",
    "  training_log = tf.keras.callbacks.TensorBoard(log_dir=log_dir)\n",
    "  print(f\"Saving TensorBoard log files to: {log_dir}\")\n",
    "  return training_log\n"
   ]
  },
  {
   "cell_type": "markdown",
   "metadata": {},
   "source": [
    "## Subsetting data and sampling"
   ]
  },
  {
   "cell_type": "markdown",
   "metadata": {},
   "source": [
    "**Oversampling** the initial data with simple oversampling"
   ]
  },
  {
   "cell_type": "code",
   "execution_count": 5,
   "metadata": {},
   "outputs": [],
   "source": [
    "from imblearn.over_sampling import RandomOverSampler\n",
    "\n",
    "def oversample_data(X, y, sampling_strategy=0.5, random_state=seed, shrinkage=0.0):\n",
    "  ros = RandomOverSampler(sampling_strategy=sampling_strategy, random_state=seed, shrinkage=shrinkage)\n",
    "  X_ros, y_ros = ros.fit_resample(X, y)\n",
    "  print(f\"Resampled dataset shape {Counter(y_ros)}, positive/negative ratio: {round(Counter(y_ros)[1] / Counter(y_ros)[0], 2)}\")\n",
    "  \n",
    "  return X_ros.astype(np.float32), y_ros.astype(np.int8)\n"
   ]
  },
  {
   "cell_type": "markdown",
   "metadata": {},
   "source": [
    "**Create** subsets"
   ]
  },
  {
   "cell_type": "code",
   "execution_count": 6,
   "metadata": {},
   "outputs": [],
   "source": [
    "def create_subsets(X, y, num_downsampling, ground_truth=LABELS_COL, seed=seed):\n",
    "  Xy = pd.concat([X, y], axis=1)\n",
    "  Xy_subset = Xy.sample(n=num_downsampling, random_state=seed)\n",
    "\n",
    "  X_subset = Xy_subset.drop(columns=[ground_truth], inplace=False)\n",
    "  y_subset = Xy_subset[ground_truth]\n",
    "  print(f\"Subset dataset shape {Counter(y_subset)}\")\n",
    "\n",
    "  return X_subset, y_subset\n",
    "\n",
    "\n",
    "def select_random_samples(X, y, sampling_strategy=0.1, sampling_class=\"negatives\", seed=seed):\n",
    "  X_positives = X[y == 1] \n",
    "  X_negatives = X[y == 0]\n",
    "\n",
    "  X_samples = X_negatives if sampling_class == \"negatives\" else X_positives\n",
    "  X_samples = X_samples.sample(frac=sampling_strategy, random_state=seed, replace=False)\n",
    "\n",
    "  X_positives = X_samples if sampling_class == \"positives\" else X_positives\n",
    "  X_negatives = X_samples if sampling_class == \"negatives\" else X_negatives\n",
    "  \n",
    "  X_samples = pd.concat([X_positives, X_negatives], axis=0)\n",
    "  y_samples = np.concatenate([np.ones(X_positives.shape[0]), np.zeros(X_negatives.shape[0])])\n",
    "\n",
    "  print(f\"Subset dataset shape {Counter(y_samples)}\")\n",
    "  return X_samples, y_samples\n"
   ]
  },
  {
   "cell_type": "code",
   "execution_count": 7,
   "metadata": {},
   "outputs": [],
   "source": [
    "def create_number_of_random_negatives(X, y, multiplier=20, decimals=3):\n",
    "  y_positives = y[y == 1]\n",
    "  random_num_negatives = len(y_positives) * multiplier\n",
    "  ratio = round(random_num_negatives / len(X), decimals)\n",
    "  return ratio\n"
   ]
  },
  {
   "cell_type": "markdown",
   "metadata": {},
   "source": [
    "## Create models"
   ]
  },
  {
   "cell_type": "markdown",
   "metadata": {},
   "source": [
    "**Building** and **training** ANN models"
   ]
  },
  {
   "cell_type": "code",
   "execution_count": 8,
   "metadata": {},
   "outputs": [],
   "source": [
    "def train_ann(X, \n",
    "              y,\n",
    "              model,\n",
    "              validation_data=None, \n",
    "              validation_split=0.2,  \n",
    "              validation_steps=None,\n",
    "              epochs=100, \n",
    "              batch_size=32, \n",
    "              optimizer=tf.keras.optimizers.Adam, \n",
    "              loss=tf.keras.losses.binary_crossentropy, \n",
    "              metrics=[\"mse\"], \n",
    "              callbacks=[], \n",
    "              verbose=0,\n",
    "              seed=42,\n",
    "              mixed_precision=False):\n",
    "  \"\"\"Train ANN model\"\"\"\n",
    "  # Set mixed precision policy\n",
    "  if mixed_precision is True:\n",
    "    tf.keras.mixed_precision.set_global_policy(policy='mixed_float16')\n",
    "  else:\n",
    "    tf.keras.mixed_precision.set_global_policy(policy='float32')\n",
    "\n",
    "  tf.random.set_seed(seed)  \n",
    "\n",
    "  # Print settings\n",
    "  print(f\"Random seed: {seed}, precision: {tf.keras.mixed_precision.global_policy().name}\\n\")\n",
    "  \n",
    "  if validation_data:\n",
    "    print(f\"Training on {X.shape[0]} samples.\\n\")\n",
    "  else:\n",
    "    print(f\"Training on {int(X.shape[0] - X.shape[0] * validation_split)} samples.\\n\")\n",
    "    \n",
    "  model.compile(optimizer=optimizer(learning_rate=0.001), loss=loss, metrics=metrics)\n",
    "  return model.fit(X, y, validation_data=validation_data, validation_split=validation_split, validation_steps=validation_steps, epochs=epochs, batch_size=batch_size, callbacks=callbacks, verbose=verbose)\n",
    "    "
   ]
  },
  {
   "cell_type": "markdown",
   "metadata": {},
   "source": [
    "Simple initial **ANN**"
   ]
  },
  {
   "cell_type": "code",
   "execution_count": 9,
   "metadata": {},
   "outputs": [],
   "source": [
    "# Simple initial ANN model\n",
    "def create_simple_ann(num_features, model_name=\"ANN\", hidden_units=1, activation=tf.keras.activations.relu, batch_norm=False, seed=42):\n",
    "  \"\"\"Create a new ANN model\"\"\"  \n",
    "  tf.random.set_seed(seed)\n",
    "  neurons = num_features*2 + 1\n",
    "\n",
    "  input = tf.keras.Input(shape=(num_features,), name=\"Input_layer\")\n",
    "  x = layers.Dense(neurons, activation=activation, name=\"Hidden_layer_1\")(input)\n",
    "  x = layers.BatchNormalization()(x) if batch_norm is True else x\n",
    "  \n",
    "  if hidden_units > 1:\n",
    "    for i in range(1, hidden_units):\n",
    "      hidden_unit_name = f\"Hidden_layer_{i+1}\"\n",
    "      x = layers.Dense(neurons, activation=activation, name=hidden_unit_name)(x)\n",
    "      x = layers.BatchNormalization()(x) if batch_norm is True else x  \n",
    "       \n",
    "  output = layers.Dense(1, activation=tf.keras.activations.sigmoid, dtype=tf.float32, name=\"Output_layer\")(x)\n",
    "  return tf.keras.Model(inputs=input, outputs=output, name=model_name)\n"
   ]
  },
  {
   "cell_type": "markdown",
   "metadata": {},
   "source": [
    "**C1: Complex** ANN with ascending order of neurons to the power of 2"
   ]
  },
  {
   "cell_type": "code",
   "execution_count": 10,
   "metadata": {},
   "outputs": [],
   "source": [
    "# Create complex ANN models\n",
    "def create_ann_c1(num_features, model_name=\"ANN\", min_exp=6, hidden_units=1, activation=tf.keras.activations.relu, batch_norm=False, seed=42):\n",
    "  \"\"\"Create a new ANN model\"\"\"  \n",
    "  tf.random.set_seed(seed)\n",
    "\n",
    "  neurons = 2**min_exp\n",
    "  input = tf.keras.Input(shape=(num_features,), name=\"Input_layer\")\n",
    "  x = layers.Dense(2**min_exp, activation=activation, name=\"Hidden_layer_1\")(input)\n",
    "  x = layers.BatchNormalization()(x) if batch_norm is True else x\n",
    "  \n",
    "  if hidden_units > 1:\n",
    "    for i in range(1, hidden_units):\n",
    "      neurons = 2**(min_exp + i)\n",
    "      hidden_unit_name = f\"Hidden_layer_{i+1}\"\n",
    "      x = layers.Dense(neurons, activation=activation, name=hidden_unit_name)(x)\n",
    "      x = layers.BatchNormalization()(x) if batch_norm is True else x  \n",
    "       \n",
    "  output = layers.Dense(1, activation=tf.keras.activations.sigmoid, dtype=tf.float32, name=\"Output_layer\")(x)\n",
    "  return tf.keras.Model(inputs=input, outputs=output, name=model_name)\n",
    "  "
   ]
  },
  {
   "cell_type": "markdown",
   "metadata": {},
   "source": [
    "**C2: Complex** ANN with descending order of neurons to the power of 2"
   ]
  },
  {
   "cell_type": "code",
   "execution_count": 11,
   "metadata": {},
   "outputs": [],
   "source": [
    "# Create complex ANN models\n",
    "def create_ann_c2(num_features, model_name=\"ANN\", max_exp=12, hidden_units=1, activation=tf.keras.activations.relu, batch_norm=False, seed=42):\n",
    "  \"\"\"Create a new ANN model\"\"\"  \n",
    "  tf.random.set_seed(seed)\n",
    "\n",
    "  neurons = 2**max_exp\n",
    "  input = tf.keras.Input(shape=(num_features,), name=\"Input_layer\")\n",
    "  x = layers.Dense(2**max_exp, activation=activation, name=\"Hidden_layer_1\")(input)\n",
    "  x = layers.BatchNormalization()(x) if batch_norm is True else x\n",
    "  \n",
    "  if hidden_units > 1:\n",
    "    for i in range(1, hidden_units):\n",
    "      neurons = neurons - 2**(max_exp - i)\n",
    "      hidden_unit_name = f\"Hidden_layer_{i+1}\"\n",
    "      x = layers.Dense(neurons, activation=activation, name=hidden_unit_name)(x)\n",
    "      x = layers.BatchNormalization()(x) if batch_norm is True else x  \n",
    "      \n",
    "      if neurons == 2:\n",
    "        print(f\"Neurons: {neurons}, minumum reached!\")\n",
    "        break\n",
    "      \n",
    "  output = layers.Dense(1, activation=tf.keras.activations.sigmoid, dtype=tf.float32, name=\"Output_layer\")(x)\n",
    "  return tf.keras.Model(inputs=input, outputs=output, name=model_name)\n",
    "  "
   ]
  },
  {
   "cell_type": "markdown",
   "metadata": {},
   "source": [
    "## **Evaluation**"
   ]
  },
  {
   "cell_type": "code",
   "execution_count": 12,
   "metadata": {},
   "outputs": [],
   "source": [
    "from sklearn.metrics import roc_curve, auc, roc_auc_score\n",
    "import matplotlib.pyplot as plt\n",
    "  \n",
    "def plot_loss(history):\n",
    "  plt.plot(history.history['loss'], label='Training Loss')\n",
    "  plt.plot(history.history['val_loss'], label='Validation Loss')\n",
    "  plt.title('Loss Function')\n",
    "  plt.xlabel('Epoch')\n",
    "  plt.ylabel('Loss')\n",
    "  plt.legend()\n",
    "  plt.show();\n",
    "\n",
    "\n",
    "def eval_roc_auc(model, X, y, plot=True, batch_size=1024):\n",
    "  \"\"\"Evaluate ROC AUC score\"\"\"\n",
    "  # ROC AUC score\n",
    "  y_pred = model.predict(X, verbose=0, batch_size=batch_size)\n",
    "  eval_roc_auc = roc_auc_score(y, y_pred)\n",
    "  \n",
    "  # ROC curve\n",
    "  if plot is True:\n",
    "    fpr, tpr, _ = roc_curve(y, y_pred)\n",
    "    \n",
    "    # Plotting\n",
    "    plt.figure()\n",
    "    plt.plot(fpr, tpr, color='darkorange', lw=2, label=f\"ROC curve (area = {eval_roc_auc:.4})\")\n",
    "    plt.plot([0, 1], [0, 1], color='navy', lw=2, linestyle='--')\n",
    "    plt.xlim([0.0, 1.0])\n",
    "    plt.ylim([0.0, 1.05])\n",
    "    plt.xlabel('False Positive Rate')\n",
    "    plt.ylabel('True Positive Rate')\n",
    "    plt.title('Receiver Operating Characteristic')\n",
    "    plt.legend(loc=\"lower right\")\n",
    "  else:\n",
    "    print(f\"ROC AUC score: {eval_roc_auc:.4}\")\n",
    "    \n",
    "  return eval_roc_auc\n",
    "\n",
    "\n",
    "def plot_loss_and_roc(history, model, X, y, batch_size=1024):\n",
    "  \"\"\"Plot loss and ROC curve\n",
    "  \n",
    "  Example usage:\n",
    "  Assuming 'history' is the training history and 'model' is your trained model\n",
    "  Replace X and y with your actual data and call  plot_loss_and_roc(history, model, X, y)\n",
    "  \n",
    "  \"\"\"\n",
    "  plt.figure(figsize=(12, 5))\n",
    "\n",
    "  plt.subplot(1, 2, 1)\n",
    "  plt.plot(history.history['loss'], label='Training Loss')\n",
    "  plt.plot(history.history['val_loss'], label='Validation Loss')\n",
    "  plt.title('Loss Function')\n",
    "  plt.xlabel('Epoch')\n",
    "  plt.ylabel('Loss')\n",
    "  plt.legend()\n",
    "\n",
    "  # Evaluate ROC AUC and plot ROC curve\n",
    "  plt.subplot(1, 2, 2)\n",
    "  y_pred = model.predict(X, verbose=0, batch_size=batch_size)\n",
    "  fpr, tpr, _ = roc_curve(y, y_pred)\n",
    "  roc_auc = auc(fpr, tpr)\n",
    "\n",
    "  plt.plot(fpr, tpr, color='darkorange', lw=2, label=f\"ROC curve (area = {roc_auc:.4})\")\n",
    "  plt.plot([0, 1], [0, 1], color='navy', lw=2, linestyle='--')\n",
    "  plt.xlim([0.0, 1.0])\n",
    "  plt.ylim([0.0, 1.05])\n",
    "  plt.xlabel('False Positive Rate')\n",
    "  plt.ylabel('True Positive Rate')\n",
    "  plt.title('Receiver Operating Characteristic')\n",
    "  plt.legend(loc=\"lower right\")\n",
    "\n",
    "  plt.tight_layout(pad=3) \n",
    "  plt.show()\n",
    "\n"
   ]
  },
  {
   "cell_type": "markdown",
   "metadata": {},
   "source": [
    "## **Prediction**\n"
   ]
  },
  {
   "cell_type": "code",
   "execution_count": 13,
   "metadata": {},
   "outputs": [],
   "source": [
    "def set_nodata(data, prediction, columns):\n",
    "  out_nodata = -9999.\n",
    "  \n",
    "  nan_mask = np.isnan(data[columns]).to_numpy()\n",
    "  nan_mask = np.max(nan_mask, axis=1)\n",
    "  nan_mask = nan_mask.reshape(-1, 1)\n",
    "  \n",
    "  return np.where(nan_mask, out_nodata, prediction)  \n",
    "\n",
    "\n",
    "def predict_values(data, model_columns, model, batch_size=512, verbose=1, impute=True,  setback_nodata=False):\n",
    "  assert not (impute and setback_nodata), \"Imputing and setting back nodata is not possible at the same time!\"\n",
    "    \n",
    "  if impute is True and setback_nodata is False:\n",
    "    data = impute_data(data, columns=model_columns)\n",
    "\n",
    "  prediction = model.predict(data[model_columns], batch_size=batch_size, verbose=verbose)\n",
    "  \n",
    "  if setback_nodata is True and impute is False:\n",
    "    out_data = set_nodata(data, prediction, columns=model_columns) if impute is False else prediction\n",
    "  else:\n",
    "    out_data = prediction\n",
    "    \n",
    "  return out_data\n",
    "  "
   ]
  },
  {
   "cell_type": "markdown",
   "metadata": {},
   "source": [
    "## Data"
   ]
  },
  {
   "cell_type": "markdown",
   "metadata": {},
   "source": [
    "**Create** training data "
   ]
  },
  {
   "cell_type": "code",
   "execution_count": 14,
   "metadata": {},
   "outputs": [],
   "source": [
    "def create_train_test_splits(X, y, test_size=0.2, seed=seed, out_dtype=np.float32, out_type=\"tensorflow\"):\n",
    "  \"\"\"Create training and testing data\"\"\"\n",
    "  X_train, X_test, y_train, y_test = train_test_split(X, y, test_size=test_size, random_state=seed)\n",
    "  \n",
    "  if out_type == \"tensorflow\":\n",
    "    X_train = tf.convert_to_tensor(X_train, dtype=out_dtype)\n",
    "    X_test = tf.convert_to_tensor(X_test, dtype=out_dtype)\n",
    "    y_train = tf.convert_to_tensor(y_train, dtype=np.int8)\n",
    "    y_test = tf.convert_to_tensor(y_test, dtype=np.int8)\n",
    "  elif out_type == \"numpy\":\n",
    "    X_train = X_train.astype(out_dtype)\n",
    "    X_test = X_test.astype(out_dtype)\n",
    "    y_train = y_train.astype(np.int8)\n",
    "    y_test = y_test.astype(np.int8)\n",
    "    \n",
    "  return X_train, X_test, y_train, y_test"
   ]
  },
  {
   "cell_type": "markdown",
   "metadata": {},
   "source": [
    "## Normalization"
   ]
  },
  {
   "cell_type": "markdown",
   "metadata": {},
   "source": [
    "# 1: **Create** file list"
   ]
  },
  {
   "cell_type": "code",
   "execution_count": 15,
   "metadata": {},
   "outputs": [
    {
     "name": "stdout",
     "output_type": "stream",
     "text": [
      "Loading model definition...\n",
      "Selected 14 evidence layers.\n",
      "\n",
      "Searching for files and folders in provided paths...\n",
      "Found 4 folders, 0 subfolders and 76 files.\n",
      "\n",
      "Searching for corresponding files...\n",
      "Found 'US_IsostaticGravity_WGS84' in 1 file(s).\n",
      "Found 'Gravity_Up30km_HGM' in 1 file(s).\n",
      "Found 'Gravity_Bouguer_UpCont30km_HGM_Worms_Proximity' in 1 file(s).\n",
      "Found 'CONUS_MT2023_9km_cog' in 1 file(s).\n",
      "Found 'CONUS_MT2023_15km_cog' in 1 file(s).\n",
      "Found 'CONUS_MT2023_30km_cog' in 1 file(s).\n",
      "Found 'MagRTP' in 1 file(s).\n",
      "Found 'MagRTP_HGMDeepSources' in 1 file(s).\n",
      "Found 'Magnetic_LongWavelength_HGM_Worms_Proximity' in 1 file(s).\n",
      "Found 'Mag_AnalyticSignal_cog' in 1 file(s).\n",
      "Found 'Moho' in 1 file(s).\n",
      "Found 'LAB' in 1 file(s).\n",
      "Found 'LAB_HGM_cog' in 1 file(s).\n",
      "Found 'LAB_Worms_Proximity' in 1 file(s).\n",
      "\n",
      "Ensuring that all layers have matching files...\n",
      "All layers have matching files.\n",
      "\n",
      "Checking files for multiple occurences...\n",
      "No duplicates found. All filenames occur only once.\n",
      "Number of files in file list: 14\n",
      "\n",
      "Relevant files found: 14\n"
     ]
    }
   ],
   "source": [
    "model_dict, file_list, counts = load_model(\n",
    "    model=model,\n",
    "    folders=[PATH_NUMERICAL_MCCAFFERTY, PATH_NUMERICAL_ISOGRAVITY, PATH_NUMERICAL_MAGNETOTELLURIC, PATH_NUMERICAL_LAWLEY],\n",
    "    file_extensions=[\".tif\", \".tiff\"],\n",
    "    verbose=0,\n",
    ")    \n",
    "\n",
    "print(f\"\\nRelevant files found: {len(file_list)}\")\n",
    "\n",
    "pd.options.display.float_format = \"{:.3f}\".format\n",
    "seed = 42  \n",
    "scaler_type = \"standard\""
   ]
  },
  {
   "cell_type": "markdown",
   "metadata": {},
   "source": [
    "# 2: **Load** data"
   ]
  },
  {
   "cell_type": "code",
   "execution_count": 16,
   "metadata": {},
   "outputs": [
    {
     "name": "stderr",
     "output_type": "stream",
     "text": [
      "100%|██████████| 14/14 [00:01<00:00,  7.73it/s]"
     ]
    },
    {
     "name": "stdout",
     "output_type": "stream",
     "text": [
      "Found 14 numerical columns and 0 categorical columns.\n"
     ]
    },
    {
     "name": "stderr",
     "output_type": "stream",
     "text": [
      "\n"
     ]
    }
   ],
   "source": [
    "data = []\n",
    "numerical_columns = []\n",
    "categorical_columns = []\n",
    "\n",
    "for raster_file in tqdm(file_list):\n",
    "    # Extract the file name without extension\n",
    "    column_name = raster_file.stem\n",
    "    \n",
    "    raster = rasterio.open(raster_file)\n",
    "    if \"float\" in raster.meta[\"dtype\"]:\n",
    "        numerical_columns.append(column_name)\n",
    "    elif \"int\" in raster.meta[\"dtype\"]:\n",
    "        categorical_columns.append(column_name)\n",
    "    \n",
    "    raster_data = raster.read(1).reshape(-1, 1)\n",
    "    raster_data = np.where(raster_data == raster.nodata, np.nan, raster_data)\n",
    "    \n",
    "    df = pd.DataFrame(raster_data, columns=[column_name])\n",
    "    data.append(df)\n",
    "    del df\n",
    "    \n",
    "# Concatenate all dataframes in the data list into a single dataframe\n",
    "df_rasters = pd.concat(data, axis=1)\n",
    "\n",
    "print(f\"Found {len(numerical_columns)} numerical columns and {len(categorical_columns)} categorical columns.\")\n"
   ]
  },
  {
   "cell_type": "code",
   "execution_count": 17,
   "metadata": {},
   "outputs": [],
   "source": [
    "# Base raster\n",
    "base_raster = rasterio.open(PATH_BASE_RASTER)\n",
    "base_raster_array = base_raster.read(1)\n",
    "base_raster_array = np.where(base_raster_array == base_raster.nodata, np.nan, base_raster_array)"
   ]
  },
  {
   "cell_type": "code",
   "execution_count": 36,
   "metadata": {},
   "outputs": [
    {
     "data": {
      "text/plain": [
       "(array([ 0.,  1., nan], dtype=float32),\n",
       " array([1336193,     109, 1063214], dtype=int64))"
      ]
     },
     "execution_count": 36,
     "metadata": {},
     "output_type": "execute_result"
    }
   ],
   "source": [
    "# Labels raster\n",
    "labels_raster = rasterio.open(PATH_LABELS)\n",
    "labels_array = labels_raster.read(1)\n",
    "labels_array = np.where(labels_array == labels_raster.nodata, np.nan, labels_array)\n",
    "np.unique(labels_array, return_counts=True)"
   ]
  },
  {
   "cell_type": "code",
   "execution_count": 37,
   "metadata": {},
   "outputs": [
    {
     "data": {
      "text/plain": [
       "(array([ 0.,  1., nan]), array([1335515,     787, 1063214], dtype=int64))"
      ]
     },
     "execution_count": 37,
     "metadata": {},
     "output_type": "execute_result"
    }
   ],
   "source": [
    "# Buffer labels\n",
    "from scipy.signal import convolve2d\n",
    "\n",
    "kernel_size = 3\n",
    "kernel = np.ones((kernel_size, kernel_size))\n",
    "\n",
    "labels_array_buffered = labels_array.copy()\n",
    "labels_array_buffered = convolve2d(labels_array_buffered, kernel, mode=\"same\")\n",
    "labels_array_buffered = np.where(labels_array_buffered > 0, 1, 0)\n",
    "labels_array_buffered = np.where(np.isnan(labels_array), np.nan, labels_array_buffered)\n",
    "labels_array = labels_array_buffered.copy()\n",
    "\n",
    "np.unique(labels_array, return_counts=True)"
   ]
  },
  {
   "cell_type": "markdown",
   "metadata": {},
   "source": [
    "# 3: **Remove** outliers"
   ]
  },
  {
   "cell_type": "code",
   "execution_count": 39,
   "metadata": {},
   "outputs": [],
   "source": [
    "df_outliers = clip_outliers(df_rasters, numerical_columns)"
   ]
  },
  {
   "cell_type": "markdown",
   "metadata": {},
   "source": [
    "Log the MagAnalyticsSignal "
   ]
  },
  {
   "cell_type": "code",
   "execution_count": 40,
   "metadata": {},
   "outputs": [],
   "source": [
    "column = \"Mag_AnalyticSignal_cog\"\n"
   ]
  },
  {
   "cell_type": "code",
   "execution_count": 41,
   "metadata": {},
   "outputs": [],
   "source": [
    "df_rasters[column] = np.log(df_rasters[column])"
   ]
  },
  {
   "cell_type": "code",
   "execution_count": 42,
   "metadata": {},
   "outputs": [
    {
     "data": {
      "image/png": "[encoded data removed]",
      "text/plain": [
       "<Figure size 640x480 with 1 Axes>"
      ]
     },
     "metadata": {},
     "output_type": "display_data"
    }
   ],
   "source": [
    "import matplotlib.pyplot as plt\n",
    "\n",
    "plt.hist(df_rasters[column], bins=1000)\n",
    "plt.xlabel(column)\n",
    "plt.ylabel(\"Frequency\")\n",
    "plt.title(f\"Histogram of {column}\")\n",
    "plt.show()"
   ]
  },
  {
   "cell_type": "markdown",
   "metadata": {},
   "source": [
    "# 4: **Impute** missing values"
   ]
  },
  {
   "cell_type": "markdown",
   "metadata": {},
   "source": [
    "## Numerical columns"
   ]
  },
  {
   "cell_type": "code",
   "execution_count": 43,
   "metadata": {},
   "outputs": [],
   "source": [
    "df_impute = impute_data(df_outliers, numerical_columns)\n"
   ]
  },
  {
   "cell_type": "markdown",
   "metadata": {},
   "source": [
    "## Categorical columns"
   ]
  },
  {
   "cell_type": "code",
   "execution_count": 44,
   "metadata": {},
   "outputs": [],
   "source": [
    "# df_impute = impute_data(df_impute, categorical_columns, strategy=\"constant\", fill_value=0)"
   ]
  },
  {
   "cell_type": "markdown",
   "metadata": {},
   "source": [
    "# 5: **Scaling**"
   ]
  },
  {
   "cell_type": "code",
   "execution_count": 45,
   "metadata": {},
   "outputs": [],
   "source": [
    "df_scaled = _scale_data(df_impute, scaler_type, numerical_columns)\n"
   ]
  },
  {
   "cell_type": "code",
   "execution_count": 46,
   "metadata": {},
   "outputs": [],
   "source": [
    "# Replace the scaled columns with the log transformed columns\n",
    "df_scaled[column] = df_rasters[column]"
   ]
  },
  {
   "cell_type": "markdown",
   "metadata": {},
   "source": [
    "# 6: **Add** mask and remove rows with missing values\n",
    "Shape the correct spatial extent and outline of the data"
   ]
  },
  {
   "cell_type": "code",
   "execution_count": 47,
   "metadata": {},
   "outputs": [
    {
     "name": "stdout",
     "output_type": "stream",
     "text": [
      "Data rows for all values: 1291060, data columns: 15\n",
      "\n",
      "Data rows for Absent values: 1290280\n",
      "Data rows for Present values: 780\n"
     ]
    }
   ],
   "source": [
    "df_model = df_scaled.copy()\n",
    "df_model = pd.concat([df_model, pd.DataFrame(labels_array.reshape(-1, 1), columns=[\"LABELS\"])], axis=1)\n",
    "\n",
    "df_model.dropna(how=\"any\", inplace=True)\n",
    "print(f\"Data rows for all values: {df_model.shape[0]}, data columns: {df_model.shape[1]}\")\n",
    "\n",
    "num_negatives = df_model[df_model[LABELS_COL] == 0].shape[0]\n",
    "print(\"\\nData rows for Absent values:\", num_negatives)\n",
    "\n",
    "num_positives = df_model[df_model[LABELS_COL] == 1].shape[0]\n",
    "print(\"Data rows for Present values:\", num_positives)"
   ]
  },
  {
   "cell_type": "markdown",
   "metadata": {},
   "source": [
    "# 7: **Prepare** for modeling"
   ]
  },
  {
   "cell_type": "markdown",
   "metadata": {},
   "source": [
    "## **Subset** data"
   ]
  },
  {
   "cell_type": "code",
   "execution_count": 48,
   "metadata": {},
   "outputs": [],
   "source": [
    "X = df_model.drop(columns=[LABELS_COL], inplace=False)\n",
    "y = df_model[LABELS_COL].astype(np.int8)"
   ]
  },
  {
   "cell_type": "markdown",
   "metadata": {},
   "source": [
    "### **Create** positive/negative subsets"
   ]
  },
  {
   "cell_type": "code",
   "execution_count": 49,
   "metadata": {},
   "outputs": [],
   "source": [
    "# Create selection of the positives and negatives for testing purposes\n",
    "X_positives = df_model[df_model[LABELS_COL] == 1].drop(columns=[LABELS_COL], inplace=False).astype(np.float32)\n",
    "y_positives = df_model[df_model[LABELS_COL] == 1][LABELS_COL].astype(np.float32)"
   ]
  },
  {
   "cell_type": "markdown",
   "metadata": {},
   "source": [
    "# **Modeling**"
   ]
  },
  {
   "cell_type": "markdown",
   "metadata": {},
   "source": [
    "**Test model M2F-I:** Train/test split first, afterwards oversampling without Batch Norm but with lower random sample ratio at the beginning"
   ]
  },
  {
   "cell_type": "code",
   "execution_count": 50,
   "metadata": {},
   "outputs": [
    {
     "name": "stdout",
     "output_type": "stream",
     "text": [
      "Downsample ratio: 0.01208\n",
      "Subset dataset shape Counter({0.0: 15587, 1.0: 780})\n",
      "Resampled dataset shape Counter({0.0: 15587, 1.0: 7793}), positive/negative ratio: 0.5\n",
      "Training dataset shape Counter({0: 15587, 1: 7793})\n",
      "Test dataset shape Counter({0: 3114, 1: 160})\n"
     ]
    }
   ],
   "source": [
    "downsample_ratio = create_number_of_random_negatives(X, y, multiplier=20, decimals=5)\n",
    "print(f\"Downsample ratio: {downsample_ratio}\")\n",
    "\n",
    "X_rs, y_rs = select_random_samples(X, y, sampling_strategy=downsample_ratio, sampling_class=\"negatives\", seed=seed)\n",
    "X_train, X_test, y_train, y_test = create_train_test_splits(X_rs, y_rs, test_size=0.2)\n",
    "X_rs_ros, y_rs_ros = oversample_data(X_rs, y_rs, sampling_strategy=0.5, random_state=seed, shrinkage=0.0)\n",
    "\n",
    "print(f\"Training dataset shape {Counter(y_rs_ros)}\")\n",
    "print(f\"Test dataset shape {Counter(y_test.numpy())}\")\n",
    "\n",
    "X_train = tf.convert_to_tensor(X_rs_ros, dtype=tf.float32)\n",
    "y_train = tf.convert_to_tensor(y_rs_ros, dtype=tf.int8)"
   ]
  },
  {
   "cell_type": "code",
   "execution_count": 53,
   "metadata": {},
   "outputs": [],
   "source": [
    "epochs = 50\n",
    "batch_size = 512\n",
    "\n",
    "model_name = \"BASELINE_BUFFERED_TA2_ANN_M2F_I_\" + str(epochs) + \"_EPOCHS_\" + str(batch_size) + \"_BATCH_SIZE\"\n"
   ]
  },
  {
   "cell_type": "code",
   "execution_count": 54,
   "metadata": {},
   "outputs": [
    {
     "name": "stdout",
     "output_type": "stream",
     "text": [
      "Saving TensorBoard log files to: logs\\BASELINE_BUFFERED_TA2_ANN_M2F_I_50_EPOCHS_512_BATCH_SIZE_20240215-222920\n",
      "Random seed: 42, precision: float32\n",
      "\n",
      "Training on 18704 samples.\n",
      "\n"
     ]
    }
   ],
   "source": [
    "model = create_simple_ann(num_features=X_train.shape[1], model_name=model_name, hidden_units=1, activation=tf.keras.activations.relu, batch_norm=False, seed=seed)\n",
    "callbacks = [\n",
    "             # tf.keras.callbacks.EarlyStopping(monitor=\"val_loss\", patience=5), \n",
    "             tensorboard_callback(PATH_TRAIN_LOGS, model_name)\n",
    "             ]\n",
    "\n",
    "train_results = train_ann(X_train, y_train, model, validation_split=0.2, epochs=epochs, batch_size=batch_size, callbacks=callbacks, seed=seed, verbose=0)\n"
   ]
  },
  {
   "cell_type": "code",
   "execution_count": 55,
   "metadata": {},
   "outputs": [],
   "source": [
    "# Save model\n",
    "save_ml_model(model, model_name)"
   ]
  },
  {
   "cell_type": "code",
   "execution_count": 56,
   "metadata": {},
   "outputs": [],
   "source": [
    "# Load model\n",
    "# model  = load_ml_model(model_name)\n"
   ]
  },
  {
   "cell_type": "code",
   "execution_count": 57,
   "metadata": {},
   "outputs": [
    {
     "data": {
      "image/png": "[encoded data removed]",
      "text/plain": [
       "<Figure size 1200x500 with 2 Axes>"
      ]
     },
     "metadata": {},
     "output_type": "display_data"
    },
    {
     "name": "stdout",
     "output_type": "stream",
     "text": [
      "7/7 [==============================] - 0s 2ms/step - loss: 0.1007 - mse: 0.0264\n",
      "1/1 [==============================] - 0s 24ms/step - loss: 0.5179 - mse: 0.1693\n",
      "\n",
      "Eval - Test loss: 0.1007, Test metric: 0.02642\n",
      "Eval positives only- Test loss: 0.5179, Test metric: 0.1693\n"
     ]
    }
   ],
   "source": [
    "# Plot loss and roc curve\n",
    "plot_loss_and_roc(train_results, model, X_test, y_test, batch_size=512)\n",
    "\n",
    "# Evaluation\n",
    "# Test (with oversampled data)\n",
    "eval = model.evaluate(X_test, y_test, batch_size=512)\n",
    "\n",
    "# Test (with oversampled data, only positives)\n",
    "eval_positives = model.evaluate(X_test[y_test==1], y_test[y_test==1], batch_size=512)\n",
    "\n",
    "print(f\"\\nEval - Test loss: {eval[0]:.4}, Test metric: {eval[1]:.4}\")\n",
    "print(f\"Eval positives only- Test loss: {eval_positives[0]:.4}, Test metric: {eval_positives[1]:.4}\")\n"
   ]
  },
  {
   "cell_type": "code",
   "execution_count": 58,
   "metadata": {},
   "outputs": [
    {
     "name": "stdout",
     "output_type": "stream",
     "text": [
      "4687/4687 [==============================] - 6s 1ms/step\n"
     ]
    }
   ],
   "source": [
    "prediction = predict_values(df_scaled, df_scaled.columns.tolist(), model, batch_size=512)\n"
   ]
  },
  {
   "cell_type": "code",
   "execution_count": null,
   "metadata": {},
   "outputs": [],
   "source": [
    "prediction = prediction.reshape(base_raster_array.shape)\n",
    "prediction = np.where(np.isnan(base_raster_array), np.nan, prediction)\n",
    "\n",
    "out_path = PATH_MODEL_RESULTS / str(model_name + \".tif\")\n",
    "save_raster(out_path, array=prediction, dtype=\"float32\", metadata=base_raster.meta)   \n"
   ]
  }
 ],
 "metadata": {
  "kernelspec": {
   "display_name": "Python 3 (ipykernel)",
   "language": "python",
   "name": "python3"
  },
  "language_info": {
   "codemirror_mode": {
    "name": "ipython",
    "version": 3
   },
   "file_extension": ".py",
   "mimetype": "text/x-python",
   "name": "python",
   "nbconvert_exporter": "python",
   "pygments_lexer": "ipython3",
   "version": "3.9.15"
  }
 },
 "nbformat": 4,
 "nbformat_minor": 4
}
