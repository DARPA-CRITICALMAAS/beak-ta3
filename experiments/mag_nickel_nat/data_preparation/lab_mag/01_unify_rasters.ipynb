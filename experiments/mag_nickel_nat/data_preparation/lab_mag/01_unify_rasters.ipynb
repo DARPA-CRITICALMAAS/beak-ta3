{
 "cells": [
  {
   "cell_type": "markdown",
   "metadata": {},
   "source": [
    "# Unify rasters to a base raster"
   ]
  },
  {
   "cell_type": "code",
   "execution_count": 6,
   "metadata": {},
   "outputs": [],
   "source": [
    "# Standard libraries\n",
    "import rasterio\n",
    "import os\n",
    "from importlib.resources import files\n",
    "from rasterio.enums import Resampling\n",
    "from pathlib import Path\n",
    "from tqdm import tqdm\n",
    "\n",
    "# Custom modules\n",
    "from beak.utilities.io import save_raster, create_file_folder_list, create_file_list, check_path\n",
    "from beak.utilities.raster_processing import unify_raster_grids"
   ]
  },
  {
   "cell_type": "code",
   "execution_count": 7,
   "metadata": {},
   "outputs": [],
   "source": [
    "BASE_PATH = files(\"beak.data\")\n",
    "\n",
    "BASE_NAME = \"MCCAFFERTY23\"\n",
    "BASE_SPATIAL = \"EPSG_4326_RES_0_025\"\n",
    "BASE_EXTENT = \"CLIPPED_USC\"\n",
    "\n",
    "input_folder = BASE_PATH / str(BASE_NAME + \"-RAW\")\n",
    "output_folder = BASE_PATH / str(BASE_NAME + \"-PROCESSED\") / BASE_SPATIAL / BASE_EXTENT / \"UNIFIED\"\n",
    "base_raster = BASE_PATH / \"BASE_RASTERS\" / str(BASE_SPATIAL + \"_\" + BASE_EXTENT + \".tif\")\n"
   ]
  },
  {
   "cell_type": "code",
   "execution_count": 11,
   "metadata": {},
   "outputs": [
    {
     "name": "stdout",
     "output_type": "stream",
     "text": [
      "Found 32 files in 13 folders:\n",
      "w:\\projekte\\20230082_darpa_criticalmaas_ta3\\local\\bearbeitung\\github\\beak-ta3\\src\\beak\\data\\MCCAFFERTY23-RAW\\Geophysics\\Gravity.tif\n",
      "w:\\projekte\\20230082_darpa_criticalmaas_ta3\\local\\bearbeitung\\github\\beak-ta3\\src\\beak\\data\\MCCAFFERTY23-RAW\\Geophysics\\Gravity_HGM.tif\n",
      "w:\\projekte\\20230082_darpa_criticalmaas_ta3\\local\\bearbeitung\\github\\beak-ta3\\src\\beak\\data\\MCCAFFERTY23-RAW\\Geophysics\\Gravity_Up30km.tif\n",
      "w:\\projekte\\20230082_darpa_criticalmaas_ta3\\local\\bearbeitung\\github\\beak-ta3\\src\\beak\\data\\MCCAFFERTY23-RAW\\Geophysics\\Gravity_Up30km_HGM.tif\n",
      "w:\\projekte\\20230082_darpa_criticalmaas_ta3\\local\\bearbeitung\\github\\beak-ta3\\src\\beak\\data\\MCCAFFERTY23-RAW\\Geophysics\\LAB.tif\n",
      "w:\\projekte\\20230082_darpa_criticalmaas_ta3\\local\\bearbeitung\\github\\beak-ta3\\src\\beak\\data\\MCCAFFERTY23-RAW\\Geophysics\\LAB_HGM_cog.tif\n",
      "w:\\projekte\\20230082_darpa_criticalmaas_ta3\\local\\bearbeitung\\github\\beak-ta3\\src\\beak\\data\\MCCAFFERTY23-RAW\\Geophysics\\LAB_Worms_Proximity.tif\n",
      "w:\\projekte\\20230082_darpa_criticalmaas_ta3\\local\\bearbeitung\\github\\beak-ta3\\src\\beak\\data\\MCCAFFERTY23-RAW\\Geophysics\\Mag.tif\n",
      "w:\\projekte\\20230082_darpa_criticalmaas_ta3\\local\\bearbeitung\\github\\beak-ta3\\src\\beak\\data\\MCCAFFERTY23-RAW\\Geophysics\\MagRTP.tif\n",
      "w:\\projekte\\20230082_darpa_criticalmaas_ta3\\local\\bearbeitung\\github\\beak-ta3\\src\\beak\\data\\MCCAFFERTY23-RAW\\Geophysics\\MagRTP_DeepSources.tif\n",
      "w:\\projekte\\20230082_darpa_criticalmaas_ta3\\local\\bearbeitung\\github\\beak-ta3\\src\\beak\\data\\MCCAFFERTY23-RAW\\Geophysics\\MagRTP_HGM.tif\n",
      "w:\\projekte\\20230082_darpa_criticalmaas_ta3\\local\\bearbeitung\\github\\beak-ta3\\src\\beak\\data\\MCCAFFERTY23-RAW\\Geophysics\\MagRTP_HGMDeepSources.tif\n",
      "w:\\projekte\\20230082_darpa_criticalmaas_ta3\\local\\bearbeitung\\github\\beak-ta3\\src\\beak\\data\\MCCAFFERTY23-RAW\\Geophysics\\MagRTP_VD.tif\n",
      "w:\\projekte\\20230082_darpa_criticalmaas_ta3\\local\\bearbeitung\\github\\beak-ta3\\src\\beak\\data\\MCCAFFERTY23-RAW\\Geophysics\\Mag_AnalyticSignal_cog.tif\n",
      "w:\\projekte\\20230082_darpa_criticalmaas_ta3\\local\\bearbeitung\\github\\beak-ta3\\src\\beak\\data\\MCCAFFERTY23-RAW\\Geophysics\\Moho.tif\n",
      "w:\\projekte\\20230082_darpa_criticalmaas_ta3\\local\\bearbeitung\\github\\beak-ta3\\src\\beak\\data\\MCCAFFERTY23-RAW\\Geophysics\\SatelliteGravity_ShapeIndex.tif\n",
      "w:\\projekte\\20230082_darpa_criticalmaas_ta3\\local\\bearbeitung\\github\\beak-ta3\\src\\beak\\data\\MCCAFFERTY23-RAW\\Geophysics\\Gravity.tif\n",
      "w:\\projekte\\20230082_darpa_criticalmaas_ta3\\local\\bearbeitung\\github\\beak-ta3\\src\\beak\\data\\MCCAFFERTY23-RAW\\Geophysics\\Gravity_HGM.tif\n",
      "w:\\projekte\\20230082_darpa_criticalmaas_ta3\\local\\bearbeitung\\github\\beak-ta3\\src\\beak\\data\\MCCAFFERTY23-RAW\\Geophysics\\Gravity_Up30km.tif\n",
      "w:\\projekte\\20230082_darpa_criticalmaas_ta3\\local\\bearbeitung\\github\\beak-ta3\\src\\beak\\data\\MCCAFFERTY23-RAW\\Geophysics\\Gravity_Up30km_HGM.tif\n",
      "w:\\projekte\\20230082_darpa_criticalmaas_ta3\\local\\bearbeitung\\github\\beak-ta3\\src\\beak\\data\\MCCAFFERTY23-RAW\\Geophysics\\LAB.tif\n",
      "w:\\projekte\\20230082_darpa_criticalmaas_ta3\\local\\bearbeitung\\github\\beak-ta3\\src\\beak\\data\\MCCAFFERTY23-RAW\\Geophysics\\LAB_HGM_cog.tif\n",
      "w:\\projekte\\20230082_darpa_criticalmaas_ta3\\local\\bearbeitung\\github\\beak-ta3\\src\\beak\\data\\MCCAFFERTY23-RAW\\Geophysics\\LAB_Worms_Proximity.tif\n",
      "w:\\projekte\\20230082_darpa_criticalmaas_ta3\\local\\bearbeitung\\github\\beak-ta3\\src\\beak\\data\\MCCAFFERTY23-RAW\\Geophysics\\Mag.tif\n",
      "w:\\projekte\\20230082_darpa_criticalmaas_ta3\\local\\bearbeitung\\github\\beak-ta3\\src\\beak\\data\\MCCAFFERTY23-RAW\\Geophysics\\MagRTP.tif\n",
      "w:\\projekte\\20230082_darpa_criticalmaas_ta3\\local\\bearbeitung\\github\\beak-ta3\\src\\beak\\data\\MCCAFFERTY23-RAW\\Geophysics\\MagRTP_DeepSources.tif\n",
      "w:\\projekte\\20230082_darpa_criticalmaas_ta3\\local\\bearbeitung\\github\\beak-ta3\\src\\beak\\data\\MCCAFFERTY23-RAW\\Geophysics\\MagRTP_HGM.tif\n",
      "w:\\projekte\\20230082_darpa_criticalmaas_ta3\\local\\bearbeitung\\github\\beak-ta3\\src\\beak\\data\\MCCAFFERTY23-RAW\\Geophysics\\MagRTP_HGMDeepSources.tif\n",
      "w:\\projekte\\20230082_darpa_criticalmaas_ta3\\local\\bearbeitung\\github\\beak-ta3\\src\\beak\\data\\MCCAFFERTY23-RAW\\Geophysics\\MagRTP_VD.tif\n",
      "w:\\projekte\\20230082_darpa_criticalmaas_ta3\\local\\bearbeitung\\github\\beak-ta3\\src\\beak\\data\\MCCAFFERTY23-RAW\\Geophysics\\Mag_AnalyticSignal_cog.tif\n",
      "w:\\projekte\\20230082_darpa_criticalmaas_ta3\\local\\bearbeitung\\github\\beak-ta3\\src\\beak\\data\\MCCAFFERTY23-RAW\\Geophysics\\Moho.tif\n",
      "w:\\projekte\\20230082_darpa_criticalmaas_ta3\\local\\bearbeitung\\github\\beak-ta3\\src\\beak\\data\\MCCAFFERTY23-RAW\\Geophysics\\SatelliteGravity_ShapeIndex.tif\n"
     ]
    }
   ],
   "source": [
    "# Create file and folder list\n",
    "folders, _ = create_file_folder_list(input_folder)\n",
    "folders.insert(0, input_folder)\n",
    "\n",
    "file_list = []\n",
    "for folder in folders:\n",
    "  folder_files = create_file_list(folder, recursive=True)\n",
    "  file_list.extend(folder_files)\n",
    "  \n",
    "print(f\"Found {len(file_list)} files in {len(folders)} folders:\")\n",
    "\n",
    "for file in file_list:\n",
    "  print(file)\n",
    "  \n",
    "# Define custom file list\n",
    "file_list = [\n",
    "  Path(\"w:/projekte/20230082_darpa_criticalmaas_ta3/local/bearbeitung/github/beak-ta3/src/beak\\data/MCCAFFERTY23-RAW/Geophysics/LAB_HGM_cog.tif\"),\n",
    "  Path(\"w:/projekte/20230082_darpa_criticalmaas_ta3/local/bearbeitung/github/beak-ta3/src/beak/data/MCCAFFERTY23-RAW/Geophysics/Mag_AnalyticSignal_cog.tif\"),\n",
    "  Path(\"w:/projekte/20230082_darpa_criticalmaas_ta3/local/bearbeitung/github/beak-ta3/src/beak\\data/MCCAFFERTY23-RAW/Geophysics/LAB_Worms_Proximity.tif\")\n",
    "]"
   ]
  },
  {
   "cell_type": "code",
   "execution_count": 12,
   "metadata": {},
   "outputs": [
    {
     "name": "stdout",
     "output_type": "stream",
     "text": [
      "w:\\projekte\\20230082_darpa_criticalmaas_ta3\\local\\bearbeitung\\github\\beak-ta3\\src\\beak\\data\\MCCAFFERTY23-RAW\\Geophysics\\LAB_HGM_cog.tif\n",
      "w:\\projekte\\20230082_darpa_criticalmaas_ta3\\local\\bearbeitung\\github\\beak-ta3\\src\\beak\\data\\MCCAFFERTY23-RAW\\Geophysics\\Mag_AnalyticSignal_cog.tif\n",
      "w:\\projekte\\20230082_darpa_criticalmaas_ta3\\local\\bearbeitung\\github\\beak-ta3\\src\\beak\\data\\MCCAFFERTY23-RAW\\Geophysics\\LAB_Worms_Proximity.tif\n"
     ]
    }
   ],
   "source": [
    "# Check selected files\n",
    "for file in file_list:\n",
    "  print(file)"
   ]
  },
  {
   "cell_type": "code",
   "execution_count": 13,
   "metadata": {},
   "outputs": [
    {
     "name": "stderr",
     "output_type": "stream",
     "text": [
      "  0%|          | 0/3 [00:00<?, ?it/s]"
     ]
    },
    {
     "name": "stderr",
     "output_type": "stream",
     "text": [
      "100%|██████████| 3/3 [00:03<00:00,  1.32s/it]\n"
     ]
    }
   ],
   "source": [
    "dry_run = False\n",
    "if dry_run:\n",
    "  print(\"Dry run, no files will be written.\\n\")\n",
    "  \n",
    "for file in tqdm(file_list, total=len(file_list)):\n",
    "  out_path = output_folder / file.relative_to(input_folder)\n",
    "  check_path(Path(os.path.dirname(out_path)))\n",
    "  \n",
    "  raster = rasterio.open(file)\n",
    "  unified_raster, meta = unify_raster_grids(base_raster, [file], resampling_method=Resampling.bilinear, same_extent=True, same_shape=True)[0]\n",
    "\n",
    "  if not dry_run:\n",
    "    save_raster(out_path,\n",
    "          array=unified_raster,\n",
    "          crs=meta['crs'],\n",
    "          height=meta['height'],\n",
    "          width=meta['width'],\n",
    "          nodata_value=meta['nodata'],\n",
    "          transform=meta['transform'],\n",
    "          dtype=\"float32\")\n"
   ]
  }
 ],
 "metadata": {
  "kernelspec": {
   "display_name": "beak-ta3",
   "language": "python",
   "name": "python3"
  },
  "language_info": {
   "codemirror_mode": {
    "name": "ipython",
    "version": 3
   },
   "file_extension": ".py",
   "mimetype": "text/x-python",
   "name": "python",
   "nbconvert_exporter": "python",
   "pygments_lexer": "ipython3",
   "version": "3.9.15"
  }
 },
 "nbformat": 4,
 "nbformat_minor": 2
}
