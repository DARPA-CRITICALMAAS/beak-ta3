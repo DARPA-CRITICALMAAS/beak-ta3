{
 "cells": [
  {
   "cell_type": "markdown",
   "metadata": {},
   "source": [
    "# Information\n",
    "## How to\n",
    "1. Set the parameters. **UPPERCASE** letters are user input variables\n",
    "2. Run the reprojection cell\n"
   ]
  },
  {
   "cell_type": "markdown",
   "metadata": {},
   "source": [
    "# Requirements"
   ]
  },
  {
   "cell_type": "code",
   "execution_count": 1,
   "metadata": {},
   "outputs": [],
   "source": [
    "import os\n",
    "from importlib_resources import files\n",
    "from pathlib import Path\n",
    "from beak.utilities import transformation\n"
   ]
  },
  {
   "cell_type": "markdown",
   "metadata": {},
   "source": [
    "# Scaling"
   ]
  },
  {
   "cell_type": "markdown",
   "metadata": {},
   "source": [
    "**Scaling** all numerical folders within a specified model configuration.<br>\n",
    "Reads the <code>ROOT_FOLDER</code> and takes the <code>NUMERICAL</code> subfolder within each model configuration."
   ]
  },
  {
   "cell_type": "markdown",
   "metadata": {},
   "source": [
    "**User inputs**"
   ]
  },
  {
   "cell_type": "code",
   "execution_count": 2,
   "metadata": {},
   "outputs": [],
   "source": [
    "BASE_PATH = files(\"beak.data\")\n",
    "\n",
    "BASE_NAME = Path(\"MCCAFFERTY23\") / \"PROCESSED\"\n",
    "BASE_SPATIAL = \"EPSG_4326_RES_0_025\"\n",
    "BASE_EXTENT = \"CLIPPED_USC\"\n",
    "METHODS = [\"standard\"]\n"
   ]
  },
  {
   "cell_type": "markdown",
   "metadata": {},
   "source": [
    "Select subfolders to be scaled."
   ]
  },
  {
   "cell_type": "code",
   "execution_count": 3,
   "metadata": {},
   "outputs": [
    {
     "name": "stdout",
     "output_type": "stream",
     "text": [
      "GEOPHYSICS\n",
      "GEOPHYSICS_IMPUTED\n",
      "GEOPHYSICS_IMPUTED_SCALED_STD\n",
      "GEOPHYSICS_SCALED_STD\n"
     ]
    }
   ],
   "source": [
    "root_folder = BASE_PATH / BASE_NAME / BASE_SPATIAL / BASE_EXTENT\n",
    "\n",
    "for folder in os.listdir(root_folder):\n",
    "  if os.path.isdir(os.path.join(root_folder, folder)):\n",
    "    print(folder)"
   ]
  },
  {
   "cell_type": "code",
   "execution_count": 4,
   "metadata": {},
   "outputs": [
    {
     "name": "stdout",
     "output_type": "stream",
     "text": [
      "Selected folders:\n",
      "s:\\projekte\\20230082_darpa_criticalmaas_ta3\\bearbeitung\\github\\beak-ta3\\src\\beak\\data\\MCCAFFERTY23\\PROCESSED\\EPSG_4326_RES_0_025\\CLIPPED_USC\\GEOPHYSICS\n",
      "s:\\projekte\\20230082_darpa_criticalmaas_ta3\\bearbeitung\\github\\beak-ta3\\src\\beak\\data\\MCCAFFERTY23\\PROCESSED\\EPSG_4326_RES_0_025\\CLIPPED_USC\\GEOPHYSICS_IMPUTED\n"
     ]
    }
   ],
   "source": [
    "SELECTION = [\"GEOPHYSICS\", \"GEOPHYSICS_IMPUTED\"]\n",
    "input_folders = [root_folder / folder for folder in SELECTION]\n",
    "\n",
    "print(\"Selected folders:\")\n",
    "for folder in input_folders:\n",
    "  print(folder)"
   ]
  },
  {
   "cell_type": "markdown",
   "metadata": {},
   "source": [
    "**Run Scaling**"
   ]
  },
  {
   "cell_type": "code",
   "execution_count": 10,
   "metadata": {},
   "outputs": [
    {
     "name": "stdout",
     "output_type": "stream",
     "text": [
      "\n",
      "Processing w:\\projekte\\20230082_darpa_criticalmaas_ta3\\local\\bearbeitung\\github\\beak-ta3\\src\\beak\\data\\MCCAFFERTY23-PROCESSED\\EPSG_4326_RES_0_025\\CLIPPED_USC\\GEOPHYSICS with standard method...\n",
      "Selected folder: W:\\Projekte\\20230082_DARPA_CriticalMAAS_TA3\\Local\\Bearbeitung\\GitHub\\beak-ta3\\src\\beak\\data\\MCCAFFERTY23-PROCESSED\\EPSG_4326_RES_0_025\\CLIPPED_USC\\GEOPHYSICS\n",
      "Total of folders found: 1\n",
      "Files loaded: 16\n"
     ]
    },
    {
     "name": "stderr",
     "output_type": "stream",
     "text": [
      "Processing files:   0%|          | 0/16 [00:00<?, ?it/s]"
     ]
    },
    {
     "name": "stderr",
     "output_type": "stream",
     "text": [
      "Processing files: 100%|██████████| 16/16 [00:12<00:00,  1.28it/s]\n"
     ]
    },
    {
     "name": "stdout",
     "output_type": "stream",
     "text": [
      "\n",
      "Processing w:\\projekte\\20230082_darpa_criticalmaas_ta3\\local\\bearbeitung\\github\\beak-ta3\\src\\beak\\data\\MCCAFFERTY23-PROCESSED\\EPSG_4326_RES_0_025\\CLIPPED_USC\\GEOPHYSICS_IMPUTED with standard method...\n",
      "Selected folder: W:\\Projekte\\20230082_DARPA_CriticalMAAS_TA3\\Local\\Bearbeitung\\GitHub\\beak-ta3\\src\\beak\\data\\MCCAFFERTY23-PROCESSED\\EPSG_4326_RES_0_025\\CLIPPED_USC\\GEOPHYSICS_IMPUTED\n",
      "Total of folders found: 1\n",
      "Files loaded: 16\n"
     ]
    },
    {
     "name": "stderr",
     "output_type": "stream",
     "text": [
      "Processing files: 100%|██████████| 16/16 [00:10<00:00,  1.52it/s]\n"
     ]
    }
   ],
   "source": [
    "for folder in input_folders:\n",
    "  folder_relative = os.path.relpath(folder, root_folder)\n",
    "  for method in METHODS:\n",
    "    if method == \"standard\":\n",
    "      method_name = \"STD\"\n",
    "    if method == \"minmax\":\n",
    "      method_name = \"MINMAX\"\n",
    "      \n",
    "    print(f\"\\nProcessing {folder} with {method} method...\")\n",
    "    output_folder = root_folder / str(folder_relative + \"_SCALED_\" + str.upper(method_name))\n",
    "    transformation.scale_raster(folder, output_folder, method)"
   ]
  }
 ],
 "metadata": {
  "kernelspec": {
   "display_name": "Python 3 (ipykernel)",
   "language": "python",
   "name": "python3"
  },
  "language_info": {
   "codemirror_mode": {
    "name": "ipython",
    "version": 3
   },
   "file_extension": ".py",
   "mimetype": "text/x-python",
   "name": "python",
   "nbconvert_exporter": "python",
   "pygments_lexer": "ipython3",
   "version": "3.9.15"
  }
 },
 "nbformat": 4,
 "nbformat_minor": 4
}
