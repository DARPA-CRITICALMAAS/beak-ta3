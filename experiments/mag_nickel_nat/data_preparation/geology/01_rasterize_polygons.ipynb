{
 "cells": [
  {
   "cell_type": "code",
   "execution_count": 1,
   "metadata": {},
   "outputs": [],
   "source": [
    "import rasterio\n",
    "import numpy as np\n",
    "import pandas as pd\n",
    "import geopandas as gpd\n",
    "import os\n",
    "\n",
    "from pathlib import Path\n",
    "from typing import List, Tuple, Optional, Union\n",
    "from rasterio.enums import MergeAlg\n",
    "from rasterio import features\n",
    "\n",
    "import sys\n",
    "if sys.version_info < (3, 9):\n",
    "    from importlib_resources import files\n",
    "else:\n",
    "    from importlib.resources import files\n",
    "\n",
    "from beak.utilities.conversions import create_geodataframe_from_points, create_geodataframe_from_polygons, _rasterize_vector_process\n",
    "from beak.utilities.io import save_raster, check_path, load_raster, load_dataset\n"
   ]
  },
  {
   "cell_type": "markdown",
   "metadata": {},
   "source": [
    "# Ultramafics"
   ]
  },
  {
   "cell_type": "markdown",
   "metadata": {},
   "source": [
    "**User definitions**"
   ]
  },
  {
   "cell_type": "code",
   "execution_count": 9,
   "metadata": {},
   "outputs": [],
   "source": [
    "BASE_PATH = files(\"beak.data\")\n",
    "PATH_SHAPEFILE = BASE_PATH / \"MAFIC_UM_ROCKS-RAW\" / \"US_ultra_4326.shp\"\n",
    "PATH_BASE_RASTER = BASE_PATH / \"BASE_RASTERS\" / \"EPSG_4326_RES_0_025_CLIPPED_USC.tif\"\n"
   ]
  },
  {
   "cell_type": "markdown",
   "metadata": {},
   "source": [
    "## From shapefile"
   ]
  },
  {
   "cell_type": "code",
   "execution_count": 11,
   "metadata": {},
   "outputs": [],
   "source": [
    "from beak.utilities.conversions import create_binary_raster\n",
    "\n",
    "gdf = gpd.read_file(PATH_SHAPEFILE)\n",
    "base_raster = load_raster(PATH_BASE_RASTER)\n",
    "out_path_ultramafic = BASE_PATH / \"MAFIC_UM_ROCKS-PROCESSED\" / \"EPSG_4326_RES_0_025\" / \"CLIPPED_USC\" / \"UNIFIED\" / \"ultramafic_rocks.tif\"\n",
    "\n",
    "labels_array = create_binary_raster(gdf, base_raster=base_raster, all_touched=False, same_shape=True, fill_negatives=True, out_file=out_path)"
   ]
  },
  {
   "cell_type": "markdown",
   "metadata": {},
   "source": [
    "# Mafics, surface"
   ]
  },
  {
   "cell_type": "code",
   "execution_count": 12,
   "metadata": {},
   "outputs": [],
   "source": [
    "BASE_PATH = files(\"beak.data\")\n",
    "PATH_SHAPEFILE = BASE_PATH / \"MAFIC_UM_ROCKS-RAW\" / \"surface_mafic_rocks.shp\"\n",
    "PATH_BASE_RASTER = BASE_PATH / \"BASE_RASTERS\" / \"EPSG_4326_RES_0_025_CLIPPED_USC.tif\"\n"
   ]
  },
  {
   "cell_type": "code",
   "execution_count": 13,
   "metadata": {},
   "outputs": [],
   "source": [
    "from beak.utilities.conversions import create_binary_raster\n",
    "\n",
    "gdf = gpd.read_file(PATH_SHAPEFILE)\n",
    "base_raster = load_raster(PATH_BASE_RASTER)\n",
    "out_path_mafic = BASE_PATH / \"MAFIC_UM_ROCKS-PROCESSED\" / \"EPSG_4326_RES_0_025\" / \"CLIPPED_USC\" / \"UNIFIED\" / \"surface_mafic_rocks.tif\"\n",
    "\n",
    "labels_array = create_binary_raster(gdf, base_raster=base_raster, all_touched=False, same_shape=True, fill_negatives=True, out_file=out_path)"
   ]
  },
  {
   "cell_type": "markdown",
   "metadata": {},
   "source": [
    "# Combine"
   ]
  },
  {
   "cell_type": "code",
   "execution_count": 46,
   "metadata": {},
   "outputs": [],
   "source": [
    "import rasterio\n",
    "import numpy as np\n",
    "from beak.utilities.io import save_raster\n",
    "\n",
    "ultramafics = rasterio.open(out_path_ultramafic)\n",
    "ultramafics_array = ultramafics.read(1).reshape(-1, 1)\n",
    "\n",
    "mafics = rasterio.open(out_path_mafic)\n",
    "mafics_array = mafics.read(1).reshape(-1, 1)\n",
    "\n",
    "combined = np.maximum(ultramafics_array, mafics_array)\n",
    "combined = combined.reshape(ultramafics.shape)\n",
    "combined = combined.astype(rasterio.int8)\n",
    "\n",
    "out_path_combined = BASE_PATH / \"TRAINING_LABELS\" / \"MAFICS_ULTRAMAFICS_EPSG_4326_RES_0_025_CLIPPED_USC.tif\"\n",
    "\n",
    "save_raster(path=out_path_combined, array=combined, crs=ultramafics.crs, transform=ultramafics.transform, nodata_value=-99, dtype=rasterio.int8, height=ultramafics.shape[0], width=ultramafics.shape[1])\n"
   ]
  }
 ],
 "metadata": {
  "kernelspec": {
   "display_name": "beak-ta3",
   "language": "python",
   "name": "python3"
  },
  "language_info": {
   "codemirror_mode": {
    "name": "ipython",
    "version": 3
   },
   "file_extension": ".py",
   "mimetype": "text/x-python",
   "name": "python",
   "nbconvert_exporter": "python",
   "pygments_lexer": "ipython3",
   "version": "3.9.15"
  }
 },
 "nbformat": 4,
 "nbformat_minor": 2
}
