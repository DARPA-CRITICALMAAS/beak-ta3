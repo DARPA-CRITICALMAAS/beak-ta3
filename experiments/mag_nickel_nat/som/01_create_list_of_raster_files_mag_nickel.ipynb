{
 "cells": [
  {
   "cell_type": "markdown",
   "metadata": {},
   "source": [
    "# Information\n",
    "This notebook is about to give you some **examples** about how to use the notebooks and associated functionalities in the **beak** package."
   ]
  },
  {
   "cell_type": "markdown",
   "metadata": {},
   "source": [
    "# Examples"
   ]
  },
  {
   "cell_type": "markdown",
   "metadata": {},
   "source": [
    "## 1. Create a list of raster files based on a pre-defined model definition.\n",
    "Case:\n",
    "- You have a list of raster files in a folder or some subfolders.\n",
    "- You have a model definition for a specific model, stored in the respective model module.\n",
    "- You need a list of files corresponding to the evidence layers defined in the model definition."
   ]
  },
  {
   "cell_type": "markdown",
   "metadata": {},
   "source": [
    "Load file paths: You can use the practical handling from the package, if data are stored in the beak data folder.<br>\n",
    "Also, you can provide multiple folders to load from"
   ]
  },
  {
   "cell_type": "code",
   "execution_count": 1,
   "metadata": {},
   "outputs": [
    {
     "name": "stdout",
     "output_type": "stream",
     "text": [
      "-----------------\n",
      "--Load model data\n",
      "Loading model definition...\n",
      "Selected 14 evidence layers.\n",
      "\n",
      "Searching for files and folders in provided paths...\n",
      "Found 6 folders, 43 subfolders and 837 files.\n",
      "\n",
      "Searching for corresponding files...\n",
      "Found 'US_IsostaticGravity_WGS84' in 1 file(s).\n",
      "Found 'Gravity_Up30km_HGM' in 1 file(s).\n",
      "Found 'MagRTP' in 1 file(s).\n",
      "Found 'Mag_AnalyticSignal_cog' in 1 file(s).\n",
      "Found 'MagRTP_HGMDeepSources' in 1 file(s).\n",
      "Found 'Moho' in 1 file(s).\n",
      "Found 'LAB' in 1 file(s).\n",
      "Found 'LAB_HGM_cog' in 1 file(s).\n",
      "Found 'CONUS_MT2023_9km_cog' in 1 file(s).\n",
      "Found 'CONUS_MT2023_15km_cog' in 1 file(s).\n",
      "Found 'CONUS_MT2023_30km_cog' in 1 file(s).\n",
      "Found 'Magnetic_LongWavelength_HGM_Worms_Proximity' in 1 file(s).\n",
      "Found 'Gravity_Bouguer_UpCont30km_HGM_Worms_Proximity' in 1 file(s).\n",
      "Found 'LAB_Worms_Proximity' in 1 file(s).\n",
      "\n",
      "Ensuring that all layers have matching files...\n",
      "All layers have matching files.\n",
      "\n",
      "Checking files for multiple occurences...\n",
      "No duplicates found. All filenames occur only once.\n",
      "Number of files in file list: 14\n",
      "\n",
      "-----------------\n",
      "--Load label data\n",
      "Loading model definition...\n",
      "Selected 1 evidence layers.\n",
      "\n",
      "Searching for files and folders in provided paths...\n",
      "Found 1 folders, 0 subfolders and 11 files.\n",
      "\n",
      "Searching for corresponding files...\n",
      "Found 'ULTRAMAFICS_EPSG_4326_RES_0_025_CLIPPED_USC' in 1 file(s).\n",
      "\n",
      "Ensuring that all layers have matching files...\n",
      "All layers have matching files.\n",
      "\n",
      "Checking files for multiple occurences...\n",
      "No duplicates found. All filenames occur only once.\n",
      "Number of files in file list: 1\n"
     ]
    }
   ],
   "source": [
    "from beak.models import magNickel\n",
    "from beak.utilities.io import load_model\n",
    "import sys\n",
    "if sys.version_info < (3, 9):\n",
    "    from importlib_resources import files\n",
    "else:\n",
    "    from importlib.resources import files\n",
    "\n",
    "# Choose model\n",
    "MODEL = \"NICKEL_BASELINE\"\n",
    "model = magNickel.models[MODEL]\n",
    "\n",
    "LABELDATA = \"NICKEL_LABELS\"\n",
    "labeldata = magNickel.models[LABELDATA]\n",
    "\n",
    "BASE_PATH = files(\"beak.data\")\n",
    "BASE_SPATIAL = \"EPSG_4326_RES_0_025\"\n",
    "BASE_EXTENT = \"CLIPPED_USC\"\n",
    "\n",
    "\n",
    "# Choose data path\n",
    "PATH_MCCAFFERTY =  BASE_PATH / \"MCCAFFERTY23-PROCESSED\" / BASE_SPATIAL / BASE_EXTENT / \"GEOPHYSICS_SCALED_STD\"\n",
    "PATH_ISOGRAVITY = BASE_PATH / \"ISOGRAVITY-PROCESSED\" / BASE_SPATIAL / BASE_EXTENT / \"UNIFIED_SCALED_STD\"\n",
    "PATH_MAGNETOTELLURIC = BASE_PATH / \"MAGNETOTELLURICS-PROCESSED\" / BASE_SPATIAL / BASE_EXTENT / \"UNIFIED_SCALED_STD\"\n",
    "PATH_ULTRAMAFICS = BASE_PATH / \"GEOLOGY_US_ULTRAMAFICS-PROCESSED\" / BASE_SPATIAL / BASE_EXTENT / \"UNIFIED\"\n",
    "PATH_LAWLEY_NUMERICAL = BASE_PATH / \"LAWLEY22-EXPORT\" / BASE_SPATIAL / BASE_EXTENT / \"NUMERICAL_SCALED_STANDARD\"\n",
    "PATH_LAWLEY_CATEGORICAL = BASE_PATH / \"LAWLEY22-EXPORT\" / BASE_SPATIAL / BASE_EXTENT / \"CATEGORICAL\"\n",
    "\n",
    "PATH_LABELS = (BASE_PATH / \"TRAINING_LABELS\")\n",
    "#PATH_LABELS = BASE_PATH / \"DEEP_CRUSTAL_PATHWAYS-RAW\"\n",
    "\n",
    "print(\"-----------------\")\n",
    "print(\"--Load model data\")\n",
    "model_dict, file_list, counts = load_model(\n",
    "    model=model,\n",
    "    folders=[PATH_MAGNETOTELLURIC,PATH_ISOGRAVITY,\n",
    "             PATH_MCCAFFERTY,PATH_ULTRAMAFICS,\n",
    "             PATH_LAWLEY_NUMERICAL,PATH_LAWLEY_CATEGORICAL],\n",
    "    file_extensions=[\".tif\", \".tiff\"],\n",
    "    verbose=0,\n",
    ")    \n",
    "\n",
    "print(\"\")\n",
    "print(\"-----------------\")\n",
    "print(\"--Load label data\")\n",
    "label_data_dict, label_data_file_list, label_data_counts = load_model(\n",
    "    model=labeldata,\n",
    "    folders=[PATH_LABELS],\n",
    "    file_extensions=[\".tif\", \".tiff\"],\n",
    "    verbose=0,\n",
    ")    "
   ]
  },
  {
   "cell_type": "code",
   "execution_count": 2,
   "metadata": {},
   "outputs": [],
   "source": [
    "#base = \"d:/Programmieren/00_Repositories/CMAAS\"\n",
    "base = \"d:/projekte/cmaas/repository\"\n",
    "file_path = base + \"/beak-ta3/experiments/mag_nickel_nat/som/results/input_file_list.txt\"\n",
    "label_data_file_path = base + \"/beak-ta3/experiments/mag_nickel_nat/som/results/label_file_list.txt\"\n",
    "\n",
    "# Open the file in write mode\n",
    "with open(file_path, 'w') as file:\n",
    "    # Write each string followed by a newline character\n",
    "    for string in file_list:\n",
    "        file.write(f\"{string}\\n\")\n",
    "\n",
    "# Open the file in write mode\n",
    "with open(label_data_file_path, 'w') as file:\n",
    "    # Write each string followed by a newline character\n",
    "    for string in label_data_file_list:\n",
    "        file.write(f\"{string}\\n\")\n"
   ]
  }
 ],
 "metadata": {
  "kernelspec": {
   "display_name": "beak-ta3",
   "language": "python",
   "name": "python3"
  },
  "language_info": {
   "codemirror_mode": {
    "name": "ipython",
    "version": 3
   },
   "file_extension": ".py",
   "mimetype": "text/x-python",
   "name": "python",
   "nbconvert_exporter": "python",
   "pygments_lexer": "ipython3",
   "version": "3.9.15"
  }
 },
 "nbformat": 4,
 "nbformat_minor": 2
}
