{
 "cells": [
  {
   "cell_type": "markdown",
   "metadata": {},
   "source": [
    "# Information\n",
    "This notebook is about to give you some **examples** about how to use the notebooks and associated functionalities in the **beak** package."
   ]
  },
  {
   "cell_type": "markdown",
   "metadata": {},
   "source": [
    "# Examples"
   ]
  },
  {
   "cell_type": "markdown",
   "metadata": {},
   "source": [
    "## 1. Create a list of raster files based on a pre-defined model definition.\n",
    "Case:\n",
    "- You have a list of raster files in a folder or some subfolders.\n",
    "- You have a model definition for a specific model, stored in the respective model module.\n",
    "- You need a list of files corresponding to the evidence layers defined in the model definition."
   ]
  },
  {
   "cell_type": "markdown",
   "metadata": {},
   "source": [
    "Load model definition"
   ]
  },
  {
   "cell_type": "code",
   "execution_count": 1,
   "metadata": {},
   "outputs": [
    {
     "name": "stdout",
     "output_type": "stream",
     "text": [
      "Model definition:\n",
      "-----------------\n",
      "Geology_Lithology_Majority\n",
      "Geology_Lithology_Minority\n",
      "Geology_Period_Maximum_Majority\n",
      "Geology_Period_Minimum_Majority\n",
      "Geology_Dictionary_Calcareous\n",
      "Geology_Dictionary_Carbonaceous\n",
      "Geology_Dictionary_FineClastic\n",
      "Geology_Dictionary_Felsic\n",
      "Geology_Dictionary_Intermediate\n",
      "Geology_Dictionary_UltramaficMafic\n",
      "Geology_Dictionary_Anatectic\n",
      "Geology_Dictionary_Gneissose\n",
      "Geology_Dictionary_Schistose\n",
      "Terrane_Proximity\n",
      "Geology_PassiveMargin_Proximity\n",
      "Geology_BlackShale_Proximity\n",
      "Geology_Fault_Proximity\n",
      "Geology_Paleolatitude_Period_Maximum\n",
      "Geology_Paleolatitude_Period_Minimum\n",
      "Gravity_GOCE_ShapeIndex\n",
      "Gravity_Bouguer\n",
      "Gravity_Bouguer_HGM\n",
      "Gravity_Bouguer_UpCont30km_HGM\n",
      "Gravity_Bouguer_HGM_Worms_Proximity\n",
      "Gravity_Bouguer_UpCont30km_HGM_Worms_Proximity\n",
      "Magnetic_HGM\n",
      "Magnetic_LongWavelength_HGM\n",
      "Magnetic_HGM_Worms_Proximity\n",
      "Magnetic_LongWavelength_HGM_Worms_Proximity\n",
      "Seismic_LAB_Hoggard\n",
      "Seismic_Moho\n"
     ]
    }
   ],
   "source": [
    "from beak.models import mvt_nat\n",
    "\n",
    "MODEL = \"MVT_PREFERRED\"\n",
    "model = mvt_nat.models[MODEL]\n",
    "\n",
    "print(\"Model definition:\")\n",
    "print(\"-----------------\")\n",
    "for layer, value in model.items():\n",
    "  if value is True: \n",
    "    print(layer)\n",
    "  "
   ]
  },
  {
   "cell_type": "markdown",
   "metadata": {},
   "source": [
    "Load file paths: You can use the practical handling from the package, if data are stored in the beak data folder.<br>\n",
    "Also, you can provide multiple folders to load from"
   ]
  },
  {
   "cell_type": "code",
   "execution_count": 4,
   "metadata": {},
   "outputs": [],
   "source": [
    "from importlib_resources import files\n",
    "\n",
    "BASE_PATH = files(\"beak.data\") / \"LAWLEY22-EXPORT\" / \"EPSG_4326_RES_0_05\" / \"COMPLETE_DATASET\"\n",
    "\n",
    "PATH_NUMERICAL = BASE_PATH / \"NUMERICAL_MINMAX\"\n",
    "PATH_CATEGORICAL = BASE_PATH / \"CATEGORICAL\"\n"
   ]
  },
  {
   "cell_type": "code",
   "execution_count": 7,
   "metadata": {},
   "outputs": [
    {
     "name": "stdout",
     "output_type": "stream",
     "text": [
      "Loading model definition...\n",
      "Selected 31 evidence layers.\n",
      "\n",
      "Searching for files and folders in provided paths...\n",
      "Found 2 folders, 43 subfolders and 812 files.\n",
      "\n",
      "Searching for corresponding files...\n",
      "Found 'Geology_Lithology_Majority' in 31 file(s).\n",
      "Found 'Geology_Lithology_Minority' in 31 file(s).\n",
      "Found 'Geology_Period_Maximum_Majority' in 20 file(s).\n",
      "Found 'Geology_Period_Minimum_Majority' in 20 file(s).\n",
      "Found 'Geology_Dictionary_Calcareous' in 1 file(s).\n",
      "Found 'Geology_Dictionary_Carbonaceous' in 1 file(s).\n",
      "Found 'Geology_Dictionary_FineClastic' in 1 file(s).\n",
      "Found 'Geology_Dictionary_Felsic' in 1 file(s).\n",
      "Found 'Geology_Dictionary_Intermediate' in 1 file(s).\n",
      "Found 'Geology_Dictionary_UltramaficMafic' in 1 file(s).\n",
      "Found 'Geology_Dictionary_Anatectic' in 1 file(s).\n",
      "Found 'Geology_Dictionary_Gneissose' in 1 file(s).\n",
      "Found 'Geology_Dictionary_Schistose' in 1 file(s).\n",
      "Found 'Terrane_Proximity' in 1 file(s).\n",
      "Found 'Geology_PassiveMargin_Proximity' in 1 file(s).\n",
      "Found 'Geology_BlackShale_Proximity' in 1 file(s).\n",
      "Found 'Geology_Fault_Proximity' in 1 file(s).\n",
      "Found 'Geology_Paleolatitude_Period_Maximum' in 1 file(s).\n",
      "Found 'Geology_Paleolatitude_Period_Minimum' in 1 file(s).\n",
      "Found 'Gravity_GOCE_ShapeIndex' in 1 file(s).\n",
      "Found 'Gravity_Bouguer' in 1 file(s).\n",
      "Found 'Gravity_Bouguer_HGM' in 1 file(s).\n",
      "Found 'Gravity_Bouguer_UpCont30km_HGM' in 1 file(s).\n",
      "Found 'Gravity_Bouguer_HGM_Worms_Proximity' in 1 file(s).\n",
      "Found 'Gravity_Bouguer_UpCont30km_HGM_Worms_Proximity' in 1 file(s).\n",
      "Found 'Magnetic_HGM' in 1 file(s).\n",
      "Found 'Magnetic_LongWavelength_HGM' in 1 file(s).\n",
      "Found 'Magnetic_HGM_Worms_Proximity' in 1 file(s).\n",
      "Found 'Magnetic_LongWavelength_HGM_Worms_Proximity' in 1 file(s).\n",
      "Found 'Seismic_LAB_Hoggard' in 1 file(s).\n",
      "Found 'Seismic_Moho' in 1 file(s).\n",
      "\n",
      "Ensuring that all layers have matching files...\n",
      "All layers have matching files.\n",
      "\n",
      "Checking files for multiple occurences...\n",
      "No duplicates found. All filenames occur only once.\n"
     ]
    }
   ],
   "source": [
    "from beak.utilities.io import load_model\n",
    "\n",
    "layers, matches, counts = load_model(model=model, \n",
    "                                     folders=[PATH_NUMERICAL, PATH_CATEGORICAL], \n",
    "                                     file_extensions=[\".tif\", \".tiff\"], \n",
    "                                     verbose=0)"
   ]
  }
 ],
 "metadata": {
  "kernelspec": {
   "display_name": "beak-ta3",
   "language": "python",
   "name": "python3"
  },
  "language_info": {
   "codemirror_mode": {
    "name": "ipython",
    "version": 3
   },
   "file_extension": ".py",
   "mimetype": "text/x-python",
   "name": "python",
   "nbconvert_exporter": "python",
   "pygments_lexer": "ipython3",
   "version": "3.9.15"
  }
 },
 "nbformat": 4,
 "nbformat_minor": 2
}
