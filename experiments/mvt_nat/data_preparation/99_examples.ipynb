{
 "cells": [
  {
   "cell_type": "markdown",
   "metadata": {},
   "source": [
    "# Information\n",
    "This notebook is about to give you some **examples** about how to use the notebooks and associated functionalities in the **beak** package."
   ]
  },
  {
   "cell_type": "markdown",
   "metadata": {},
   "source": [
    "# Examples"
   ]
  },
  {
   "cell_type": "markdown",
   "metadata": {},
   "source": [
    "## 1. Create a list of raster files based on a pre-defined model definition.\n",
    "Case:\n",
    "- You have a list of raster files in a folder or some subfolders.\n",
    "- You have a model definition for a specific model, stored in the respective model module.\n",
    "- You need a list of files corresponding to the evidence layers defined in the model definition."
   ]
  },
  {
   "cell_type": "markdown",
   "metadata": {},
   "source": [
    "Load file paths: You can use the practical handling from the package, if data are stored in the beak data folder.<br>\n",
    "Also, you can provide multiple folders to load from"
   ]
  },
  {
   "cell_type": "code",
   "execution_count": 4,
   "metadata": {},
   "outputs": [],
   "source": [
    "from beak.models import mvt_nat\n",
    "from beak.utilities.io import load_model\n",
    "from importlib_resources import files\n",
    "\n",
    "# Choose model\n",
    "MODEL = \"MVT_PREFERRED\"\n",
    "model = mvt_nat.models[MODEL]\n",
    "\n",
    "def test_load_models():\n",
    "    MODEL = \"MVT_PREFERRED\"\n",
    "    model = mvt_nat.models[MODEL]\n",
    "\n",
    "    BASE_PATH = (\n",
    "        files(\"beak.data\")\n",
    "        / \"LAWLEY22-EXPORT\"\n",
    "        / \"EPSG_4326_RES_0_05\"\n",
    "        / \"COMPLETE_DATASET\"\n",
    "    )\n",
    "    PATH_NUMERICAL = BASE_PATH / \"NUMERICAL\"\n",
    "    PATH_CATEGORICAL = BASE_PATH / \"CATEGORICAL\"\n",
    "\n",
    "    # Test the load_model function\n",
    "    model_dict, file_list, counts = load_model(\n",
    "        model=model,\n",
    "        folders=[PATH_NUMERICAL, PATH_CATEGORICAL],\n",
    "        file_extensions=[\".tif\", \".tiff\"],\n",
    "        verbose=0,\n",
    "    )"
   ]
  },
  {
   "cell_type": "code",
   "execution_count": 5,
   "metadata": {},
   "outputs": [
    {
     "name": "stdout",
     "output_type": "stream",
     "text": [
      "Loading model definition...\n",
      "Selected 31 evidence layers.\n",
      "\n",
      "Searching for files and folders in provided paths...\n",
      "Found 2 folders, 0 subfolders and 129 files.\n",
      "\n",
      "Searching for corresponding files...\n",
      "Searched for 'Geology_Lithology_Majority' but no matching file was found.\n",
      "Searched for 'Geology_Lithology_Minority' but no matching file was found.\n",
      "Searched for 'Geology_Period_Maximum_Majority' but no matching file was found.\n",
      "Searched for 'Geology_Period_Minimum_Majority' but no matching file was found.\n",
      "Searched for 'Geology_Dictionary_Calcareous' but no matching file was found.\n",
      "Searched for 'Geology_Dictionary_Carbonaceous' but no matching file was found.\n",
      "Searched for 'Geology_Dictionary_FineClastic' but no matching file was found.\n",
      "Searched for 'Geology_Dictionary_Felsic' but no matching file was found.\n",
      "Searched for 'Geology_Dictionary_Intermediate' but no matching file was found.\n",
      "Searched for 'Geology_Dictionary_UltramaficMafic' but no matching file was found.\n",
      "Searched for 'Geology_Dictionary_Anatectic' but no matching file was found.\n",
      "Searched for 'Geology_Dictionary_Gneissose' but no matching file was found.\n",
      "Searched for 'Geology_Dictionary_Schistose' but no matching file was found.\n",
      "Found 'Terrane_Proximity' in 1 file(s).\n",
      "Found 'Geology_PassiveMargin_Proximity' in 1 file(s).\n",
      "Found 'Geology_BlackShale_Proximity' in 1 file(s).\n",
      "Found 'Geology_Fault_Proximity' in 1 file(s).\n",
      "Found 'Geology_Paleolatitude_Period_Maximum' in 1 file(s).\n",
      "Found 'Geology_Paleolatitude_Period_Minimum' in 1 file(s).\n",
      "Found 'Gravity_GOCE_ShapeIndex' in 1 file(s).\n",
      "Found 'Gravity_Bouguer' in 1 file(s).\n",
      "Found 'Gravity_Bouguer_HGM' in 1 file(s).\n",
      "Found 'Gravity_Bouguer_UpCont30km_HGM' in 1 file(s).\n",
      "Found 'Gravity_Bouguer_HGM_Worms_Proximity' in 1 file(s).\n",
      "Found 'Gravity_Bouguer_UpCont30km_HGM_Worms_Proximity' in 1 file(s).\n",
      "Found 'Magnetic_HGM' in 1 file(s).\n",
      "Found 'Magnetic_LongWavelength_HGM' in 1 file(s).\n",
      "Found 'Magnetic_HGM_Worms_Proximity' in 1 file(s).\n",
      "Found 'Magnetic_LongWavelength_HGM_Worms_Proximity' in 1 file(s).\n",
      "Found 'Seismic_LAB_Hoggard' in 1 file(s).\n",
      "Found 'Seismic_Moho' in 1 file(s).\n",
      "\n",
      "Ensuring that all layers have matching files...\n",
      "WARNING: No file found for evidence layer 'Geology_Lithology_Majority'.\n",
      "WARNING: No file found for evidence layer 'Geology_Lithology_Minority'.\n",
      "WARNING: No file found for evidence layer 'Geology_Period_Maximum_Majority'.\n",
      "WARNING: No file found for evidence layer 'Geology_Period_Minimum_Majority'.\n",
      "WARNING: No file found for evidence layer 'Geology_Dictionary_Calcareous'.\n",
      "WARNING: No file found for evidence layer 'Geology_Dictionary_Carbonaceous'.\n",
      "WARNING: No file found for evidence layer 'Geology_Dictionary_FineClastic'.\n",
      "WARNING: No file found for evidence layer 'Geology_Dictionary_Felsic'.\n",
      "WARNING: No file found for evidence layer 'Geology_Dictionary_Intermediate'.\n",
      "WARNING: No file found for evidence layer 'Geology_Dictionary_UltramaficMafic'.\n",
      "WARNING: No file found for evidence layer 'Geology_Dictionary_Anatectic'.\n",
      "WARNING: No file found for evidence layer 'Geology_Dictionary_Gneissose'.\n",
      "WARNING: No file found for evidence layer 'Geology_Dictionary_Schistose'.\n",
      "WARNING: 13 layers have no matching files.\n",
      "\n",
      "Checking files for multiple occurences...\n"
     ]
    },
    {
     "ename": "TypeError",
     "evalue": "'NoneType' object is not iterable",
     "output_type": "error",
     "traceback": [
      "\u001b[0;31m---------------------------------------------------------------------------\u001b[0m",
      "\u001b[0;31mTypeError\u001b[0m                                 Traceback (most recent call last)",
      "Cell \u001b[0;32mIn[5], line 1\u001b[0m\n\u001b[0;32m----> 1\u001b[0m \u001b[43mtest_load_models\u001b[49m\u001b[43m(\u001b[49m\u001b[43m)\u001b[49m\n",
      "Cell \u001b[0;32mIn[4], line 23\u001b[0m, in \u001b[0;36mtest_load_models\u001b[0;34m()\u001b[0m\n\u001b[1;32m     20\u001b[0m PATH_CATEGORICAL \u001b[38;5;241m=\u001b[39m BASE_PATH \u001b[38;5;241m/\u001b[39m \u001b[38;5;124m\"\u001b[39m\u001b[38;5;124mCATEGORICAL\u001b[39m\u001b[38;5;124m\"\u001b[39m\n\u001b[1;32m     22\u001b[0m \u001b[38;5;66;03m# Test the load_model function\u001b[39;00m\n\u001b[0;32m---> 23\u001b[0m model_dict, file_list, counts \u001b[38;5;241m=\u001b[39m \u001b[43mload_model\u001b[49m\u001b[43m(\u001b[49m\n\u001b[1;32m     24\u001b[0m \u001b[43m    \u001b[49m\u001b[43mmodel\u001b[49m\u001b[38;5;241;43m=\u001b[39;49m\u001b[43mmodel\u001b[49m\u001b[43m,\u001b[49m\n\u001b[1;32m     25\u001b[0m \u001b[43m    \u001b[49m\u001b[43mfolders\u001b[49m\u001b[38;5;241;43m=\u001b[39;49m\u001b[43m[\u001b[49m\u001b[43mPATH_NUMERICAL\u001b[49m\u001b[43m,\u001b[49m\u001b[43m \u001b[49m\u001b[43mPATH_CATEGORICAL\u001b[49m\u001b[43m]\u001b[49m\u001b[43m,\u001b[49m\n\u001b[1;32m     26\u001b[0m \u001b[43m    \u001b[49m\u001b[43mfile_extensions\u001b[49m\u001b[38;5;241;43m=\u001b[39;49m\u001b[43m[\u001b[49m\u001b[38;5;124;43m\"\u001b[39;49m\u001b[38;5;124;43m.tif\u001b[39;49m\u001b[38;5;124;43m\"\u001b[39;49m\u001b[43m,\u001b[49m\u001b[43m \u001b[49m\u001b[38;5;124;43m\"\u001b[39;49m\u001b[38;5;124;43m.tiff\u001b[39;49m\u001b[38;5;124;43m\"\u001b[39;49m\u001b[43m]\u001b[49m\u001b[43m,\u001b[49m\n\u001b[1;32m     27\u001b[0m \u001b[43m    \u001b[49m\u001b[43mverbose\u001b[49m\u001b[38;5;241;43m=\u001b[39;49m\u001b[38;5;241;43m0\u001b[39;49m\u001b[43m,\u001b[49m\n\u001b[1;32m     28\u001b[0m \u001b[43m\u001b[49m\u001b[43m)\u001b[49m\n",
      "File \u001b[0;32m/beak-ta3/src/beak/utilities/io.py:439\u001b[0m, in \u001b[0;36mload_model\u001b[0;34m(model, folders, file_extensions, verbose)\u001b[0m\n\u001b[1;32m    437\u001b[0m \u001b[38;5;66;03m# Count the occurrences of each filename\u001b[39;00m\n\u001b[1;32m    438\u001b[0m \u001b[38;5;28mprint\u001b[39m(\u001b[38;5;124m\"\u001b[39m\u001b[38;5;130;01m\\n\u001b[39;00m\u001b[38;5;124mChecking files for multiple occurences...\u001b[39m\u001b[38;5;124m\"\u001b[39m)\n\u001b[0;32m--> 439\u001b[0m file_list \u001b[38;5;241m=\u001b[39m [file \u001b[38;5;28;01mfor\u001b[39;00m values \u001b[38;5;129;01min\u001b[39;00m model_dict\u001b[38;5;241m.\u001b[39mvalues() \u001b[38;5;28;01mfor\u001b[39;00m file \u001b[38;5;129;01min\u001b[39;00m values]\n\u001b[1;32m    440\u001b[0m filename_counts \u001b[38;5;241m=\u001b[39m Counter([file\u001b[38;5;241m.\u001b[39mname \u001b[38;5;28;01mfor\u001b[39;00m file \u001b[38;5;129;01min\u001b[39;00m file_list])\n\u001b[1;32m    442\u001b[0m \u001b[38;5;66;03m# Print the filenames that occur multiple times and their counts\u001b[39;00m\n",
      "File \u001b[0;32m/beak-ta3/src/beak/utilities/io.py:439\u001b[0m, in \u001b[0;36m<listcomp>\u001b[0;34m(.0)\u001b[0m\n\u001b[1;32m    437\u001b[0m \u001b[38;5;66;03m# Count the occurrences of each filename\u001b[39;00m\n\u001b[1;32m    438\u001b[0m \u001b[38;5;28mprint\u001b[39m(\u001b[38;5;124m\"\u001b[39m\u001b[38;5;130;01m\\n\u001b[39;00m\u001b[38;5;124mChecking files for multiple occurences...\u001b[39m\u001b[38;5;124m\"\u001b[39m)\n\u001b[0;32m--> 439\u001b[0m file_list \u001b[38;5;241m=\u001b[39m [file \u001b[38;5;28;01mfor\u001b[39;00m values \u001b[38;5;129;01min\u001b[39;00m model_dict\u001b[38;5;241m.\u001b[39mvalues() \u001b[38;5;28;01mfor\u001b[39;00m file \u001b[38;5;129;01min\u001b[39;00m values]\n\u001b[1;32m    440\u001b[0m filename_counts \u001b[38;5;241m=\u001b[39m Counter([file\u001b[38;5;241m.\u001b[39mname \u001b[38;5;28;01mfor\u001b[39;00m file \u001b[38;5;129;01min\u001b[39;00m file_list])\n\u001b[1;32m    442\u001b[0m \u001b[38;5;66;03m# Print the filenames that occur multiple times and their counts\u001b[39;00m\n",
      "\u001b[0;31mTypeError\u001b[0m: 'NoneType' object is not iterable"
     ]
    }
   ],
   "source": [
    "test_load_models()"
   ]
  }
 ],
 "metadata": {
  "kernelspec": {
   "display_name": "beak-ta3",
   "language": "python",
   "name": "python3"
  },
  "language_info": {
   "codemirror_mode": {
    "name": "ipython",
    "version": 3
   },
   "file_extension": ".py",
   "mimetype": "text/x-python",
   "name": "python",
   "nbconvert_exporter": "python",
   "pygments_lexer": "ipython3",
   "version": "3.9.15"
  }
 },
 "nbformat": 4,
 "nbformat_minor": 2
}
