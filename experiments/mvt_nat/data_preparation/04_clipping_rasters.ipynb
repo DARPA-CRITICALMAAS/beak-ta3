{
 "cells": [
  {
   "cell_type": "markdown",
   "metadata": {},
   "source": [
    "# 2. Clip rasters \n",
    "to a specific extent based on a shapefile with queries and multiple polygons."
   ]
  },
  {
   "cell_type": "code",
   "execution_count": 2,
   "metadata": {},
   "outputs": [],
   "source": [
    "from importlib_resources import files\n",
    "from beak.utilities.raster_processing import clip_raster\n",
    "from multiprocessing import cpu_count\n",
    "\n",
    "# Set paths\n",
    "BASE_PATH = files(\"beak.data\")\n",
    "SHAPE_PATH = files(\"beak.data\") / \"BOUNDARIES\" / \"tl_2012_us_state_EPSG_4326.shp\"\n",
    "\n",
    "# Input folder: The folder containing the raster files to be clipped. \n",
    "# This folder should contain subfolders for each variable type (e.g. NUMERICAL, CATEGORICAL, etc.)\n",
    "BASE_FOLDER = BASE_PATH / \"LAWLEY22-EXPORT\" / \"EPSG_4326_RES_0_015\"\n",
    "input_folder = BASE_FOLDER / \"COMPLETE_DATASET\""
   ]
  },
  {
   "cell_type": "markdown",
   "metadata": {},
   "source": [
    "### U.S. Continental (lower 48 states)"
   ]
  },
  {
   "cell_type": "code",
   "execution_count": 1,
   "metadata": {},
   "outputs": [
    {
     "name": "stdout",
     "output_type": "stream",
     "text": [
      "Processing query: 1/1\n",
      "Starting parallel processing...\n",
      "Done!\n"
     ]
    }
   ],
   "source": [
    "# Output folders: The folders where the clipped raster files will be saved.\n",
    "# There should be one output folder for each query. The folder structure will be copied.\n",
    "\n",
    "output_folders = [\n",
    "    BASE_FOLDER / \"CLIPPED_USC\",\n",
    "]\n",
    "\n",
    "# Queries: The queries used to clip the raster files.\n",
    "shapefile = SHAPE_PATH              # The shapefile used to clip the raster files.\n",
    "queries = [\n",
    "    \"NAME!='Alaska' & NAME!='Hawaii' & NAME!='Puerto Rico' & NAME!='United Sats Virgin Islands' & NAME!='American Samoa' & NAME!='Guam' & NAME!='Commonwealth of the Northern Mariana Islands'\",\n",
    "]\n",
    "\n",
    "extensions = [\".tif\", \".tiff\"]       # The extensions of the raster files to be clipped.\n",
    "include_source = False               # Whether to include files in the root of the input folder.\n",
    "\n",
    "# Clip the raster files\n",
    "for i, query in enumerate(queries):\n",
    "    print(f\"Processing query: {i+1}/{len(queries)}\")\n",
    "    \n",
    "    clip_raster(\n",
    "        input_folder=input_folder,\n",
    "        output_folder=output_folders[i],\n",
    "        shapefile=shapefile,\n",
    "        query=query,\n",
    "        bounds=None,\n",
    "        raster_extensions=[\".tif\", \".tiff\"],\n",
    "        include_source=include_source,\n",
    "        n_workers=cpu_count()\n",
    "    )\n"
   ]
  },
  {
   "cell_type": "markdown",
   "metadata": {},
   "source": [
    "### Alaska\n",
    "with crop at -129° east"
   ]
  },
  {
   "cell_type": "code",
   "execution_count": 3,
   "metadata": {},
   "outputs": [
    {
     "name": "stdout",
     "output_type": "stream",
     "text": [
      "Processing query: 1/1\n",
      "Starting parallel processing...\n",
      "Done!\n"
     ]
    }
   ],
   "source": [
    "# Output folders: The folders where the clipped raster files will be saved.\n",
    "# There should be one output folder for each query. The folder structure will be copied.\n",
    "output_folders = [\n",
    "    BASE_FOLDER / \"CLIPPED_ALASKA\",\n",
    "]\n",
    "\n",
    "# Queries: The queries used to clip the raster files.\n",
    "shapefile = SHAPE_PATH              # The shapefile used to clip the raster files.\n",
    "queries = [\n",
    "    \"NAME=='Alaska'\",\n",
    "]\n",
    "\n",
    "extensions = [\".tif\", \".tiff\"]       # The extensions of the raster files to be clipped.\n",
    "include_source = False               # Whether to include files in the root of the input folder.\n",
    "\n",
    "# Clip the raster files\n",
    "for i, query in enumerate(queries):\n",
    "    print(f\"Processing query: {i+1}/{len(queries)}\")\n",
    "    \n",
    "    clip_raster(\n",
    "        input_folder=input_folder,\n",
    "        output_folder=output_folders[i],\n",
    "        shapefile=shapefile,\n",
    "        query=query,\n",
    "        bounds=(None, None, -129, None),\n",
    "        raster_extensions=[\".tif\", \".tiff\"],\n",
    "        include_source=include_source,\n",
    "        n_workers=48,\n",
    "    )\n"
   ]
  }
 ],
 "metadata": {
  "kernelspec": {
   "display_name": "beak-ta3",
   "language": "python",
   "name": "python3"
  },
  "language_info": {
   "codemirror_mode": {
    "name": "ipython",
    "version": 3
   },
   "file_extension": ".py",
   "mimetype": "text/x-python",
   "name": "python",
   "nbconvert_exporter": "python",
   "pygments_lexer": "ipython3",
   "version": "3.9.15"
  }
 },
 "nbformat": 4,
 "nbformat_minor": 2
}
