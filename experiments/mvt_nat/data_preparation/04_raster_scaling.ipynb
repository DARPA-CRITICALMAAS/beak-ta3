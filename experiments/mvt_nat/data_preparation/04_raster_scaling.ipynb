{
 "cells": [
  {
   "cell_type": "markdown",
   "metadata": {},
   "source": [
    "# Information\n",
    "## How to\n",
    "1. Set the parameters. **UPPERCASE** letters are user input variables\n",
    "2. Run the reprojection cell\n"
   ]
  },
  {
   "cell_type": "markdown",
   "metadata": {},
   "source": [
    "# Requirements"
   ]
  },
  {
   "cell_type": "code",
   "execution_count": 11,
   "metadata": {},
   "outputs": [],
   "source": [
    "# Standard libraries\n",
    "import sys\n",
    "import os\n",
    "from pathlib import Path\n",
    "from importlib_resources import files\n",
    "from beartype.typing import Literal, Sequence\n",
    "\n",
    "# Insert the path to the root directory of the project\n",
    "sys.path.insert(0, str(Path(os.getcwd()).parent.parent))\n",
    "\n",
    "# Custom modules\n",
    "from beak.utilities import transformation\n"
   ]
  },
  {
   "cell_type": "markdown",
   "metadata": {},
   "source": [
    "# Scaling"
   ]
  },
  {
   "cell_type": "markdown",
   "metadata": {},
   "source": [
    "**Scaling** all numerical folders within a specified model configuration.<br>\n",
    "Reads the <code>ROOT_FOLDER</code> and takes the <code>NUMERICAL</code> subfolder within each model configuration."
   ]
  },
  {
   "cell_type": "markdown",
   "metadata": {},
   "source": [
    "**User inputs**"
   ]
  },
  {
   "cell_type": "code",
   "execution_count": 41,
   "metadata": {},
   "outputs": [
    {
     "name": "stdout",
     "output_type": "stream",
     "text": [
      "CATEGORICAL\n",
      "GROUND_TRUTH\n",
      "NUMERICAL\n"
     ]
    }
   ],
   "source": [
    "BASE_PATH = files(\"beak.data\")\n",
    "ROOT_FOLDER = BASE_PATH / \"LAWLEY22-EXPORT\" / \"EPSG_3857_RES_5000\" / \"COMPLETE_DATASET\"\n",
    "\n",
    "METHODS = [\"minmax\", \"standard\"]\n",
    "\n",
    "for folder in os.listdir(ROOT_FOLDER):\n",
    "  print(folder)\n"
   ]
  },
  {
   "cell_type": "code",
   "execution_count": 42,
   "metadata": {},
   "outputs": [
    {
     "name": "stdout",
     "output_type": "stream",
     "text": [
      "s:\\projekte\\20230082_darpa_criticalmaas_ta3\\bearbeitung\\github\\beak-ta3\\src\\beak\\data\\LAWLEY22-EXPORT\\EPSG_3857_RES_5000\\COMPLETE_DATASET\\NUMERICAL\n"
     ]
    }
   ],
   "source": [
    "SELECTION = [\"NUMERICAL\", \"NUMERICAL_IMPUTED\"]\n",
    "input_folders = [ROOT_FOLDER / folder for folder in SELECTION]\n"
   ]
  },
  {
   "cell_type": "code",
   "execution_count": 43,
   "metadata": {},
   "outputs": [
    {
     "name": "stdout",
     "output_type": "stream",
     "text": [
      "Processing NUMERICAL with minmax method...\n",
      "Selected folder: S:\\Projekte\\20230082_DARPA_CriticalMAAS_TA3\\Bearbeitung\\GitHub\\beak-ta3\\src\\beak\\data\\LAWLEY22-EXPORT\\EPSG_3857_RES_5000\\COMPLETE_DATASET\\NUMERICAL\n",
      "Total of folders found: 0\n",
      "Files loaded: 45\n"
     ]
    },
    {
     "name": "stderr",
     "output_type": "stream",
     "text": [
      "Processing files: 100%|██████████| 45/45 [00:08<00:00,  5.17it/s]\n"
     ]
    },
    {
     "name": "stdout",
     "output_type": "stream",
     "text": [
      "Processing NUMERICAL with standard method...\n",
      "Selected folder: S:\\Projekte\\20230082_DARPA_CriticalMAAS_TA3\\Bearbeitung\\GitHub\\beak-ta3\\src\\beak\\data\\LAWLEY22-EXPORT\\EPSG_3857_RES_5000\\COMPLETE_DATASET\\NUMERICAL\n",
      "Total of folders found: 0\n",
      "Files loaded: 45\n"
     ]
    },
    {
     "name": "stderr",
     "output_type": "stream",
     "text": [
      "Processing files: 100%|██████████| 45/45 [00:09<00:00,  4.66it/s]\n"
     ]
    }
   ],
   "source": [
    "def scale_raster(input_folder: Path, methods: Sequence[Literal[\"minmax\", \"standard\"]]):\n",
    "  for method in methods:\n",
    "    print(f\"Processing {folder} with {method} method...\")\n",
    "    output_folder = ROOT_FOLDER / str(\"NUMERICAL_\" + str.upper(method))\n",
    "    transformation.scale_raster(input_folder, output_folder, method)\n",
    "\n",
    "# Scale\n",
    "[scale_raster(input_folder, methods=METHODS) for input_folder in input_folders]"
   ]
  }
 ],
 "metadata": {
  "kernelspec": {
   "display_name": "Python 3 (ipykernel)",
   "language": "python",
   "name": "python3"
  },
  "language_info": {
   "codemirror_mode": {
    "name": "ipython",
    "version": 3
   },
   "file_extension": ".py",
   "mimetype": "text/x-python",
   "name": "python",
   "nbconvert_exporter": "python",
   "pygments_lexer": "ipython3",
   "version": "3.9.15"
  }
 },
 "nbformat": 4,
 "nbformat_minor": 4
}
