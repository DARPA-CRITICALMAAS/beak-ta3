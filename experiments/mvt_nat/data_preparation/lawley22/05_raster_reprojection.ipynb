{
 "cells": [
  {
   "cell_type": "markdown",
   "metadata": {},
   "source": [
    "# Information\n",
    "\n",
    "## How to\n",
    "1. Set the parameters. **UPPERCASE** letters are user input variables\n",
    "2. Run the reprojection cell\n"
   ]
  },
  {
   "cell_type": "markdown",
   "metadata": {},
   "source": [
    "# Requirements"
   ]
  },
  {
   "cell_type": "code",
   "execution_count": 1,
   "metadata": {},
   "outputs": [],
   "source": [
    "# Standard libraries\n",
    "from pathlib import Path\n",
    "from importlib_resources import files\n",
    "\n",
    "# Custom modules\n",
    "from beak.utilities import io, misc, raster_processing\n"
   ]
  },
  {
   "cell_type": "markdown",
   "metadata": {},
   "source": [
    "# Definitions\n",
    "**User inputs**"
   ]
  },
  {
   "cell_type": "code",
   "execution_count": 5,
   "metadata": {},
   "outputs": [
    {
     "name": "stdout",
     "output_type": "stream",
     "text": [
      "Reprojecting data to EPSG: 3857 and resolution: 2500...\n"
     ]
    }
   ],
   "source": [
    "# Reprojection parameters [4326 (g), 3857 (p), 32615 (p)]\n",
    "EPSG_TARGET = 3857\n",
    "RES_TARGET = 2500\n",
    "\n",
    "# Path to datacube and export folder\n",
    "BASE_PATH = files(\"beak.data\")\n",
    "PATH_INPUT = BASE_PATH / \"GEOPHYSICS_AERORADIOMETRICS\" / \"RAW\"\n",
    "PATH_EXPORT = BASE_PATH / \"GEOPHYSICS_AERORADIOMETRICS\" / \"PROCESSED\" / str(\"EPSG\" + \"_\" + str(EPSG_TARGET) + \"_\" + \"RES\" + \"_\" + str(RES_TARGET))  / \"REPROJECTED\"\n",
    "\n",
    "print(\"Reprojecting data to EPSG: \" + str(EPSG_TARGET) + \" and resolution: \" + str(RES_TARGET) + \"...\")\n"
   ]
  },
  {
   "cell_type": "markdown",
   "metadata": {},
   "source": [
    "**Definitions**"
   ]
  },
  {
   "cell_type": "code",
   "execution_count": 6,
   "metadata": {},
   "outputs": [
    {
     "name": "stdout",
     "output_type": "stream",
     "text": [
      "Input_folder: s:\\projekte\\20230082_darpa_criticalmaas_ta3\\bearbeitung\\github\\beak-ta3\\src\\beak\\data\\GEOPHYSICS_AERORADIOMETRICS\\RAW\n",
      "Export_folder: s:\\projekte\\20230082_darpa_criticalmaas_ta3\\bearbeitung\\github\\beak-ta3\\src\\beak\\data\\GEOPHYSICS_AERORADIOMETRICS\\PROCESSED\\EPSG_3857_RES_2500\\UNIFIED\n"
     ]
    }
   ],
   "source": [
    "# Input\n",
    "input_folder = PATH_INPUT\n",
    "\n",
    "# Output\n",
    "export_folder = misc.replace_invalid_characters(str(PATH_EXPORT))\n",
    "export_folder = io.check_path(Path(export_folder))\n",
    "\n",
    "# Reproject\n",
    "epsg_target = EPSG_TARGET\n",
    "res_target = RES_TARGET\n",
    "\n",
    "print(f\"Input_folder: {input_folder}\")\n",
    "print(f\"Export_folder: {export_folder}\")"
   ]
  },
  {
   "cell_type": "markdown",
   "metadata": {},
   "source": [
    "# Reprojecting"
   ]
  },
  {
   "cell_type": "code",
   "execution_count": 8,
   "metadata": {},
   "outputs": [
    {
     "name": "stdout",
     "output_type": "stream",
     "text": [
      "Selected folder: s:\\projekte\\20230082_darpa_criticalmaas_ta3\\bearbeitung\\github\\beak-ta3\\src\\beak\\data\\AERORADIOMETRICS-RAW\n",
      "Output folder: s:\\projekte\\20230082_darpa_criticalmaas_ta3\\bearbeitung\\github\\beak-ta3\\src\\beak\\data\\AERORADIOMETRICS-UNIFIED\\EPSG_3857_RES_2500\n",
      "Total of folders found: 2\n",
      "Files loaded: 15\n",
      "Starting parallel processing...\n",
      "Done!\n"
     ]
    }
   ],
   "source": [
    "import multiprocessing as mp\n",
    "raster_processing.reproject_raster(input_folder, export_folder, epsg_target, res_target, resampling_mode=\"auto\", include_source=True, n_workers=int(mp.cpu_count()))"
   ]
  }
 ],
 "metadata": {
  "kernelspec": {
   "display_name": "Python 3 (ipykernel)",
   "language": "python",
   "name": "python3"
  },
  "language_info": {
   "codemirror_mode": {
    "name": "ipython",
    "version": 3
   },
   "file_extension": ".py",
   "mimetype": "text/x-python",
   "name": "python",
   "nbconvert_exporter": "python",
   "pygments_lexer": "ipython3",
   "version": "3.9.15"
  }
 },
 "nbformat": 4,
 "nbformat_minor": 4
}
