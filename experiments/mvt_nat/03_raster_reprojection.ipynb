{
 "cells": [
  {
   "cell_type": "markdown",
   "metadata": {},
   "source": [
    "# Information\n",
    "## Source\n",
    "This notebook reprojects the extracted data from Lawley et al. (2022) using the version from https://drive.google.com/file/d/1jyxbPmwhMEhgezxMTxwmKTuU1PhT9yPe based on the original H3 hexagonal polygon data from EPSG:4326 (geographic CRS) to a projected CRS. The EPSG code can be change as needed.\n",
    "\n",
    "**Citaton**: <p>\n",
    "Christopher J.M. Lawley, Anne E. McCafferty, Garth E. Graham, David L. Huston, Karen D. Kelley, Karol Czarnota, Suzanne Paradis, Jan M. Peter, Nathan Hayward, Mike Barlow, Poul Emsbo, Joshua Coyan, Carma A. San Juan, Michael G. Gadd: <br>\n",
    "Data–driven prospectivity modelling of sediment–hosted Zn–Pb mineral systems and their critical raw materials. <br>\n",
    "Ore Geology Reviews, Volume 141, 2022, 104635, ISSN 0169-1368, https://doi.org/10.1016/j.oregeorev.2021.104635.\n",
    "\n",
    "## How to\n",
    "1. Set the parameters. **UPPERCASE** letters are user input variables\n",
    "2. Run the reprojection cell\n"
   ]
  },
  {
   "cell_type": "markdown",
   "metadata": {},
   "source": [
    "# Requirements"
   ]
  },
  {
   "cell_type": "code",
   "execution_count": 2,
   "metadata": {},
   "outputs": [],
   "source": [
    "# Standard libraries\n",
    "from pathlib import Path\n",
    "from importlib_resources import files\n",
    "\n",
    "# Custom modules\n",
    "from beak.utilities import io, misc, raster_processing\n"
   ]
  },
  {
   "cell_type": "markdown",
   "metadata": {},
   "source": [
    "# Definitions\n",
    "**User inputs**"
   ]
  },
  {
   "cell_type": "code",
   "execution_count": 3,
   "metadata": {},
   "outputs": [],
   "source": [
    "# Reprojection parameters\n",
    "EPSG_TARGET = 3857\n",
    "RES_TARGET = 5000\n",
    "\n",
    "# Path to datacube and export folder\n",
    "BASE_PATH = files(\"beak.data\")\n",
    "PATH_INPUT = BASE_PATH / \"LAWLEY22-EXPORT\" / \"EPSG_4326_RES_0_05\" / \"COMPLETE_DATASET\"\n",
    "\n",
    "# Example will output ../LAWEY22-EXPORT/EPSG_4326_RES_0_05\n",
    "PATH_EXPORT = BASE_PATH / \"LAWLEY22-EXPORT\" / str(\"EPSG\" + \"_\" + str(EPSG_TARGET) + \"_\" + \"RES\" + \"_\" + str(RES_TARGET)) / \"COMPLETE_DATASET\""
   ]
  },
  {
   "cell_type": "markdown",
   "metadata": {},
   "source": [
    "**Definitions**"
   ]
  },
  {
   "cell_type": "code",
   "execution_count": 4,
   "metadata": {},
   "outputs": [],
   "source": [
    "# Input\n",
    "input_folder = PATH_INPUT\n",
    "\n",
    "# Output\n",
    "export_folder = misc.replace_invalid_characters(str(PATH_EXPORT))\n",
    "export_folder = io.check_path(Path(export_folder))\n",
    "\n",
    "# Reproject\n",
    "epsg_target = EPSG_TARGET\n",
    "res_target = RES_TARGET"
   ]
  },
  {
   "cell_type": "markdown",
   "metadata": {},
   "source": [
    "# Reprojecting"
   ]
  },
  {
   "cell_type": "code",
   "execution_count": 5,
   "metadata": {},
   "outputs": [
    {
     "name": "stdout",
     "output_type": "stream",
     "text": [
      "Selected folder: s:\\projekte\\20230082_darpa_criticalmaas_ta3\\bearbeitung\\github\\beak-ta3\\src\\beak\\data\\LAWLEY22-EXPORT\\EPSG_4326_RES_0_05\\COMPLETE_DATASET\n",
      "Output folder: s:\\projekte\\20230082_darpa_criticalmaas_ta3\\bearbeitung\\github\\beak-ta3\\src\\beak\\data\\LAWLEY22-EXPORT\\EPSG_3857_RES_5000\\COMPLETE_DATASET\n",
      "Total of folders found: 46\n",
      "Files loaded: 815\n"
     ]
    },
    {
     "name": "stderr",
     "output_type": "stream",
     "text": [
      "Processing files: 100%|██████████| 815/815 [01:45<00:00,  7.71it/s]\n"
     ]
    }
   ],
   "source": [
    "raster_processing.reproject_raster(input_folder, export_folder, epsg_target, res_target)"
   ]
  }
 ],
 "metadata": {
  "kernelspec": {
   "display_name": "Python 3 (ipykernel)",
   "language": "python",
   "name": "python3"
  },
  "language_info": {
   "codemirror_mode": {
    "name": "ipython",
    "version": 3
   },
   "file_extension": ".py",
   "mimetype": "text/x-python",
   "name": "python",
   "nbconvert_exporter": "python",
   "pygments_lexer": "ipython3",
   "version": "3.9.15"
  }
 },
 "nbformat": 4,
 "nbformat_minor": 4
}
