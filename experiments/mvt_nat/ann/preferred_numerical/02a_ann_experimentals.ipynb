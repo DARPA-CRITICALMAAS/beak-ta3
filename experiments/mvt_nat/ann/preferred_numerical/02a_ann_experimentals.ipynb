{
 "cells": [
  {
   "cell_type": "markdown",
   "metadata": {},
   "source": [
    "# Information\n",
    "## Source\n",
    "This notebook prepares the data from Lawley et al. (2022) using the version from https://drive.google.com/file/d/1jyxbPmwhMEhgezxMTxwmKTuU1PhT9yPe using the original H3 hexagonal polygon data.\n",
    "\n",
    "**Citaton**: <p>\n",
    "Christopher J.M. Lawley, Anne E. McCafferty, Garth E. Graham, David L. Huston, Karen D. Kelley, Karol Czarnota, Suzanne Paradis, Jan M. Peter, Nathan Hayward, Mike Barlow, Poul Emsbo, Joshua Coyan, Carma A. San Juan, Michael G. Gadd: <br>\n",
    "Data–driven prospectivity modelling of sediment–hosted Zn–Pb mineral systems and their critical raw materials. <br>\n",
    "Ore Geology Reviews, Volume 141, 2022, 104635, ISSN 0169-1368, https://doi.org/10.1016/j.oregeorev.2021.104635.\n",
    "\n",
    "## What is it for?\n",
    "This notebook contains the functionality to prepare and export the datacube data of a given model into a ML readable format.<br>\n",
    "\n",
    "## How to\n",
    "1. Get the datacube from the link above and extract the .csv file. In this notebook, we use *data/LAWLEY22-RAW*.<p>\n",
    "2. Read the *Model setup* section<p>\n",
    "3. Choose the preferred model from the Lawley et al. (2022) paper. Since we're working with the MVT, the definition is based on the **preferred** MVT model from the paper. <br>Your'e welcome to add other models in the <code>model.py</code> as you want to. The notebook will consider all **keys** with a **True** value, but not those with a **False** one. This way, it's easy to change exports as desired.<p>\n",
    "4. Make some **user-defined** decisions and adjust path names etc. if necessary. <p>**ALL** possible user-interactions are in uppercase-letters.<br>The only point not considered here are the **Training** columns which may need some change if you want to export data for a **CD** model. You can do so down below in the **ground truth** investigation cells. Simply change *Training_MVT* to *Training_CD* if necessary.<p>\n",
    "**We have to mention, that the generation of proxies like distance calculations, first and second order derivatives etc. will not work correctly with a geopgraphic CRS**.\n",
    "5. Check the content of the datacube within the **Data** section.<p>\n",
    "6. Prepare the data\n",
    "    - numerical\n",
    "    - categorical\n",
    "    - ground truth data<p>\n",
    "7. ...\n"
   ]
  },
  {
   "cell_type": "markdown",
   "metadata": {},
   "source": [
    "## Model setup"
   ]
  },
  {
   "cell_type": "markdown",
   "metadata": {},
   "source": [
    "Note that the **Geology_Dictionary** categories contain more than the incorporated dictionaries. Lawley et al. (2022) explicitly stated that:\n",
    "- Sedimentary dictionaries = FineClastic, Carbonaceous, Calcareous\n",
    "- Igneous dictionaries = Felsic, Intermediate, Mafic, Ultramafic\n",
    "- Metamorphic dictionaries = Anatectic, Gneissose, Schistose\n",
    "\n",
    "However, the complete list would be like:\n",
    "- Sedimentary dictionaries = FineClastic, Carbonaceous, Calcareous, **Cherty, CoarseClastic, Evaporitic, RedBed, Sedimentary**\n",
    "- Igneous dictionaries = Felsic, Intermediate, Mafic, Ultramafic, **Alkalic, Pegmatitic**\n",
    "- Metamorphic dictionaries = Anatectic, Gneissose, Schistose\n",
    "\n",
    "Also note, that the **Mafic** dictionary **does not exist** as separate column in the datacube and thus was not considered in the model setup!<br>\n",
    "However, it seems to be included in the <i>Geology_Dictionary_UltramaficMafic</i> dict."
   ]
  },
  {
   "cell_type": "code",
   "execution_count": 4,
   "metadata": {},
   "outputs": [],
   "source": [
    "# Standard libraries\n",
    "import numpy as np\n",
    "import pandas as pd\n",
    "import seaborn as sns\n",
    "\n",
    "from sklearn.preprocessing import StandardScaler, MinMaxScaler\n",
    "from sklearn.model_selection import train_test_split\n",
    "\n",
    "from collections import Counter\n",
    "\n",
    "import sys, os\n",
    "from pathlib import Path\n",
    "\n",
    "# Insert the path to the root directory of the project\n",
    "sys.path.insert(0, str(Path(os.getcwd()).parent.parent))\n",
    "\n",
    "# Custom modules\n",
    "import beak.utilities.io as io                   \n",
    "import beak.utilities.eda as eda\n",
    "from beak.models import mvt_nat                   # Includes the model definitions used in this notebook \n",
    "\n",
    "from importlib.resources import files\n",
    "BASE_PATH = files(\"beak.data\")"
   ]
  },
  {
   "cell_type": "markdown",
   "metadata": {},
   "source": [
    "# Definitions\n",
    "**User inputs**"
   ]
  },
  {
   "cell_type": "code",
   "execution_count": 5,
   "metadata": {},
   "outputs": [],
   "source": [
    "# Choose model\n",
    "MODEL = \"MVT_PREFERRED_NUMERICAL\"\n",
    "\n",
    "# Path to datacube and export folder\n",
    "PATH_DATACUBE_IN = BASE_PATH / \"LAWLEY22\" / \"RAW\" / \"2021_Table04_Datacube.csv\"\n",
    "PATH_DATA_OUT = BASE_PATH\n",
    "\n",
    "PATH_ML_MODELS = \"models/\"\n",
    "PATH_MODEL_RESULTS = \"exports/\"\n",
    "PATH_TRAIN_LOGS = \"logs/\"\n",
    "\n",
    "FORMAT = \"FEATHER\"                                  # FEATHER, CSV\n",
    "\n",
    "# ROI\n",
    "REGIONS =[\"United States of America\", \"Canada\"]     # Canada, United States of America, Australia\n",
    "N_ROWS = None                                       # Number of rows to read from datacube, None for all\n",
    "\n",
    "COL_GROUND_TRUTH_MAX = \"Training_MVT\"\n",
    "COLS_GROUND_TRUTH_DATACUBE = [\"Training_MVT_Deposit\", \"Training_MVT_Occurrence\"]\n",
    "COLS_GROUND_TRUTH = [COL_GROUND_TRUTH_MAX] + COLS_GROUND_TRUTH_DATACUBE\n",
    "\n",
    "ground_truth_selected = COL_GROUND_TRUTH_MAX\n"
   ]
  },
  {
   "cell_type": "code",
   "execution_count": 6,
   "metadata": {},
   "outputs": [
    {
     "name": "stdout",
     "output_type": "stream",
     "text": [
      "Evidence layer 1/18: Terrane_Proximity\n",
      "Evidence layer 2/18: Geology_PassiveMargin_Proximity\n",
      "Evidence layer 3/18: Geology_BlackShale_Proximity\n",
      "Evidence layer 4/18: Geology_Fault_Proximity\n",
      "Evidence layer 5/18: Geology_Paleolatitude_Period_Maximum\n",
      "Evidence layer 6/18: Geology_Paleolatitude_Period_Minimum\n",
      "Evidence layer 7/18: Gravity_GOCE_ShapeIndex\n",
      "Evidence layer 8/18: Gravity_Bouguer\n",
      "Evidence layer 9/18: Gravity_Bouguer_HGM\n",
      "Evidence layer 10/18: Gravity_Bouguer_UpCont30km_HGM\n",
      "Evidence layer 11/18: Gravity_Bouguer_HGM_Worms_Proximity\n",
      "Evidence layer 12/18: Gravity_Bouguer_UpCont30km_HGM_Worms_Proximity\n",
      "Evidence layer 13/18: Magnetic_HGM\n",
      "Evidence layer 14/18: Magnetic_LongWavelength_HGM\n",
      "Evidence layer 15/18: Magnetic_HGM_Worms_Proximity\n",
      "Evidence layer 16/18: Magnetic_LongWavelength_HGM_Worms_Proximity\n",
      "Evidence layer 17/18: Seismic_LAB_Hoggard\n",
      "Evidence layer 18/18: Seismic_Moho\n"
     ]
    }
   ],
   "source": [
    "# Path variables\n",
    "datacube = Path(PATH_DATACUBE_IN)\n",
    "feather = Path(os.path.join(os.path.dirname(PATH_DATACUBE_IN), os.path.basename(PATH_DATACUBE_IN).split(\".\")[0] + \".feather\"))\n",
    "\n",
    "export_folder = io.check_path(Path(PATH_DATA_OUT))\n",
    "model_folder = io.check_path(Path(PATH_ML_MODELS))\n",
    "model_log_folder = io.check_path(Path(PATH_TRAIN_LOGS))\n",
    "model_results_folder = io.check_path(Path(PATH_MODEL_RESULTS))\n",
    "\n",
    "# Relevant columns for choosen model (considering only True values)\n",
    "model = mvt_nat.models[MODEL]\n",
    "model_columns = [key for key, value in model.items() if value == True]\n",
    "\n",
    "# Allow only 3 decimals in DataFrame view\n",
    "pd.options.display.float_format = \"{:.3f}\".format\n",
    "\n",
    "# Set column to filter by region\n",
    "region_column = \"Country_Majority\"\n",
    "selected_columns = COLS_GROUND_TRUTH_DATACUBE + model_columns + [region_column]\n",
    "\n",
    "# Show selected evicence layers\n",
    "for i, layer in enumerate(model_columns):\n",
    "  print(f\"Evidence layer {i+1}/{len(model_columns)}: {layer}\")\n",
    "\n",
    "# Random state\n",
    "seed = 42  \n",
    "\n",
    "# Scaler\n",
    "scaler_type = \"standard\""
   ]
  },
  {
   "cell_type": "markdown",
   "metadata": {},
   "source": [
    "## Little helper"
   ]
  },
  {
   "cell_type": "code",
   "execution_count": 7,
   "metadata": {},
   "outputs": [],
   "source": [
    "from tensorflow import keras\n",
    "\n",
    "def save_model(model, model_name, path=PATH_ML_MODELS):\n",
    "  \"\"\"Saves model to disk\"\"\"\n",
    "  model.save(path + model_name + \".keras\")\n",
    "  \n",
    "\n",
    "def load_model(model_name, path=PATH_ML_MODELS):\n",
    "  \"\"\"Loads model from disk\"\"\"\n",
    "  return keras.models.load_model(path + model_name + \".keras\")"
   ]
  },
  {
   "cell_type": "markdown",
   "metadata": {},
   "source": [
    "# Data"
   ]
  },
  {
   "cell_type": "markdown",
   "metadata": {},
   "source": [
    "## **Load** data from csv or feather"
   ]
  },
  {
   "cell_type": "code",
   "execution_count": 8,
   "metadata": {},
   "outputs": [
    {
     "name": "stdout",
     "output_type": "stream",
     "text": [
      "Loading feather...\n",
      "Filtering data...\n",
      "Creating combined training column...\n",
      "\n",
      "Data rows: 3620129, data columns: 21\n"
     ]
    }
   ],
   "source": [
    "# Convert to feather format if chosen\n",
    "if FORMAT == \"CSV\" and datacube.exists():\n",
    "  print(\"Loading datacube...\")\n",
    "  df = io.load_dataset(datacube, nrows=N_ROWS)\n",
    "elif FORMAT == \"FEATHER\" and feather.exists():\n",
    "    print(\"Loading feather...\")\n",
    "    df = io.load_feather(feather, columns=selected_columns)\n",
    "elif not datacube.exists() and not feather.exists():\n",
    "  print(\"Data not found!\")\n",
    "  \n",
    "# Filter loaded data and initial NaN data preparation\n",
    "print(\"Filtering data...\")\n",
    "df = df[df[region_column].isin(REGIONS)]\n",
    "df.drop(columns=[region_column], inplace=True)\n",
    "df.replace(\"-\", np.nan, inplace=True)\n",
    "\n",
    "# Create combined (max) column for training points \n",
    "print(\"Creating combined training column...\")\n",
    "df.insert(len(COLS_GROUND_TRUTH_DATACUBE), COL_GROUND_TRUTH_MAX, df.apply(lambda row: \"Present\" if \"Present\" in [row[\"Training_MVT_Deposit\"], row[\"Training_MVT_Occurrence\"]] else \"Absent\", axis=1))\n",
    "\n",
    "# Output dataframe\n",
    "print(f\"\\nData rows: {df.shape[0]}, data columns: {df.shape[1]}\")"
   ]
  },
  {
   "cell_type": "code",
   "execution_count": 9,
   "metadata": {},
   "outputs": [
    {
     "data": {
      "text/html": [
       "<div>\n",
       "<style scoped>\n",
       "    .dataframe tbody tr th:only-of-type {\n",
       "        vertical-align: middle;\n",
       "    }\n",
       "\n",
       "    .dataframe tbody tr th {\n",
       "        vertical-align: top;\n",
       "    }\n",
       "\n",
       "    .dataframe thead th {\n",
       "        text-align: right;\n",
       "    }\n",
       "</style>\n",
       "<table border=\"1\" class=\"dataframe\">\n",
       "  <thead>\n",
       "    <tr style=\"text-align: right;\">\n",
       "      <th></th>\n",
       "      <th>Training_MVT_Deposit</th>\n",
       "      <th>Training_MVT_Occurrence</th>\n",
       "      <th>Training_MVT</th>\n",
       "      <th>Terrane_Proximity</th>\n",
       "      <th>Geology_PassiveMargin_Proximity</th>\n",
       "      <th>Geology_BlackShale_Proximity</th>\n",
       "      <th>Geology_Fault_Proximity</th>\n",
       "      <th>Geology_Paleolatitude_Period_Maximum</th>\n",
       "      <th>Geology_Paleolatitude_Period_Minimum</th>\n",
       "      <th>Gravity_GOCE_ShapeIndex</th>\n",
       "      <th>...</th>\n",
       "      <th>Gravity_Bouguer_HGM</th>\n",
       "      <th>Gravity_Bouguer_UpCont30km_HGM</th>\n",
       "      <th>Gravity_Bouguer_HGM_Worms_Proximity</th>\n",
       "      <th>Gravity_Bouguer_UpCont30km_HGM_Worms_Proximity</th>\n",
       "      <th>Magnetic_HGM</th>\n",
       "      <th>Magnetic_LongWavelength_HGM</th>\n",
       "      <th>Magnetic_HGM_Worms_Proximity</th>\n",
       "      <th>Magnetic_LongWavelength_HGM_Worms_Proximity</th>\n",
       "      <th>Seismic_LAB_Hoggard</th>\n",
       "      <th>Seismic_Moho</th>\n",
       "    </tr>\n",
       "  </thead>\n",
       "  <tbody>\n",
       "    <tr>\n",
       "      <th>0</th>\n",
       "      <td>Absent</td>\n",
       "      <td>Absent</td>\n",
       "      <td>Absent</td>\n",
       "      <td>25.890</td>\n",
       "      <td>388.630</td>\n",
       "      <td>113.879</td>\n",
       "      <td>184.204</td>\n",
       "      <td>47.250</td>\n",
       "      <td>56.010</td>\n",
       "      <td>0.081</td>\n",
       "      <td>...</td>\n",
       "      <td>0.000</td>\n",
       "      <td>0.000</td>\n",
       "      <td>1.780</td>\n",
       "      <td>2.132</td>\n",
       "      <td>0.000</td>\n",
       "      <td>0.000</td>\n",
       "      <td>2.881</td>\n",
       "      <td>0.937</td>\n",
       "      <td>187.994</td>\n",
       "      <td>42.602</td>\n",
       "    </tr>\n",
       "    <tr>\n",
       "      <th>1</th>\n",
       "      <td>Absent</td>\n",
       "      <td>Absent</td>\n",
       "      <td>Absent</td>\n",
       "      <td>28.572</td>\n",
       "      <td>386.647</td>\n",
       "      <td>112.348</td>\n",
       "      <td>183.955</td>\n",
       "      <td>47.250</td>\n",
       "      <td>56.010</td>\n",
       "      <td>0.081</td>\n",
       "      <td>...</td>\n",
       "      <td>0.000</td>\n",
       "      <td>0.000</td>\n",
       "      <td>0.870</td>\n",
       "      <td>1.860</td>\n",
       "      <td>0.000</td>\n",
       "      <td>0.000</td>\n",
       "      <td>1.141</td>\n",
       "      <td>0.740</td>\n",
       "      <td>187.929</td>\n",
       "      <td>42.602</td>\n",
       "    </tr>\n",
       "    <tr>\n",
       "      <th>2</th>\n",
       "      <td>Absent</td>\n",
       "      <td>Absent</td>\n",
       "      <td>Absent</td>\n",
       "      <td>26.457</td>\n",
       "      <td>385.620</td>\n",
       "      <td>114.597</td>\n",
       "      <td>182.056</td>\n",
       "      <td>47.250</td>\n",
       "      <td>56.010</td>\n",
       "      <td>0.081</td>\n",
       "      <td>...</td>\n",
       "      <td>0.000</td>\n",
       "      <td>0.000</td>\n",
       "      <td>1.791</td>\n",
       "      <td>1.858</td>\n",
       "      <td>0.000</td>\n",
       "      <td>0.000</td>\n",
       "      <td>3.276</td>\n",
       "      <td>1.145</td>\n",
       "      <td>187.948</td>\n",
       "      <td>42.602</td>\n",
       "    </tr>\n",
       "    <tr>\n",
       "      <th>3</th>\n",
       "      <td>Absent</td>\n",
       "      <td>Absent</td>\n",
       "      <td>Absent</td>\n",
       "      <td>23.756</td>\n",
       "      <td>387.593</td>\n",
       "      <td>116.136</td>\n",
       "      <td>182.334</td>\n",
       "      <td>47.250</td>\n",
       "      <td>56.010</td>\n",
       "      <td>0.080</td>\n",
       "      <td>...</td>\n",
       "      <td>0.000</td>\n",
       "      <td>0.000</td>\n",
       "      <td>2.553</td>\n",
       "      <td>1.512</td>\n",
       "      <td>0.000</td>\n",
       "      <td>0.000</td>\n",
       "      <td>4.745</td>\n",
       "      <td>1.862</td>\n",
       "      <td>187.994</td>\n",
       "      <td>42.602</td>\n",
       "    </tr>\n",
       "    <tr>\n",
       "      <th>4</th>\n",
       "      <td>Absent</td>\n",
       "      <td>Absent</td>\n",
       "      <td>Absent</td>\n",
       "      <td>23.188</td>\n",
       "      <td>390.587</td>\n",
       "      <td>115.505</td>\n",
       "      <td>184.525</td>\n",
       "      <td>47.250</td>\n",
       "      <td>56.010</td>\n",
       "      <td>0.074</td>\n",
       "      <td>...</td>\n",
       "      <td>0.000</td>\n",
       "      <td>0.000</td>\n",
       "      <td>1.319</td>\n",
       "      <td>2.579</td>\n",
       "      <td>0.000</td>\n",
       "      <td>0.000</td>\n",
       "      <td>4.590</td>\n",
       "      <td>1.794</td>\n",
       "      <td>187.994</td>\n",
       "      <td>42.602</td>\n",
       "    </tr>\n",
       "    <tr>\n",
       "      <th>...</th>\n",
       "      <td>...</td>\n",
       "      <td>...</td>\n",
       "      <td>...</td>\n",
       "      <td>...</td>\n",
       "      <td>...</td>\n",
       "      <td>...</td>\n",
       "      <td>...</td>\n",
       "      <td>...</td>\n",
       "      <td>...</td>\n",
       "      <td>...</td>\n",
       "      <td>...</td>\n",
       "      <td>...</td>\n",
       "      <td>...</td>\n",
       "      <td>...</td>\n",
       "      <td>...</td>\n",
       "      <td>...</td>\n",
       "      <td>...</td>\n",
       "      <td>...</td>\n",
       "      <td>...</td>\n",
       "      <td>...</td>\n",
       "      <td>...</td>\n",
       "    </tr>\n",
       "    <tr>\n",
       "      <th>3620124</th>\n",
       "      <td>Absent</td>\n",
       "      <td>Absent</td>\n",
       "      <td>Absent</td>\n",
       "      <td>19.630</td>\n",
       "      <td>251.803</td>\n",
       "      <td>10.533</td>\n",
       "      <td>85.711</td>\n",
       "      <td>47.250</td>\n",
       "      <td>56.010</td>\n",
       "      <td>0.801</td>\n",
       "      <td>...</td>\n",
       "      <td>0.001</td>\n",
       "      <td>0.000</td>\n",
       "      <td>0.337</td>\n",
       "      <td>15.400</td>\n",
       "      <td>0.000</td>\n",
       "      <td>0.000</td>\n",
       "      <td>5.161</td>\n",
       "      <td>17.636</td>\n",
       "      <td>159.195</td>\n",
       "      <td>48.248</td>\n",
       "    </tr>\n",
       "    <tr>\n",
       "      <th>3620125</th>\n",
       "      <td>Absent</td>\n",
       "      <td>Absent</td>\n",
       "      <td>Absent</td>\n",
       "      <td>22.011</td>\n",
       "      <td>252.810</td>\n",
       "      <td>10.898</td>\n",
       "      <td>88.164</td>\n",
       "      <td>47.250</td>\n",
       "      <td>56.010</td>\n",
       "      <td>0.801</td>\n",
       "      <td>...</td>\n",
       "      <td>0.001</td>\n",
       "      <td>0.000</td>\n",
       "      <td>1.238</td>\n",
       "      <td>16.384</td>\n",
       "      <td>0.000</td>\n",
       "      <td>0.000</td>\n",
       "      <td>4.198</td>\n",
       "      <td>18.668</td>\n",
       "      <td>159.195</td>\n",
       "      <td>48.132</td>\n",
       "    </tr>\n",
       "    <tr>\n",
       "      <th>3620126</th>\n",
       "      <td>Absent</td>\n",
       "      <td>Absent</td>\n",
       "      <td>Absent</td>\n",
       "      <td>24.283</td>\n",
       "      <td>253.818</td>\n",
       "      <td>11.046</td>\n",
       "      <td>90.619</td>\n",
       "      <td>47.250</td>\n",
       "      <td>56.010</td>\n",
       "      <td>0.802</td>\n",
       "      <td>...</td>\n",
       "      <td>0.001</td>\n",
       "      <td>0.000</td>\n",
       "      <td>2.430</td>\n",
       "      <td>16.941</td>\n",
       "      <td>0.000</td>\n",
       "      <td>0.000</td>\n",
       "      <td>2.560</td>\n",
       "      <td>19.667</td>\n",
       "      <td>159.189</td>\n",
       "      <td>47.174</td>\n",
       "    </tr>\n",
       "    <tr>\n",
       "      <th>3620127</th>\n",
       "      <td>Absent</td>\n",
       "      <td>Absent</td>\n",
       "      <td>Absent</td>\n",
       "      <td>16.645</td>\n",
       "      <td>252.969</td>\n",
       "      <td>12.770</td>\n",
       "      <td>84.998</td>\n",
       "      <td>47.250</td>\n",
       "      <td>56.010</td>\n",
       "      <td>0.801</td>\n",
       "      <td>...</td>\n",
       "      <td>0.001</td>\n",
       "      <td>0.000</td>\n",
       "      <td>1.328</td>\n",
       "      <td>15.227</td>\n",
       "      <td>0.000</td>\n",
       "      <td>0.000</td>\n",
       "      <td>2.526</td>\n",
       "      <td>17.695</td>\n",
       "      <td>159.207</td>\n",
       "      <td>48.248</td>\n",
       "    </tr>\n",
       "    <tr>\n",
       "      <th>3620128</th>\n",
       "      <td>Absent</td>\n",
       "      <td>Absent</td>\n",
       "      <td>Absent</td>\n",
       "      <td>19.044</td>\n",
       "      <td>253.931</td>\n",
       "      <td>12.557</td>\n",
       "      <td>87.384</td>\n",
       "      <td>47.250</td>\n",
       "      <td>56.010</td>\n",
       "      <td>0.801</td>\n",
       "      <td>...</td>\n",
       "      <td>0.001</td>\n",
       "      <td>0.000</td>\n",
       "      <td>0.339</td>\n",
       "      <td>15.826</td>\n",
       "      <td>0.000</td>\n",
       "      <td>0.000</td>\n",
       "      <td>4.568</td>\n",
       "      <td>18.607</td>\n",
       "      <td>159.195</td>\n",
       "      <td>48.248</td>\n",
       "    </tr>\n",
       "  </tbody>\n",
       "</table>\n",
       "<p>3620129 rows × 21 columns</p>\n",
       "</div>"
      ],
      "text/plain": [
       "        Training_MVT_Deposit Training_MVT_Occurrence Training_MVT  \\\n",
       "0                     Absent                  Absent       Absent   \n",
       "1                     Absent                  Absent       Absent   \n",
       "2                     Absent                  Absent       Absent   \n",
       "3                     Absent                  Absent       Absent   \n",
       "4                     Absent                  Absent       Absent   \n",
       "...                      ...                     ...          ...   \n",
       "3620124               Absent                  Absent       Absent   \n",
       "3620125               Absent                  Absent       Absent   \n",
       "3620126               Absent                  Absent       Absent   \n",
       "3620127               Absent                  Absent       Absent   \n",
       "3620128               Absent                  Absent       Absent   \n",
       "\n",
       "         Terrane_Proximity  Geology_PassiveMargin_Proximity  \\\n",
       "0                   25.890                          388.630   \n",
       "1                   28.572                          386.647   \n",
       "2                   26.457                          385.620   \n",
       "3                   23.756                          387.593   \n",
       "4                   23.188                          390.587   \n",
       "...                    ...                              ...   \n",
       "3620124             19.630                          251.803   \n",
       "3620125             22.011                          252.810   \n",
       "3620126             24.283                          253.818   \n",
       "3620127             16.645                          252.969   \n",
       "3620128             19.044                          253.931   \n",
       "\n",
       "         Geology_BlackShale_Proximity  Geology_Fault_Proximity  \\\n",
       "0                             113.879                  184.204   \n",
       "1                             112.348                  183.955   \n",
       "2                             114.597                  182.056   \n",
       "3                             116.136                  182.334   \n",
       "4                             115.505                  184.525   \n",
       "...                               ...                      ...   \n",
       "3620124                        10.533                   85.711   \n",
       "3620125                        10.898                   88.164   \n",
       "3620126                        11.046                   90.619   \n",
       "3620127                        12.770                   84.998   \n",
       "3620128                        12.557                   87.384   \n",
       "\n",
       "         Geology_Paleolatitude_Period_Maximum  \\\n",
       "0                                      47.250   \n",
       "1                                      47.250   \n",
       "2                                      47.250   \n",
       "3                                      47.250   \n",
       "4                                      47.250   \n",
       "...                                       ...   \n",
       "3620124                                47.250   \n",
       "3620125                                47.250   \n",
       "3620126                                47.250   \n",
       "3620127                                47.250   \n",
       "3620128                                47.250   \n",
       "\n",
       "         Geology_Paleolatitude_Period_Minimum  Gravity_GOCE_ShapeIndex  ...  \\\n",
       "0                                      56.010                    0.081  ...   \n",
       "1                                      56.010                    0.081  ...   \n",
       "2                                      56.010                    0.081  ...   \n",
       "3                                      56.010                    0.080  ...   \n",
       "4                                      56.010                    0.074  ...   \n",
       "...                                       ...                      ...  ...   \n",
       "3620124                                56.010                    0.801  ...   \n",
       "3620125                                56.010                    0.801  ...   \n",
       "3620126                                56.010                    0.802  ...   \n",
       "3620127                                56.010                    0.801  ...   \n",
       "3620128                                56.010                    0.801  ...   \n",
       "\n",
       "         Gravity_Bouguer_HGM  Gravity_Bouguer_UpCont30km_HGM  \\\n",
       "0                      0.000                           0.000   \n",
       "1                      0.000                           0.000   \n",
       "2                      0.000                           0.000   \n",
       "3                      0.000                           0.000   \n",
       "4                      0.000                           0.000   \n",
       "...                      ...                             ...   \n",
       "3620124                0.001                           0.000   \n",
       "3620125                0.001                           0.000   \n",
       "3620126                0.001                           0.000   \n",
       "3620127                0.001                           0.000   \n",
       "3620128                0.001                           0.000   \n",
       "\n",
       "         Gravity_Bouguer_HGM_Worms_Proximity  \\\n",
       "0                                      1.780   \n",
       "1                                      0.870   \n",
       "2                                      1.791   \n",
       "3                                      2.553   \n",
       "4                                      1.319   \n",
       "...                                      ...   \n",
       "3620124                                0.337   \n",
       "3620125                                1.238   \n",
       "3620126                                2.430   \n",
       "3620127                                1.328   \n",
       "3620128                                0.339   \n",
       "\n",
       "         Gravity_Bouguer_UpCont30km_HGM_Worms_Proximity  Magnetic_HGM  \\\n",
       "0                                                 2.132         0.000   \n",
       "1                                                 1.860         0.000   \n",
       "2                                                 1.858         0.000   \n",
       "3                                                 1.512         0.000   \n",
       "4                                                 2.579         0.000   \n",
       "...                                                 ...           ...   \n",
       "3620124                                          15.400         0.000   \n",
       "3620125                                          16.384         0.000   \n",
       "3620126                                          16.941         0.000   \n",
       "3620127                                          15.227         0.000   \n",
       "3620128                                          15.826         0.000   \n",
       "\n",
       "         Magnetic_LongWavelength_HGM  Magnetic_HGM_Worms_Proximity  \\\n",
       "0                              0.000                         2.881   \n",
       "1                              0.000                         1.141   \n",
       "2                              0.000                         3.276   \n",
       "3                              0.000                         4.745   \n",
       "4                              0.000                         4.590   \n",
       "...                              ...                           ...   \n",
       "3620124                        0.000                         5.161   \n",
       "3620125                        0.000                         4.198   \n",
       "3620126                        0.000                         2.560   \n",
       "3620127                        0.000                         2.526   \n",
       "3620128                        0.000                         4.568   \n",
       "\n",
       "         Magnetic_LongWavelength_HGM_Worms_Proximity  Seismic_LAB_Hoggard  \\\n",
       "0                                              0.937              187.994   \n",
       "1                                              0.740              187.929   \n",
       "2                                              1.145              187.948   \n",
       "3                                              1.862              187.994   \n",
       "4                                              1.794              187.994   \n",
       "...                                              ...                  ...   \n",
       "3620124                                       17.636              159.195   \n",
       "3620125                                       18.668              159.195   \n",
       "3620126                                       19.667              159.189   \n",
       "3620127                                       17.695              159.207   \n",
       "3620128                                       18.607              159.195   \n",
       "\n",
       "         Seismic_Moho  \n",
       "0              42.602  \n",
       "1              42.602  \n",
       "2              42.602  \n",
       "3              42.602  \n",
       "4              42.602  \n",
       "...               ...  \n",
       "3620124        48.248  \n",
       "3620125        48.132  \n",
       "3620126        47.174  \n",
       "3620127        48.248  \n",
       "3620128        48.248  \n",
       "\n",
       "[3620129 rows x 21 columns]"
      ]
     },
     "execution_count": 9,
     "metadata": {},
     "output_type": "execute_result"
    }
   ],
   "source": [
    "# Show loaded dataframe\n",
    "df"
   ]
  },
  {
   "cell_type": "markdown",
   "metadata": {},
   "source": [
    "# **Prepare** training data"
   ]
  },
  {
   "cell_type": "markdown",
   "metadata": {},
   "source": [
    "There are only few rows with NaN values within the **positive** ground truth data. These will be dropped for both the following analysis and training.<p>\n",
    "\n",
    "For **inference**, NaN values will be imputed with an appropriate method to maintain the shape of the input data. <br>After inference, rows containing\n",
    " NaN values can be masked or replaced with a NoData value for raster export.\n",
    "\n",
    " Commonly, normalization of data is done after **train** and **test** split creation. However, to keep things simple and stay conform with the advangeo workflow for comparison, the normalization is done right before creating the actual model input and test data. This means, that the prediction and training data are not completely intependent of each other, since they are still related to the statistics used for normalization. Therefore, test metrics may be bit better and the model may be less generalized than the other way."
   ]
  },
  {
   "cell_type": "markdown",
   "metadata": {},
   "source": [
    "### Get numerical columns"
   ]
  },
  {
   "cell_type": "code",
   "execution_count": 10,
   "metadata": {},
   "outputs": [],
   "source": [
    "# Get \"real\" numerical columns in advance\n",
    "model_columns_numerical = df.select_dtypes(include=np.number).columns.tolist()\n"
   ]
  },
  {
   "cell_type": "markdown",
   "metadata": {},
   "source": [
    "## **Encode** categorical columns"
   ]
  },
  {
   "cell_type": "markdown",
   "metadata": {},
   "source": [
    "### Ground truth"
   ]
  },
  {
   "cell_type": "code",
   "execution_count": 11,
   "metadata": {},
   "outputs": [],
   "source": [
    "# Encode the ground truth column\n",
    "df[ground_truth_selected] = df[ground_truth_selected].map({\"Present\": 1, \"Absent\": 0})\n"
   ]
  },
  {
   "cell_type": "markdown",
   "metadata": {},
   "source": [
    "## **Remove** outliers"
   ]
  },
  {
   "cell_type": "code",
   "execution_count": 12,
   "metadata": {},
   "outputs": [],
   "source": [
    "df_outliers = df[[ground_truth_selected] + model_columns_numerical].copy()\n",
    "df_no_outliers = eda.clip_outliers(df_outliers, model_columns_numerical)\n",
    "df_no_outliers_copy = df_no_outliers.copy()\n"
   ]
  },
  {
   "cell_type": "markdown",
   "metadata": {},
   "source": [
    "## **Normalize** data\n"
   ]
  },
  {
   "cell_type": "code",
   "execution_count": 13,
   "metadata": {},
   "outputs": [],
   "source": [
    "def normalize_data(data, data_columns, method=scaler_type):\n",
    "  data_scaled = data.copy()\n",
    "\n",
    "  if method == \"standard\":\n",
    "    scaler = StandardScaler()\n",
    "  elif method == \"minmax\":\n",
    "    scaler = MinMaxScaler()\n",
    "    \n",
    "  data_scaled[data_columns] = scaler.fit_transform(data_scaled[data_columns])\n",
    "  return data_scaled, scaler"
   ]
  },
  {
   "cell_type": "code",
   "execution_count": 14,
   "metadata": {},
   "outputs": [],
   "source": [
    "df_model, scaler = normalize_data(df_no_outliers, model_columns_numerical)\n",
    "df_model_copy = df_model.copy()"
   ]
  },
  {
   "cell_type": "code",
   "execution_count": 15,
   "metadata": {},
   "outputs": [
    {
     "data": {
      "text/html": [
       "<div>\n",
       "<style scoped>\n",
       "    .dataframe tbody tr th:only-of-type {\n",
       "        vertical-align: middle;\n",
       "    }\n",
       "\n",
       "    .dataframe tbody tr th {\n",
       "        vertical-align: top;\n",
       "    }\n",
       "\n",
       "    .dataframe thead th {\n",
       "        text-align: right;\n",
       "    }\n",
       "</style>\n",
       "<table border=\"1\" class=\"dataframe\">\n",
       "  <thead>\n",
       "    <tr style=\"text-align: right;\">\n",
       "      <th></th>\n",
       "      <th>Training_MVT</th>\n",
       "      <th>Terrane_Proximity</th>\n",
       "      <th>Geology_PassiveMargin_Proximity</th>\n",
       "      <th>Geology_BlackShale_Proximity</th>\n",
       "      <th>Geology_Fault_Proximity</th>\n",
       "      <th>Geology_Paleolatitude_Period_Maximum</th>\n",
       "      <th>Geology_Paleolatitude_Period_Minimum</th>\n",
       "      <th>Gravity_GOCE_ShapeIndex</th>\n",
       "      <th>Gravity_Bouguer</th>\n",
       "      <th>Gravity_Bouguer_HGM</th>\n",
       "      <th>Gravity_Bouguer_UpCont30km_HGM</th>\n",
       "      <th>Gravity_Bouguer_HGM_Worms_Proximity</th>\n",
       "      <th>Gravity_Bouguer_UpCont30km_HGM_Worms_Proximity</th>\n",
       "      <th>Magnetic_HGM</th>\n",
       "      <th>Magnetic_LongWavelength_HGM</th>\n",
       "      <th>Magnetic_HGM_Worms_Proximity</th>\n",
       "      <th>Magnetic_LongWavelength_HGM_Worms_Proximity</th>\n",
       "      <th>Seismic_LAB_Hoggard</th>\n",
       "      <th>Seismic_Moho</th>\n",
       "    </tr>\n",
       "  </thead>\n",
       "  <tbody>\n",
       "    <tr>\n",
       "      <th>0</th>\n",
       "      <td>0</td>\n",
       "      <td>-0.625</td>\n",
       "      <td>0.387</td>\n",
       "      <td>-0.202</td>\n",
       "      <td>1.796</td>\n",
       "      <td>0.727</td>\n",
       "      <td>0.868</td>\n",
       "      <td>0.226</td>\n",
       "      <td>-0.390</td>\n",
       "      <td>-0.851</td>\n",
       "      <td>0.021</td>\n",
       "      <td>0.267</td>\n",
       "      <td>-0.948</td>\n",
       "      <td>0.270</td>\n",
       "      <td>-0.496</td>\n",
       "      <td>-0.029</td>\n",
       "      <td>-1.373</td>\n",
       "      <td>0.708</td>\n",
       "      <td>0.662</td>\n",
       "    </tr>\n",
       "    <tr>\n",
       "      <th>1</th>\n",
       "      <td>0</td>\n",
       "      <td>-0.569</td>\n",
       "      <td>0.377</td>\n",
       "      <td>-0.212</td>\n",
       "      <td>1.793</td>\n",
       "      <td>0.727</td>\n",
       "      <td>0.868</td>\n",
       "      <td>0.226</td>\n",
       "      <td>-0.402</td>\n",
       "      <td>-0.736</td>\n",
       "      <td>0.022</td>\n",
       "      <td>-0.704</td>\n",
       "      <td>-1.014</td>\n",
       "      <td>0.382</td>\n",
       "      <td>-0.494</td>\n",
       "      <td>-0.834</td>\n",
       "      <td>-1.382</td>\n",
       "      <td>0.707</td>\n",
       "      <td>0.662</td>\n",
       "    </tr>\n",
       "    <tr>\n",
       "      <th>2</th>\n",
       "      <td>0</td>\n",
       "      <td>-0.613</td>\n",
       "      <td>0.371</td>\n",
       "      <td>-0.198</td>\n",
       "      <td>1.765</td>\n",
       "      <td>0.727</td>\n",
       "      <td>0.868</td>\n",
       "      <td>0.226</td>\n",
       "      <td>-0.390</td>\n",
       "      <td>-0.768</td>\n",
       "      <td>0.019</td>\n",
       "      <td>0.278</td>\n",
       "      <td>-1.014</td>\n",
       "      <td>0.253</td>\n",
       "      <td>-0.499</td>\n",
       "      <td>0.154</td>\n",
       "      <td>-1.364</td>\n",
       "      <td>0.708</td>\n",
       "      <td>0.662</td>\n",
       "    </tr>\n",
       "    <tr>\n",
       "      <th>3</th>\n",
       "      <td>0</td>\n",
       "      <td>-0.669</td>\n",
       "      <td>0.381</td>\n",
       "      <td>-0.188</td>\n",
       "      <td>1.769</td>\n",
       "      <td>0.727</td>\n",
       "      <td>0.868</td>\n",
       "      <td>0.224</td>\n",
       "      <td>-0.382</td>\n",
       "      <td>-0.845</td>\n",
       "      <td>0.019</td>\n",
       "      <td>1.091</td>\n",
       "      <td>-1.097</td>\n",
       "      <td>0.129</td>\n",
       "      <td>-0.501</td>\n",
       "      <td>0.833</td>\n",
       "      <td>-1.331</td>\n",
       "      <td>0.708</td>\n",
       "      <td>0.662</td>\n",
       "    </tr>\n",
       "    <tr>\n",
       "      <th>4</th>\n",
       "      <td>0</td>\n",
       "      <td>-0.681</td>\n",
       "      <td>0.397</td>\n",
       "      <td>-0.192</td>\n",
       "      <td>1.801</td>\n",
       "      <td>0.727</td>\n",
       "      <td>0.868</td>\n",
       "      <td>0.212</td>\n",
       "      <td>-0.379</td>\n",
       "      <td>-0.833</td>\n",
       "      <td>0.018</td>\n",
       "      <td>-0.226</td>\n",
       "      <td>-0.841</td>\n",
       "      <td>0.138</td>\n",
       "      <td>-0.499</td>\n",
       "      <td>0.762</td>\n",
       "      <td>-1.334</td>\n",
       "      <td>0.708</td>\n",
       "      <td>0.662</td>\n",
       "    </tr>\n",
       "    <tr>\n",
       "      <th>...</th>\n",
       "      <td>...</td>\n",
       "      <td>...</td>\n",
       "      <td>...</td>\n",
       "      <td>...</td>\n",
       "      <td>...</td>\n",
       "      <td>...</td>\n",
       "      <td>...</td>\n",
       "      <td>...</td>\n",
       "      <td>...</td>\n",
       "      <td>...</td>\n",
       "      <td>...</td>\n",
       "      <td>...</td>\n",
       "      <td>...</td>\n",
       "      <td>...</td>\n",
       "      <td>...</td>\n",
       "      <td>...</td>\n",
       "      <td>...</td>\n",
       "      <td>...</td>\n",
       "      <td>...</td>\n",
       "    </tr>\n",
       "    <tr>\n",
       "      <th>3620124</th>\n",
       "      <td>0</td>\n",
       "      <td>-0.755</td>\n",
       "      <td>-0.309</td>\n",
       "      <td>-0.860</td>\n",
       "      <td>0.366</td>\n",
       "      <td>0.727</td>\n",
       "      <td>0.868</td>\n",
       "      <td>1.657</td>\n",
       "      <td>-0.438</td>\n",
       "      <td>0.663</td>\n",
       "      <td>-0.489</td>\n",
       "      <td>-1.273</td>\n",
       "      <td>2.235</td>\n",
       "      <td>0.550</td>\n",
       "      <td>0.904</td>\n",
       "      <td>1.026</td>\n",
       "      <td>-0.606</td>\n",
       "      <td>0.177</td>\n",
       "      <td>1.657</td>\n",
       "    </tr>\n",
       "    <tr>\n",
       "      <th>3620125</th>\n",
       "      <td>0</td>\n",
       "      <td>-0.706</td>\n",
       "      <td>-0.304</td>\n",
       "      <td>-0.857</td>\n",
       "      <td>0.401</td>\n",
       "      <td>0.727</td>\n",
       "      <td>0.868</td>\n",
       "      <td>1.657</td>\n",
       "      <td>-0.408</td>\n",
       "      <td>0.408</td>\n",
       "      <td>-0.515</td>\n",
       "      <td>-0.312</td>\n",
       "      <td>2.471</td>\n",
       "      <td>0.799</td>\n",
       "      <td>0.924</td>\n",
       "      <td>0.581</td>\n",
       "      <td>-0.559</td>\n",
       "      <td>0.177</td>\n",
       "      <td>1.637</td>\n",
       "    </tr>\n",
       "    <tr>\n",
       "      <th>3620126</th>\n",
       "      <td>0</td>\n",
       "      <td>-0.658</td>\n",
       "      <td>-0.299</td>\n",
       "      <td>-0.856</td>\n",
       "      <td>0.437</td>\n",
       "      <td>0.727</td>\n",
       "      <td>0.868</td>\n",
       "      <td>1.659</td>\n",
       "      <td>-0.391</td>\n",
       "      <td>0.003</td>\n",
       "      <td>-0.526</td>\n",
       "      <td>0.960</td>\n",
       "      <td>2.605</td>\n",
       "      <td>0.985</td>\n",
       "      <td>0.946</td>\n",
       "      <td>-0.177</td>\n",
       "      <td>-0.513</td>\n",
       "      <td>0.177</td>\n",
       "      <td>1.468</td>\n",
       "    </tr>\n",
       "    <tr>\n",
       "      <th>3620127</th>\n",
       "      <td>0</td>\n",
       "      <td>-0.818</td>\n",
       "      <td>-0.303</td>\n",
       "      <td>-0.845</td>\n",
       "      <td>0.355</td>\n",
       "      <td>0.727</td>\n",
       "      <td>0.868</td>\n",
       "      <td>1.657</td>\n",
       "      <td>-0.482</td>\n",
       "      <td>0.382</td>\n",
       "      <td>-0.496</td>\n",
       "      <td>-0.216</td>\n",
       "      <td>2.193</td>\n",
       "      <td>0.384</td>\n",
       "      <td>0.879</td>\n",
       "      <td>-0.193</td>\n",
       "      <td>-0.604</td>\n",
       "      <td>0.177</td>\n",
       "      <td>1.657</td>\n",
       "    </tr>\n",
       "    <tr>\n",
       "      <th>3620128</th>\n",
       "      <td>0</td>\n",
       "      <td>-0.768</td>\n",
       "      <td>-0.298</td>\n",
       "      <td>-0.847</td>\n",
       "      <td>0.390</td>\n",
       "      <td>0.727</td>\n",
       "      <td>0.868</td>\n",
       "      <td>1.657</td>\n",
       "      <td>-0.458</td>\n",
       "      <td>0.478</td>\n",
       "      <td>-0.510</td>\n",
       "      <td>-1.272</td>\n",
       "      <td>2.337</td>\n",
       "      <td>0.570</td>\n",
       "      <td>0.902</td>\n",
       "      <td>0.752</td>\n",
       "      <td>-0.562</td>\n",
       "      <td>0.177</td>\n",
       "      <td>1.657</td>\n",
       "    </tr>\n",
       "  </tbody>\n",
       "</table>\n",
       "<p>3620129 rows × 19 columns</p>\n",
       "</div>"
      ],
      "text/plain": [
       "         Training_MVT  Terrane_Proximity  Geology_PassiveMargin_Proximity  \\\n",
       "0                   0             -0.625                            0.387   \n",
       "1                   0             -0.569                            0.377   \n",
       "2                   0             -0.613                            0.371   \n",
       "3                   0             -0.669                            0.381   \n",
       "4                   0             -0.681                            0.397   \n",
       "...               ...                ...                              ...   \n",
       "3620124             0             -0.755                           -0.309   \n",
       "3620125             0             -0.706                           -0.304   \n",
       "3620126             0             -0.658                           -0.299   \n",
       "3620127             0             -0.818                           -0.303   \n",
       "3620128             0             -0.768                           -0.298   \n",
       "\n",
       "         Geology_BlackShale_Proximity  Geology_Fault_Proximity  \\\n",
       "0                              -0.202                    1.796   \n",
       "1                              -0.212                    1.793   \n",
       "2                              -0.198                    1.765   \n",
       "3                              -0.188                    1.769   \n",
       "4                              -0.192                    1.801   \n",
       "...                               ...                      ...   \n",
       "3620124                        -0.860                    0.366   \n",
       "3620125                        -0.857                    0.401   \n",
       "3620126                        -0.856                    0.437   \n",
       "3620127                        -0.845                    0.355   \n",
       "3620128                        -0.847                    0.390   \n",
       "\n",
       "         Geology_Paleolatitude_Period_Maximum  \\\n",
       "0                                       0.727   \n",
       "1                                       0.727   \n",
       "2                                       0.727   \n",
       "3                                       0.727   \n",
       "4                                       0.727   \n",
       "...                                       ...   \n",
       "3620124                                 0.727   \n",
       "3620125                                 0.727   \n",
       "3620126                                 0.727   \n",
       "3620127                                 0.727   \n",
       "3620128                                 0.727   \n",
       "\n",
       "         Geology_Paleolatitude_Period_Minimum  Gravity_GOCE_ShapeIndex  \\\n",
       "0                                       0.868                    0.226   \n",
       "1                                       0.868                    0.226   \n",
       "2                                       0.868                    0.226   \n",
       "3                                       0.868                    0.224   \n",
       "4                                       0.868                    0.212   \n",
       "...                                       ...                      ...   \n",
       "3620124                                 0.868                    1.657   \n",
       "3620125                                 0.868                    1.657   \n",
       "3620126                                 0.868                    1.659   \n",
       "3620127                                 0.868                    1.657   \n",
       "3620128                                 0.868                    1.657   \n",
       "\n",
       "         Gravity_Bouguer  Gravity_Bouguer_HGM  Gravity_Bouguer_UpCont30km_HGM  \\\n",
       "0                 -0.390               -0.851                           0.021   \n",
       "1                 -0.402               -0.736                           0.022   \n",
       "2                 -0.390               -0.768                           0.019   \n",
       "3                 -0.382               -0.845                           0.019   \n",
       "4                 -0.379               -0.833                           0.018   \n",
       "...                  ...                  ...                             ...   \n",
       "3620124           -0.438                0.663                          -0.489   \n",
       "3620125           -0.408                0.408                          -0.515   \n",
       "3620126           -0.391                0.003                          -0.526   \n",
       "3620127           -0.482                0.382                          -0.496   \n",
       "3620128           -0.458                0.478                          -0.510   \n",
       "\n",
       "         Gravity_Bouguer_HGM_Worms_Proximity  \\\n",
       "0                                      0.267   \n",
       "1                                     -0.704   \n",
       "2                                      0.278   \n",
       "3                                      1.091   \n",
       "4                                     -0.226   \n",
       "...                                      ...   \n",
       "3620124                               -1.273   \n",
       "3620125                               -0.312   \n",
       "3620126                                0.960   \n",
       "3620127                               -0.216   \n",
       "3620128                               -1.272   \n",
       "\n",
       "         Gravity_Bouguer_UpCont30km_HGM_Worms_Proximity  Magnetic_HGM  \\\n",
       "0                                                -0.948         0.270   \n",
       "1                                                -1.014         0.382   \n",
       "2                                                -1.014         0.253   \n",
       "3                                                -1.097         0.129   \n",
       "4                                                -0.841         0.138   \n",
       "...                                                 ...           ...   \n",
       "3620124                                           2.235         0.550   \n",
       "3620125                                           2.471         0.799   \n",
       "3620126                                           2.605         0.985   \n",
       "3620127                                           2.193         0.384   \n",
       "3620128                                           2.337         0.570   \n",
       "\n",
       "         Magnetic_LongWavelength_HGM  Magnetic_HGM_Worms_Proximity  \\\n",
       "0                             -0.496                        -0.029   \n",
       "1                             -0.494                        -0.834   \n",
       "2                             -0.499                         0.154   \n",
       "3                             -0.501                         0.833   \n",
       "4                             -0.499                         0.762   \n",
       "...                              ...                           ...   \n",
       "3620124                        0.904                         1.026   \n",
       "3620125                        0.924                         0.581   \n",
       "3620126                        0.946                        -0.177   \n",
       "3620127                        0.879                        -0.193   \n",
       "3620128                        0.902                         0.752   \n",
       "\n",
       "         Magnetic_LongWavelength_HGM_Worms_Proximity  Seismic_LAB_Hoggard  \\\n",
       "0                                             -1.373                0.708   \n",
       "1                                             -1.382                0.707   \n",
       "2                                             -1.364                0.708   \n",
       "3                                             -1.331                0.708   \n",
       "4                                             -1.334                0.708   \n",
       "...                                              ...                  ...   \n",
       "3620124                                       -0.606                0.177   \n",
       "3620125                                       -0.559                0.177   \n",
       "3620126                                       -0.513                0.177   \n",
       "3620127                                       -0.604                0.177   \n",
       "3620128                                       -0.562                0.177   \n",
       "\n",
       "         Seismic_Moho  \n",
       "0               0.662  \n",
       "1               0.662  \n",
       "2               0.662  \n",
       "3               0.662  \n",
       "4               0.662  \n",
       "...               ...  \n",
       "3620124         1.657  \n",
       "3620125         1.637  \n",
       "3620126         1.468  \n",
       "3620127         1.657  \n",
       "3620128         1.657  \n",
       "\n",
       "[3620129 rows x 19 columns]"
      ]
     },
     "execution_count": 15,
     "metadata": {},
     "output_type": "execute_result"
    }
   ],
   "source": [
    "df_model"
   ]
  },
  {
   "cell_type": "markdown",
   "metadata": {},
   "source": [
    "## **Drop** NaN data\n",
    "\n",
    "Dropping of NaN values could also be moved to the beginning or before the scaling. However, this way, data are the same when predicting on them and do not need to be scaled before inference. The advangeo workflow is basically predicting on all values, even the negatives, which were used in training (i.e., unknowns are treated as negatives and not as unknown). That's not the usual ML-way and may have some drawbacks, but to keep things comparable, we´re going with this setup, at least for the inital ann tests."
   ]
  },
  {
   "cell_type": "code",
   "execution_count": 16,
   "metadata": {},
   "outputs": [
    {
     "name": "stdout",
     "output_type": "stream",
     "text": [
      "Data rows for all values: 2376441, data columns: 19\n",
      "\n",
      "Data rows for Absent values: 2374687\n",
      "Data rows for Present values: 1754\n"
     ]
    }
   ],
   "source": [
    "# Drop rows with NaN values\n",
    "df_model.dropna(how=\"any\", inplace=True)\n",
    "\n",
    "print(f\"Data rows for all values: {df_model.shape[0]}, data columns: {df_model.shape[1]}\")\n",
    "\n",
    "num_negatives = df_model[df_model[ground_truth_selected] == 0].shape[0]\n",
    "print(\"\\nData rows for Absent values:\", num_negatives)\n",
    "\n",
    "num_positives = df_model[df_model[ground_truth_selected] == 1].shape[0]\n",
    "print(\"Data rows for Present values:\", num_positives)\n"
   ]
  },
  {
   "cell_type": "markdown",
   "metadata": {},
   "source": [
    "## **Balance** and **subset** data"
   ]
  },
  {
   "cell_type": "code",
   "execution_count": 17,
   "metadata": {},
   "outputs": [],
   "source": [
    "X = df_model.drop(columns=[ground_truth_selected], inplace=False)\n",
    "y = df_model[ground_truth_selected]"
   ]
  },
  {
   "cell_type": "markdown",
   "metadata": {},
   "source": [
    "## **Impute** and **subset** data"
   ]
  },
  {
   "cell_type": "code",
   "execution_count": 18,
   "metadata": {},
   "outputs": [],
   "source": [
    "from sklearn.impute import SimpleImputer\n",
    "\n",
    "def impute_data(data, columns):\n",
    "  data_imputed = data.copy()\n",
    "  imputer = SimpleImputer(strategy=\"mean\", missing_values=np.nan)\n",
    "  data_imputed[columns] = imputer.fit_transform(data_imputed[columns])\n",
    "  \n",
    "  return data_imputed\n"
   ]
  },
  {
   "cell_type": "code",
   "execution_count": 19,
   "metadata": {},
   "outputs": [],
   "source": [
    "df_model_imputed = df_model_copy.copy()\n",
    "\n",
    "df_model_imputed = impute_data(df_model_imputed, model_columns_numerical)\n",
    "\n",
    "X_imputed = df_model_imputed.drop(columns=[ground_truth_selected], inplace=False)\n",
    "y_imputed = df_model_imputed[ground_truth_selected]\n"
   ]
  },
  {
   "cell_type": "markdown",
   "metadata": {},
   "source": [
    "### **Create** dataset with **simple** oversampling"
   ]
  },
  {
   "cell_type": "markdown",
   "metadata": {},
   "source": [
    "**Oversampling** the initial data with simple oversampling"
   ]
  },
  {
   "cell_type": "code",
   "execution_count": 20,
   "metadata": {},
   "outputs": [],
   "source": [
    "from imblearn.over_sampling import RandomOverSampler\n",
    "\n",
    "def oversample_data(X, y, sampling_strategy=0.5, random_state=seed, shrinkage=0.0):\n",
    "  ros = RandomOverSampler(sampling_strategy=sampling_strategy, random_state=seed, shrinkage=shrinkage)\n",
    "  X_ros, y_ros = ros.fit_resample(X, y)\n",
    "  print(f\"Resampled dataset shape {Counter(y_ros)}, positive/negative ratio: {round(Counter(y_ros)[1] / Counter(y_ros)[0], 2)}\")\n",
    "  \n",
    "  return X_ros.astype(np.float32), y_ros.astype(np.int8)\n"
   ]
  },
  {
   "cell_type": "markdown",
   "metadata": {},
   "source": [
    "**Create** subsets"
   ]
  },
  {
   "cell_type": "code",
   "execution_count": 21,
   "metadata": {},
   "outputs": [],
   "source": [
    "def create_subsets(X, y, num_downsampling, ground_truth=ground_truth_selected, seed=seed):\n",
    "  Xy = pd.concat([X, y], axis=1)\n",
    "  Xy_subset = Xy.sample(n=num_downsampling, random_state=seed)\n",
    "\n",
    "  X_subset = Xy_subset.drop(columns=[ground_truth], inplace=False)\n",
    "  y_subset = Xy_subset[ground_truth]\n",
    "  print(f\"Subset dataset shape {Counter(y_subset)}\")\n",
    "\n",
    "  return X_subset, y_subset\n",
    "\n",
    "\n",
    "def select_random_samples(X=X, y=y, sampling_strategy=0.1, sampling_class=\"negatives\", seed=seed):\n",
    "  X_positives = X[y == 1] \n",
    "  X_negatives = X[y == 0]\n",
    "\n",
    "  X_samples = X_negatives if sampling_class == \"negatives\" else X_positives\n",
    "  X_samples = X_samples.sample(frac=sampling_strategy, random_state=seed, replace=False)\n",
    "\n",
    "  X_positives = X_samples if sampling_class == \"positives\" else X_positives\n",
    "  X_negatives = X_samples if sampling_class == \"negatives\" else X_negatives\n",
    "  \n",
    "  X_samples = pd.concat([X_positives, X_negatives], axis=0)\n",
    "  y_samples = np.concatenate([np.ones(X_positives.shape[0]), np.zeros(X_negatives.shape[0])])\n",
    "\n",
    "  print(f\"Subset dataset shape {Counter(y_samples)}\")\n",
    "  return X_samples, y_samples\n"
   ]
  },
  {
   "cell_type": "markdown",
   "metadata": {},
   "source": [
    "**Up- and Downlsampling** based on ratios"
   ]
  },
  {
   "cell_type": "code",
   "execution_count": 22,
   "metadata": {},
   "outputs": [],
   "source": [
    "from imblearn.over_sampling import RandomOverSampler\n",
    "from collections import Counter\n",
    "\n",
    "def create_ratio_samples_v1(data, val_split=0.2, test_split=0.1, inital_ratio=20, seed=seed, ros_strategy=0.5, ros_shrinkage=0.0):\n",
    "  # Seed\n",
    "  np.random.seed(seed)\n",
    "  \n",
    "  # Create input data X and y subsets\n",
    "  X = data.drop(columns=[ground_truth_selected], inplace=False)\n",
    "  y = data[ground_truth_selected]\n",
    "  \n",
    "  # Create positive and negative data subsets  \n",
    "  X_pos = X[data[ground_truth_selected] == 1]\n",
    "  X_neg = X[data[ground_truth_selected] == 0]\n",
    "  \n",
    "  # Get initial number of data to be used\n",
    "  num_pos = len(y[y==1])\n",
    "  num_neg = int(num_pos * inital_ratio)\n",
    "  \n",
    "  # Check ratios and data sizes\n",
    "  assert val_split + test_split < 1.0\n",
    "  assert num_neg > num_pos\n",
    "  assert len(y[y==0]) > num_neg\n",
    "  \n",
    "  # Calculate numbers to split subsets\n",
    "  num_pos_val = int(num_positives * val_split)\n",
    "  num_pos_test = int(num_positives * test_split)\n",
    "  num_pos_train = num_positives - (num_pos_val + num_pos_test)\n",
    "  \n",
    "  num_neg_val = int(num_neg * val_split)\n",
    "  num_neg_test = int(num_neg * test_split)\n",
    "  num_neg_train = num_neg - (num_neg_val + num_neg_test)\n",
    "  \n",
    "  # Sample negative data to match positive data ratio\n",
    "  X_neg_samples = np.random.choice(X_neg.index, size=num_neg, replace=False)\n",
    "  X_neg = X_neg.loc[X_neg_samples]\n",
    "    \n",
    "  # Create subsets of positive data  \n",
    "  X_idx_pos = np.arange(X_pos.shape[0])\n",
    "  X_idx_neg = np.arange(X_neg.shape[0])\n",
    "  \n",
    "  # Shuffling\n",
    "  np.random.shuffle(X_idx_pos)\n",
    "  np.random.shuffle(X_idx_neg)\n",
    "  \n",
    "  # Calculate positive data splits\n",
    "  train_pos_end = num_pos_train\n",
    "  val_pos_end = train_pos_end + num_pos_val\n",
    "  \n",
    "  idx_train_pos = X_idx_pos[:train_pos_end]\n",
    "  idx_val_pos = X_idx_pos[train_pos_end:val_pos_end]\n",
    "  idx_test_pos = X_idx_pos[val_pos_end:]\n",
    "  \n",
    "  X_train_pos_samples = X_pos.iloc[idx_train_pos]\n",
    "  X_val_pos_samples = X_pos.iloc[idx_val_pos]\n",
    "  X_test_pos_samples = X_pos.iloc[idx_test_pos]\n",
    "  \n",
    "  # Calculate negative data splits  \n",
    "  train_neg_end = num_neg_train\n",
    "  val_neg_end = train_neg_end + num_neg_val\n",
    "  \n",
    "  idx_train_neg = X_idx_neg[:train_neg_end]\n",
    "  idx_val_neg = X_idx_neg[train_neg_end:val_neg_end]\n",
    "  idx_test_neg = X_idx_neg[val_neg_end:]\n",
    "  \n",
    "  X_train_neg_samples = X_neg.iloc[idx_train_neg]\n",
    "  X_val_neg_samples = X_neg.iloc[idx_val_neg]\n",
    "  X_test_neg_samples = X_neg.iloc[idx_test_neg]\n",
    "  \n",
    "  # Oversample positive training data\n",
    "  X_train_samples = pd.concat([X_train_pos_samples, X_train_neg_samples], axis=0)\n",
    "  y_train_samples = np.concatenate((np.ones(num_pos_train), np.zeros(num_neg_train)), axis=0).ravel()\n",
    "  \n",
    "  ros = RandomOverSampler(sampling_strategy=ros_strategy, random_state=seed, shrinkage=ros_shrinkage)\n",
    "  X_ros, y_ros = ros.fit_resample(X_train_samples, y_train_samples)\n",
    "  \n",
    "  # Collect validation and test data\n",
    "  X_val_samples = pd.concat([X_val_pos_samples, X_val_neg_samples], axis=0)\n",
    "  y_val_samples = np.concatenate((np.ones(num_pos_val), np.zeros(num_neg_val)), axis=0).ravel()\n",
    "  \n",
    "  X_test_samples = pd.concat([X_test_pos_samples, X_test_neg_samples], axis=0)\n",
    "  y_test_samples = np.concatenate((np.ones(num_pos_test), np.zeros(num_neg_test)), axis=0).ravel()\n",
    "  \n",
    "  # Check data sizes\n",
    "  print(f\"Resampled dataset shape: {Counter(y_ros)}\")\n",
    "  print(f\"Validation data shape: {Counter(y_val_samples)}\")\n",
    "  print(f\"Test data shape: {Counter(y_test_samples)}\")\n",
    "\n",
    "  return X_ros.astype(np.float32), y_ros.astype(np.int8), X_val_samples.astype(np.float32), y_val_samples.astype(np.int8), X_test_samples.astype(np.float32), y_test_samples.astype(np.int8)\n"
   ]
  },
  {
   "cell_type": "markdown",
   "metadata": {},
   "source": [
    "### **Create** positive/negative subsets"
   ]
  },
  {
   "cell_type": "code",
   "execution_count": 23,
   "metadata": {},
   "outputs": [],
   "source": [
    "# Create selection of the positives and negatives for testing purposes\n",
    "X_positives = df_model[df_model[ground_truth_selected] == 1].drop(columns=[ground_truth_selected], inplace=False).astype(np.float32)\n",
    "y_positives = df_model[df_model[ground_truth_selected] == 1][ground_truth_selected].astype(np.float32)"
   ]
  },
  {
   "cell_type": "markdown",
   "metadata": {},
   "source": [
    "# **Modeling**"
   ]
  },
  {
   "cell_type": "markdown",
   "metadata": {},
   "source": [
    "### Preparation"
   ]
  },
  {
   "cell_type": "markdown",
   "metadata": {},
   "source": [
    "#### **Building** and **training** ANN models"
   ]
  },
  {
   "cell_type": "code",
   "execution_count": 24,
   "metadata": {},
   "outputs": [],
   "source": [
    "import tensorflow as tf\n",
    "import matplotlib.pyplot as plt\n",
    "\n",
    "from tensorflow.keras import layers\n",
    "\n",
    "def train_ann(X, \n",
    "              y,\n",
    "              model,\n",
    "              validation_data=None, \n",
    "              validation_split=0.2,  \n",
    "              validation_steps=None,\n",
    "              epochs=100, \n",
    "              batch_size=32, \n",
    "              optimizer=tf.keras.optimizers.Adam, \n",
    "              loss=tf.keras.losses.binary_crossentropy, \n",
    "              metrics=[\"mse\"], \n",
    "              callbacks=[], \n",
    "              verbose=0,\n",
    "              seed=42,\n",
    "              mixed_precision=False):\n",
    "  \"\"\"Train ANN model\"\"\"\n",
    "  # Set mixed precision policy\n",
    "  if mixed_precision is True:\n",
    "    tf.keras.mixed_precision.set_global_policy(policy='mixed_float16')\n",
    "  else:\n",
    "    tf.keras.mixed_precision.set_global_policy(policy='float32')\n",
    "\n",
    "  tf.random.set_seed(seed)  \n",
    "\n",
    "  # Print settings\n",
    "  print(f\"Random seed: {seed}, precision: {tf.keras.mixed_precision.global_policy().name}\\n\")\n",
    "  \n",
    "  if validation_data:\n",
    "    print(f\"Training on {X.shape[0]} samples.\\n\")\n",
    "  else:\n",
    "    print(f\"Training on {int(X.shape[0] - X.shape[0] * validation_split)} samples.\\n\")\n",
    "    \n",
    "  model.compile(optimizer=optimizer(learning_rate=0.001), loss=loss, metrics=metrics)\n",
    "  return model.fit(X, y, validation_data=validation_data, validation_split=validation_split, validation_steps=validation_steps, epochs=epochs, batch_size=batch_size, callbacks=callbacks, verbose=verbose)\n",
    "    "
   ]
  },
  {
   "cell_type": "code",
   "execution_count": 25,
   "metadata": {},
   "outputs": [],
   "source": [
    "# Simple initial ANN model\n",
    "def create_simple_ann(num_features, model_name=\"ANN\", hidden_units=1, activation=tf.keras.activations.relu, batch_norm=False, seed=42):\n",
    "  \"\"\"Create a new ANN model\"\"\"  \n",
    "  tf.random.set_seed(seed)\n",
    "  neurons = num_features*2 + 1\n",
    "\n",
    "  input = tf.keras.Input(shape=(num_features,), name=\"Input_layer\")\n",
    "  x = layers.Dense(neurons, activation=activation, name=\"Hidden_layer_1\")(input)\n",
    "  x = layers.BatchNormalization()(x) if batch_norm is True else x\n",
    "  \n",
    "  if hidden_units > 1:\n",
    "    for i in range(1, hidden_units):\n",
    "      hidden_unit_name = f\"Hidden_layer_{i+1}\"\n",
    "      x = layers.Dense(neurons, activation=activation, name=hidden_unit_name)(x)\n",
    "      x = layers.BatchNormalization()(x) if batch_norm is True else x  \n",
    "       \n",
    "  output = layers.Dense(1, activation=tf.keras.activations.sigmoid, dtype=tf.float32, name=\"Output_layer\")(x)\n",
    "  return tf.keras.Model(inputs=input, outputs=output, name=model_name)\n",
    "  "
   ]
  },
  {
   "cell_type": "markdown",
   "metadata": {},
   "source": [
    "**Create** callbacks"
   ]
  },
  {
   "cell_type": "code",
   "execution_count": 26,
   "metadata": {},
   "outputs": [],
   "source": [
    "import datetime\n",
    "\n",
    "def tensorboard_callback(folder, model_name):\n",
    "  log_dir = os.path.join(folder, model_name + \"_\" + datetime.datetime.now().strftime(\"%Y%m%d-%H%M%S\"))\n",
    "  \n",
    "  training_log = tf.keras.callbacks.TensorBoard(log_dir=log_dir)\n",
    "  print(f\"Saving TensorBoard log files to: {log_dir}\")\n",
    "  return training_log\n"
   ]
  },
  {
   "cell_type": "markdown",
   "metadata": {},
   "source": [
    "#### **Create** training data "
   ]
  },
  {
   "cell_type": "code",
   "execution_count": 27,
   "metadata": {},
   "outputs": [],
   "source": [
    "def create_train_test_splits(X, y, test_size=0.2, seed=seed, out_dtype=np.float32, out_type=\"tensorflow\"):\n",
    "  \"\"\"Create training and testing data\"\"\"\n",
    "  X_train, X_test, y_train, y_test = train_test_split(X, y, test_size=test_size, random_state=seed)\n",
    "  \n",
    "  if out_type == \"tensorflow\":\n",
    "    X_train = tf.convert_to_tensor(X_train, dtype=out_dtype)\n",
    "    X_test = tf.convert_to_tensor(X_test, dtype=out_dtype)\n",
    "    y_train = tf.convert_to_tensor(y_train, dtype=np.int8)\n",
    "    y_test = tf.convert_to_tensor(y_test, dtype=np.int8)\n",
    "  elif out_type == \"numpy\":\n",
    "    X_train = X_train.astype(out_dtype)\n",
    "    X_test = X_test.astype(out_dtype)\n",
    "    y_train = y_train.astype(np.int8)\n",
    "    y_test = y_test.astype(np.int8)\n",
    "    \n",
    "  return X_train, X_test, y_train, y_test"
   ]
  },
  {
   "cell_type": "markdown",
   "metadata": {},
   "source": [
    "#### **Evaluation** methods"
   ]
  },
  {
   "cell_type": "code",
   "execution_count": 28,
   "metadata": {},
   "outputs": [],
   "source": [
    "from sklearn.metrics import roc_curve, auc, roc_auc_score\n",
    "import matplotlib.pyplot as plt\n",
    "  \n",
    "def plot_loss(history):\n",
    "  plt.plot(history.history['loss'], label='Training Loss')\n",
    "  plt.plot(history.history['val_loss'], label='Validation Loss')\n",
    "  plt.title('Loss Function')\n",
    "  plt.xlabel('Epoch')\n",
    "  plt.ylabel('Loss')\n",
    "  plt.legend()\n",
    "  plt.show();\n",
    "\n",
    "\n",
    "def eval_roc_auc(model, X, y, plot=True, batch_size=1024):\n",
    "  \"\"\"Evaluate ROC AUC score\"\"\"\n",
    "  # ROC AUC score\n",
    "  y_pred = model.predict(X, verbose=0, batch_size=batch_size)\n",
    "  eval_roc_auc = roc_auc_score(y, y_pred)\n",
    "  \n",
    "  # ROC curve\n",
    "  if plot is True:\n",
    "    fpr, tpr, _ = roc_curve(y, y_pred)\n",
    "    \n",
    "    # Plotting\n",
    "    plt.figure()\n",
    "    plt.plot(fpr, tpr, color='darkorange', lw=2, label=f\"ROC curve (area = {eval_roc_auc:.4})\")\n",
    "    plt.plot([0, 1], [0, 1], color='navy', lw=2, linestyle='--')\n",
    "    plt.xlim([0.0, 1.0])\n",
    "    plt.ylim([0.0, 1.05])\n",
    "    plt.xlabel('False Positive Rate')\n",
    "    plt.ylabel('True Positive Rate')\n",
    "    plt.title('Receiver Operating Characteristic')\n",
    "    plt.legend(loc=\"lower right\")\n",
    "  else:\n",
    "    print(f\"ROC AUC score: {eval_roc_auc:.4}\")\n",
    "    \n",
    "  return eval_roc_auc\n",
    "\n",
    "\n",
    "def plot_loss_and_roc(history, model, X, y, batch_size=1024):\n",
    "    # Plot loss function\n",
    "    plt.figure(figsize=(12, 5))\n",
    "\n",
    "    plt.subplot(1, 2, 1)\n",
    "    plt.plot(history.history['loss'], label='Training Loss')\n",
    "    plt.plot(history.history['val_loss'], label='Validation Loss')\n",
    "    plt.title('Loss Function')\n",
    "    plt.xlabel('Epoch')\n",
    "    plt.ylabel('Loss')\n",
    "    plt.legend()\n",
    "\n",
    "    # Evaluate ROC AUC and plot ROC curve\n",
    "    plt.subplot(1, 2, 2)\n",
    "    y_pred = model.predict(X, verbose=0, batch_size=batch_size)\n",
    "    fpr, tpr, _ = roc_curve(y, y_pred)\n",
    "    roc_auc = auc(fpr, tpr)\n",
    "\n",
    "    plt.plot(fpr, tpr, color='darkorange', lw=2, label=f\"ROC curve (area = {roc_auc:.4})\")\n",
    "    plt.plot([0, 1], [0, 1], color='navy', lw=2, linestyle='--')\n",
    "    plt.xlim([0.0, 1.0])\n",
    "    plt.ylim([0.0, 1.05])\n",
    "    plt.xlabel('False Positive Rate')\n",
    "    plt.ylabel('True Positive Rate')\n",
    "    plt.title('Receiver Operating Characteristic')\n",
    "    plt.legend(loc=\"lower right\")\n",
    "\n",
    "    plt.tight_layout(pad=3) \n",
    "    plt.show()\n",
    "\n",
    "# Example usage:\n",
    "# Assuming 'history' is the training history and 'model' is your trained model\n",
    "# Replace X and y with your actual data\n",
    "# plot_loss_and_roc(history, model, X, y)\n"
   ]
  },
  {
   "cell_type": "markdown",
   "metadata": {},
   "source": [
    "#### **Prediction** tools\n"
   ]
  },
  {
   "cell_type": "code",
   "execution_count": 29,
   "metadata": {},
   "outputs": [],
   "source": [
    "def set_nodata(data, prediction, columns):\n",
    "  out_nodata = -9999.\n",
    "  \n",
    "  nan_mask = np.isnan(data[columns]).to_numpy()\n",
    "  nan_mask = np.max(nan_mask, axis=1)\n",
    "  nan_mask = nan_mask.reshape(-1, 1)\n",
    "  \n",
    "  return np.where(nan_mask, out_nodata, prediction)  \n",
    "\n",
    "\n",
    "def predict_values(data, model_columns, model, batch_size=512, verbose=1, impute=True,  setback_nodata=False):\n",
    "  assert not (impute and setback_nodata), \"Imputing and setting back nodata is not possible at the same time!\"\n",
    "    \n",
    "  if impute is True and setback_nodata is False:\n",
    "    data = impute_data(data, columns=model_columns)\n",
    "\n",
    "  prediction = model.predict(data[model_columns], batch_size=batch_size, verbose=verbose)\n",
    "  \n",
    "  if setback_nodata is True and impute is False:\n",
    "    out_data = set_nodata(data, prediction, columns=model_columns) if impute is False else prediction\n",
    "  else:\n",
    "    out_data = prediction\n",
    "    \n",
    "  return out_data\n",
    "  "
   ]
  },
  {
   "cell_type": "markdown",
   "metadata": {},
   "source": [
    "#### **Export** tools"
   ]
  },
  {
   "cell_type": "code",
   "execution_count": 30,
   "metadata": {},
   "outputs": [],
   "source": [
    "from beak.utilities import conversions\n",
    "\n",
    "def export_prediction(data=feather, region_column=region_column, out_name=None, prediction=None, out_path=PATH_MODEL_RESULTS):\n",
    "  \"\"\"Exports prediction to raster\"\"\"  \n",
    "  # Load initial data to get coordinates\n",
    "  print(\"Loading data...\")\n",
    "  data = io.load_feather(feather, columns=[\"H3_Geometry\", region_column])\n",
    "  data = data[data[region_column].isin(REGIONS)]\n",
    "  \n",
    "  print(\"Converting prediction...\")\n",
    "  data[out_name] = prediction.squeeze()\n",
    "\n",
    "  print(\"Creating geodataframe...\")\n",
    "  gdf = data[[\"H3_Geometry\", out_name]].copy()\n",
    "  gdf = conversions.create_geodataframe_from_polygons(data=gdf, polygon_col=\"H3_Geometry\", epsg_code=4326)\n",
    "\n",
    "  # Create and export rasters\n",
    "  print(\"Exporting raster...\\n\")\n",
    "  _, _ , _ = conversions.rasterize_vector(value_type=\"numerical\",\n",
    "                                          value_columns=[out_name],\n",
    "                                          geodataframe=gdf,\n",
    "                                          nodata_value=-9999.0,\n",
    "                                          resolution=0.05,\n",
    "                                          epsg_code=4326,\n",
    "                                          dtype=np.float32,\n",
    "                                          raster_save=True,\n",
    "                                          raster_save_folder=out_path)"
   ]
  },
  {
   "cell_type": "markdown",
   "metadata": {},
   "source": [
    "## Models"
   ]
  },
  {
   "cell_type": "markdown",
   "metadata": {},
   "source": [
    "**M2F-I:** Train/test split first, afterwards oversampling without Batch Norm but with lower random sample ratio at the beginning"
   ]
  },
  {
   "cell_type": "code",
   "execution_count": 31,
   "metadata": {},
   "outputs": [
    {
     "name": "stdout",
     "output_type": "stream",
     "text": [
      "Subset dataset shape Counter({0.0: 36183, 1.0: 1854})\n",
      "Resampled dataset shape Counter({0.0: 36183, 1.0: 18091}), positive/negative ratio: 0.5\n",
      "Training dataset shape Counter({0: 36183, 1: 18091})\n",
      "Test dataset shape Counter({0: 7224, 1: 384})\n"
     ]
    }
   ],
   "source": [
    "multiplier = 20\n",
    "random_num_negatives = len(y_positives) * multiplier\n",
    "num_random_negatives = round(random_num_negatives / len(X_imputed), 3)\n",
    "\n",
    "# Strategy 2: Random sampling negatives first and SMOTETomek oversampling positives/downsampling negatives afterwards\n",
    "X_rs, y_rs = select_random_samples(X_imputed, y_imputed, sampling_strategy=num_random_negatives, sampling_class=\"negatives\", seed=seed)\n",
    "X_train, X_test, y_train, y_test = create_train_test_splits(X_rs, y_rs, test_size=0.2)\n",
    "X_rs_ros, y_rs_ros = oversample_data(X_rs, y_rs, sampling_strategy=0.5, random_state=seed, shrinkage=0.0)\n",
    "\n",
    "print(f\"Training dataset shape {Counter(y_rs_ros)}\")\n",
    "print(f\"Test dataset shape {Counter(y_test.numpy())}\")\n",
    "\n",
    "X_train = tf.convert_to_tensor(X_rs_ros, dtype=tf.float32)\n",
    "y_train = tf.convert_to_tensor(y_rs_ros, dtype=np.int8)\n"
   ]
  },
  {
   "cell_type": "code",
   "execution_count": 32,
   "metadata": {},
   "outputs": [
    {
     "name": "stdout",
     "output_type": "stream",
     "text": [
      "Saving TensorBoard log files to: logs\\PREFERRED_NUM_ANN_M2F_I_50_EPOCHS_512_BATCH_SIZE_20240208-161206\n",
      "Random seed: 42, precision: float32\n",
      "\n",
      "Training on 43419 samples.\n",
      "\n"
     ]
    }
   ],
   "source": [
    "epochs = 50\n",
    "batch_size = 512\n",
    "\n",
    "# Name\n",
    "model_name = \"PREFERRED_NUM_ANN_M2F_I_\" + str(epochs) + \"_EPOCHS_\" + str(batch_size) + \"_BATCH_SIZE\"\n",
    "\n",
    "# Model\n",
    "model = create_simple_ann(num_features=X_train.shape[1], model_name=model_name, hidden_units=1, activation=tf.keras.activations.relu, batch_norm=False, seed=seed)\n",
    "\n",
    "# Callbacks\n",
    "callbacks = [tf.keras.callbacks.EarlyStopping(monitor=\"val_loss\", patience=5), tensorboard_callback(model_log_folder, model_name)]\n",
    "\n",
    "# Training\n",
    "train_results = train_ann(X_train, y_train, model, validation_split=0.2, epochs=epochs, batch_size=batch_size, callbacks=callbacks, seed=seed, verbose=0)\n",
    "\n",
    "# Save model\n",
    "save_model(model, model_name)\n"
   ]
  },
  {
   "cell_type": "code",
   "execution_count": 33,
   "metadata": {},
   "outputs": [
    {
     "data": {
      "image/png": "[encoded data removed]",
      "text/plain": [
       "<Figure size 1200x500 with 2 Axes>"
      ]
     },
     "metadata": {},
     "output_type": "display_data"
    },
    {
     "name": "stdout",
     "output_type": "stream",
     "text": [
      "15/15 [==============================] - 0s 1ms/step - loss: 0.1131 - mse: 0.0333\n",
      "1/1 [==============================] - 0s 18ms/step - loss: 0.5508 - mse: 0.1684\n",
      "\n",
      "Eval - Test loss: 0.1131, Test metric: 0.0333\n",
      "Eval positives only- Test loss: 0.5508, Test metric: 0.1684\n"
     ]
    }
   ],
   "source": [
    "# Load model\n",
    "model_ann = load_model(model_name)\n",
    "model = model_ann\n",
    "\n",
    "# Plot loss and roc curve\n",
    "plot_loss_and_roc(train_results, model, X_test, y_test, batch_size=512)\n",
    "\n",
    "# Evaluation\n",
    "# Test (with oversampled data)\n",
    "eval = model.evaluate(X_test, y_test, batch_size=512)\n",
    "\n",
    "# Test (with oversampled data, only positives)\n",
    "eval_positives = model.evaluate(X_test[y_test==1], y_test[y_test==1], batch_size=512)\n",
    "\n",
    "print(f\"\\nEval - Test loss: {eval[0]:.4}, Test metric: {eval[1]:.4}\")\n",
    "print(f\"Eval positives only- Test loss: {eval_positives[0]:.4}, Test metric: {eval_positives[1]:.4}\")\n"
   ]
  },
  {
   "cell_type": "code",
   "execution_count": 34,
   "metadata": {},
   "outputs": [
    {
     "name": "stdout",
     "output_type": "stream",
     "text": [
      "7071/7071 [==============================] - 5s 663us/step\n",
      "Loading data...\n",
      "Converting prediction...\n",
      "Creating geodataframe...\n",
      "Exporting raster...\n",
      "\n",
      "Number of threads rasterizing: 48\n"
     ]
    },
    {
     "name": "stderr",
     "output_type": "stream",
     "text": [
      "Rasterizing: 100%|██████████| 1/1 [05:51<00:00, 351.74s/it]\n"
     ]
    }
   ],
   "source": [
    "prediction = predict_values(df_model_copy, model_columns_numerical, model, batch_size=512)\n",
    "export_prediction(data=feather, region_column=region_column, out_name=model_name, prediction=prediction)"
   ]
  },
  {
   "cell_type": "markdown",
   "metadata": {},
   "source": [
    "### **M3:** ANN with random sampling and SMOTETomek"
   ]
  },
  {
   "cell_type": "code",
   "execution_count": 35,
   "metadata": {},
   "outputs": [
    {
     "name": "stdout",
     "output_type": "stream",
     "text": [
      "Subset dataset shape Counter({0.0: 237469, 1.0: 1754})\n",
      "Resampled dataset shape Counter({0.0: 237468, 1.0: 118734})\n"
     ]
    }
   ],
   "source": [
    "from imblearn.under_sampling import TomekLinks\n",
    "from imblearn.combine import SMOTETomek\n",
    "\n",
    "# Strategy 2: Random sampling negatives first and SMOTETomek oversampling positives/downsampling negatives afterwards\n",
    "X_rs, y_rs = select_random_samples(X, y, sampling_strategy=0.1, sampling_class=\"negatives\", seed=seed)\n",
    "tomek = TomekLinks(sampling_strategy=\"majority\")\n",
    "X_rs_smotet, y_rs_smotet = SMOTETomek(sampling_strategy=0.5, tomek=tomek, random_state=seed).fit_resample(X_rs, y_rs)\n",
    "print(f\"Resampled dataset shape {Counter(y_rs_smotet)}\")\n",
    "\n",
    "X_train, X_test, y_train, y_test = create_train_test_splits(X_rs_smotet, y_rs_smotet, test_size=0.2)\n"
   ]
  },
  {
   "cell_type": "markdown",
   "metadata": {},
   "source": [
    "**M3C:** Train/test split first, afterwards oversampling without Batch Norm"
   ]
  },
  {
   "cell_type": "code",
   "execution_count": 36,
   "metadata": {},
   "outputs": [
    {
     "name": "stdout",
     "output_type": "stream",
     "text": [
      "Subset dataset shape Counter({0.0: 237469, 1.0: 1754})\n",
      "Training dataset shape Counter({0.0: 213733, 1.0: 106866})\n",
      "Test dataset shape Counter({0.0: 23736, 1.0: 187})\n"
     ]
    }
   ],
   "source": [
    "from imblearn.under_sampling import TomekLinks\n",
    "from imblearn.combine import SMOTETomek\n",
    "\n",
    "# Strategy 3: Random Sampling, then split into training and test data, afterwards SMOTETomek oversampling positives/downsampling negatives\n",
    "X_rs, y_rs = select_random_samples(X, y, sampling_strategy=0.1, sampling_class=\"negatives\", seed=seed)\n",
    "X_train, X_test, y_train, y_test = train_test_split(X_rs, y_rs, test_size=0.1, random_state=seed)\n",
    "\n",
    "tomek = TomekLinks(sampling_strategy=\"majority\")\n",
    "X_rs_smotet, y_rs_smotet = SMOTETomek(sampling_strategy=0.5, tomek=tomek, random_state=seed).fit_resample(X_train, y_train)\n",
    "print(f\"Training dataset shape {Counter(y_rs_smotet)}\")\n",
    "print(f\"Test dataset shape {Counter(y_test)}\")\n",
    "\n",
    "X_train = tf.convert_to_tensor(X_rs_smotet, dtype=tf.float32)\n",
    "y_train = tf.convert_to_tensor(y_rs_smotet, dtype=np.int8)\n"
   ]
  },
  {
   "cell_type": "code",
   "execution_count": 37,
   "metadata": {},
   "outputs": [],
   "source": [
    "epochs = 50\n",
    "batch_size = 512\n",
    "\n",
    "# Name\n",
    "model_name = \"PREFERRED_NUM_ANN_M3C_\" + str(epochs) + \"_EPOCHS_\" + str(batch_size) + \"_BATCH_SIZE\"\n"
   ]
  },
  {
   "cell_type": "code",
   "execution_count": 38,
   "metadata": {},
   "outputs": [
    {
     "name": "stdout",
     "output_type": "stream",
     "text": [
      "Saving TensorBoard log files to: logs\\PREFERRED_NUM_ANN_M3C_50_EPOCHS_512_BATCH_SIZE_20240208-161949\n",
      "Random seed: 42, precision: float32\n",
      "\n",
      "Training on 256479 samples.\n",
      "\n"
     ]
    }
   ],
   "source": [
    "# Model\n",
    "model = create_simple_ann(num_features=X_train.shape[1], model_name=model_name, hidden_units=1, activation=tf.keras.activations.relu, batch_norm=False, seed=seed)\n",
    "\n",
    "# Callbacks\n",
    "callbacks = [tf.keras.callbacks.EarlyStopping(monitor=\"val_loss\", patience=5), tensorboard_callback(model_log_folder, model_name)]\n",
    "\n",
    "# Training\n",
    "train_results = train_ann(X_train, y_train, model, validation_split=0.2, epochs=epochs, batch_size=batch_size, callbacks=callbacks, seed=seed, verbose=0)\n",
    "\n",
    "# Save model\n",
    "save_model(model, model_name)\n"
   ]
  },
  {
   "cell_type": "code",
   "execution_count": 39,
   "metadata": {},
   "outputs": [],
   "source": [
    "# Load model\n",
    "model_ann_3c = load_model(model_name)\n",
    "model = model_ann_3c"
   ]
  },
  {
   "cell_type": "code",
   "execution_count": 40,
   "metadata": {},
   "outputs": [
    {
     "data": {
      "image/png": "[encoded data removed]",
      "text/plain": [
       "<Figure size 1200x500 with 2 Axes>"
      ]
     },
     "metadata": {},
     "output_type": "display_data"
    }
   ],
   "source": [
    "# Plot loss and roc curve\n",
    "plot_loss_and_roc(train_results, model, X_test, y_test, batch_size=512)"
   ]
  },
  {
   "cell_type": "code",
   "execution_count": 41,
   "metadata": {},
   "outputs": [
    {
     "name": "stdout",
     "output_type": "stream",
     "text": [
      "47/47 [==============================] - 0s 848us/step - loss: 0.0540 - mse: 0.0158\n",
      "1/1 [==============================] - 0s 19ms/step - loss: 0.5926 - mse: 0.1516\n",
      "\n",
      "Eval - Test loss: 0.05402, Test metric: 0.0158\n",
      "Eval positives only- Test loss: 0.5926, Test metric: 0.1516\n"
     ]
    }
   ],
   "source": [
    "# Evaluation\n",
    "# Test (with oversampled data)\n",
    "eval = model.evaluate(X_test, y_test, batch_size=512)\n",
    "\n",
    "# Test (with oversampled data, only positives)\n",
    "eval_positives = model.evaluate(X_test[y_test==1], y_test[y_test==1], batch_size=512)\n",
    "\n",
    "print(f\"\\nEval - Test loss: {eval[0]:.4}, Test metric: {eval[1]:.4}\")\n",
    "print(f\"Eval positives only- Test loss: {eval_positives[0]:.4}, Test metric: {eval_positives[1]:.4}\")"
   ]
  },
  {
   "cell_type": "code",
   "execution_count": 42,
   "metadata": {},
   "outputs": [
    {
     "name": "stdout",
     "output_type": "stream",
     "text": [
      "7071/7071 [==============================] - 5s 630us/step\n",
      "Loading data...\n",
      "Converting prediction...\n",
      "Creating geodataframe...\n",
      "Exporting raster...\n",
      "\n",
      "Number of threads rasterizing: 48\n"
     ]
    },
    {
     "name": "stderr",
     "output_type": "stream",
     "text": [
      "Rasterizing: 100%|██████████| 1/1 [05:56<00:00, 356.57s/it]\n"
     ]
    }
   ],
   "source": [
    "prediction = predict_values(df_model_copy, model_columns_numerical, model, batch_size=512)\n",
    "export_prediction(data=feather, region_column=region_column, out_name=model_name, prediction=prediction)"
   ]
  },
  {
   "cell_type": "markdown",
   "metadata": {},
   "source": [
    "**M3C-I:** Train/test split first, afterwards oversampling without Batch Norm"
   ]
  },
  {
   "cell_type": "code",
   "execution_count": 53,
   "metadata": {},
   "outputs": [
    {
     "name": "stdout",
     "output_type": "stream",
     "text": [
      "Subset dataset shape Counter({0.0: 361828, 1.0: 1854})\n",
      "Training dataset shape Counter({0.0: 325672, 1.0: 162836})\n",
      "Test dataset shape Counter({0.0: 36156, 1.0: 213})\n"
     ]
    }
   ],
   "source": [
    "from imblearn.under_sampling import TomekLinks\n",
    "from imblearn.combine import SMOTETomek\n",
    "\n",
    "# Strategy 3: Random Sampling, then split into training and test data, afterwards SMOTETomek oversampling positives/downsampling negatives\n",
    "X_rs, y_rs = select_random_samples(X_imputed, y_imputed, sampling_strategy=0.1, sampling_class=\"negatives\", seed=seed)\n",
    "X_train, X_test, y_train, y_test = train_test_split(X_rs, y_rs, test_size=0.1, random_state=seed)\n",
    "\n",
    "tomek = TomekLinks(sampling_strategy=\"majority\")\n",
    "X_rs_smotet, y_rs_smotet = SMOTETomek(sampling_strategy=0.5, tomek=tomek, random_state=seed).fit_resample(X_train, y_train)\n",
    "print(f\"Training dataset shape {Counter(y_rs_smotet)}\")\n",
    "print(f\"Test dataset shape {Counter(y_test)}\")\n",
    "\n",
    "X_train = tf.convert_to_tensor(X_rs_smotet, dtype=tf.float32)\n",
    "y_train = tf.convert_to_tensor(y_rs_smotet, dtype=np.int8)\n"
   ]
  },
  {
   "cell_type": "code",
   "execution_count": 54,
   "metadata": {},
   "outputs": [],
   "source": [
    "epochs = 50\n",
    "batch_size = 512\n",
    "\n",
    "# Name\n",
    "model_name = \"PREFERRED_NUM_ANN_M3C_I_\" + str(epochs) + \"_EPOCHS_\" + str(batch_size) + \"_BATCH_SIZE\"\n"
   ]
  },
  {
   "cell_type": "code",
   "execution_count": 55,
   "metadata": {},
   "outputs": [
    {
     "name": "stdout",
     "output_type": "stream",
     "text": [
      "Saving TensorBoard log files to: logs\\PREFERRED_NUM_ANN_M3C_I_50_EPOCHS_512_BATCH_SIZE_20240208-164216\n",
      "Random seed: 42, precision: float32\n",
      "\n",
      "Training on 390806 samples.\n",
      "\n"
     ]
    }
   ],
   "source": [
    "# Model\n",
    "model = create_simple_ann(num_features=X_train.shape[1], model_name=model_name, hidden_units=1, activation=tf.keras.activations.relu, batch_norm=False, seed=seed)\n",
    "\n",
    "# Callbacks\n",
    "callbacks = [tf.keras.callbacks.EarlyStopping(monitor=\"val_loss\", patience=5), tensorboard_callback(model_log_folder, model_name)]\n",
    "\n",
    "# Training\n",
    "train_results = train_ann(X_train, y_train, model, validation_split=0.2, epochs=epochs, batch_size=batch_size, callbacks=callbacks, seed=seed, verbose=0)\n",
    "\n",
    "# Save model\n",
    "save_model(model, model_name)\n"
   ]
  },
  {
   "cell_type": "code",
   "execution_count": null,
   "metadata": {},
   "outputs": [],
   "source": [
    "# Load model\n",
    "model = load_model(model_name)"
   ]
  },
  {
   "cell_type": "code",
   "execution_count": 56,
   "metadata": {},
   "outputs": [
    {
     "data": {
      "image/png": "[encoded data removed]",
      "text/plain": [
       "<Figure size 1200x500 with 2 Axes>"
      ]
     },
     "metadata": {},
     "output_type": "display_data"
    }
   ],
   "source": [
    "# Plot loss and roc curve\n",
    "plot_loss_and_roc(train_results, model, X_test, y_test, batch_size=512)"
   ]
  },
  {
   "cell_type": "code",
   "execution_count": 57,
   "metadata": {},
   "outputs": [
    {
     "name": "stdout",
     "output_type": "stream",
     "text": [
      "72/72 [==============================] - 0s 902us/step - loss: 0.0486 - mse: 0.0142\n",
      "1/1 [==============================] - 0s 19ms/step - loss: 0.5281 - mse: 0.1444\n",
      "\n",
      "Eval - Test loss: 0.04863, Test metric: 0.01419\n",
      "Eval positives only- Test loss: 0.5281, Test metric: 0.1444\n"
     ]
    }
   ],
   "source": [
    "# Evaluation\n",
    "# Test (with oversampled data)\n",
    "eval = model.evaluate(X_test, y_test, batch_size=512)\n",
    "\n",
    "# Test (with oversampled data, only positives)\n",
    "eval_positives = model.evaluate(X_test[y_test==1], y_test[y_test==1], batch_size=512)\n",
    "\n",
    "print(f\"\\nEval - Test loss: {eval[0]:.4}, Test metric: {eval[1]:.4}\")\n",
    "print(f\"Eval positives only- Test loss: {eval_positives[0]:.4}, Test metric: {eval_positives[1]:.4}\")"
   ]
  },
  {
   "cell_type": "code",
   "execution_count": 58,
   "metadata": {},
   "outputs": [
    {
     "name": "stdout",
     "output_type": "stream",
     "text": [
      "7071/7071 [==============================] - 5s 662us/step\n",
      "Loading data...\n",
      "Converting prediction...\n",
      "Creating geodataframe...\n",
      "Exporting raster...\n",
      "\n",
      "Number of threads rasterizing: 48\n"
     ]
    },
    {
     "name": "stderr",
     "output_type": "stream",
     "text": [
      "Rasterizing: 100%|██████████| 1/1 [05:57<00:00, 357.65s/it]\n"
     ]
    }
   ],
   "source": [
    "prediction = predict_values(df_model_copy, model_columns_numerical, model, batch_size=512)\n",
    "export_prediction(data=feather, region_column=region_column, out_name=model_name, prediction=prediction)"
   ]
  },
  {
   "cell_type": "markdown",
   "metadata": {},
   "source": [
    "### **M6**: ANN with ... undersampling"
   ]
  },
  {
   "cell_type": "markdown",
   "metadata": {},
   "source": [
    "**M6D-U-I:** Train/test split first, neg/pos ratio 20:1 and afterwards undersampling with TomekLinks; without Batch Norm. Imputed input data."
   ]
  },
  {
   "cell_type": "code",
   "execution_count": 43,
   "metadata": {},
   "outputs": [
    {
     "name": "stdout",
     "output_type": "stream",
     "text": [
      "Subset dataset shape Counter({0.0: 36183, 1.0: 1854})\n",
      "Training dataset shape Counter({0: 28762, 1: 1470})\n",
      "Test dataset shape Counter({0: 7224, 1: 384})\n"
     ]
    }
   ],
   "source": [
    "from imblearn.under_sampling import TomekLinks\n",
    "\n",
    "multiplier = 20\n",
    "random_num_negatives = len(y_positives) * multiplier\n",
    "num_random_negatives = round(random_num_negatives / len(X_imputed), 3)\n",
    "X_rs, y_rs = select_random_samples(X_imputed, y_imputed, sampling_strategy=num_random_negatives, sampling_class=\"negatives\", seed=seed)\n",
    "\n",
    "X_train, X_test, y_train, y_test = create_train_test_splits(X_rs, y_rs, test_size=0.2)\n",
    "X_rs_tomek, y_rs_tomek = TomekLinks(sampling_strategy=\"majority\").fit_resample(X_train, y_train)\n",
    "\n",
    "print(f\"Training dataset shape {Counter(y_rs_tomek)}\")\n",
    "print(f\"Test dataset shape {Counter(y_test.numpy())}\")\n",
    "\n",
    "X_train = tf.convert_to_tensor(X_rs_tomek, dtype=tf.float32)\n",
    "y_train = tf.convert_to_tensor(y_rs_tomek, dtype=np.int8)\n"
   ]
  },
  {
   "cell_type": "code",
   "execution_count": 44,
   "metadata": {},
   "outputs": [],
   "source": [
    "epochs = 50\n",
    "batch_size = 512\n",
    "\n",
    "# Name\n",
    "model_name = \"PREFERRED_NUM_ANN_M6D_UI_\" + str(epochs) + \"_EPOCHS_\" + str(batch_size) + \"_BATCH_SIZE\""
   ]
  },
  {
   "cell_type": "code",
   "execution_count": 45,
   "metadata": {},
   "outputs": [
    {
     "name": "stdout",
     "output_type": "stream",
     "text": [
      "Saving TensorBoard log files to: logs\\PREFERRED_NUM_ANN_M6D_UI_50_EPOCHS_512_BATCH_SIZE_20240208-162705\n",
      "Random seed: 42, precision: float32\n",
      "\n",
      "Training on 24185 samples.\n",
      "\n"
     ]
    }
   ],
   "source": [
    "# Model\n",
    "model = create_simple_ann(num_features=X_train.shape[1], model_name=model_name, hidden_units=1, activation=tf.keras.activations.relu, batch_norm=True, seed=seed)\n",
    "\n",
    "# Callbacks\n",
    "callbacks = [tf.keras.callbacks.EarlyStopping(monitor=\"val_loss\", patience=5), tensorboard_callback(model_log_folder, model_name)]\n",
    "\n",
    "# Training\n",
    "train_results = train_ann(X_train, y_train, model, validation_split=0.2, epochs=epochs, batch_size=batch_size, callbacks=callbacks, seed=seed, verbose=0)\n",
    "\n",
    "# Save model\n",
    "save_model(model, model_name)"
   ]
  },
  {
   "cell_type": "code",
   "execution_count": 46,
   "metadata": {},
   "outputs": [
    {
     "data": {
      "image/png": "[encoded data removed]",
      "text/plain": [
       "<Figure size 1200x500 with 2 Axes>"
      ]
     },
     "metadata": {},
     "output_type": "display_data"
    },
    {
     "name": "stdout",
     "output_type": "stream",
     "text": [
      "15/15 [==============================] - 0s 1ms/step - loss: 0.0836 - mse: 0.0240\n",
      "1/1 [==============================] - 0s 30ms/step - loss: 0.8434 - mse: 0.2534\n",
      "\n",
      "Eval - Test loss: 0.08356, Test metric: 0.02404\n",
      "Eval positives only- Test loss: 0.8434, Test metric: 0.2534\n"
     ]
    }
   ],
   "source": [
    "# Load model\n",
    "model_ann = load_model(model_name)\n",
    "model = model_ann\n",
    "\n",
    "# Plot loss and roc curve\n",
    "plot_loss_and_roc(train_results, model, X_test, y_test, batch_size=512)\n",
    "\n",
    "# Evaluation\n",
    "# Test (with oversampled data)\n",
    "eval = model.evaluate(X_test, y_test, batch_size=512)\n",
    "\n",
    "# Test (with oversampled data, only positives)\n",
    "eval_positives = model.evaluate(X_test[y_test==1], y_test[y_test==1], batch_size=512)\n",
    "\n",
    "print(f\"\\nEval - Test loss: {eval[0]:.4}, Test metric: {eval[1]:.4}\")\n",
    "print(f\"Eval positives only- Test loss: {eval_positives[0]:.4}, Test metric: {eval_positives[1]:.4}\")\n"
   ]
  },
  {
   "cell_type": "code",
   "execution_count": 47,
   "metadata": {},
   "outputs": [
    {
     "name": "stdout",
     "output_type": "stream",
     "text": [
      "7071/7071 [==============================] - 5s 736us/step\n",
      "Loading data...\n",
      "Converting prediction...\n",
      "Creating geodataframe...\n",
      "Exporting raster...\n",
      "\n",
      "Number of threads rasterizing: 48\n"
     ]
    },
    {
     "name": "stderr",
     "output_type": "stream",
     "text": [
      "Rasterizing: 100%|██████████| 1/1 [05:57<00:00, 357.18s/it]\n"
     ]
    }
   ],
   "source": [
    "prediction = predict_values(df_model_copy, model_columns_numerical, model, batch_size=512)\n",
    "export_prediction(data=feather, region_column=region_column, out_name=model_name, prediction=prediction)"
   ]
  },
  {
   "cell_type": "markdown",
   "metadata": {},
   "source": [
    "**M6F-U-I:** Train/test split first, neg/pos 10:1 and afterwards undersampling with TomekLinks; without Batch Norm. Imputed input data."
   ]
  },
  {
   "cell_type": "code",
   "execution_count": 48,
   "metadata": {},
   "outputs": [
    {
     "name": "stdout",
     "output_type": "stream",
     "text": [
      "Initial ratio negatives to full dataset: 0.0048\n",
      "Subset dataset shape Counter({0.0: 17368, 1.0: 1854})\n",
      "Training dataset shape Counter({0: 13730, 1: 1499})\n",
      "Test dataset shape Counter({0: 3490, 1: 355})\n"
     ]
    }
   ],
   "source": [
    "from imblearn.under_sampling import TomekLinks\n",
    "\n",
    "multiplier = 10\n",
    "random_num_negatives = len(y_positives) * multiplier\n",
    "num_random_negatives = round(random_num_negatives / len(X_imputed), 4)\n",
    "print(f\"Initial ratio negatives to full dataset: {num_random_negatives}\")\n",
    "\n",
    "X_rs, y_rs = select_random_samples(X_imputed, y_imputed, sampling_strategy=num_random_negatives, sampling_class=\"negatives\", seed=seed)\n",
    "X_train, X_test, y_train, y_test = create_train_test_splits(X_rs, y_rs, test_size=0.2)\n",
    "X_rs_tomek, y_rs_tomek = TomekLinks(sampling_strategy=\"majority\").fit_resample(X_train, y_train)\n",
    "\n",
    "print(f\"Training dataset shape {Counter(y_rs_tomek)}\")\n",
    "print(f\"Test dataset shape {Counter(y_test.numpy())}\")\n",
    "\n",
    "X_train = tf.convert_to_tensor(X_rs_tomek, dtype=tf.float32)\n",
    "y_train = tf.convert_to_tensor(y_rs_tomek, dtype=np.int8)\n"
   ]
  },
  {
   "cell_type": "code",
   "execution_count": 49,
   "metadata": {},
   "outputs": [],
   "source": [
    "epochs = 50\n",
    "batch_size = 512\n",
    "\n",
    "# Name\n",
    "model_name = \"PREFERRED_NUM_ANN_M6F_UI_\" + str(epochs) + \"_EPOCHS_\" + str(batch_size) + \"_BATCH_SIZE\""
   ]
  },
  {
   "cell_type": "code",
   "execution_count": 50,
   "metadata": {},
   "outputs": [
    {
     "name": "stdout",
     "output_type": "stream",
     "text": [
      "Saving TensorBoard log files to: logs\\PREFERRED_NUM_ANN_M6F_UI_50_EPOCHS_512_BATCH_SIZE_20240208-163413\n",
      "Random seed: 42, precision: float32\n",
      "\n",
      "Training on 12183 samples.\n",
      "\n"
     ]
    }
   ],
   "source": [
    "# Model\n",
    "model = create_simple_ann(num_features=X_train.shape[1], model_name=model_name, hidden_units=1, activation=tf.keras.activations.relu, batch_norm=True, seed=seed)\n",
    "\n",
    "# Callbacks\n",
    "callbacks = [tf.keras.callbacks.EarlyStopping(monitor=\"val_loss\", patience=5), tensorboard_callback(model_log_folder, model_name)]\n",
    "\n",
    "# Training\n",
    "train_results = train_ann(X_train, y_train, model, validation_split=0.2, epochs=epochs, batch_size=batch_size, callbacks=callbacks, seed=seed, verbose=0)\n",
    "\n",
    "# Save model\n",
    "save_model(model, model_name)"
   ]
  },
  {
   "cell_type": "code",
   "execution_count": 51,
   "metadata": {},
   "outputs": [
    {
     "data": {
      "image/png": "[encoded data removed]",
      "text/plain": [
       "<Figure size 1200x500 with 2 Axes>"
      ]
     },
     "metadata": {},
     "output_type": "display_data"
    },
    {
     "name": "stdout",
     "output_type": "stream",
     "text": [
      "8/8 [==============================] - 0s 1ms/step - loss: 0.1326 - mse: 0.0375\n",
      "1/1 [==============================] - 0s 18ms/step - loss: 0.8418 - mse: 0.2477\n",
      "\n",
      "Eval - Test loss: 0.1326, Test metric: 0.03754\n",
      "Eval positives only- Test loss: 0.8418, Test metric: 0.2477\n"
     ]
    }
   ],
   "source": [
    "# Load model\n",
    "model_ann = load_model(model_name)\n",
    "model = model_ann\n",
    "\n",
    "# Plot loss and roc curve\n",
    "plot_loss_and_roc(train_results, model, X_test, y_test, batch_size=512)\n",
    "\n",
    "# Evaluation\n",
    "# Test (with oversampled data)\n",
    "eval = model.evaluate(X_test, y_test, batch_size=512)\n",
    "\n",
    "# Test (with oversampled data, only positives)\n",
    "eval_positives = model.evaluate(X_test[y_test==1], y_test[y_test==1], batch_size=512)\n",
    "\n",
    "print(f\"\\nEval - Test loss: {eval[0]:.4}, Test metric: {eval[1]:.4}\")\n",
    "print(f\"Eval positives only- Test loss: {eval_positives[0]:.4}, Test metric: {eval_positives[1]:.4}\")\n"
   ]
  },
  {
   "cell_type": "code",
   "execution_count": 52,
   "metadata": {},
   "outputs": [
    {
     "name": "stdout",
     "output_type": "stream",
     "text": [
      "7071/7071 [==============================] - 5s 689us/step\n",
      "Loading data...\n",
      "Converting prediction...\n",
      "Creating geodataframe...\n",
      "Exporting raster...\n",
      "\n",
      "Number of threads rasterizing: 48\n"
     ]
    },
    {
     "name": "stderr",
     "output_type": "stream",
     "text": [
      "Rasterizing: 100%|██████████| 1/1 [06:08<00:00, 368.70s/it]\n"
     ]
    }
   ],
   "source": [
    "prediction = predict_values(df_model_copy, model_columns_numerical, model, batch_size=512)\n",
    "export_prediction(data=feather, region_column=region_column, out_name=model_name, prediction=prediction)"
   ]
  }
 ],
 "metadata": {
  "kernelspec": {
   "display_name": "Python 3 (ipykernel)",
   "language": "python",
   "name": "python3"
  },
  "language_info": {
   "codemirror_mode": {
    "name": "ipython",
    "version": 3
   },
   "file_extension": ".py",
   "mimetype": "text/x-python",
   "name": "python",
   "nbconvert_exporter": "python",
   "pygments_lexer": "ipython3",
   "version": "3.9.15"
  }
 },
 "nbformat": 4,
 "nbformat_minor": 4
}
