{
 "cells": [
  {
   "cell_type": "markdown",
   "metadata": {},
   "source": [
    "# Information\n",
    "## Source\n",
    "This notebook prepares the data from Lawley et al. (2022) using the version from https://drive.google.com/file/d/1jyxbPmwhMEhgezxMTxwmKTuU1PhT9yPe using the original H3 hexagonal polygon data.\n",
    "\n",
    "**Citaton**: <p>\n",
    "Christopher J.M. Lawley, Anne E. McCafferty, Garth E. Graham, David L. Huston, Karen D. Kelley, Karol Czarnota, Suzanne Paradis, Jan M. Peter, Nathan Hayward, Mike Barlow, Poul Emsbo, Joshua Coyan, Carma A. San Juan, Michael G. Gadd: <br>\n",
    "Data–driven prospectivity modelling of sediment–hosted Zn–Pb mineral systems and their critical raw materials. <br>\n",
    "Ore Geology Reviews, Volume 141, 2022, 104635, ISSN 0169-1368, https://doi.org/10.1016/j.oregeorev.2021.104635.\n",
    "\n",
    "## What is it for?\n",
    "This notebook contains the functionality to prepare and export the datacube data of a given model into a ML readable format.<br>\n",
    "\n",
    "## How to\n",
    "1. Get the datacube from the link above and extract the .csv file. In this notebook, we use *data/LAWLEY22-RAW*.<p>\n",
    "2. Read the *Model setup* section<p>\n",
    "3. Choose the preferred model from the Lawley et al. (2022) paper. Since we're working with the MVT, the definition is based on the **preferred** MVT model from the paper. <br>Your'e welcome to add other models in the <code>model.py</code> as you want to. The notebook will consider all **keys** with a **True** value, but not those with a **False** one. This way, it's easy to change exports as desired.<p>\n",
    "4. Make some **user-defined** decisions and adjust path names etc. if necessary. <p>**ALL** possible user-interactions are in uppercase-letters.<br>The only point not considered here are the **Training** columns which may need some change if you want to export data for a **CD** model. You can do so down below in the **ground truth** investigation cells. Simply change *Training_MVT* to *Training_CD* if necessary.<p>\n",
    "**We have to mention, that the generation of proxies like distance calculations, first and second order derivatives etc. will not work correctly with a geopgraphic CRS**.\n",
    "5. Check the content of the datacube within the **Data** section.<p>\n",
    "6. Prepare the data\n",
    "    - numerical\n",
    "    - categorical\n",
    "    - ground truth data<p>\n",
    "7. ...\n"
   ]
  },
  {
   "cell_type": "markdown",
   "metadata": {},
   "source": [
    "## Model setup"
   ]
  },
  {
   "cell_type": "markdown",
   "metadata": {},
   "source": [
    "Note that the **Geology_Dictionary** categories contain more than the incorporated dictionaries. Lawley et al. (2022) explicitly stated that:\n",
    "- Sedimentary dictionaries = FineClastic, Carbonaceous, Calcareous\n",
    "- Igneous dictionaries = Felsic, Intermediate, Mafic, Ultramafic\n",
    "- Metamorphic dictionaries = Anatectic, Gneissose, Schistose\n",
    "\n",
    "However, the complete list would be like:\n",
    "- Sedimentary dictionaries = FineClastic, Carbonaceous, Calcareous, **Cherty, CoarseClastic, Evaporitic, RedBed, Sedimentary**\n",
    "- Igneous dictionaries = Felsic, Intermediate, Mafic, Ultramafic, **Alkalic, Pegmatitic**\n",
    "- Metamorphic dictionaries = Anatectic, Gneissose, Schistose\n",
    "\n",
    "Also note, that the **Mafic** dictionary **does not exist** as separate column in the datacube and thus was not considered in the model setup!<br>\n",
    "However, it seems to be included in the <i>Geology_Dictionary_UltramaficMafic</i> dict."
   ]
  },
  {
   "cell_type": "code",
   "execution_count": 5,
   "metadata": {},
   "outputs": [],
   "source": [
    "# Standard libraries\n",
    "import numpy as np\n",
    "import pandas as pd\n",
    "import seaborn as sns\n",
    "\n",
    "import matplotlib.pyplot as plt\n",
    "import matplotlib.ticker as ticker\n",
    "from sklearn.preprocessing import StandardScaler, MinMaxScaler\n",
    "from sklearn.model_selection import train_test_split\n",
    "\n",
    "from collections import Counter\n",
    "\n",
    "import sys, os, warnings\n",
    "from pathlib import Path\n",
    "\n",
    "# Insert the path to the root directory of the project\n",
    "sys.path.insert(0, str(Path(os.getcwd()).parent.parent))\n",
    "\n",
    "# Custom modules\n",
    "import beak.utilities.io as io                   \n",
    "import beak.utilities.eda as eda\n",
    "from beak.models import mvt_nat                   # Includes the model definitions used in this notebook \n",
    "\n",
    "from importlib_resources import files\n",
    "BASE_PATH = files(\"beak.data\")"
   ]
  },
  {
   "cell_type": "markdown",
   "metadata": {},
   "source": [
    "# Definitions\n",
    "**User inputs**"
   ]
  },
  {
   "cell_type": "code",
   "execution_count": 6,
   "metadata": {},
   "outputs": [],
   "source": [
    "# Choose model\n",
    "MODEL = \"MVT_PREFERRED\"\n",
    "\n",
    "# Path to datacube and export folder\n",
    "# Path to datacube and export folder\n",
    "PATH_DATACUBE_IN = BASE_PATH / \"LAWLEY22-RAW/2021_Table04_Datacube.csv\"\n",
    "PATH_DATA_OUT = BASE_PATH\n",
    "\n",
    "PATH_ML_MODELS = \"models/\"\n",
    "PATH_MODEL_RESULTS = \"exports/\"\n",
    "PATH_TRAIN_LOGS = \"logs/\"\n",
    "\n",
    "FORMAT = \"FEATHER\"                                  # FEATHER, CSV\n",
    "\n",
    "# ROI\n",
    "REGIONS =[\"United States of America\", \"Canada\"]     # Canada, United States of America, Australia\n",
    "N_ROWS = None                                       # Number of rows to read from datacube, None for all\n",
    "\n",
    "COL_GROUND_TRUTH_MAX = \"Training_MVT\"\n",
    "COLS_GROUND_TRUTH_DATACUBE = [\"Training_MVT_Deposit\", \"Training_MVT_Occurrence\"]\n",
    "COLS_GROUND_TRUTH = [COL_GROUND_TRUTH_MAX] + COLS_GROUND_TRUTH_DATACUBE\n",
    "\n",
    "# Spatial filter\n",
    "FILTER_COL = \"Longitude_EPSG4326\"\n",
    "FILTER_VAL = 0\n",
    "\n",
    "ground_truth_selected = COL_GROUND_TRUTH_MAX\n"
   ]
  },
  {
   "cell_type": "code",
   "execution_count": 7,
   "metadata": {},
   "outputs": [
    {
     "name": "stdout",
     "output_type": "stream",
     "text": [
      "Evidence layer 1/31: Geology_Lithology_Majority\n",
      "Evidence layer 2/31: Geology_Lithology_Minority\n",
      "Evidence layer 3/31: Geology_Period_Maximum_Majority\n",
      "Evidence layer 4/31: Geology_Period_Minimum_Majority\n",
      "Evidence layer 5/31: Geology_Dictionary_Calcareous\n",
      "Evidence layer 6/31: Geology_Dictionary_Carbonaceous\n",
      "Evidence layer 7/31: Geology_Dictionary_FineClastic\n",
      "Evidence layer 8/31: Geology_Dictionary_Felsic\n",
      "Evidence layer 9/31: Geology_Dictionary_Intermediate\n",
      "Evidence layer 10/31: Geology_Dictionary_UltramaficMafic\n",
      "Evidence layer 11/31: Geology_Dictionary_Anatectic\n",
      "Evidence layer 12/31: Geology_Dictionary_Gneissose\n",
      "Evidence layer 13/31: Geology_Dictionary_Schistose\n",
      "Evidence layer 14/31: Terrane_Proximity\n",
      "Evidence layer 15/31: Geology_PassiveMargin_Proximity\n",
      "Evidence layer 16/31: Geology_BlackShale_Proximity\n",
      "Evidence layer 17/31: Geology_Fault_Proximity\n",
      "Evidence layer 18/31: Geology_Paleolatitude_Period_Maximum\n",
      "Evidence layer 19/31: Geology_Paleolatitude_Period_Minimum\n",
      "Evidence layer 20/31: Gravity_GOCE_ShapeIndex\n",
      "Evidence layer 21/31: Gravity_Bouguer\n",
      "Evidence layer 22/31: Gravity_Bouguer_HGM\n",
      "Evidence layer 23/31: Gravity_Bouguer_UpCont30km_HGM\n",
      "Evidence layer 24/31: Gravity_Bouguer_HGM_Worms_Proximity\n",
      "Evidence layer 25/31: Gravity_Bouguer_UpCont30km_HGM_Worms_Proximity\n",
      "Evidence layer 26/31: Magnetic_HGM\n",
      "Evidence layer 27/31: Magnetic_LongWavelength_HGM\n",
      "Evidence layer 28/31: Magnetic_HGM_Worms_Proximity\n",
      "Evidence layer 29/31: Magnetic_LongWavelength_HGM_Worms_Proximity\n",
      "Evidence layer 30/31: Seismic_LAB_Hoggard\n",
      "Evidence layer 31/31: Seismic_Moho\n"
     ]
    }
   ],
   "source": [
    "# Path variables\n",
    "datacube = Path(PATH_DATACUBE_IN)\n",
    "feather = Path(os.path.join(os.path.dirname(PATH_DATACUBE_IN), os.path.basename(PATH_DATACUBE_IN).split(\".\")[0] + \".feather\"))\n",
    "\n",
    "export_folder = io.check_path(Path(PATH_DATA_OUT))\n",
    "model_folder = io.check_path(Path(PATH_ML_MODELS))\n",
    "model_log_folder = io.check_path(Path(PATH_TRAIN_LOGS))\n",
    "model_results_folder = io.check_path(Path(PATH_MODEL_RESULTS))\n",
    "\n",
    "# Relevant columns for choosen model (considering only True values)\n",
    "model = mvt_nat.models[MODEL]\n",
    "model_columns = [key for key, value in model.items() if value == True]\n",
    "\n",
    "# Allow only 3 decimals in DataFrame view\n",
    "pd.options.display.float_format = \"{:.3f}\".format\n",
    "\n",
    "# Set column to filter by region\n",
    "region_column = \"Country_Majority\"\n",
    "filter_column = FILTER_COL\n",
    "selected_columns = COLS_GROUND_TRUTH_DATACUBE + model_columns + [region_column] + [filter_column]\n",
    "\n",
    "# Show selected evicence layers\n",
    "for i, layer in enumerate(model_columns):\n",
    "  print(f\"Evidence layer {i+1}/{len(model_columns)}: {layer}\")\n",
    "\n",
    "# Random state\n",
    "seed = 42  \n",
    "\n",
    "# Scaler\n",
    "scaler_type = \"standard\""
   ]
  },
  {
   "cell_type": "markdown",
   "metadata": {},
   "source": [
    "## Little helper"
   ]
  },
  {
   "cell_type": "code",
   "execution_count": 8,
   "metadata": {},
   "outputs": [],
   "source": [
    "from tensorflow import keras\n",
    "\n",
    "def save_model(model, model_name, path=PATH_ML_MODELS):\n",
    "  \"\"\"Saves model to disk\"\"\"\n",
    "  model.save(path + model_name + \".keras\")\n",
    "  \n",
    "\n",
    "def load_model(model_name, path=PATH_ML_MODELS):\n",
    "  \"\"\"Loads model from disk\"\"\"\n",
    "  return keras.models.load_model(path + model_name + \".keras\")"
   ]
  },
  {
   "cell_type": "markdown",
   "metadata": {},
   "source": [
    "# Data"
   ]
  },
  {
   "cell_type": "markdown",
   "metadata": {},
   "source": [
    "## **Load** data from csv or feather"
   ]
  },
  {
   "cell_type": "code",
   "execution_count": 9,
   "metadata": {},
   "outputs": [
    {
     "name": "stdout",
     "output_type": "stream",
     "text": [
      "Loading feather...\n",
      "Filtering data...\n",
      "Creating combined training column...\n",
      "\n",
      "Data rows: 3620129, data columns: 35\n"
     ]
    }
   ],
   "source": [
    "# Convert to feather format if chosen\n",
    "if FORMAT == \"CSV\" and datacube.exists():\n",
    "  print(\"Loading datacube...\")\n",
    "  df = io.load_dataset(datacube, nrows=N_ROWS)\n",
    "elif FORMAT == \"FEATHER\" and feather.exists():\n",
    "    print(\"Loading feather...\")\n",
    "    df = io.load_feather(feather, columns=selected_columns)\n",
    "elif not datacube.exists() and not feather.exists():\n",
    "  print(\"Data not found!\")\n",
    "  \n",
    "# Filter loaded data and initial NaN data preparation\n",
    "print(\"Filtering data...\")\n",
    "df = df[df[region_column].isin(REGIONS)]\n",
    "df.drop(columns=[region_column], inplace=True)\n",
    "df.replace(\"-\", np.nan, inplace=True)\n",
    "\n",
    "# Create combined (max) column for training points \n",
    "print(\"Creating combined training column...\")\n",
    "df.insert(len(COLS_GROUND_TRUTH_DATACUBE), COL_GROUND_TRUTH_MAX, df.apply(lambda row: \"Present\" if \"Present\" in [row[\"Training_MVT_Deposit\"], row[\"Training_MVT_Occurrence\"]] else \"Absent\", axis=1))\n",
    "\n",
    "# Output dataframe\n",
    "print(f\"\\nData rows: {df.shape[0]}, data columns: {df.shape[1]}\")"
   ]
  },
  {
   "cell_type": "code",
   "execution_count": 10,
   "metadata": {},
   "outputs": [
    {
     "data": {
      "text/html": [
       "<div>\n",
       "<style scoped>\n",
       "    .dataframe tbody tr th:only-of-type {\n",
       "        vertical-align: middle;\n",
       "    }\n",
       "\n",
       "    .dataframe tbody tr th {\n",
       "        vertical-align: top;\n",
       "    }\n",
       "\n",
       "    .dataframe thead th {\n",
       "        text-align: right;\n",
       "    }\n",
       "</style>\n",
       "<table border=\"1\" class=\"dataframe\">\n",
       "  <thead>\n",
       "    <tr style=\"text-align: right;\">\n",
       "      <th></th>\n",
       "      <th>Training_MVT_Deposit</th>\n",
       "      <th>Training_MVT_Occurrence</th>\n",
       "      <th>Training_MVT</th>\n",
       "      <th>Geology_Lithology_Majority</th>\n",
       "      <th>Geology_Lithology_Minority</th>\n",
       "      <th>Geology_Period_Maximum_Majority</th>\n",
       "      <th>Geology_Period_Minimum_Majority</th>\n",
       "      <th>Geology_Dictionary_Calcareous</th>\n",
       "      <th>Geology_Dictionary_Carbonaceous</th>\n",
       "      <th>Geology_Dictionary_FineClastic</th>\n",
       "      <th>...</th>\n",
       "      <th>Gravity_Bouguer_UpCont30km_HGM</th>\n",
       "      <th>Gravity_Bouguer_HGM_Worms_Proximity</th>\n",
       "      <th>Gravity_Bouguer_UpCont30km_HGM_Worms_Proximity</th>\n",
       "      <th>Magnetic_HGM</th>\n",
       "      <th>Magnetic_LongWavelength_HGM</th>\n",
       "      <th>Magnetic_HGM_Worms_Proximity</th>\n",
       "      <th>Magnetic_LongWavelength_HGM_Worms_Proximity</th>\n",
       "      <th>Seismic_LAB_Hoggard</th>\n",
       "      <th>Seismic_Moho</th>\n",
       "      <th>Longitude_EPSG4326</th>\n",
       "    </tr>\n",
       "  </thead>\n",
       "  <tbody>\n",
       "    <tr>\n",
       "      <th>0</th>\n",
       "      <td>Absent</td>\n",
       "      <td>Absent</td>\n",
       "      <td>Absent</td>\n",
       "      <td>Sedimentary_Siliciclastic</td>\n",
       "      <td>Sedimentary_Siliciclastic</td>\n",
       "      <td>Cretaceous</td>\n",
       "      <td>Cretaceous</td>\n",
       "      <td>Present</td>\n",
       "      <td>Present</td>\n",
       "      <td>Present</td>\n",
       "      <td>...</td>\n",
       "      <td>0.000</td>\n",
       "      <td>1.780</td>\n",
       "      <td>2.132</td>\n",
       "      <td>0.000</td>\n",
       "      <td>0.000</td>\n",
       "      <td>2.881</td>\n",
       "      <td>0.937</td>\n",
       "      <td>187.994</td>\n",
       "      <td>42.602</td>\n",
       "      <td>-115.018</td>\n",
       "    </tr>\n",
       "    <tr>\n",
       "      <th>1</th>\n",
       "      <td>Absent</td>\n",
       "      <td>Absent</td>\n",
       "      <td>Absent</td>\n",
       "      <td>Sedimentary_Siliciclastic</td>\n",
       "      <td>Sedimentary_Siliciclastic</td>\n",
       "      <td>Cretaceous</td>\n",
       "      <td>Cretaceous</td>\n",
       "      <td>Present</td>\n",
       "      <td>Present</td>\n",
       "      <td>Present</td>\n",
       "      <td>...</td>\n",
       "      <td>0.000</td>\n",
       "      <td>0.870</td>\n",
       "      <td>1.860</td>\n",
       "      <td>0.000</td>\n",
       "      <td>0.000</td>\n",
       "      <td>1.141</td>\n",
       "      <td>0.740</td>\n",
       "      <td>187.929</td>\n",
       "      <td>42.602</td>\n",
       "      <td>-115.053</td>\n",
       "    </tr>\n",
       "    <tr>\n",
       "      <th>2</th>\n",
       "      <td>Absent</td>\n",
       "      <td>Absent</td>\n",
       "      <td>Absent</td>\n",
       "      <td>Sedimentary_Siliciclastic</td>\n",
       "      <td>Sedimentary_Siliciclastic</td>\n",
       "      <td>Cretaceous</td>\n",
       "      <td>Cretaceous</td>\n",
       "      <td>Present</td>\n",
       "      <td>Present</td>\n",
       "      <td>Present</td>\n",
       "      <td>...</td>\n",
       "      <td>0.000</td>\n",
       "      <td>1.791</td>\n",
       "      <td>1.858</td>\n",
       "      <td>0.000</td>\n",
       "      <td>0.000</td>\n",
       "      <td>3.276</td>\n",
       "      <td>1.145</td>\n",
       "      <td>187.948</td>\n",
       "      <td>42.602</td>\n",
       "      <td>-115.047</td>\n",
       "    </tr>\n",
       "    <tr>\n",
       "      <th>3</th>\n",
       "      <td>Absent</td>\n",
       "      <td>Absent</td>\n",
       "      <td>Absent</td>\n",
       "      <td>Sedimentary_Siliciclastic</td>\n",
       "      <td>Sedimentary_Siliciclastic</td>\n",
       "      <td>Cretaceous</td>\n",
       "      <td>Cretaceous</td>\n",
       "      <td>Present</td>\n",
       "      <td>Present</td>\n",
       "      <td>Present</td>\n",
       "      <td>...</td>\n",
       "      <td>0.000</td>\n",
       "      <td>2.553</td>\n",
       "      <td>1.512</td>\n",
       "      <td>0.000</td>\n",
       "      <td>0.000</td>\n",
       "      <td>4.745</td>\n",
       "      <td>1.862</td>\n",
       "      <td>187.994</td>\n",
       "      <td>42.602</td>\n",
       "      <td>-115.013</td>\n",
       "    </tr>\n",
       "    <tr>\n",
       "      <th>4</th>\n",
       "      <td>Absent</td>\n",
       "      <td>Absent</td>\n",
       "      <td>Absent</td>\n",
       "      <td>Sedimentary_Siliciclastic</td>\n",
       "      <td>Sedimentary_Siliciclastic</td>\n",
       "      <td>Cretaceous</td>\n",
       "      <td>Cretaceous</td>\n",
       "      <td>Present</td>\n",
       "      <td>Present</td>\n",
       "      <td>Present</td>\n",
       "      <td>...</td>\n",
       "      <td>0.000</td>\n",
       "      <td>1.319</td>\n",
       "      <td>2.579</td>\n",
       "      <td>0.000</td>\n",
       "      <td>0.000</td>\n",
       "      <td>4.590</td>\n",
       "      <td>1.794</td>\n",
       "      <td>187.994</td>\n",
       "      <td>42.602</td>\n",
       "      <td>-114.984</td>\n",
       "    </tr>\n",
       "    <tr>\n",
       "      <th>...</th>\n",
       "      <td>...</td>\n",
       "      <td>...</td>\n",
       "      <td>...</td>\n",
       "      <td>...</td>\n",
       "      <td>...</td>\n",
       "      <td>...</td>\n",
       "      <td>...</td>\n",
       "      <td>...</td>\n",
       "      <td>...</td>\n",
       "      <td>...</td>\n",
       "      <td>...</td>\n",
       "      <td>...</td>\n",
       "      <td>...</td>\n",
       "      <td>...</td>\n",
       "      <td>...</td>\n",
       "      <td>...</td>\n",
       "      <td>...</td>\n",
       "      <td>...</td>\n",
       "      <td>...</td>\n",
       "      <td>...</td>\n",
       "      <td>...</td>\n",
       "    </tr>\n",
       "    <tr>\n",
       "      <th>3620124</th>\n",
       "      <td>Absent</td>\n",
       "      <td>Absent</td>\n",
       "      <td>Absent</td>\n",
       "      <td>Sedimentary_Siliciclastic</td>\n",
       "      <td>Sedimentary_Siliciclastic</td>\n",
       "      <td>Cretaceous</td>\n",
       "      <td>Cretaceous</td>\n",
       "      <td>Absent</td>\n",
       "      <td>Absent</td>\n",
       "      <td>Present</td>\n",
       "      <td>...</td>\n",
       "      <td>0.000</td>\n",
       "      <td>0.337</td>\n",
       "      <td>15.400</td>\n",
       "      <td>0.000</td>\n",
       "      <td>0.000</td>\n",
       "      <td>5.161</td>\n",
       "      <td>17.636</td>\n",
       "      <td>159.195</td>\n",
       "      <td>48.248</td>\n",
       "      <td>-104.088</td>\n",
       "    </tr>\n",
       "    <tr>\n",
       "      <th>3620125</th>\n",
       "      <td>Absent</td>\n",
       "      <td>Absent</td>\n",
       "      <td>Absent</td>\n",
       "      <td>Sedimentary_Siliciclastic</td>\n",
       "      <td>Other_Unconsolidated</td>\n",
       "      <td>Cretaceous</td>\n",
       "      <td>Cretaceous</td>\n",
       "      <td>Present</td>\n",
       "      <td>Absent</td>\n",
       "      <td>Present</td>\n",
       "      <td>...</td>\n",
       "      <td>0.000</td>\n",
       "      <td>1.238</td>\n",
       "      <td>16.384</td>\n",
       "      <td>0.000</td>\n",
       "      <td>0.000</td>\n",
       "      <td>4.198</td>\n",
       "      <td>18.668</td>\n",
       "      <td>159.195</td>\n",
       "      <td>48.132</td>\n",
       "      <td>-104.114</td>\n",
       "    </tr>\n",
       "    <tr>\n",
       "      <th>3620126</th>\n",
       "      <td>Absent</td>\n",
       "      <td>Absent</td>\n",
       "      <td>Absent</td>\n",
       "      <td>Sedimentary_Siliciclastic</td>\n",
       "      <td>Sedimentary_Siliciclastic</td>\n",
       "      <td>Cretaceous</td>\n",
       "      <td>Cretaceous</td>\n",
       "      <td>Present</td>\n",
       "      <td>Absent</td>\n",
       "      <td>Present</td>\n",
       "      <td>...</td>\n",
       "      <td>0.000</td>\n",
       "      <td>2.430</td>\n",
       "      <td>16.941</td>\n",
       "      <td>0.000</td>\n",
       "      <td>0.000</td>\n",
       "      <td>2.560</td>\n",
       "      <td>19.667</td>\n",
       "      <td>159.189</td>\n",
       "      <td>47.174</td>\n",
       "      <td>-104.140</td>\n",
       "    </tr>\n",
       "    <tr>\n",
       "      <th>3620127</th>\n",
       "      <td>Absent</td>\n",
       "      <td>Absent</td>\n",
       "      <td>Absent</td>\n",
       "      <td>Sedimentary_Siliciclastic</td>\n",
       "      <td>Sedimentary_Siliciclastic</td>\n",
       "      <td>Cretaceous</td>\n",
       "      <td>Cretaceous</td>\n",
       "      <td>Absent</td>\n",
       "      <td>Absent</td>\n",
       "      <td>Present</td>\n",
       "      <td>...</td>\n",
       "      <td>0.000</td>\n",
       "      <td>1.328</td>\n",
       "      <td>15.227</td>\n",
       "      <td>0.000</td>\n",
       "      <td>0.000</td>\n",
       "      <td>2.526</td>\n",
       "      <td>17.695</td>\n",
       "      <td>159.207</td>\n",
       "      <td>48.248</td>\n",
       "      <td>-104.059</td>\n",
       "    </tr>\n",
       "    <tr>\n",
       "      <th>3620128</th>\n",
       "      <td>Absent</td>\n",
       "      <td>Absent</td>\n",
       "      <td>Absent</td>\n",
       "      <td>Sedimentary_Siliciclastic</td>\n",
       "      <td>Sedimentary_Siliciclastic</td>\n",
       "      <td>Cretaceous</td>\n",
       "      <td>Cretaceous</td>\n",
       "      <td>Absent</td>\n",
       "      <td>Absent</td>\n",
       "      <td>Present</td>\n",
       "      <td>...</td>\n",
       "      <td>0.000</td>\n",
       "      <td>0.339</td>\n",
       "      <td>15.826</td>\n",
       "      <td>0.000</td>\n",
       "      <td>0.000</td>\n",
       "      <td>4.568</td>\n",
       "      <td>18.607</td>\n",
       "      <td>159.195</td>\n",
       "      <td>48.248</td>\n",
       "      <td>-104.085</td>\n",
       "    </tr>\n",
       "  </tbody>\n",
       "</table>\n",
       "<p>3620129 rows × 35 columns</p>\n",
       "</div>"
      ],
      "text/plain": [
       "        Training_MVT_Deposit Training_MVT_Occurrence Training_MVT  \\\n",
       "0                     Absent                  Absent       Absent   \n",
       "1                     Absent                  Absent       Absent   \n",
       "2                     Absent                  Absent       Absent   \n",
       "3                     Absent                  Absent       Absent   \n",
       "4                     Absent                  Absent       Absent   \n",
       "...                      ...                     ...          ...   \n",
       "3620124               Absent                  Absent       Absent   \n",
       "3620125               Absent                  Absent       Absent   \n",
       "3620126               Absent                  Absent       Absent   \n",
       "3620127               Absent                  Absent       Absent   \n",
       "3620128               Absent                  Absent       Absent   \n",
       "\n",
       "        Geology_Lithology_Majority Geology_Lithology_Minority  \\\n",
       "0        Sedimentary_Siliciclastic  Sedimentary_Siliciclastic   \n",
       "1        Sedimentary_Siliciclastic  Sedimentary_Siliciclastic   \n",
       "2        Sedimentary_Siliciclastic  Sedimentary_Siliciclastic   \n",
       "3        Sedimentary_Siliciclastic  Sedimentary_Siliciclastic   \n",
       "4        Sedimentary_Siliciclastic  Sedimentary_Siliciclastic   \n",
       "...                            ...                        ...   \n",
       "3620124  Sedimentary_Siliciclastic  Sedimentary_Siliciclastic   \n",
       "3620125  Sedimentary_Siliciclastic       Other_Unconsolidated   \n",
       "3620126  Sedimentary_Siliciclastic  Sedimentary_Siliciclastic   \n",
       "3620127  Sedimentary_Siliciclastic  Sedimentary_Siliciclastic   \n",
       "3620128  Sedimentary_Siliciclastic  Sedimentary_Siliciclastic   \n",
       "\n",
       "        Geology_Period_Maximum_Majority Geology_Period_Minimum_Majority  \\\n",
       "0                            Cretaceous                      Cretaceous   \n",
       "1                            Cretaceous                      Cretaceous   \n",
       "2                            Cretaceous                      Cretaceous   \n",
       "3                            Cretaceous                      Cretaceous   \n",
       "4                            Cretaceous                      Cretaceous   \n",
       "...                                 ...                             ...   \n",
       "3620124                      Cretaceous                      Cretaceous   \n",
       "3620125                      Cretaceous                      Cretaceous   \n",
       "3620126                      Cretaceous                      Cretaceous   \n",
       "3620127                      Cretaceous                      Cretaceous   \n",
       "3620128                      Cretaceous                      Cretaceous   \n",
       "\n",
       "        Geology_Dictionary_Calcareous Geology_Dictionary_Carbonaceous  \\\n",
       "0                             Present                         Present   \n",
       "1                             Present                         Present   \n",
       "2                             Present                         Present   \n",
       "3                             Present                         Present   \n",
       "4                             Present                         Present   \n",
       "...                               ...                             ...   \n",
       "3620124                        Absent                          Absent   \n",
       "3620125                       Present                          Absent   \n",
       "3620126                       Present                          Absent   \n",
       "3620127                        Absent                          Absent   \n",
       "3620128                        Absent                          Absent   \n",
       "\n",
       "        Geology_Dictionary_FineClastic  ... Gravity_Bouguer_UpCont30km_HGM  \\\n",
       "0                              Present  ...                          0.000   \n",
       "1                              Present  ...                          0.000   \n",
       "2                              Present  ...                          0.000   \n",
       "3                              Present  ...                          0.000   \n",
       "4                              Present  ...                          0.000   \n",
       "...                                ...  ...                            ...   \n",
       "3620124                        Present  ...                          0.000   \n",
       "3620125                        Present  ...                          0.000   \n",
       "3620126                        Present  ...                          0.000   \n",
       "3620127                        Present  ...                          0.000   \n",
       "3620128                        Present  ...                          0.000   \n",
       "\n",
       "        Gravity_Bouguer_HGM_Worms_Proximity  \\\n",
       "0                                     1.780   \n",
       "1                                     0.870   \n",
       "2                                     1.791   \n",
       "3                                     2.553   \n",
       "4                                     1.319   \n",
       "...                                     ...   \n",
       "3620124                               0.337   \n",
       "3620125                               1.238   \n",
       "3620126                               2.430   \n",
       "3620127                               1.328   \n",
       "3620128                               0.339   \n",
       "\n",
       "        Gravity_Bouguer_UpCont30km_HGM_Worms_Proximity Magnetic_HGM  \\\n",
       "0                                                2.132        0.000   \n",
       "1                                                1.860        0.000   \n",
       "2                                                1.858        0.000   \n",
       "3                                                1.512        0.000   \n",
       "4                                                2.579        0.000   \n",
       "...                                                ...          ...   \n",
       "3620124                                         15.400        0.000   \n",
       "3620125                                         16.384        0.000   \n",
       "3620126                                         16.941        0.000   \n",
       "3620127                                         15.227        0.000   \n",
       "3620128                                         15.826        0.000   \n",
       "\n",
       "        Magnetic_LongWavelength_HGM Magnetic_HGM_Worms_Proximity  \\\n",
       "0                             0.000                        2.881   \n",
       "1                             0.000                        1.141   \n",
       "2                             0.000                        3.276   \n",
       "3                             0.000                        4.745   \n",
       "4                             0.000                        4.590   \n",
       "...                             ...                          ...   \n",
       "3620124                       0.000                        5.161   \n",
       "3620125                       0.000                        4.198   \n",
       "3620126                       0.000                        2.560   \n",
       "3620127                       0.000                        2.526   \n",
       "3620128                       0.000                        4.568   \n",
       "\n",
       "         Magnetic_LongWavelength_HGM_Worms_Proximity  Seismic_LAB_Hoggard  \\\n",
       "0                                              0.937              187.994   \n",
       "1                                              0.740              187.929   \n",
       "2                                              1.145              187.948   \n",
       "3                                              1.862              187.994   \n",
       "4                                              1.794              187.994   \n",
       "...                                              ...                  ...   \n",
       "3620124                                       17.636              159.195   \n",
       "3620125                                       18.668              159.195   \n",
       "3620126                                       19.667              159.189   \n",
       "3620127                                       17.695              159.207   \n",
       "3620128                                       18.607              159.195   \n",
       "\n",
       "         Seismic_Moho  Longitude_EPSG4326  \n",
       "0              42.602            -115.018  \n",
       "1              42.602            -115.053  \n",
       "2              42.602            -115.047  \n",
       "3              42.602            -115.013  \n",
       "4              42.602            -114.984  \n",
       "...               ...                 ...  \n",
       "3620124        48.248            -104.088  \n",
       "3620125        48.132            -104.114  \n",
       "3620126        47.174            -104.140  \n",
       "3620127        48.248            -104.059  \n",
       "3620128        48.248            -104.085  \n",
       "\n",
       "[3620129 rows x 35 columns]"
      ]
     },
     "execution_count": 10,
     "metadata": {},
     "output_type": "execute_result"
    }
   ],
   "source": [
    "# Show loaded dataframe\n",
    "df"
   ]
  },
  {
   "cell_type": "markdown",
   "metadata": {},
   "source": [
    "# **Prepare** training data"
   ]
  },
  {
   "cell_type": "markdown",
   "metadata": {},
   "source": [
    "There are only few rows with NaN values within the **positive** ground truth data. These will be dropped for both the following analysis and training.<p>\n",
    "\n",
    "For **inference**, NaN values will be imputed with an appropriate method to maintain the shape of the input data. <br>After inference, rows containing\n",
    " NaN values can be masked or replaced with a NoData value for raster export.\n",
    "\n",
    " Commonly, normalization of data is done after **train** and **test** split creation. However, to keep things simple and stay conform with the advangeo workflow for comparison, the normalization is done right before creating the actual model input and test data. This means, that the prediction and training data are not completely intependent of each other, since they are still related to the statistics used for normalization. Therefore, test metrics may be bit better and the model may be less generalized than the other way."
   ]
  },
  {
   "cell_type": "markdown",
   "metadata": {},
   "source": [
    "### Get numerical columns"
   ]
  },
  {
   "cell_type": "code",
   "execution_count": 11,
   "metadata": {},
   "outputs": [],
   "source": [
    "# Get \"real\" numerical columns in advance\n",
    "model_columns_numerical = df.select_dtypes(include=np.number).columns.tolist()\n",
    "model_columns_numerical.remove(filter_column)\n"
   ]
  },
  {
   "cell_type": "markdown",
   "metadata": {},
   "source": [
    "## **Encode** categorical columns"
   ]
  },
  {
   "cell_type": "markdown",
   "metadata": {},
   "source": [
    "### Ground truth"
   ]
  },
  {
   "cell_type": "code",
   "execution_count": 12,
   "metadata": {},
   "outputs": [],
   "source": [
    "# Encode the ground truth column\n",
    "df[ground_truth_selected] = df[ground_truth_selected].map({\"Present\": 1, \"Absent\": 0})\n"
   ]
  },
  {
   "cell_type": "markdown",
   "metadata": {},
   "source": [
    "### Categorical features"
   ]
  },
  {
   "cell_type": "code",
   "execution_count": 15,
   "metadata": {},
   "outputs": [],
   "source": [
    "from beak.utilities.preparation import create_encodings_from_dataframe\n",
    "\n",
    "categorical_columns = df.select_dtypes(include=\"object\").columns.tolist()\n",
    "[categorical_columns.remove(col) for col in COLS_GROUND_TRUTH_DATACUBE]\n",
    "\n",
    "df_categorical_encodings, model_columns_categorical = create_encodings_from_dataframe(categorical_columns, df, export_absent=False)"
   ]
  },
  {
   "cell_type": "markdown",
   "metadata": {},
   "source": [
    "## **Remove** outliers"
   ]
  },
  {
   "cell_type": "code",
   "execution_count": 16,
   "metadata": {},
   "outputs": [],
   "source": [
    "df_outliers = df[[ground_truth_selected] + model_columns_numerical].copy()\n",
    "df_no_outliers = eda.clip_outliers(df_outliers, model_columns_numerical)\n",
    "df_no_outliers_copy = df_no_outliers.copy()\n"
   ]
  },
  {
   "cell_type": "markdown",
   "metadata": {},
   "source": [
    "## **Normalize** data\n"
   ]
  },
  {
   "cell_type": "code",
   "execution_count": 17,
   "metadata": {},
   "outputs": [],
   "source": [
    "def normalize_data(data, data_columns, method=scaler_type):\n",
    "  data_scaled = data.copy()\n",
    "\n",
    "  if method == \"standard\":\n",
    "    scaler = StandardScaler()\n",
    "  elif method == \"minmax\":\n",
    "    scaler = MinMaxScaler()\n",
    "    \n",
    "  data_scaled[data_columns] = scaler.fit_transform(data_scaled[data_columns])\n",
    "  return data_scaled, scaler"
   ]
  },
  {
   "cell_type": "code",
   "execution_count": 18,
   "metadata": {},
   "outputs": [],
   "source": [
    "df_model, scaler = normalize_data(df_no_outliers, model_columns_numerical)\n"
   ]
  },
  {
   "cell_type": "markdown",
   "metadata": {},
   "source": [
    "## **Merge** with categorical data"
   ]
  },
  {
   "cell_type": "code",
   "execution_count": 19,
   "metadata": {},
   "outputs": [],
   "source": [
    "df_model = pd.concat([df_model, df_categorical_encodings], axis=1)\n"
   ]
  },
  {
   "cell_type": "code",
   "execution_count": 20,
   "metadata": {},
   "outputs": [
    {
     "data": {
      "text/html": [
       "<div>\n",
       "<style scoped>\n",
       "    .dataframe tbody tr th:only-of-type {\n",
       "        vertical-align: middle;\n",
       "    }\n",
       "\n",
       "    .dataframe tbody tr th {\n",
       "        vertical-align: top;\n",
       "    }\n",
       "\n",
       "    .dataframe thead th {\n",
       "        text-align: right;\n",
       "    }\n",
       "</style>\n",
       "<table border=\"1\" class=\"dataframe\">\n",
       "  <thead>\n",
       "    <tr style=\"text-align: right;\">\n",
       "      <th></th>\n",
       "      <th>Training_MVT</th>\n",
       "      <th>Terrane_Proximity</th>\n",
       "      <th>Geology_PassiveMargin_Proximity</th>\n",
       "      <th>Geology_BlackShale_Proximity</th>\n",
       "      <th>Geology_Fault_Proximity</th>\n",
       "      <th>Geology_Paleolatitude_Period_Maximum</th>\n",
       "      <th>Geology_Paleolatitude_Period_Minimum</th>\n",
       "      <th>Gravity_GOCE_ShapeIndex</th>\n",
       "      <th>Gravity_Bouguer</th>\n",
       "      <th>Gravity_Bouguer_HGM</th>\n",
       "      <th>...</th>\n",
       "      <th>Geology_Period_Minimum_Majority_Triassic</th>\n",
       "      <th>Geology_Dictionary_Calcareous_Present</th>\n",
       "      <th>Geology_Dictionary_Carbonaceous_Present</th>\n",
       "      <th>Geology_Dictionary_FineClastic_Present</th>\n",
       "      <th>Geology_Dictionary_Felsic_Present</th>\n",
       "      <th>Geology_Dictionary_Intermediate_Present</th>\n",
       "      <th>Geology_Dictionary_UltramaficMafic_Present</th>\n",
       "      <th>Geology_Dictionary_Anatectic_Present</th>\n",
       "      <th>Geology_Dictionary_Gneissose_Present</th>\n",
       "      <th>Geology_Dictionary_Schistose_Present</th>\n",
       "    </tr>\n",
       "  </thead>\n",
       "  <tbody>\n",
       "    <tr>\n",
       "      <th>0</th>\n",
       "      <td>0</td>\n",
       "      <td>-0.625</td>\n",
       "      <td>0.387</td>\n",
       "      <td>-0.202</td>\n",
       "      <td>1.796</td>\n",
       "      <td>0.727</td>\n",
       "      <td>0.868</td>\n",
       "      <td>0.226</td>\n",
       "      <td>-0.390</td>\n",
       "      <td>-0.851</td>\n",
       "      <td>...</td>\n",
       "      <td>0</td>\n",
       "      <td>1</td>\n",
       "      <td>1</td>\n",
       "      <td>1</td>\n",
       "      <td>0</td>\n",
       "      <td>0</td>\n",
       "      <td>0</td>\n",
       "      <td>0</td>\n",
       "      <td>0</td>\n",
       "      <td>0</td>\n",
       "    </tr>\n",
       "    <tr>\n",
       "      <th>1</th>\n",
       "      <td>0</td>\n",
       "      <td>-0.569</td>\n",
       "      <td>0.377</td>\n",
       "      <td>-0.212</td>\n",
       "      <td>1.793</td>\n",
       "      <td>0.727</td>\n",
       "      <td>0.868</td>\n",
       "      <td>0.226</td>\n",
       "      <td>-0.402</td>\n",
       "      <td>-0.736</td>\n",
       "      <td>...</td>\n",
       "      <td>0</td>\n",
       "      <td>1</td>\n",
       "      <td>1</td>\n",
       "      <td>1</td>\n",
       "      <td>0</td>\n",
       "      <td>0</td>\n",
       "      <td>0</td>\n",
       "      <td>0</td>\n",
       "      <td>0</td>\n",
       "      <td>0</td>\n",
       "    </tr>\n",
       "    <tr>\n",
       "      <th>2</th>\n",
       "      <td>0</td>\n",
       "      <td>-0.613</td>\n",
       "      <td>0.371</td>\n",
       "      <td>-0.198</td>\n",
       "      <td>1.765</td>\n",
       "      <td>0.727</td>\n",
       "      <td>0.868</td>\n",
       "      <td>0.226</td>\n",
       "      <td>-0.390</td>\n",
       "      <td>-0.768</td>\n",
       "      <td>...</td>\n",
       "      <td>0</td>\n",
       "      <td>1</td>\n",
       "      <td>1</td>\n",
       "      <td>1</td>\n",
       "      <td>0</td>\n",
       "      <td>0</td>\n",
       "      <td>0</td>\n",
       "      <td>0</td>\n",
       "      <td>0</td>\n",
       "      <td>0</td>\n",
       "    </tr>\n",
       "    <tr>\n",
       "      <th>3</th>\n",
       "      <td>0</td>\n",
       "      <td>-0.669</td>\n",
       "      <td>0.381</td>\n",
       "      <td>-0.188</td>\n",
       "      <td>1.769</td>\n",
       "      <td>0.727</td>\n",
       "      <td>0.868</td>\n",
       "      <td>0.224</td>\n",
       "      <td>-0.382</td>\n",
       "      <td>-0.845</td>\n",
       "      <td>...</td>\n",
       "      <td>0</td>\n",
       "      <td>1</td>\n",
       "      <td>1</td>\n",
       "      <td>1</td>\n",
       "      <td>0</td>\n",
       "      <td>0</td>\n",
       "      <td>0</td>\n",
       "      <td>0</td>\n",
       "      <td>0</td>\n",
       "      <td>0</td>\n",
       "    </tr>\n",
       "    <tr>\n",
       "      <th>4</th>\n",
       "      <td>0</td>\n",
       "      <td>-0.681</td>\n",
       "      <td>0.397</td>\n",
       "      <td>-0.192</td>\n",
       "      <td>1.801</td>\n",
       "      <td>0.727</td>\n",
       "      <td>0.868</td>\n",
       "      <td>0.212</td>\n",
       "      <td>-0.379</td>\n",
       "      <td>-0.833</td>\n",
       "      <td>...</td>\n",
       "      <td>0</td>\n",
       "      <td>1</td>\n",
       "      <td>1</td>\n",
       "      <td>1</td>\n",
       "      <td>0</td>\n",
       "      <td>0</td>\n",
       "      <td>0</td>\n",
       "      <td>0</td>\n",
       "      <td>0</td>\n",
       "      <td>0</td>\n",
       "    </tr>\n",
       "    <tr>\n",
       "      <th>...</th>\n",
       "      <td>...</td>\n",
       "      <td>...</td>\n",
       "      <td>...</td>\n",
       "      <td>...</td>\n",
       "      <td>...</td>\n",
       "      <td>...</td>\n",
       "      <td>...</td>\n",
       "      <td>...</td>\n",
       "      <td>...</td>\n",
       "      <td>...</td>\n",
       "      <td>...</td>\n",
       "      <td>...</td>\n",
       "      <td>...</td>\n",
       "      <td>...</td>\n",
       "      <td>...</td>\n",
       "      <td>...</td>\n",
       "      <td>...</td>\n",
       "      <td>...</td>\n",
       "      <td>...</td>\n",
       "      <td>...</td>\n",
       "      <td>...</td>\n",
       "    </tr>\n",
       "    <tr>\n",
       "      <th>3620124</th>\n",
       "      <td>0</td>\n",
       "      <td>-0.755</td>\n",
       "      <td>-0.309</td>\n",
       "      <td>-0.860</td>\n",
       "      <td>0.366</td>\n",
       "      <td>0.727</td>\n",
       "      <td>0.868</td>\n",
       "      <td>1.657</td>\n",
       "      <td>-0.438</td>\n",
       "      <td>0.663</td>\n",
       "      <td>...</td>\n",
       "      <td>0</td>\n",
       "      <td>0</td>\n",
       "      <td>0</td>\n",
       "      <td>1</td>\n",
       "      <td>0</td>\n",
       "      <td>0</td>\n",
       "      <td>0</td>\n",
       "      <td>0</td>\n",
       "      <td>0</td>\n",
       "      <td>0</td>\n",
       "    </tr>\n",
       "    <tr>\n",
       "      <th>3620125</th>\n",
       "      <td>0</td>\n",
       "      <td>-0.706</td>\n",
       "      <td>-0.304</td>\n",
       "      <td>-0.857</td>\n",
       "      <td>0.401</td>\n",
       "      <td>0.727</td>\n",
       "      <td>0.868</td>\n",
       "      <td>1.657</td>\n",
       "      <td>-0.408</td>\n",
       "      <td>0.408</td>\n",
       "      <td>...</td>\n",
       "      <td>0</td>\n",
       "      <td>1</td>\n",
       "      <td>0</td>\n",
       "      <td>1</td>\n",
       "      <td>0</td>\n",
       "      <td>0</td>\n",
       "      <td>0</td>\n",
       "      <td>0</td>\n",
       "      <td>0</td>\n",
       "      <td>0</td>\n",
       "    </tr>\n",
       "    <tr>\n",
       "      <th>3620126</th>\n",
       "      <td>0</td>\n",
       "      <td>-0.658</td>\n",
       "      <td>-0.299</td>\n",
       "      <td>-0.856</td>\n",
       "      <td>0.437</td>\n",
       "      <td>0.727</td>\n",
       "      <td>0.868</td>\n",
       "      <td>1.659</td>\n",
       "      <td>-0.391</td>\n",
       "      <td>0.003</td>\n",
       "      <td>...</td>\n",
       "      <td>0</td>\n",
       "      <td>1</td>\n",
       "      <td>0</td>\n",
       "      <td>1</td>\n",
       "      <td>0</td>\n",
       "      <td>0</td>\n",
       "      <td>0</td>\n",
       "      <td>0</td>\n",
       "      <td>0</td>\n",
       "      <td>0</td>\n",
       "    </tr>\n",
       "    <tr>\n",
       "      <th>3620127</th>\n",
       "      <td>0</td>\n",
       "      <td>-0.818</td>\n",
       "      <td>-0.303</td>\n",
       "      <td>-0.845</td>\n",
       "      <td>0.355</td>\n",
       "      <td>0.727</td>\n",
       "      <td>0.868</td>\n",
       "      <td>1.657</td>\n",
       "      <td>-0.482</td>\n",
       "      <td>0.382</td>\n",
       "      <td>...</td>\n",
       "      <td>0</td>\n",
       "      <td>0</td>\n",
       "      <td>0</td>\n",
       "      <td>1</td>\n",
       "      <td>0</td>\n",
       "      <td>0</td>\n",
       "      <td>0</td>\n",
       "      <td>0</td>\n",
       "      <td>0</td>\n",
       "      <td>0</td>\n",
       "    </tr>\n",
       "    <tr>\n",
       "      <th>3620128</th>\n",
       "      <td>0</td>\n",
       "      <td>-0.768</td>\n",
       "      <td>-0.298</td>\n",
       "      <td>-0.847</td>\n",
       "      <td>0.390</td>\n",
       "      <td>0.727</td>\n",
       "      <td>0.868</td>\n",
       "      <td>1.657</td>\n",
       "      <td>-0.458</td>\n",
       "      <td>0.478</td>\n",
       "      <td>...</td>\n",
       "      <td>0</td>\n",
       "      <td>0</td>\n",
       "      <td>0</td>\n",
       "      <td>1</td>\n",
       "      <td>0</td>\n",
       "      <td>0</td>\n",
       "      <td>0</td>\n",
       "      <td>0</td>\n",
       "      <td>0</td>\n",
       "      <td>0</td>\n",
       "    </tr>\n",
       "  </tbody>\n",
       "</table>\n",
       "<p>3620129 rows × 130 columns</p>\n",
       "</div>"
      ],
      "text/plain": [
       "         Training_MVT  Terrane_Proximity  Geology_PassiveMargin_Proximity  \\\n",
       "0                   0             -0.625                            0.387   \n",
       "1                   0             -0.569                            0.377   \n",
       "2                   0             -0.613                            0.371   \n",
       "3                   0             -0.669                            0.381   \n",
       "4                   0             -0.681                            0.397   \n",
       "...               ...                ...                              ...   \n",
       "3620124             0             -0.755                           -0.309   \n",
       "3620125             0             -0.706                           -0.304   \n",
       "3620126             0             -0.658                           -0.299   \n",
       "3620127             0             -0.818                           -0.303   \n",
       "3620128             0             -0.768                           -0.298   \n",
       "\n",
       "         Geology_BlackShale_Proximity  Geology_Fault_Proximity  \\\n",
       "0                              -0.202                    1.796   \n",
       "1                              -0.212                    1.793   \n",
       "2                              -0.198                    1.765   \n",
       "3                              -0.188                    1.769   \n",
       "4                              -0.192                    1.801   \n",
       "...                               ...                      ...   \n",
       "3620124                        -0.860                    0.366   \n",
       "3620125                        -0.857                    0.401   \n",
       "3620126                        -0.856                    0.437   \n",
       "3620127                        -0.845                    0.355   \n",
       "3620128                        -0.847                    0.390   \n",
       "\n",
       "         Geology_Paleolatitude_Period_Maximum  \\\n",
       "0                                       0.727   \n",
       "1                                       0.727   \n",
       "2                                       0.727   \n",
       "3                                       0.727   \n",
       "4                                       0.727   \n",
       "...                                       ...   \n",
       "3620124                                 0.727   \n",
       "3620125                                 0.727   \n",
       "3620126                                 0.727   \n",
       "3620127                                 0.727   \n",
       "3620128                                 0.727   \n",
       "\n",
       "         Geology_Paleolatitude_Period_Minimum  Gravity_GOCE_ShapeIndex  \\\n",
       "0                                       0.868                    0.226   \n",
       "1                                       0.868                    0.226   \n",
       "2                                       0.868                    0.226   \n",
       "3                                       0.868                    0.224   \n",
       "4                                       0.868                    0.212   \n",
       "...                                       ...                      ...   \n",
       "3620124                                 0.868                    1.657   \n",
       "3620125                                 0.868                    1.657   \n",
       "3620126                                 0.868                    1.659   \n",
       "3620127                                 0.868                    1.657   \n",
       "3620128                                 0.868                    1.657   \n",
       "\n",
       "         Gravity_Bouguer  Gravity_Bouguer_HGM  ...  \\\n",
       "0                 -0.390               -0.851  ...   \n",
       "1                 -0.402               -0.736  ...   \n",
       "2                 -0.390               -0.768  ...   \n",
       "3                 -0.382               -0.845  ...   \n",
       "4                 -0.379               -0.833  ...   \n",
       "...                  ...                  ...  ...   \n",
       "3620124           -0.438                0.663  ...   \n",
       "3620125           -0.408                0.408  ...   \n",
       "3620126           -0.391                0.003  ...   \n",
       "3620127           -0.482                0.382  ...   \n",
       "3620128           -0.458                0.478  ...   \n",
       "\n",
       "         Geology_Period_Minimum_Majority_Triassic  \\\n",
       "0                                               0   \n",
       "1                                               0   \n",
       "2                                               0   \n",
       "3                                               0   \n",
       "4                                               0   \n",
       "...                                           ...   \n",
       "3620124                                         0   \n",
       "3620125                                         0   \n",
       "3620126                                         0   \n",
       "3620127                                         0   \n",
       "3620128                                         0   \n",
       "\n",
       "         Geology_Dictionary_Calcareous_Present  \\\n",
       "0                                            1   \n",
       "1                                            1   \n",
       "2                                            1   \n",
       "3                                            1   \n",
       "4                                            1   \n",
       "...                                        ...   \n",
       "3620124                                      0   \n",
       "3620125                                      1   \n",
       "3620126                                      1   \n",
       "3620127                                      0   \n",
       "3620128                                      0   \n",
       "\n",
       "         Geology_Dictionary_Carbonaceous_Present  \\\n",
       "0                                              1   \n",
       "1                                              1   \n",
       "2                                              1   \n",
       "3                                              1   \n",
       "4                                              1   \n",
       "...                                          ...   \n",
       "3620124                                        0   \n",
       "3620125                                        0   \n",
       "3620126                                        0   \n",
       "3620127                                        0   \n",
       "3620128                                        0   \n",
       "\n",
       "         Geology_Dictionary_FineClastic_Present  \\\n",
       "0                                             1   \n",
       "1                                             1   \n",
       "2                                             1   \n",
       "3                                             1   \n",
       "4                                             1   \n",
       "...                                         ...   \n",
       "3620124                                       1   \n",
       "3620125                                       1   \n",
       "3620126                                       1   \n",
       "3620127                                       1   \n",
       "3620128                                       1   \n",
       "\n",
       "         Geology_Dictionary_Felsic_Present  \\\n",
       "0                                        0   \n",
       "1                                        0   \n",
       "2                                        0   \n",
       "3                                        0   \n",
       "4                                        0   \n",
       "...                                    ...   \n",
       "3620124                                  0   \n",
       "3620125                                  0   \n",
       "3620126                                  0   \n",
       "3620127                                  0   \n",
       "3620128                                  0   \n",
       "\n",
       "         Geology_Dictionary_Intermediate_Present  \\\n",
       "0                                              0   \n",
       "1                                              0   \n",
       "2                                              0   \n",
       "3                                              0   \n",
       "4                                              0   \n",
       "...                                          ...   \n",
       "3620124                                        0   \n",
       "3620125                                        0   \n",
       "3620126                                        0   \n",
       "3620127                                        0   \n",
       "3620128                                        0   \n",
       "\n",
       "         Geology_Dictionary_UltramaficMafic_Present  \\\n",
       "0                                                 0   \n",
       "1                                                 0   \n",
       "2                                                 0   \n",
       "3                                                 0   \n",
       "4                                                 0   \n",
       "...                                             ...   \n",
       "3620124                                           0   \n",
       "3620125                                           0   \n",
       "3620126                                           0   \n",
       "3620127                                           0   \n",
       "3620128                                           0   \n",
       "\n",
       "         Geology_Dictionary_Anatectic_Present  \\\n",
       "0                                           0   \n",
       "1                                           0   \n",
       "2                                           0   \n",
       "3                                           0   \n",
       "4                                           0   \n",
       "...                                       ...   \n",
       "3620124                                     0   \n",
       "3620125                                     0   \n",
       "3620126                                     0   \n",
       "3620127                                     0   \n",
       "3620128                                     0   \n",
       "\n",
       "         Geology_Dictionary_Gneissose_Present  \\\n",
       "0                                           0   \n",
       "1                                           0   \n",
       "2                                           0   \n",
       "3                                           0   \n",
       "4                                           0   \n",
       "...                                       ...   \n",
       "3620124                                     0   \n",
       "3620125                                     0   \n",
       "3620126                                     0   \n",
       "3620127                                     0   \n",
       "3620128                                     0   \n",
       "\n",
       "         Geology_Dictionary_Schistose_Present  \n",
       "0                                           0  \n",
       "1                                           0  \n",
       "2                                           0  \n",
       "3                                           0  \n",
       "4                                           0  \n",
       "...                                       ...  \n",
       "3620124                                     0  \n",
       "3620125                                     0  \n",
       "3620126                                     0  \n",
       "3620127                                     0  \n",
       "3620128                                     0  \n",
       "\n",
       "[3620129 rows x 130 columns]"
      ]
     },
     "execution_count": 20,
     "metadata": {},
     "output_type": "execute_result"
    }
   ],
   "source": [
    "df_model"
   ]
  },
  {
   "cell_type": "markdown",
   "metadata": {},
   "source": [
    "## **Filter** spatial extent"
   ]
  },
  {
   "cell_type": "code",
   "execution_count": 21,
   "metadata": {},
   "outputs": [],
   "source": [
    "df_model_filtered = df_model.copy()\n",
    "df_model_filtered = pd.concat([df_model_filtered, df[filter_column]], axis=1)\n",
    "df_model_filtered = df_model_filtered[df_model_filtered[filter_column] < FILTER_VAL]\n",
    "df_model_filtered.drop(columns=[filter_column], inplace=True)\n",
    "df_model = df_model_filtered.copy()"
   ]
  },
  {
   "cell_type": "markdown",
   "metadata": {},
   "source": [
    "### **Create** model columns and copy of model dataframe\n"
   ]
  },
  {
   "cell_type": "code",
   "execution_count": 22,
   "metadata": {},
   "outputs": [],
   "source": [
    "model_columns = model_columns_numerical + model_columns_categorical\n",
    "df_model_copy = df_model.copy()"
   ]
  },
  {
   "cell_type": "markdown",
   "metadata": {},
   "source": [
    "## **Drop** NaN data\n",
    "\n",
    "Dropping of NaN values could also be moved to the beginning or before the scaling. However, this way, data are the same when predicting on them and do not need to be scaled before inference. The advangeo workflow is basically predicting on all values, even the negatives, which were used in training (i.e., unknowns are treated as negatives and not as unknown). That's not the usual ML-way and may have some drawbacks, but to keep things comparable, we´re going with this setup, at least for the inital ann tests."
   ]
  },
  {
   "cell_type": "code",
   "execution_count": 23,
   "metadata": {},
   "outputs": [
    {
     "name": "stdout",
     "output_type": "stream",
     "text": [
      "Data rows for all values: 2376441, data columns: 130\n",
      "\n",
      "Data rows for Absent values: 2374687\n",
      "Data rows for Present values: 1754\n"
     ]
    }
   ],
   "source": [
    "# Drop rows with NaN values\n",
    "df_model.dropna(how=\"any\", inplace=True)\n",
    "\n",
    "print(f\"Data rows for all values: {df_model.shape[0]}, data columns: {df_model.shape[1]}\")\n",
    "\n",
    "num_negatives = df_model[df_model[ground_truth_selected] == 0].shape[0]\n",
    "print(\"\\nData rows for Absent values:\", num_negatives)\n",
    "\n",
    "num_positives = df_model[df_model[ground_truth_selected] == 1].shape[0]\n",
    "print(\"Data rows for Present values:\", num_positives)\n"
   ]
  },
  {
   "cell_type": "markdown",
   "metadata": {},
   "source": [
    "## **Balance** and **subset** data"
   ]
  },
  {
   "cell_type": "code",
   "execution_count": 24,
   "metadata": {},
   "outputs": [],
   "source": [
    "X = df_model.drop(columns=[ground_truth_selected], inplace=False)\n",
    "y = df_model[ground_truth_selected]"
   ]
  },
  {
   "cell_type": "markdown",
   "metadata": {},
   "source": [
    "## **Impute** and **subset** data"
   ]
  },
  {
   "cell_type": "code",
   "execution_count": 25,
   "metadata": {},
   "outputs": [],
   "source": [
    "from sklearn.impute import SimpleImputer\n",
    "\n",
    "def impute_data(data, columns):\n",
    "  data_imputed = data.copy()\n",
    "  imputer = SimpleImputer(strategy=\"mean\", missing_values=np.nan)\n",
    "  data_imputed[columns] = imputer.fit_transform(data_imputed[columns])\n",
    "  \n",
    "  return data_imputed\n"
   ]
  },
  {
   "cell_type": "code",
   "execution_count": 26,
   "metadata": {},
   "outputs": [],
   "source": [
    "df_model_imputed = df_model_copy.copy()\n",
    "df_model_imputed = impute_data(df_model_imputed, model_columns_numerical)\n",
    "\n",
    "X_imputed = df_model_imputed.drop(columns=[ground_truth_selected], inplace=False)\n",
    "y_imputed = df_model_imputed[ground_truth_selected]"
   ]
  },
  {
   "cell_type": "markdown",
   "metadata": {},
   "source": [
    "### **Create** dataset with **simple** oversampling"
   ]
  },
  {
   "cell_type": "markdown",
   "metadata": {},
   "source": [
    "**Oversampling** the initial data with simple oversampling"
   ]
  },
  {
   "cell_type": "code",
   "execution_count": 27,
   "metadata": {},
   "outputs": [],
   "source": [
    "from imblearn.over_sampling import RandomOverSampler\n",
    "\n",
    "def oversample_data(X, y, sampling_strategy=0.5, random_state=seed, shrinkage=0.0):\n",
    "  ros = RandomOverSampler(sampling_strategy=sampling_strategy, random_state=seed, shrinkage=shrinkage)\n",
    "  X_ros, y_ros = ros.fit_resample(X, y)\n",
    "  print(f\"Resampled dataset shape {Counter(y_ros)}, positive/negative ratio: {round(Counter(y_ros)[1] / Counter(y_ros)[0], 2)}\")\n",
    "  \n",
    "  return X_ros.astype(np.float32), y_ros.astype(np.int8)\n"
   ]
  },
  {
   "cell_type": "markdown",
   "metadata": {},
   "source": [
    "**Create** subsets"
   ]
  },
  {
   "cell_type": "code",
   "execution_count": 28,
   "metadata": {},
   "outputs": [],
   "source": [
    "def create_subsets(X, y, num_downsampling, ground_truth=ground_truth_selected, seed=seed):\n",
    "  Xy = pd.concat([X, y], axis=1)\n",
    "  Xy_subset = Xy.sample(n=num_downsampling, random_state=seed)\n",
    "\n",
    "  X_subset = Xy_subset.drop(columns=[ground_truth], inplace=False)\n",
    "  y_subset = Xy_subset[ground_truth]\n",
    "  print(f\"Subset dataset shape {Counter(y_subset)}\")\n",
    "\n",
    "  return X_subset, y_subset\n",
    "\n",
    "\n",
    "def select_random_samples(X=X, y=y, sampling_strategy=0.1, sampling_class=\"negatives\", seed=seed):\n",
    "  X_positives = X[y == 1] \n",
    "  X_negatives = X[y == 0]\n",
    "\n",
    "  X_samples = X_negatives if sampling_class == \"negatives\" else X_positives\n",
    "  X_samples = X_samples.sample(frac=sampling_strategy, random_state=seed, replace=False)\n",
    "\n",
    "  X_positives = X_samples if sampling_class == \"positives\" else X_positives\n",
    "  X_negatives = X_samples if sampling_class == \"negatives\" else X_negatives\n",
    "  \n",
    "  X_samples = pd.concat([X_positives, X_negatives], axis=0)\n",
    "  y_samples = np.concatenate([np.ones(X_positives.shape[0]), np.zeros(X_negatives.shape[0])])\n",
    "\n",
    "  print(f\"Subset dataset shape {Counter(y_samples)}\")\n",
    "  return X_samples, y_samples\n"
   ]
  },
  {
   "cell_type": "markdown",
   "metadata": {},
   "source": [
    "### **Create** positive/negative subsets"
   ]
  },
  {
   "cell_type": "code",
   "execution_count": 29,
   "metadata": {},
   "outputs": [],
   "source": [
    "# Create selection of the positives and negatives for testing purposes\n",
    "X_positives = df_model[df_model[ground_truth_selected] == 1].drop(columns=[ground_truth_selected], inplace=False).astype(np.float32)\n",
    "y_positives = df_model[df_model[ground_truth_selected] == 1][ground_truth_selected].astype(np.float32)"
   ]
  },
  {
   "cell_type": "markdown",
   "metadata": {},
   "source": [
    "# **Modeling**"
   ]
  },
  {
   "cell_type": "markdown",
   "metadata": {},
   "source": [
    "### Preparation"
   ]
  },
  {
   "cell_type": "markdown",
   "metadata": {},
   "source": [
    "#### **Building** and **training** ANN models"
   ]
  },
  {
   "cell_type": "code",
   "execution_count": 30,
   "metadata": {},
   "outputs": [],
   "source": [
    "import tensorflow as tf\n",
    "import matplotlib.pyplot as plt\n",
    "\n",
    "from tensorflow.keras import layers\n",
    "\n",
    "def train_ann(X, \n",
    "              y,\n",
    "              model,\n",
    "              validation_data=None, \n",
    "              validation_split=0.2,  \n",
    "              validation_steps=None,\n",
    "              epochs=100, \n",
    "              batch_size=32, \n",
    "              optimizer=tf.keras.optimizers.Adam, \n",
    "              loss=tf.keras.losses.binary_crossentropy, \n",
    "              metrics=[\"mse\"], \n",
    "              callbacks=[], \n",
    "              verbose=0,\n",
    "              seed=42,\n",
    "              mixed_precision=False):\n",
    "  \"\"\"Train ANN model\"\"\"\n",
    "  # Set mixed precision policy\n",
    "  if mixed_precision is True:\n",
    "    tf.keras.mixed_precision.set_global_policy(policy='mixed_float16')\n",
    "  else:\n",
    "    tf.keras.mixed_precision.set_global_policy(policy='float32')\n",
    "\n",
    "  tf.random.set_seed(seed)  \n",
    "\n",
    "  # Print settings\n",
    "  print(f\"Random seed: {seed}, precision: {tf.keras.mixed_precision.global_policy().name}\\n\")\n",
    "  \n",
    "  if validation_data:\n",
    "    print(f\"Training on {X.shape[0]} samples.\\n\")\n",
    "  else:\n",
    "    print(f\"Training on {int(X.shape[0] - X.shape[0] * validation_split)} samples.\\n\")\n",
    "    \n",
    "  model.compile(optimizer=optimizer(learning_rate=0.001), loss=loss, metrics=metrics)\n",
    "  return model.fit(X, y, validation_data=validation_data, validation_split=validation_split, validation_steps=validation_steps, epochs=epochs, batch_size=batch_size, callbacks=callbacks, verbose=verbose)\n",
    "    "
   ]
  },
  {
   "cell_type": "markdown",
   "metadata": {},
   "source": [
    "Simple initial **ANN**"
   ]
  },
  {
   "cell_type": "code",
   "execution_count": 31,
   "metadata": {},
   "outputs": [],
   "source": [
    "# Simple initial ANN model\n",
    "def create_simple_ann(num_features, model_name=\"ANN\", hidden_units=1, activation=tf.keras.activations.relu, batch_norm=False, seed=42):\n",
    "  \"\"\"Create a new ANN model\"\"\"  \n",
    "  tf.random.set_seed(seed)\n",
    "  neurons = num_features*2 + 1\n",
    "\n",
    "  input = tf.keras.Input(shape=(num_features,), name=\"Input_layer\")\n",
    "  x = layers.Dense(neurons, activation=activation, name=\"Hidden_layer_1\")(input)\n",
    "  x = layers.BatchNormalization()(x) if batch_norm is True else x\n",
    "  \n",
    "  if hidden_units > 1:\n",
    "    for i in range(1, hidden_units):\n",
    "      hidden_unit_name = f\"Hidden_layer_{i+1}\"\n",
    "      x = layers.Dense(neurons, activation=activation, name=hidden_unit_name)(x)\n",
    "      x = layers.BatchNormalization()(x) if batch_norm is True else x  \n",
    "       \n",
    "  output = layers.Dense(1, activation=tf.keras.activations.sigmoid, dtype=tf.float32, name=\"Output_layer\")(x)\n",
    "  return tf.keras.Model(inputs=input, outputs=output, name=model_name)\n"
   ]
  },
  {
   "cell_type": "markdown",
   "metadata": {},
   "source": [
    "**C1: Complex** ANN with ascending order of neurons to the power of 2"
   ]
  },
  {
   "cell_type": "code",
   "execution_count": 32,
   "metadata": {},
   "outputs": [],
   "source": [
    "# Create complex ANN models\n",
    "def create_ann_c1(num_features, model_name=\"ANN\", min_exp=6, hidden_units=1, activation=tf.keras.activations.relu, batch_norm=False, seed=42):\n",
    "  \"\"\"Create a new ANN model\"\"\"  \n",
    "  tf.random.set_seed(seed)\n",
    "\n",
    "  neurons = 2**min_exp\n",
    "  input = tf.keras.Input(shape=(num_features,), name=\"Input_layer\")\n",
    "  x = layers.Dense(2**min_exp, activation=activation, name=\"Hidden_layer_1\")(input)\n",
    "  x = layers.BatchNormalization()(x) if batch_norm is True else x\n",
    "  \n",
    "  if hidden_units > 1:\n",
    "    for i in range(1, hidden_units):\n",
    "      neurons = 2**(min_exp + i)\n",
    "      hidden_unit_name = f\"Hidden_layer_{i+1}\"\n",
    "      x = layers.Dense(neurons, activation=activation, name=hidden_unit_name)(x)\n",
    "      x = layers.BatchNormalization()(x) if batch_norm is True else x  \n",
    "       \n",
    "  output = layers.Dense(1, activation=tf.keras.activations.sigmoid, dtype=tf.float32, name=\"Output_layer\")(x)\n",
    "  return tf.keras.Model(inputs=input, outputs=output, name=model_name)\n",
    "  "
   ]
  },
  {
   "cell_type": "markdown",
   "metadata": {},
   "source": [
    "**C2: Complex** ANN with descending order of neurons to the power of 2"
   ]
  },
  {
   "cell_type": "code",
   "execution_count": 33,
   "metadata": {},
   "outputs": [],
   "source": [
    "# Create complex ANN models\n",
    "def create_ann_c2(num_features, model_name=\"ANN\", max_exp=12, hidden_units=1, activation=tf.keras.activations.relu, batch_norm=False, seed=42):\n",
    "  \"\"\"Create a new ANN model\"\"\"  \n",
    "  tf.random.set_seed(seed)\n",
    "\n",
    "  neurons = 2**max_exp\n",
    "  input = tf.keras.Input(shape=(num_features,), name=\"Input_layer\")\n",
    "  x = layers.Dense(2**max_exp, activation=activation, name=\"Hidden_layer_1\")(input)\n",
    "  x = layers.BatchNormalization()(x) if batch_norm is True else x\n",
    "  \n",
    "  if hidden_units > 1:\n",
    "    for i in range(1, hidden_units):\n",
    "      neurons = neurons - 2**(max_exp - i)\n",
    "      hidden_unit_name = f\"Hidden_layer_{i+1}\"\n",
    "      x = layers.Dense(neurons, activation=activation, name=hidden_unit_name)(x)\n",
    "      x = layers.BatchNormalization()(x) if batch_norm is True else x  \n",
    "      \n",
    "      if neurons == 2:\n",
    "        print(f\"Neurons: {neurons}, minumum reached!\")\n",
    "        break\n",
    "      \n",
    "  output = layers.Dense(1, activation=tf.keras.activations.sigmoid, dtype=tf.float32, name=\"Output_layer\")(x)\n",
    "  return tf.keras.Model(inputs=input, outputs=output, name=model_name)\n",
    "  "
   ]
  },
  {
   "cell_type": "code",
   "execution_count": 34,
   "metadata": {},
   "outputs": [
    {
     "name": "stdout",
     "output_type": "stream",
     "text": [
      "Maximum neurons to start with: 4096\n",
      "2048\n",
      "1024\n",
      "512\n",
      "256\n",
      "128\n"
     ]
    }
   ],
   "source": [
    "max_exp = 12\n",
    "hidden_units = 6\n",
    "neurons = 2**max_exp\n",
    "\n",
    "print(f\"Maximum neurons to start with: {2**max_exp}\")\n",
    "for i in range(1, hidden_units):\n",
    "  neurons = neurons - 2**(max_exp-i)\n",
    "  print(neurons)\n",
    "  "
   ]
  },
  {
   "cell_type": "markdown",
   "metadata": {},
   "source": [
    "**Create** callbacks"
   ]
  },
  {
   "cell_type": "code",
   "execution_count": 35,
   "metadata": {},
   "outputs": [],
   "source": [
    "import datetime\n",
    "\n",
    "def tensorboard_callback(folder, model_name):\n",
    "  log_dir = os.path.join(folder, model_name + \"_\" + datetime.datetime.now().strftime(\"%Y%m%d-%H%M%S\"))\n",
    "  \n",
    "  training_log = tf.keras.callbacks.TensorBoard(log_dir=log_dir)\n",
    "  print(f\"Saving TensorBoard log files to: {log_dir}\")\n",
    "  return training_log\n"
   ]
  },
  {
   "cell_type": "markdown",
   "metadata": {},
   "source": [
    "#### **Create** training data "
   ]
  },
  {
   "cell_type": "code",
   "execution_count": 36,
   "metadata": {},
   "outputs": [],
   "source": [
    "def create_train_test_splits(X, y, test_size=0.2, seed=seed, out_dtype=np.float32, out_type=\"tensorflow\"):\n",
    "  \"\"\"Create training and testing data\"\"\"\n",
    "  X_train, X_test, y_train, y_test = train_test_split(X, y, test_size=test_size, random_state=seed)\n",
    "  \n",
    "  if out_type == \"tensorflow\":\n",
    "    X_train = tf.convert_to_tensor(X_train, dtype=out_dtype)\n",
    "    X_test = tf.convert_to_tensor(X_test, dtype=out_dtype)\n",
    "    y_train = tf.convert_to_tensor(y_train, dtype=np.int8)\n",
    "    y_test = tf.convert_to_tensor(y_test, dtype=np.int8)\n",
    "  elif out_type == \"numpy\":\n",
    "    X_train = X_train.astype(out_dtype)\n",
    "    X_test = X_test.astype(out_dtype)\n",
    "    y_train = y_train.astype(np.int8)\n",
    "    y_test = y_test.astype(np.int8)\n",
    "    \n",
    "  return X_train, X_test, y_train, y_test"
   ]
  },
  {
   "cell_type": "markdown",
   "metadata": {},
   "source": [
    "#### **Evaluation** methods"
   ]
  },
  {
   "cell_type": "code",
   "execution_count": 37,
   "metadata": {},
   "outputs": [],
   "source": [
    "from sklearn.metrics import roc_curve, auc, roc_auc_score\n",
    "import matplotlib.pyplot as plt\n",
    "  \n",
    "def plot_loss(history):\n",
    "  plt.plot(history.history['loss'], label='Training Loss')\n",
    "  plt.plot(history.history['val_loss'], label='Validation Loss')\n",
    "  plt.title('Loss Function')\n",
    "  plt.xlabel('Epoch')\n",
    "  plt.ylabel('Loss')\n",
    "  plt.legend()\n",
    "  plt.show();\n",
    "\n",
    "\n",
    "def eval_roc_auc(model, X, y, plot=True, batch_size=1024):\n",
    "  \"\"\"Evaluate ROC AUC score\"\"\"\n",
    "  # ROC AUC score\n",
    "  y_pred = model.predict(X, verbose=0, batch_size=batch_size)\n",
    "  eval_roc_auc = roc_auc_score(y, y_pred)\n",
    "  \n",
    "  # ROC curve\n",
    "  if plot is True:\n",
    "    fpr, tpr, _ = roc_curve(y, y_pred)\n",
    "    \n",
    "    # Plotting\n",
    "    plt.figure()\n",
    "    plt.plot(fpr, tpr, color='darkorange', lw=2, label=f\"ROC curve (area = {eval_roc_auc:.4})\")\n",
    "    plt.plot([0, 1], [0, 1], color='navy', lw=2, linestyle='--')\n",
    "    plt.xlim([0.0, 1.0])\n",
    "    plt.ylim([0.0, 1.05])\n",
    "    plt.xlabel('False Positive Rate')\n",
    "    plt.ylabel('True Positive Rate')\n",
    "    plt.title('Receiver Operating Characteristic')\n",
    "    plt.legend(loc=\"lower right\")\n",
    "  else:\n",
    "    print(f\"ROC AUC score: {eval_roc_auc:.4}\")\n",
    "    \n",
    "  return eval_roc_auc\n",
    "\n",
    "\n",
    "def plot_loss_and_roc(history, model, X, y, batch_size=1024):\n",
    "    # Plot loss function\n",
    "    plt.figure(figsize=(12, 5))\n",
    "\n",
    "    plt.subplot(1, 2, 1)\n",
    "    plt.plot(history.history['loss'], label='Training Loss')\n",
    "    plt.plot(history.history['val_loss'], label='Validation Loss')\n",
    "    plt.title('Loss Function')\n",
    "    plt.xlabel('Epoch')\n",
    "    plt.ylabel('Loss')\n",
    "    plt.legend()\n",
    "\n",
    "    # Evaluate ROC AUC and plot ROC curve\n",
    "    plt.subplot(1, 2, 2)\n",
    "    y_pred = model.predict(X, verbose=0, batch_size=batch_size)\n",
    "    fpr, tpr, _ = roc_curve(y, y_pred)\n",
    "    roc_auc = auc(fpr, tpr)\n",
    "\n",
    "    plt.plot(fpr, tpr, color='darkorange', lw=2, label=f\"ROC curve (area = {roc_auc:.4})\")\n",
    "    plt.plot([0, 1], [0, 1], color='navy', lw=2, linestyle='--')\n",
    "    plt.xlim([0.0, 1.0])\n",
    "    plt.ylim([0.0, 1.05])\n",
    "    plt.xlabel('False Positive Rate')\n",
    "    plt.ylabel('True Positive Rate')\n",
    "    plt.title('Receiver Operating Characteristic')\n",
    "    plt.legend(loc=\"lower right\")\n",
    "\n",
    "    plt.tight_layout(pad=3) \n",
    "    plt.show()\n",
    "\n",
    "# Example usage:\n",
    "# Assuming 'history' is the training history and 'model' is your trained model\n",
    "# Replace X and y with your actual data\n",
    "# plot_loss_and_roc(history, model, X, y)\n"
   ]
  },
  {
   "cell_type": "markdown",
   "metadata": {},
   "source": [
    "#### **Prediction** tools\n"
   ]
  },
  {
   "cell_type": "code",
   "execution_count": 38,
   "metadata": {},
   "outputs": [],
   "source": [
    "def set_nodata(data, prediction, columns):\n",
    "  out_nodata = -9999.\n",
    "  \n",
    "  nan_mask = np.isnan(data[columns]).to_numpy()\n",
    "  nan_mask = np.max(nan_mask, axis=1)\n",
    "  nan_mask = nan_mask.reshape(-1, 1)\n",
    "  \n",
    "  return np.where(nan_mask, out_nodata, prediction)  \n",
    "\n",
    "\n",
    "def predict_values(data, model_columns, model, batch_size=512, verbose=1, impute=True,  setback_nodata=False):\n",
    "  assert not (impute and setback_nodata), \"Imputing and setting back nodata is not possible at the same time!\"\n",
    "    \n",
    "  if impute is True and setback_nodata is False:\n",
    "    data = impute_data(data, columns=model_columns)\n",
    "\n",
    "  prediction = model.predict(data[model_columns], batch_size=batch_size, verbose=verbose)\n",
    "  \n",
    "  if setback_nodata is True and impute is False:\n",
    "    out_data = set_nodata(data, prediction, columns=model_columns) if impute is False else prediction\n",
    "  else:\n",
    "    out_data = prediction\n",
    "    \n",
    "  return out_data\n",
    "  "
   ]
  },
  {
   "cell_type": "markdown",
   "metadata": {},
   "source": [
    "#### **Export** tools"
   ]
  },
  {
   "cell_type": "code",
   "execution_count": 41,
   "metadata": {},
   "outputs": [],
   "source": [
    "from beak.utilities import conversions\n",
    "\n",
    "def export_prediction(data=feather, region_column=region_column, out_name=None, prediction=None, out_path=PATH_MODEL_RESULTS, filter_column=filter_column, filter_value=FILTER_VAL):\n",
    "  \"\"\"Exports prediction to raster\"\"\"  \n",
    "  # Load initial data to get coordinates\n",
    "  print(\"Loading data...\")\n",
    "  if len(filter_column) > 0 and filter_value is not None:\n",
    "    data = io.load_feather(feather, columns=[\"H3_Geometry\", region_column, filter_column])\n",
    "    data = data[data[filter_column] < filter_value]\n",
    "    data.drop(columns=[filter_column], inplace=True)\n",
    "  else:\n",
    "    data = io.load_feather(feather, columns=[\"H3_Geometry\", region_column])\n",
    "    \n",
    "  data = data[data[region_column].isin(REGIONS)]\n",
    "  \n",
    "  print(\"Converting prediction...\")\n",
    "  data[out_name] = prediction.squeeze()\n",
    "\n",
    "  print(\"Creating geodataframe...\")\n",
    "  gdf = data[[\"H3_Geometry\", out_name]].copy()\n",
    "  gdf = conversions.create_geodataframe_from_polygons(data=gdf, polygon_col=\"H3_Geometry\", epsg_code=4326)\n",
    "\n",
    "  # Create and export rasters\n",
    "  print(\"Exporting raster...\\n\")\n",
    "  _, _ , _ = conversions.rasterize_vector(value_type=\"numerical\",\n",
    "                                          value_columns=[out_name],\n",
    "                                          geodataframe=gdf,\n",
    "                                          nodata_value=-9999.0,\n",
    "                                          resolution=0.05,\n",
    "                                          epsg_code=4326,\n",
    "                                          dtype=np.float32,\n",
    "                                          raster_save=True,\n",
    "                                          raster_save_folder=out_path)"
   ]
  },
  {
   "cell_type": "markdown",
   "metadata": {},
   "source": [
    "## Models"
   ]
  },
  {
   "cell_type": "markdown",
   "metadata": {},
   "source": [
    "**M2F-I:** Train/test split first, afterwards oversampling without Batch Norm but with lower random sample ratio at the beginning"
   ]
  },
  {
   "cell_type": "code",
   "execution_count": 42,
   "metadata": {},
   "outputs": [
    {
     "name": "stdout",
     "output_type": "stream",
     "text": [
      "Subset dataset shape Counter({0.0: 36179, 1.0: 1854})\n",
      "Resampled dataset shape Counter({0.0: 36179, 1.0: 18089}), positive/negative ratio: 0.5\n",
      "Training dataset shape Counter({0: 36179, 1: 18089})\n",
      "Test dataset shape Counter({0: 7224, 1: 383})\n"
     ]
    }
   ],
   "source": [
    "multiplier = 20\n",
    "random_num_negatives = len(y_positives) * multiplier\n",
    "num_random_negatives = round(random_num_negatives / len(X_imputed), 3)\n",
    "\n",
    "# Strategy 2: Random sampling negatives first and SMOTETomek oversampling positives/downsampling negatives afterwards\n",
    "X_rs, y_rs = select_random_samples(X_imputed, y_imputed, sampling_strategy=num_random_negatives, sampling_class=\"negatives\", seed=seed)\n",
    "X_train, X_test, y_train, y_test = create_train_test_splits(X_rs, y_rs, test_size=0.2)\n",
    "X_rs_ros, y_rs_ros = oversample_data(X_rs, y_rs, sampling_strategy=0.5, random_state=seed, shrinkage=0.0)\n",
    "\n",
    "print(f\"Training dataset shape {Counter(y_rs_ros)}\")\n",
    "print(f\"Test dataset shape {Counter(y_test.numpy())}\")\n",
    "\n",
    "X_train = tf.convert_to_tensor(X_rs_ros, dtype=tf.float32)\n",
    "y_train = tf.convert_to_tensor(y_rs_ros, dtype=tf.int8)\n"
   ]
  },
  {
   "cell_type": "code",
   "execution_count": 43,
   "metadata": {},
   "outputs": [
    {
     "name": "stdout",
     "output_type": "stream",
     "text": [
      "Saving TensorBoard log files to: logs\\PREFERRED_ANN_M2F_I_50_EPOCHS_512_BATCH_SIZE_20240208-172039\n",
      "Random seed: 42, precision: float32\n",
      "\n",
      "Training on 43414 samples.\n",
      "\n"
     ]
    }
   ],
   "source": [
    "epochs = 50\n",
    "batch_size = 512\n",
    "\n",
    "# Name\n",
    "model_name = \"PREFERRED_ANN_M2F_I_\" + str(epochs) + \"_EPOCHS_\" + str(batch_size) + \"_BATCH_SIZE\"\n",
    "\n",
    "# Model\n",
    "model = create_simple_ann(num_features=X_train.shape[1], model_name=model_name, hidden_units=1, activation=tf.keras.activations.relu, batch_norm=False, seed=seed)\n",
    "\n",
    "# Callbacks\n",
    "callbacks = [tf.keras.callbacks.EarlyStopping(monitor=\"val_loss\", patience=5), tensorboard_callback(model_log_folder, model_name)]\n",
    "\n",
    "# Training\n",
    "train_results = train_ann(X_train, y_train, model, validation_split=0.2, epochs=epochs, batch_size=batch_size, callbacks=callbacks, seed=seed, verbose=0)\n",
    "\n",
    "# Save model\n",
    "save_model(model, model_name)\n"
   ]
  },
  {
   "cell_type": "code",
   "execution_count": 44,
   "metadata": {},
   "outputs": [
    {
     "data": {
      "image/png": "[encoded data removed]",
      "text/plain": [
       "<Figure size 1200x500 with 2 Axes>"
      ]
     },
     "metadata": {},
     "output_type": "display_data"
    },
    {
     "name": "stdout",
     "output_type": "stream",
     "text": [
      "15/15 [==============================] - 0s 1ms/step - loss: 0.0383 - mse: 0.0104\n",
      "1/1 [==============================] - 0s 27ms/step - loss: 0.1270 - mse: 0.0316\n",
      "\n",
      "Eval - Test loss: 0.03833, Test metric: 0.01045\n",
      "Eval positives only- Test loss: 0.127, Test metric: 0.0316\n"
     ]
    }
   ],
   "source": [
    "# Load model\n",
    "model_ann = load_model(model_name)\n",
    "model = model_ann\n",
    "\n",
    "# Plot loss and roc curve\n",
    "plot_loss_and_roc(train_results, model, X_test, y_test, batch_size=512)\n",
    "\n",
    "# Evaluation\n",
    "# Test (with oversampled data)\n",
    "eval = model.evaluate(X_test, y_test, batch_size=512)\n",
    "\n",
    "# Test (with oversampled data, only positives)\n",
    "eval_positives = model.evaluate(X_test[y_test==1], y_test[y_test==1], batch_size=512)\n",
    "\n",
    "print(f\"\\nEval - Test loss: {eval[0]:.4}, Test metric: {eval[1]:.4}\")\n",
    "print(f\"Eval positives only- Test loss: {eval_positives[0]:.4}, Test metric: {eval_positives[1]:.4}\")\n"
   ]
  },
  {
   "cell_type": "code",
   "execution_count": 45,
   "metadata": {},
   "outputs": [
    {
     "name": "stdout",
     "output_type": "stream",
     "text": [
      "7070/7070 [==============================] - 8s 1ms/step\n",
      "Loading data...\n",
      "Converting prediction...\n",
      "Creating geodataframe...\n",
      "Exporting raster...\n",
      "\n",
      "Number of threads rasterizing: 48\n"
     ]
    },
    {
     "name": "stderr",
     "output_type": "stream",
     "text": [
      "Rasterizing: 100%|██████████| 1/1 [05:51<00:00, 351.79s/it]\n"
     ]
    }
   ],
   "source": [
    "prediction = predict_values(df_model_copy, model_columns, model, batch_size=512)\n",
    "export_prediction(data=feather, region_column=region_column, out_name=model_name, prediction=prediction)"
   ]
  },
  {
   "cell_type": "markdown",
   "metadata": {},
   "source": [
    "### **M3:** ANN with random sampling and SMOTETomek"
   ]
  },
  {
   "cell_type": "markdown",
   "metadata": {},
   "source": [
    "**M3C:** Train/test split first, afterwards oversampling without Batch Norm"
   ]
  },
  {
   "cell_type": "code",
   "execution_count": 46,
   "metadata": {},
   "outputs": [
    {
     "name": "stdout",
     "output_type": "stream",
     "text": [
      "Subset dataset shape Counter({0.0: 237469, 1.0: 1754})\n",
      "Training dataset shape Counter({0.0: 213731, 1.0: 106866})\n",
      "Test dataset shape Counter({0.0: 23736, 1.0: 187})\n"
     ]
    }
   ],
   "source": [
    "from imblearn.under_sampling import TomekLinks\n",
    "from imblearn.combine import SMOTETomek\n",
    "\n",
    "# Strategy 3: Random Sampling, then split into training and test data, afterwards SMOTETomek oversampling positives/downsampling negatives\n",
    "X_rs, y_rs = select_random_samples(X, y, sampling_strategy=0.1, sampling_class=\"negatives\", seed=seed)\n",
    "X_train, X_test, y_train, y_test = train_test_split(X_rs, y_rs, test_size=0.1, random_state=seed)\n",
    "\n",
    "tomek = TomekLinks(sampling_strategy=\"majority\")\n",
    "X_rs_smotet, y_rs_smotet = SMOTETomek(sampling_strategy=0.5, tomek=tomek, random_state=seed).fit_resample(X_train, y_train)\n",
    "print(f\"Training dataset shape {Counter(y_rs_smotet)}\")\n",
    "print(f\"Test dataset shape {Counter(y_test)}\")\n",
    "\n",
    "X_train = tf.convert_to_tensor(X_rs_smotet, dtype=tf.float32)\n",
    "y_train = tf.convert_to_tensor(y_rs_smotet, dtype=np.int8)\n"
   ]
  },
  {
   "cell_type": "code",
   "execution_count": 47,
   "metadata": {},
   "outputs": [],
   "source": [
    "epochs = 50\n",
    "batch_size = 512\n",
    "\n",
    "# Name\n",
    "model_name = \"PREFERRED_ANN_M3C_\" + str(epochs) + \"_EPOCHS_\" + str(batch_size) + \"_BATCH_SIZE\"\n"
   ]
  },
  {
   "cell_type": "code",
   "execution_count": 48,
   "metadata": {},
   "outputs": [
    {
     "name": "stdout",
     "output_type": "stream",
     "text": [
      "Saving TensorBoard log files to: logs\\PREFERRED_ANN_M3C_50_EPOCHS_512_BATCH_SIZE_20240208-172844\n",
      "Random seed: 42, precision: float32\n",
      "\n",
      "Training on 256477 samples.\n",
      "\n"
     ]
    }
   ],
   "source": [
    "# Model\n",
    "model = create_simple_ann(num_features=X_train.shape[1], model_name=model_name, hidden_units=1, activation=tf.keras.activations.relu, batch_norm=False, seed=seed)\n",
    "\n",
    "# Callbacks\n",
    "callbacks = [tf.keras.callbacks.EarlyStopping(monitor=\"val_loss\", patience=5), tensorboard_callback(model_log_folder, model_name)]\n",
    "\n",
    "# Training\n",
    "train_results = train_ann(X_train, y_train, model, validation_split=0.2, epochs=epochs, batch_size=batch_size, callbacks=callbacks, seed=seed, verbose=0)\n",
    "\n",
    "# Save model\n",
    "save_model(model, model_name)\n"
   ]
  },
  {
   "cell_type": "code",
   "execution_count": 49,
   "metadata": {},
   "outputs": [],
   "source": [
    "# Load model\n",
    "model_ann_3c = load_model(model_name)\n",
    "model = model_ann_3c"
   ]
  },
  {
   "cell_type": "code",
   "execution_count": 50,
   "metadata": {},
   "outputs": [
    {
     "data": {
      "image/png": "[encoded data removed]",
      "text/plain": [
       "<Figure size 1200x500 with 2 Axes>"
      ]
     },
     "metadata": {},
     "output_type": "display_data"
    }
   ],
   "source": [
    "# Plot loss and roc curve\n",
    "plot_loss_and_roc(train_results, model, X_test, y_test, batch_size=512)"
   ]
  },
  {
   "cell_type": "code",
   "execution_count": 51,
   "metadata": {},
   "outputs": [
    {
     "name": "stdout",
     "output_type": "stream",
     "text": [
      "47/47 [==============================] - 0s 1ms/step - loss: 0.0330 - mse: 0.0082\n",
      "1/1 [==============================] - 0s 20ms/step - loss: 1.6739 - mse: 0.3022\n",
      "\n",
      "Eval - Test loss: 0.03298, Test metric: 0.00824\n",
      "Eval positives only- Test loss: 1.674, Test metric: 0.3022\n"
     ]
    }
   ],
   "source": [
    "# Evaluation\n",
    "# Test (with oversampled data)\n",
    "eval = model.evaluate(X_test, y_test, batch_size=512)\n",
    "\n",
    "# Test (with oversampled data, only positives)\n",
    "eval_positives = model.evaluate(X_test[y_test==1], y_test[y_test==1], batch_size=512)\n",
    "\n",
    "print(f\"\\nEval - Test loss: {eval[0]:.4}, Test metric: {eval[1]:.4}\")\n",
    "print(f\"Eval positives only- Test loss: {eval_positives[0]:.4}, Test metric: {eval_positives[1]:.4}\")"
   ]
  },
  {
   "cell_type": "code",
   "execution_count": 52,
   "metadata": {},
   "outputs": [
    {
     "name": "stdout",
     "output_type": "stream",
     "text": [
      "3535/3535 [==============================] - 7s 2ms/step\n",
      "Loading data...\n",
      "Converting prediction...\n",
      "Creating geodataframe...\n",
      "Exporting raster...\n",
      "\n",
      "Number of threads rasterizing: 48\n"
     ]
    },
    {
     "name": "stderr",
     "output_type": "stream",
     "text": [
      "Rasterizing: 100%|██████████| 1/1 [05:49<00:00, 349.58s/it]\n"
     ]
    }
   ],
   "source": [
    "prediction = predict_values(df_model_copy, model_columns, model, batch_size=1024)\n",
    "export_prediction(data=feather, region_column=region_column, out_name=model_name, prediction=prediction)"
   ]
  },
  {
   "cell_type": "markdown",
   "metadata": {},
   "source": [
    "**M3C-I:** Train/test split first, afterwards oversampling without Batch Norm"
   ]
  },
  {
   "cell_type": "code",
   "execution_count": 53,
   "metadata": {},
   "outputs": [
    {
     "name": "stdout",
     "output_type": "stream",
     "text": [
      "Subset dataset shape Counter({0.0: 361789, 1.0: 1854})\n",
      "Training dataset shape Counter({0.0: 325637, 1.0: 162818})\n",
      "Test dataset shape Counter({0.0: 36152, 1.0: 213})\n"
     ]
    }
   ],
   "source": [
    "from imblearn.under_sampling import TomekLinks\n",
    "from imblearn.combine import SMOTETomek\n",
    "\n",
    "# Strategy 3: Random Sampling, then split into training and test data, afterwards SMOTETomek oversampling positives/downsampling negatives\n",
    "X_rs, y_rs = select_random_samples(X_imputed, y_imputed, sampling_strategy=0.1, sampling_class=\"negatives\", seed=seed)\n",
    "X_train, X_test, y_train, y_test = train_test_split(X_rs, y_rs, test_size=0.1, random_state=seed)\n",
    "\n",
    "tomek = TomekLinks(sampling_strategy=\"majority\")\n",
    "X_rs_smotet, y_rs_smotet = SMOTETomek(sampling_strategy=0.5, tomek=tomek, random_state=seed).fit_resample(X_train, y_train)\n",
    "print(f\"Training dataset shape {Counter(y_rs_smotet)}\")\n",
    "print(f\"Test dataset shape {Counter(y_test)}\")\n",
    "\n",
    "X_train = tf.convert_to_tensor(X_rs_smotet, dtype=tf.float32)\n",
    "y_train = tf.convert_to_tensor(y_rs_smotet, dtype=np.int8)\n"
   ]
  },
  {
   "cell_type": "code",
   "execution_count": 54,
   "metadata": {},
   "outputs": [],
   "source": [
    "epochs = 50\n",
    "batch_size = 512\n",
    "\n",
    "# Name\n",
    "model_name = \"PREFERRED_ANN_M3C_I_\" + str(epochs) + \"_EPOCHS_\" + str(batch_size) + \"_BATCH_SIZE\"\n"
   ]
  },
  {
   "cell_type": "code",
   "execution_count": 55,
   "metadata": {},
   "outputs": [
    {
     "name": "stdout",
     "output_type": "stream",
     "text": [
      "Saving TensorBoard log files to: logs\\PREFERRED_ANN_M3C_I_50_EPOCHS_512_BATCH_SIZE_20240208-173748\n",
      "Random seed: 42, precision: float32\n",
      "\n",
      "Training on 390764 samples.\n",
      "\n"
     ]
    }
   ],
   "source": [
    "# Model\n",
    "model = create_simple_ann(num_features=X_train.shape[1], model_name=model_name, hidden_units=1, activation=tf.keras.activations.relu, batch_norm=False, seed=seed)\n",
    "\n",
    "# Callbacks\n",
    "callbacks = [tf.keras.callbacks.EarlyStopping(monitor=\"val_loss\", patience=5), tensorboard_callback(model_log_folder, model_name)]\n",
    "\n",
    "# Training\n",
    "train_results = train_ann(X_train, y_train, model, validation_split=0.2, epochs=epochs, batch_size=batch_size, callbacks=callbacks, seed=seed, verbose=0)\n",
    "\n",
    "# Save model\n",
    "save_model(model, model_name)\n"
   ]
  },
  {
   "cell_type": "code",
   "execution_count": 56,
   "metadata": {},
   "outputs": [],
   "source": [
    "# Load model\n",
    "model = load_model(model_name)\n"
   ]
  },
  {
   "cell_type": "code",
   "execution_count": 57,
   "metadata": {},
   "outputs": [
    {
     "data": {
      "image/png": "[encoded data removed]",
      "text/plain": [
       "<Figure size 1200x500 with 2 Axes>"
      ]
     },
     "metadata": {},
     "output_type": "display_data"
    }
   ],
   "source": [
    "# Plot loss and roc curve\n",
    "plot_loss_and_roc(train_results, model, X_test, y_test, batch_size=512)"
   ]
  },
  {
   "cell_type": "code",
   "execution_count": 58,
   "metadata": {},
   "outputs": [
    {
     "name": "stdout",
     "output_type": "stream",
     "text": [
      "72/72 [==============================] - 0s 2ms/step - loss: 0.0249 - mse: 0.0060\n",
      "1/1 [==============================] - 0s 19ms/step - loss: 1.8012 - mse: 0.2945\n",
      "\n",
      "Eval - Test loss: 0.02485, Test metric: 0.00598\n",
      "Eval positives only- Test loss: 1.801, Test metric: 0.2945\n"
     ]
    }
   ],
   "source": [
    "# Evaluation\n",
    "# Test (with oversampled data)\n",
    "eval = model.evaluate(X_test, y_test, batch_size=512)\n",
    "\n",
    "# Test (with oversampled data, only positives)\n",
    "eval_positives = model.evaluate(X_test[y_test==1], y_test[y_test==1], batch_size=512)\n",
    "\n",
    "print(f\"\\nEval - Test loss: {eval[0]:.4}, Test metric: {eval[1]:.4}\")\n",
    "print(f\"Eval positives only- Test loss: {eval_positives[0]:.4}, Test metric: {eval_positives[1]:.4}\")"
   ]
  },
  {
   "cell_type": "code",
   "execution_count": 59,
   "metadata": {},
   "outputs": [
    {
     "name": "stdout",
     "output_type": "stream",
     "text": [
      "3535/3535 [==============================] - 7s 2ms/step\n",
      "Loading data...\n",
      "Converting prediction...\n",
      "Creating geodataframe...\n",
      "Exporting raster...\n",
      "\n",
      "Number of threads rasterizing: 48\n"
     ]
    },
    {
     "name": "stderr",
     "output_type": "stream",
     "text": [
      "Rasterizing: 100%|██████████| 1/1 [05:49<00:00, 349.68s/it]\n"
     ]
    }
   ],
   "source": [
    "prediction = predict_values(df_model_copy, model_columns, model, batch_size=1024)\n",
    "export_prediction(data=feather, region_column=region_column, out_name=model_name, prediction=prediction)"
   ]
  },
  {
   "cell_type": "markdown",
   "metadata": {},
   "source": [
    "### **M6**: ANN with ... undersampling"
   ]
  },
  {
   "cell_type": "markdown",
   "metadata": {},
   "source": [
    "**M6D-U-I:** Train/test split first, neg/pos ratio 20:1 and afterwards undersampling with TomekLinks; without Batch Norm. Imputed input data."
   ]
  },
  {
   "cell_type": "code",
   "execution_count": 60,
   "metadata": {},
   "outputs": [
    {
     "name": "stdout",
     "output_type": "stream",
     "text": [
      "Subset dataset shape Counter({0.0: 36179, 1.0: 1854})\n",
      "Training dataset shape Counter({0: 28774, 1: 1471})\n",
      "Test dataset shape Counter({0: 7224, 1: 383})\n"
     ]
    }
   ],
   "source": [
    "from imblearn.under_sampling import TomekLinks\n",
    "\n",
    "multiplier = 20\n",
    "random_num_negatives = len(y_positives) * multiplier\n",
    "num_random_negatives = round(random_num_negatives / len(X_imputed), 3)\n",
    "X_rs, y_rs = select_random_samples(X_imputed, y_imputed, sampling_strategy=num_random_negatives, sampling_class=\"negatives\", seed=seed)\n",
    "\n",
    "X_train, X_test, y_train, y_test = create_train_test_splits(X_rs, y_rs, test_size=0.2)\n",
    "X_rs_tomek, y_rs_tomek = TomekLinks(sampling_strategy=\"majority\").fit_resample(X_train, y_train)\n",
    "\n",
    "print(f\"Training dataset shape {Counter(y_rs_tomek)}\")\n",
    "print(f\"Test dataset shape {Counter(y_test.numpy())}\")\n",
    "\n",
    "X_train = tf.convert_to_tensor(X_rs_tomek, dtype=tf.float32)\n",
    "y_train = tf.convert_to_tensor(y_rs_tomek, dtype=np.int8)\n"
   ]
  },
  {
   "cell_type": "code",
   "execution_count": 61,
   "metadata": {},
   "outputs": [],
   "source": [
    "epochs = 50\n",
    "batch_size = 512\n",
    "\n",
    "# Name\n",
    "model_name = \"PREFERRED_ANN_M6D_UI_\" + str(epochs) + \"_EPOCHS_\" + str(batch_size) + \"_BATCH_SIZE\""
   ]
  },
  {
   "cell_type": "code",
   "execution_count": 62,
   "metadata": {},
   "outputs": [
    {
     "name": "stdout",
     "output_type": "stream",
     "text": [
      "Saving TensorBoard log files to: logs\\PREFERRED_ANN_M6D_UI_50_EPOCHS_512_BATCH_SIZE_20240208-174536\n",
      "Random seed: 42, precision: float32\n",
      "\n",
      "Training on 24196 samples.\n",
      "\n"
     ]
    }
   ],
   "source": [
    "# Model\n",
    "model = create_simple_ann(num_features=X_train.shape[1], model_name=model_name, hidden_units=1, activation=tf.keras.activations.relu, batch_norm=True, seed=seed)\n",
    "\n",
    "# Callbacks\n",
    "callbacks = [tf.keras.callbacks.EarlyStopping(monitor=\"val_loss\", patience=5), tensorboard_callback(model_log_folder, model_name)]\n",
    "\n",
    "# Training\n",
    "train_results = train_ann(X_train, y_train, model, validation_split=0.2, epochs=epochs, batch_size=batch_size, callbacks=callbacks, seed=seed, verbose=0)\n",
    "\n",
    "# Save model\n",
    "save_model(model, model_name)"
   ]
  },
  {
   "cell_type": "code",
   "execution_count": 63,
   "metadata": {},
   "outputs": [
    {
     "data": {
      "image/png": "[encoded data removed]",
      "text/plain": [
       "<Figure size 1200x500 with 2 Axes>"
      ]
     },
     "metadata": {},
     "output_type": "display_data"
    },
    {
     "name": "stdout",
     "output_type": "stream",
     "text": [
      "15/15 [==============================] - 0s 2ms/step - loss: 0.0759 - mse: 0.0197\n",
      "1/1 [==============================] - 0s 19ms/step - loss: 1.0898 - mse: 0.2769\n",
      "\n",
      "Eval - Test loss: 0.0759, Test metric: 0.0197\n",
      "Eval positives only- Test loss: 1.09, Test metric: 0.2769\n"
     ]
    }
   ],
   "source": [
    "# Load model\n",
    "model_ann = load_model(model_name)\n",
    "model = model_ann\n",
    "\n",
    "# Plot loss and roc curve\n",
    "plot_loss_and_roc(train_results, model, X_test, y_test, batch_size=512)\n",
    "\n",
    "# Evaluation\n",
    "# Test (with oversampled data)\n",
    "eval = model.evaluate(X_test, y_test, batch_size=512)\n",
    "\n",
    "# Test (with oversampled data, only positives)\n",
    "eval_positives = model.evaluate(X_test[y_test==1], y_test[y_test==1], batch_size=512)\n",
    "\n",
    "print(f\"\\nEval - Test loss: {eval[0]:.4}, Test metric: {eval[1]:.4}\")\n",
    "print(f\"Eval positives only- Test loss: {eval_positives[0]:.4}, Test metric: {eval_positives[1]:.4}\")\n"
   ]
  },
  {
   "cell_type": "code",
   "execution_count": 64,
   "metadata": {},
   "outputs": [
    {
     "name": "stdout",
     "output_type": "stream",
     "text": [
      "7070/7070 [==============================] - 12s 2ms/step\n",
      "Loading data...\n",
      "Converting prediction...\n",
      "Creating geodataframe...\n",
      "Exporting raster...\n",
      "\n",
      "Number of threads rasterizing: 48\n"
     ]
    },
    {
     "name": "stderr",
     "output_type": "stream",
     "text": [
      "Rasterizing: 100%|██████████| 1/1 [05:50<00:00, 350.45s/it]\n"
     ]
    }
   ],
   "source": [
    "prediction = predict_values(df_model_copy, model_columns, model, batch_size=512)\n",
    "export_prediction(data=feather, region_column=region_column, out_name=model_name, prediction=prediction)"
   ]
  },
  {
   "cell_type": "markdown",
   "metadata": {},
   "source": [
    "**M6F-U-I:** Train/test split first, neg/pos 10:1 and afterwards undersampling with TomekLinks; without Batch Norm. Imputed input data."
   ]
  },
  {
   "cell_type": "code",
   "execution_count": 65,
   "metadata": {},
   "outputs": [
    {
     "name": "stdout",
     "output_type": "stream",
     "text": [
      "Initial ratio negatives to full dataset: 0.0048\n",
      "Subset dataset shape Counter({0.0: 17366, 1.0: 1854})\n",
      "Training dataset shape Counter({0: 13735, 1: 1499})\n",
      "Test dataset shape Counter({0: 3489, 1: 355})\n"
     ]
    }
   ],
   "source": [
    "from imblearn.under_sampling import TomekLinks\n",
    "\n",
    "multiplier = 10\n",
    "random_num_negatives = len(y_positives) * multiplier\n",
    "num_random_negatives = round(random_num_negatives / len(X_imputed), 4)\n",
    "print(f\"Initial ratio negatives to full dataset: {num_random_negatives}\")\n",
    "\n",
    "X_rs, y_rs = select_random_samples(X_imputed, y_imputed, sampling_strategy=num_random_negatives, sampling_class=\"negatives\", seed=seed)\n",
    "X_train, X_test, y_train, y_test = create_train_test_splits(X_rs, y_rs, test_size=0.2)\n",
    "X_rs_tomek, y_rs_tomek = TomekLinks(sampling_strategy=\"majority\").fit_resample(X_train, y_train)\n",
    "\n",
    "print(f\"Training dataset shape {Counter(y_rs_tomek)}\")\n",
    "print(f\"Test dataset shape {Counter(y_test.numpy())}\")\n",
    "\n",
    "X_train = tf.convert_to_tensor(X_rs_tomek, dtype=tf.float32)\n",
    "y_train = tf.convert_to_tensor(y_rs_tomek, dtype=np.int8)\n"
   ]
  },
  {
   "cell_type": "code",
   "execution_count": 66,
   "metadata": {},
   "outputs": [],
   "source": [
    "epochs = 50\n",
    "batch_size = 512\n",
    "\n",
    "# Name\n",
    "model_name = \"PREFERRED_ANN_M6F_UI_\" + str(epochs) + \"_EPOCHS_\" + str(batch_size) + \"_BATCH_SIZE\""
   ]
  },
  {
   "cell_type": "code",
   "execution_count": 67,
   "metadata": {},
   "outputs": [
    {
     "name": "stdout",
     "output_type": "stream",
     "text": [
      "Saving TensorBoard log files to: logs\\PREFERRED_ANN_M6F_UI_50_EPOCHS_512_BATCH_SIZE_20240208-175254\n",
      "Random seed: 42, precision: float32\n",
      "\n",
      "Training on 12187 samples.\n",
      "\n"
     ]
    }
   ],
   "source": [
    "# Model\n",
    "model = create_simple_ann(num_features=X_train.shape[1], model_name=model_name, hidden_units=1, activation=tf.keras.activations.relu, batch_norm=True, seed=seed)\n",
    "\n",
    "# Callbacks\n",
    "callbacks = [tf.keras.callbacks.EarlyStopping(monitor=\"val_loss\", patience=5), tensorboard_callback(model_log_folder, model_name)]\n",
    "\n",
    "# Training\n",
    "train_results = train_ann(X_train, y_train, model, validation_split=0.2, epochs=epochs, batch_size=batch_size, callbacks=callbacks, seed=seed, verbose=0)\n",
    "\n",
    "# Save model\n",
    "save_model(model, model_name)"
   ]
  },
  {
   "cell_type": "code",
   "execution_count": 68,
   "metadata": {},
   "outputs": [
    {
     "data": {
      "image/png": "[encoded data removed]",
      "text/plain": [
       "<Figure size 1200x500 with 2 Axes>"
      ]
     },
     "metadata": {},
     "output_type": "display_data"
    },
    {
     "name": "stdout",
     "output_type": "stream",
     "text": [
      "8/8 [==============================] - 0s 2ms/step - loss: 0.1003 - mse: 0.0261\n",
      "1/1 [==============================] - 0s 19ms/step - loss: 0.5715 - mse: 0.1448\n",
      "\n",
      "Eval - Test loss: 0.1003, Test metric: 0.02614\n",
      "Eval positives only- Test loss: 0.5715, Test metric: 0.1448\n"
     ]
    }
   ],
   "source": [
    "# Load model\n",
    "model_ann = load_model(model_name)\n",
    "model = model_ann\n",
    "\n",
    "# Plot loss and roc curve\n",
    "plot_loss_and_roc(train_results, model, X_test, y_test, batch_size=512)\n",
    "\n",
    "# Evaluation\n",
    "# Test (with oversampled data)\n",
    "eval = model.evaluate(X_test, y_test, batch_size=512)\n",
    "\n",
    "# Test (with oversampled data, only positives)\n",
    "eval_positives = model.evaluate(X_test[y_test==1], y_test[y_test==1], batch_size=512)\n",
    "\n",
    "print(f\"\\nEval - Test loss: {eval[0]:.4}, Test metric: {eval[1]:.4}\")\n",
    "print(f\"Eval positives only- Test loss: {eval_positives[0]:.4}, Test metric: {eval_positives[1]:.4}\")\n"
   ]
  },
  {
   "cell_type": "code",
   "execution_count": 69,
   "metadata": {},
   "outputs": [
    {
     "name": "stdout",
     "output_type": "stream",
     "text": [
      "7070/7070 [==============================] - 13s 2ms/step\n",
      "Loading data...\n",
      "Converting prediction...\n",
      "Creating geodataframe...\n",
      "Exporting raster...\n",
      "\n",
      "Number of threads rasterizing: 48\n"
     ]
    },
    {
     "name": "stderr",
     "output_type": "stream",
     "text": [
      "Rasterizing: 100%|██████████| 1/1 [05:49<00:00, 349.31s/it]\n"
     ]
    }
   ],
   "source": [
    "prediction = predict_values(df_model_copy, model_columns, model, batch_size=512)\n",
    "export_prediction(data=feather, region_column=region_column, out_name=model_name, prediction=prediction)"
   ]
  }
 ],
 "metadata": {
  "kernelspec": {
   "display_name": "Python 3 (ipykernel)",
   "language": "python",
   "name": "python3"
  },
  "language_info": {
   "codemirror_mode": {
    "name": "ipython",
    "version": 3
   },
   "file_extension": ".py",
   "mimetype": "text/x-python",
   "name": "python",
   "nbconvert_exporter": "python",
   "pygments_lexer": "ipython3",
   "version": "3.9.15"
  }
 },
 "nbformat": 4,
 "nbformat_minor": 4
}
