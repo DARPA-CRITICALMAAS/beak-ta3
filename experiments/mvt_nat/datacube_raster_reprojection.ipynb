{
 "cells": [
  {
   "cell_type": "markdown",
   "metadata": {},
   "source": [
    "# Information\n",
    "## Source\n",
    "This notebook reprojects the extracted data from Lawley et al. (2022) using the version from https://drive.google.com/file/d/1jyxbPmwhMEhgezxMTxwmKTuU1PhT9yPe based on the original H3 hexagonal polygon data from EPSG:4326 (geographic CRS) to a projected CRS. The EPSG code can be change as needed.\n",
    "\n",
    "**Citaton**: <p>\n",
    "Christopher J.M. Lawley, Anne E. McCafferty, Garth E. Graham, David L. Huston, Karen D. Kelley, Karol Czarnota, Suzanne Paradis, Jan M. Peter, Nathan Hayward, Mike Barlow, Poul Emsbo, Joshua Coyan, Carma A. San Juan, Michael G. Gadd: <br>\n",
    "Data–driven prospectivity modelling of sediment–hosted Zn–Pb mineral systems and their critical raw materials. <br>\n",
    "Ore Geology Reviews, Volume 141, 2022, 104635, ISSN 0169-1368, https://doi.org/10.1016/j.oregeorev.2021.104635.\n",
    "\n",
    "## How to\n",
    "1. Set the parameters. **UPPERCASE** letters are user input variables\n",
    "2. Run the reprojection cell\n"
   ]
  },
  {
   "cell_type": "markdown",
   "metadata": {},
   "source": [
    "# Requirements"
   ]
  },
  {
   "cell_type": "code",
   "execution_count": 1,
   "metadata": {},
   "outputs": [],
   "source": [
    "# Standard libraries\n",
    "from pathlib import Path\n",
    "\n",
    "# Custom modules\n",
    "import utilities as utils # Custom functions for reprojection\n"
   ]
  },
  {
   "cell_type": "markdown",
   "metadata": {},
   "source": [
    "# Definitions\n",
    "**User inputs**"
   ]
  },
  {
   "cell_type": "code",
   "execution_count": 7,
   "metadata": {},
   "outputs": [],
   "source": [
    "# Input and output paths\n",
    "MODEL = \"MVT_PREFERRED\"\n",
    "INPUT_ROOT_FOLDER = \"data/LAWLEY22-DATACUBE-EXPORT/\" + MODEL + \"/\"\n",
    "OUTPUT_ROOT_FOLDER = \"data/LAWLEY22-DATACUBE-EXPORT/\" + MODEL + \"_REPROJECTED/\"\n",
    "\n",
    "# Target projection and resolution in meters\n",
    "TARGET_EPSG = 3857\n",
    "TARGET_RESOLUTION = 5000\n"
   ]
  },
  {
   "cell_type": "markdown",
   "metadata": {},
   "source": [
    "Definitions"
   ]
  },
  {
   "cell_type": "code",
   "execution_count": 8,
   "metadata": {},
   "outputs": [],
   "source": [
    "# I/O\n",
    "input_folder = Path(INPUT_ROOT_FOLDER)\n",
    "output_folder = Path(OUTPUT_ROOT_FOLDER)\n",
    "\n",
    "# CRS\n",
    "target_epsg = TARGET_EPSG\n",
    "target_resolution = TARGET_RESOLUTION"
   ]
  },
  {
   "cell_type": "markdown",
   "metadata": {},
   "source": [
    "# Reprojecting"
   ]
  },
  {
   "cell_type": "code",
   "execution_count": 9,
   "metadata": {},
   "outputs": [
    {
     "name": "stdout",
     "output_type": "stream",
     "text": [
      "Selected folder: data\\LAWLEY22-DATACUBE-EXPORT\\MVT_PREFERRED\n",
      "Total of folders found: 4\n",
      "Files loaded: 131\n"
     ]
    },
    {
     "name": "stderr",
     "output_type": "stream",
     "text": [
      "Processing files: 100%|██████████| 131/131 [00:23<00:00,  5.54it/s]\n"
     ]
    }
   ],
   "source": [
    "utils.reproject_raster(input_folder, output_folder, target_epsg, target_resolution)"
   ]
  }
 ],
 "metadata": {
  "kernelspec": {
   "display_name": "Python 3 (ipykernel)",
   "language": "python",
   "name": "python3"
  },
  "language_info": {
   "codemirror_mode": {
    "name": "ipython",
    "version": 3
   },
   "file_extension": ".py",
   "mimetype": "text/x-python",
   "name": "python",
   "nbconvert_exporter": "python",
   "pygments_lexer": "ipython3",
   "version": "3.9.15"
  }
 },
 "nbformat": 4,
 "nbformat_minor": 4
}
