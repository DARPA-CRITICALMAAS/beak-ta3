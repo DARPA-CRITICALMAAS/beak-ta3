{
 "cells": [
  {
   "cell_type": "markdown",
   "metadata": {},
   "source": [
    "<p style=\"font-size:35px; text-align:center; font-weight:bold\">CMAAS run SOM clustering method</p>\n",
    "<p style=\"font-size:17px; text-align:left\">Ina Storch 06-11-2023 </p>\n",
    "<p style=\"font-size:17px; text-align:left\">Note: This notebook is designed to run SOM using preprocessed data gained from the datacube from: Lawley et al., 2021. </p>\n",
    "<p style=\"font-size:17px; text-align:left\">Reference: Lawley, C.J.M., McCafferty, A.E., Graham, G.E., Gadd, M.G., Huston, D.L., Kelley, K.D., Paradis, S., Peter, J.M., and Czarnota, K., 2021. Datasets to support prospectivity modelling for sediment-hosted Zn-Pb mineral systems; Geological Survey of Canada, Open File 8836, 1 .zip file. https://doi.org/10.4095/329203</p>"
   ]
  },
  {
   "cell_type": "markdown",
   "metadata": {},
   "source": [
    "<p style=\"font-size:19px; text-align:left; font-weight:bold\">1) Import libraries, define SOM arguments</p>"
   ]
  },
  {
   "cell_type": "code",
   "execution_count": null,
   "metadata": {},
   "outputs": [],
   "source": [
    "from beak.methods.som.nextsomcore.nextsomcore import NxtSomCore\n",
    "import pickle\n",
    "\n",
    "import beak.methods.som.argsSOM as asom\n",
    "\n",
    "args = asom.Args()"
   ]
  },
  {
   "cell_type": "markdown",
   "metadata": {},
   "source": [
    "<p style=\"font-size:19px; text-align:left; font-weight:bold\">2) Provide input file(s). \n",
    "\n",
    "Input data can eighter be in LRN file format (a table with X, Y, Z and one line with the values for each data layer) or geoTIF file format. Choose one.\n",
    "\n",
    "When you run a Docker container, you need to specify which directories or paths from your local machine should be mounted into the container since Docker containers are isolated environments, and by default, they can only access files within their own filesystem or volumes.\n",
    "\n",
    "Alternatively, copy your input data to beak-ta3\\src\\beak\\data. In case of GeoTIF input files, you can create subfolders and collect all TIF files that you want to use for SOM in there. In the following code cell you can provide a file path and a patterns (like \"*.tif\") for files within that specific folder that you want to use for SOM.\n",
    "\n",
    "If input file format is LRN, skip the next code cell and provide the file name (including file path) with args.input_file. LRN files should not contain nan values since so far noData handeling is implemented for GeoTIF input only. "
   ]
  },
  {
   "cell_type": "markdown",
   "metadata": {},
   "source": [
    "<p style=\"font-size:19px; text-align:left; font-weight:bold\">Either: Data input in geoTiff format:\n",
    "\n",
    "List geoTiff files, separated by komma: [\"path/name1.tiff\",\"path/name2.tiff\"] </br>\n",
    "\n",
    "Here an option is provided how to compose such a list: provide a file path and one or more file patterns (or a list of file names) to select all files matching this pattern inside the specified folder. The file patterns can also include subfolder specifications and * to select all files within this subfolder ('subfolder/*.tif') ."
   ]
  },
  {
   "cell_type": "code",
   "execution_count": null,
   "metadata": {},
   "outputs": [],
   "source": [
    "#--------------- Option 1: specify data path and file patterns \n",
    "#from importlib_resources import files\n",
    "\n",
    "#BASE_PATH = (files(\"beak.data\") / \"LAWLEY22-EXPORT\" / \"EPSG_3857_RES_5000\" / \"CLIPPED_USC\")\n",
    "\n",
    "#PATH_NUMERICAL = BASE_PATH / \"NUMERICAL_SCALED_MINMAX\" / \"*.tif\"\n",
    "#PATH_CATEGORICAL = BASE_PATH / \"CATEGORICAL\" / \"*\" /\"*.tif\"\n",
    "\n",
    "#PATH_NUMERICAL = BASE_PATH / \"NUMERICAL_SCALED_MINMAX\" / \"Magnetic_LongWavelength_HGM.tif\"\n",
    "#PATH_CATEGORICAL = BASE_PATH / \"CATEGORICAL\" / \"Geology_Lithology_Majority_Igneous_Intrusive_Felsic.tif\"\n",
    "\n",
    "#file_patterns = [str(PATH_NUMERICAL), str(PATH_CATEGORICAL)]\n",
    "\n",
    "\n",
    "#--------------- Option 2: load a list of GeoTIF files from TXT file \n",
    "# Specify the file path\n",
    "base = \"d:/Programmieren/00_Repositories/CMAAS\"\n",
    "file_path = base + \"/beak-ta3/experiments/mvt_nat/som/results/input_file_list.txt\"\n",
    "\n",
    "# Open the file in read mode\n",
    "with open(file_path, 'r') as file:\n",
    "    # Read all lines from the file into a list\n",
    "    content = file.readlines()\n",
    "\n",
    "# Strip newline characters from each line\n",
    "file_patterns = [line.strip() for line in content]\n",
    "\n",
    "\n",
    "#---------------\n",
    "args.input_file = args.create_list_from_pattern(\"\", file_patterns)\n",
    "args.geotiff_input=args.input_file      # geotiff_input files, separated by komma, to write GeoTIF out (only first line is used to get the geotransform and projection information to set output GeoFIT geotransform and projection)"
   ]
  },
  {
   "cell_type": "markdown",
   "metadata": {},
   "source": [
    "<p style=\"font-size:19px; text-align:left; font-weight:bold\">Or: Data input in LRN format (data table):\n",
    "\n",
    "Specify file path and name!"
   ]
  },
  {
   "cell_type": "code",
   "execution_count": null,
   "metadata": {},
   "outputs": [],
   "source": [
    "#args.input_file=\"/methods/methods/som/data/input/SOM_grav_mag.lrn\""
   ]
  },
  {
   "cell_type": "markdown",
   "metadata": {},
   "source": [
    "<p style=\"font-size:19px; text-align:left; font-weight:bold\">3) Specify parameter for SOM. "
   ]
  },
  {
   "cell_type": "code",
   "execution_count": null,
   "metadata": {},
   "outputs": [],
   "source": [
    "     \n",
    "args.output_folder = base + \"/beak-ta3/experiments/mvt_nat/som/results\" # Folder to save som dictionary and cluster dictionary\n",
    "args.output_file_somspace = args.output_folder+\"/result_som.txt\"   # DO NOT CHANGE! Text file that will contain calculated values: som_x som_y b_data1 b_data2 b_dataN umatrix cluster in geospace.\n",
    "\n",
    "args.som_x = 50                # X dimension of generated SOM\n",
    "args.som_y = 50               # Y dimension of generated SOM\n",
    "args.epochs = 10               # Number of epochs to run\n",
    "\n",
    "# Additional optional parameters:\n",
    "args.outgeofile= args.output_folder+\"/result_geo.txt\"             # DO NOT CHANGE!\n",
    "args.output_file_geospace=args.outgeofile   # Text file that will contain calculated values: {X Y Z} data1 data2 dataN som_x som_y cluster b_data1 b_data2 b_dataN in geospace.\n",
    "\n",
    "args.kmeans=\"true\"          # Run k-means clustering (true, false)\n",
    "args.kmeans_init = 5           # Number of initializations\n",
    "args.kmeans_min = 30            # Minimum number of k-mean clusters\n",
    "args.kmeans_max = 60           # Maximum number of k-mean clusters\n",
    "\n",
    "args.neighborhood = 'gaussian'     # Shape of the neighborhood function. gaussian or bubble\n",
    "args.std_coeff = 0.5               # Coefficient in the Gaussian neighborhood function\n",
    "args.maptype = 'toroid'            # Type of SOM (sheet, toroid)\n",
    "args.initialcodebook = None        # File path of initial codebook, 2D numpy.array of float32.\n",
    "args.radius0 = 0                   # Initial size of the neighborhood\n",
    "args.radiusN = 1                   # Final size of the neighborhood\n",
    "args.radiuscooling = 'linear'      # Function that defines the decrease in the neighborhood size as the training proceeds (linear, exponential)\n",
    "args.scalecooling = 'linear'       # Function that defines the decrease in the learning scale as the training proceeds (linear, exponential)\n",
    "args.scale0 = 0.1                  # Initial learning rate\n",
    "args.scaleN = 0.01                 # Final learning rate\n",
    "args.initialization = 'random'     # Type of SOM initialization (random, pca)\n",
    "args.gridtype = 'rectangular'      # Type of SOM grid (hexagonal, rectangular)\n",
    "\n",
    "args.label = False              # Whether data contains label column, True or False\n",
    "label_geotiff_file = args.output_folder + \"/input_file_list.txt\"      # geotiff_input file (None)\n"
   ]
  },
  {
   "cell_type": "markdown",
   "metadata": {},
   "source": [
    "<p style=\"font-size:19px; text-align:left; font-weight:bold\">4) Run SOM \n",
    "\n",
    "Before running SOM - clean up existing files and move them to a subfolder."
   ]
  },
  {
   "cell_type": "markdown",
   "metadata": {},
   "source": [
    "Run SOM with parameters specified above and save the results. Uses NxtSomCore package to do the actual work. "
   ]
  },
  {
   "cell_type": "code",
   "execution_count": null,
   "metadata": {},
   "outputs": [],
   "source": [
    "import beak.methods.som.do_nextsomcore_save_results as dnsr\n",
    "import beak.methods.som.move_to_subfolder as mts\n",
    "\n",
    "# move existing SOM output files from previous runs into subfolder\n",
    "mts.move_som_results(args.output_folder, \"old_results\")\n",
    "\n",
    "# run SOM\n",
    "dnsr.run_SOM(args)"
   ]
  },
  {
   "cell_type": "code",
   "execution_count": null,
   "metadata": {},
   "outputs": [],
   "source": [
    "import beak.methods.som.plot_som_results as plot\n",
    "from IPython.display import Image, display, clear_output\n",
    "\n",
    "# Load cluster dictionary\n",
    "loaded_cluster_list = plot.load_cluster_dictionary(args.output_folder)\n",
    "# Plot and save the Davies-Bouldin Index vs Number of Clusters\n",
    "plot.plot_davies_bouldin(loaded_cluster_list, args.output_folder)"
   ]
  },
  {
   "cell_type": "markdown",
   "metadata": {},
   "source": [
    "<p style=\"font-size:19px; text-align:left; font-weight:bold\">5) Plot results."
   ]
  },
  {
   "cell_type": "markdown",
   "metadata": {},
   "source": [
    "Specify the parameters to plot the results and create figures. The Python script \"plot_som_results.py\" creates .png files of the results in som space, geospace and also creates boxplots."
   ]
  },
  {
   "cell_type": "markdown",
   "metadata": {},
   "source": [
    "Move figures into a sub folder. If the destination folder does not exist, it is created here. All file names are stored in a list that is used in the next step to show all output figures."
   ]
  },
  {
   "cell_type": "code",
   "execution_count": null,
   "metadata": {},
   "outputs": [],
   "source": [
    "import beak.methods.som.argsPlot\n",
    "import beak.methods.som.plot_som_results as plot\n",
    "import beak.methods.som.move_to_subfolder as mts\n",
    "\n",
    "argsP = beak.methods.som.argsPlot.Args()\n",
    "\n",
    "argsP.outsomfile= args.output_file_somspace   # som calculation somspace output text file\n",
    "argsP.som_x= args.som_x         # som x dimension\n",
    "argsP.som_y= args.som_y         # som y dimension\n",
    "argsP.input_file= args.input_file   # Input file(*.lrn)\n",
    "argsP.dir= args.output_folder            # Input file(*.lrn) or directory where som.dictionary was safet to (/output/som.dictionary)\n",
    "argsP.grid_type= 'rectangular' # grid type (square or hexa), (rectangular or hexagonal)\n",
    "argsP.redraw='true'       # whether to draw all plots, or only those required for clustering (true: draw all. false:draw only for clustering).\n",
    "argsP.outgeofile=args.output_file_geospace     # som geospace results txt file\n",
    "argsP.dataType='grid'       # Data type (scatter or grid)\n",
    "argsP.noDataValue='-9999'    # noData value\n",
    "\n",
    "plot.run_plotting_script(argsP)\n",
    "\n",
    "subfolder_name = \"plots\"\n",
    "images, labels = mts.move_figures(args.output_folder, subfolder_name)"
   ]
  },
  {
   "cell_type": "markdown",
   "metadata": {},
   "source": [
    "Show all figures that were produced by \"plot_som_results.py\" and moved into a subfolder.\n",
    "\n",
    "Boxplot:\n",
    "> x axis is Cluster ID </br>\n",
    "> Z axis is original data value </br>\n",
    "> legend: number of data points in each cluster </br>"
   ]
  },
  {
   "cell_type": "code",
   "execution_count": null,
   "metadata": {},
   "outputs": [],
   "source": [
    "import matplotlib.pyplot as plt\n",
    "from IPython.display import clear_output\n",
    "import ipyplot\n",
    "\n",
    "# Clear Matplotlib cache\n",
    "plt.close('all')\n",
    "\n",
    "# Clear output\n",
    "clear_output(wait=True)\n",
    "\n",
    "tabs = [image.split('_')[-2] for image in labels]\n",
    "\n",
    "print(\"List of figures:\")\n",
    "print(labels)\n",
    "#print(tabs)\n",
    "\n",
    "# Plot the images\n",
    "#ipyplot.plot_images(images, max_images=50, img_width=250)\n",
    "ipyplot.plot_class_tabs(images, tabs, max_imgs_per_tab=50, img_width=400)\n",
    "ipyplot.plot_class_representations(images,  labels, img_width=200, show_url=False)\n"
   ]
  }
 ],
 "metadata": {
  "kernelspec": {
   "display_name": "dev-env",
   "language": "python",
   "name": "python3"
  },
  "language_info": {
   "codemirror_mode": {
    "name": "ipython",
    "version": 3
   },
   "file_extension": ".py",
   "mimetype": "text/x-python",
   "name": "python",
   "nbconvert_exporter": "python",
   "pygments_lexer": "ipython3",
   "version": "3.9.15"
  },
  "orig_nbformat": 4
 },
 "nbformat": 4,
 "nbformat_minor": 2
}
