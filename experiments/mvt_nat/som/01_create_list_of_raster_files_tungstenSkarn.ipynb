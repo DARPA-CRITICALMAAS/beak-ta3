{
 "cells": [
  {
   "cell_type": "markdown",
   "metadata": {},
   "source": [
    "# Information\n",
    "This notebook is about to give you some **examples** about how to use the notebooks and associated functionalities in the **beak** package."
   ]
  },
  {
   "cell_type": "markdown",
   "metadata": {},
   "source": [
    "# Examples"
   ]
  },
  {
   "cell_type": "markdown",
   "metadata": {},
   "source": [
    "## 1. Create a list of raster files based on a pre-defined model definition.\n",
    "Case:\n",
    "- You have a list of raster files in a folder or some subfolders.\n",
    "- You have a model definition for a specific model, stored in the respective model module.\n",
    "- You need a list of files corresponding to the evidence layers defined in the model definition."
   ]
  },
  {
   "cell_type": "markdown",
   "metadata": {},
   "source": [
    "Load file paths: You can use the practical handling from the package, if data are stored in the beak data folder.<br>\n",
    "Also, you can provide multiple folders to load from"
   ]
  },
  {
   "cell_type": "code",
   "execution_count": 1,
   "metadata": {},
   "outputs": [
    {
     "ename": "KeyError",
     "evalue": "'MVT_PREFERRED_GEOPHYSICS_SOM'",
     "output_type": "error",
     "traceback": [
      "\u001b[1;31m---------------------------------------------------------------------------\u001b[0m",
      "\u001b[1;31mKeyError\u001b[0m                                  Traceback (most recent call last)",
      "Cell \u001b[1;32mIn[1], line 7\u001b[0m\n\u001b[0;32m      5\u001b[0m \u001b[38;5;66;03m# Choose model\u001b[39;00m\n\u001b[0;32m      6\u001b[0m MODEL \u001b[38;5;241m=\u001b[39m \u001b[38;5;124m\"\u001b[39m\u001b[38;5;124mMVT_PREFERRED_GEOPHYSICS_SOM\u001b[39m\u001b[38;5;124m\"\u001b[39m\n\u001b[1;32m----> 7\u001b[0m model \u001b[38;5;241m=\u001b[39m \u001b[43mtungstenSkarn\u001b[49m\u001b[38;5;241;43m.\u001b[39;49m\u001b[43mmodels\u001b[49m\u001b[43m[\u001b[49m\u001b[43mMODEL\u001b[49m\u001b[43m]\u001b[49m\n\u001b[0;32m      9\u001b[0m LABELDATA \u001b[38;5;241m=\u001b[39m \u001b[38;5;124m\"\u001b[39m\u001b[38;5;124mMVT_GROUND_TRUTH\u001b[39m\u001b[38;5;124m\"\u001b[39m\n\u001b[0;32m     10\u001b[0m labeldata \u001b[38;5;241m=\u001b[39m tungstenSkarn\u001b[38;5;241m.\u001b[39mmodels[LABELDATA]\n",
      "\u001b[1;31mKeyError\u001b[0m: 'MVT_PREFERRED_GEOPHYSICS_SOM'"
     ]
    }
   ],
   "source": [
    "from beak.models import tungstenSkarn\n",
    "from beak.utilities.io import load_model\n",
    "from importlib_resources import files\n",
    "\n",
    "# Choose model\n",
    "MODEL = \"TS_GEOPHYSICS\"\n",
    "model = tungstenSkarn.models[MODEL]\n",
    "\n",
    "LABELDATA = \"TS_GROUND_TRUTH\"\n",
    "labeldata = tungstenSkarn.models[LABELDATA]\n",
    "\n",
    "# Choose data path\n",
    "BASE_PATH_LAWLEY = (\n",
    "    files(\"beak.data\")\n",
    "    / \"LAWLEY22-EXPORT\"\n",
    "    / \"EPSG_4326_RES_0_025\"\n",
    "    / \"CLIPPED_USC\"\n",
    ")\n",
    "\n",
    "PATH_NUMERICAL = BASE_PATH_LAWLEY / \"NUMERICAL_IMPUTED_SCALED_STANDARD\"\n",
    "PATH_CATEGORICAL = BASE_PATH_LAWLEY / \"CATEGORICAL\"\n",
    "\n",
    "PATH_ISORAD = (\n",
    "    files(\"beak.data\") \n",
    "    / \"AERORADIOMETRICS-PROCESSED\" \n",
    "    / \"EPSG_4326_RES_0_025\" \n",
    "    / \"CLIPPED_USC\" \n",
    "    / \"USGS\"\n",
    "    / \"UNIFIED_IMPUTED_SCALED_STD\"\n",
    ")\n",
    "\n",
    "PATH_GROUND_TRUTH = BASE_PATH_LAWLEY / \"GROUND_TRUTH\"\n",
    "\n",
    "print(\"-----------------\")\n",
    "print(\"--Load model data\")\n",
    "model_dict, file_list, counts = load_model(\n",
    "    model=model,\n",
    "    folders=[PATH_NUMERICAL, PATH_CATEGORICAL, PATH_ISORAD],\n",
    "    file_extensions=[\".tif\", \".tiff\"],\n",
    "    verbose=0,\n",
    ")    \n",
    "\n",
    "print(\"\")\n",
    "print(\"-----------------\")\n",
    "print(\"--Load label data\")\n",
    "label_data_dict, label_data_file_list, label_data_counts = load_model(\n",
    "    model=labeldata,\n",
    "    folders=[PATH_GROUND_TRUTH],\n",
    "    file_extensions=[\".tif\", \".tiff\"],\n",
    "    verbose=0,\n",
    ")    "
   ]
  },
  {
   "cell_type": "code",
   "execution_count": null,
   "metadata": {},
   "outputs": [],
   "source": [
    "#base = \"d:/Programmieren/00_Repositories/CMAAS\"\n",
    "base = \"d:/projekte/cmaas/repository\"\n",
    "file_path = base + \"/beak-ta3/experiments/mvt_nat/som/results/input_file_list.txt\"\n",
    "label_data_file_path = base + \"/beak-ta3/experiments/mvt_nat/som/results/label_file_list.txt\"\n",
    "\n",
    "# Open the file in write mode\n",
    "with open(file_path, 'w') as file:\n",
    "    # Write each string followed by a newline character\n",
    "    for string in file_list:\n",
    "        file.write(f\"{string}\\n\")\n",
    "\n",
    "# Open the file in write mode\n",
    "with open(label_data_file_path, 'w') as file:\n",
    "    # Write each string followed by a newline character\n",
    "    for string in label_data_file_list:\n",
    "        file.write(f\"{string}\\n\")\n"
   ]
  }
 ],
 "metadata": {
  "kernelspec": {
   "display_name": "beak-ta3",
   "language": "python",
   "name": "python3"
  },
  "language_info": {
   "codemirror_mode": {
    "name": "ipython",
    "version": 3
   },
   "file_extension": ".py",
   "mimetype": "text/x-python",
   "name": "python",
   "nbconvert_exporter": "python",
   "pygments_lexer": "ipython3",
   "version": "3.9.15"
  }
 },
 "nbformat": 4,
 "nbformat_minor": 2
}
