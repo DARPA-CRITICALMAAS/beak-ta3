{
 "cells": [
  {
   "cell_type": "markdown",
   "metadata": {},
   "source": [
    "# Information\n",
    "This notebook is about to give you some **examples** about how to use the notebooks and associated functionalities in the **beak** package."
   ]
  },
  {
   "cell_type": "markdown",
   "metadata": {},
   "source": [
    "# Examples"
   ]
  },
  {
   "cell_type": "markdown",
   "metadata": {},
   "source": [
    "## 1. Create a list of raster files based on a pre-defined model definition.\n",
    "Case:\n",
    "- You have a list of raster files in a folder or some subfolders.\n",
    "- You have a model definition for a specific model, stored in the respective model module.\n",
    "- You need a list of files corresponding to the evidence layers defined in the model definition."
   ]
  },
  {
   "cell_type": "markdown",
   "metadata": {},
   "source": [
    "Load file paths: You can use the practical handling from the package, if data are stored in the beak data folder.<br>\n",
    "Also, you can provide multiple folders to load from"
   ]
  },
  {
   "cell_type": "code",
   "execution_count": 1,
   "metadata": {},
   "outputs": [
    {
     "name": "stdout",
     "output_type": "stream",
     "text": [
      "-----------------\n",
      "--Load model data\n",
      "Loading model definition...\n",
      "Selected 2 evidence layers.\n",
      "\n",
      "Searching for files and folders in provided paths...\n",
      "Found 3 folders, 43 subfolders and 816 files.\n",
      "\n",
      "Searching for corresponding files...\n",
      "Found 'Geology_Dictionary_Felsic' in 1 file(s).\n",
      "Found 'Magnetic_HGM' in 1 file(s).\n",
      "\n",
      "Ensuring that all layers have matching files...\n",
      "All layers have matching files.\n",
      "\n",
      "Checking files for multiple occurences...\n",
      "No duplicates found. All filenames occur only once.\n",
      "Number of files in file list: 2\n",
      "\n",
      "-----------------\n",
      "--Load label data\n",
      "Loading model definition...\n",
      "Selected 1 evidence layers.\n",
      "\n",
      "Searching for files and folders in provided paths...\n",
      "Found 1 folders, 0 subfolders and 3 files.\n",
      "\n",
      "Searching for corresponding files...\n",
      "Found 'Training_MVT_Present' in 1 file(s).\n",
      "\n",
      "Ensuring that all layers have matching files...\n",
      "All layers have matching files.\n",
      "\n",
      "Checking files for multiple occurences...\n",
      "No duplicates found. All filenames occur only once.\n",
      "Number of files in file list: 1\n"
     ]
    }
   ],
   "source": [
    "from beak.models import mvt_nat\n",
    "from beak.utilities.io import load_model\n",
    "import sys\n",
    "if sys.version_info < (3, 9):\n",
    "    from importlib_resources import files\n",
    "else:\n",
    "    from importlib.resources import files\n",
    "\n",
    "# Choose model\n",
    "MODEL = \"TEST_RUN_SOM\"\n",
    "model = mvt_nat.models[MODEL]\n",
    "\n",
    "LABELDATA = \"MVT_GROUND_TRUTH\"\n",
    "labeldata = mvt_nat.models[LABELDATA]\n",
    "\n",
    "# Choose data path\n",
    "BASE_PATH_LAWLEY = (\n",
    "    files(\"beak.data\")\n",
    "    / \"LAWLEY22\"\n",
    "    / \"EXPORT\"\n",
    "    / \"EPSG_4326_RES_0_025\"\n",
    "    / \"CLIPPED_USC\"\n",
    ")\n",
    "PATH_ISOGRAVITY = (\n",
    "    files(\"beak.data\") \n",
    "    / \"GEOPHYSICS_ISOGRAVITY\" \n",
    "    / \"PROCESSED\"\n",
    "    / \"EPSG_4326_RES_0_025\" \n",
    "    / \"CLIPPED_USC\" \n",
    "    / \"UNIFIED_IMPUTED_SCALED_STD\"\n",
    ")\n",
    "\n",
    "PATH_NUMERICAL = BASE_PATH_LAWLEY / \"NUMERICAL_IMPUTED_SCALED_STANDARD\"\n",
    "PATH_CATEGORICAL = BASE_PATH_LAWLEY / \"CATEGORICAL\"\n",
    "PATH_GROUND_TRUTH = BASE_PATH_LAWLEY / \"GROUND_TRUTH\" / \"POLYGONS\"\n",
    "\n",
    "print(\"-----------------\")\n",
    "print(\"--Load model data\")\n",
    "model_dict, file_list, counts = load_model(\n",
    "    model=model,\n",
    "    folders=[PATH_NUMERICAL, PATH_CATEGORICAL, PATH_ISOGRAVITY],\n",
    "    file_extensions=[\".tif\", \".tiff\"],\n",
    "    verbose=0,\n",
    ")    \n",
    "\n",
    "print(\"\")\n",
    "print(\"-----------------\")\n",
    "print(\"--Load label data\")\n",
    "label_data_dict, label_data_file_list, label_data_counts = load_model(\n",
    "    model=labeldata,\n",
    "    folders=[PATH_GROUND_TRUTH],\n",
    "    file_extensions=[\".tif\", \".tiff\"],\n",
    "    verbose=0,\n",
    ")    "
   ]
  },
  {
   "cell_type": "code",
   "execution_count": 2,
   "metadata": {},
   "outputs": [],
   "source": [
    "base = \"d:/Programmieren/00_Repositories/CMAAS\"\n",
    "#base = \"d:/projekte/cmaas/repository\"\n",
    "file_path = base + \"/beak-ta3/experiments/mvt_nat/som/results/input_file_list.txt\"\n",
    "label_data_file_path = base + \"/beak-ta3/experiments/mvt_nat/som/results/label_file_list.txt\"\n",
    "\n",
    "# Open the file in write mode\n",
    "with open(file_path, 'w') as file:\n",
    "    # Write each string followed by a newline character\n",
    "    for string in file_list:\n",
    "        file.write(f\"{string}\\n\")\n",
    "\n",
    "# Open the file in write mode\n",
    "with open(label_data_file_path, 'w') as file:\n",
    "    # Write each string followed by a newline character\n",
    "    for string in label_data_file_list:\n",
    "        file.write(f\"{string}\\n\")\n"
   ]
  }
 ],
 "metadata": {
  "kernelspec": {
   "display_name": "beak-ta3",
   "language": "python",
   "name": "python3"
  },
  "language_info": {
   "codemirror_mode": {
    "name": "ipython",
    "version": 3
   },
   "file_extension": ".py",
   "mimetype": "text/x-python",
   "name": "python",
   "nbconvert_exporter": "python",
   "pygments_lexer": "ipython3",
   "version": "3.9.15"
  }
 },
 "nbformat": 4,
 "nbformat_minor": 2
}
