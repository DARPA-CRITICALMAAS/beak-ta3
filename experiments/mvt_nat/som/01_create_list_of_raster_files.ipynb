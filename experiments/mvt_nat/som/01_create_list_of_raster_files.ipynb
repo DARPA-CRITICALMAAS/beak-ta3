{
 "cells": [
  {
   "cell_type": "markdown",
   "metadata": {},
   "source": [
    "# Information\n",
    "This notebook is about to give you some **examples** about how to use the notebooks and associated functionalities in the **beak** package."
   ]
  },
  {
   "cell_type": "markdown",
   "metadata": {},
   "source": [
    "# Examples"
   ]
  },
  {
   "cell_type": "markdown",
   "metadata": {},
   "source": [
    "## 1. Create a list of raster files based on a pre-defined model definition.\n",
    "Case:\n",
    "- You have a list of raster files in a folder or some subfolders.\n",
    "- You have a model definition for a specific model, stored in the respective model module.\n",
    "- You need a list of files corresponding to the evidence layers defined in the model definition."
   ]
  },
  {
   "cell_type": "markdown",
   "metadata": {},
   "source": [
    "Load file paths: You can use the practical handling from the package, if data are stored in the beak data folder.<br>\n",
    "Also, you can provide multiple folders to load from"
   ]
  },
  {
   "cell_type": "code",
   "execution_count": 1,
   "metadata": {},
   "outputs": [
    {
     "name": "stdout",
     "output_type": "stream",
     "text": [
      "-----------------\n",
      "--Load model data\n",
      "Loading model definition...\n",
      "Selected 18 evidence layers.\n",
      "\n",
      "Searching for files and folders in provided paths...\n",
      "Found 2 folders, 43 subfolders and 813 files.\n",
      "\n",
      "Searching for corresponding files...\n",
      "Found 'Terrane_Proximity' in 1 file(s).\n",
      "Found 'Geology_PassiveMargin_Proximity' in 1 file(s).\n",
      "Found 'Geology_BlackShale_Proximity' in 1 file(s).\n",
      "Found 'Geology_Fault_Proximity' in 1 file(s).\n",
      "Found 'Geology_Paleolatitude_Period_Maximum' in 1 file(s).\n",
      "Found 'Geology_Paleolatitude_Period_Minimum' in 1 file(s).\n",
      "Found 'Gravity_GOCE_ShapeIndex' in 1 file(s).\n",
      "Found 'Gravity_Bouguer' in 1 file(s).\n",
      "Found 'Gravity_Bouguer_HGM' in 1 file(s).\n",
      "Found 'Gravity_Bouguer_UpCont30km_HGM' in 1 file(s).\n",
      "Found 'Gravity_Bouguer_HGM_Worms_Proximity' in 1 file(s).\n",
      "Found 'Gravity_Bouguer_UpCont30km_HGM_Worms_Proximity' in 1 file(s).\n",
      "Found 'Magnetic_HGM' in 1 file(s).\n",
      "Found 'Magnetic_LongWavelength_HGM' in 1 file(s).\n",
      "Found 'Magnetic_HGM_Worms_Proximity' in 1 file(s).\n",
      "Found 'Magnetic_LongWavelength_HGM_Worms_Proximity' in 1 file(s).\n",
      "Found 'Seismic_LAB_Hoggard' in 1 file(s).\n",
      "Found 'Seismic_Moho' in 1 file(s).\n",
      "\n",
      "Ensuring that all layers have matching files...\n",
      "All layers have matching files.\n",
      "\n",
      "Checking files for multiple occurences...\n",
      "No duplicates found. All filenames occur only once.\n",
      "\n",
      "-----------------\n",
      "--Load label data\n",
      "Loading model definition...\n",
      "Selected 1 evidence layers.\n",
      "\n",
      "Searching for files and folders in provided paths...\n",
      "Found 1 folders, 2 subfolders and 6 files.\n",
      "\n",
      "Searching for corresponding files...\n",
      "Found 'Training_MVT_Present' in 2 file(s).\n",
      "\n",
      "Ensuring that all layers have matching files...\n",
      "All layers have matching files.\n",
      "\n",
      "Checking files for multiple occurences...\n",
      "Some filenames occur multiple times. Please check with option verbose=1 to see which files are affected.\n"
     ]
    }
   ],
   "source": [
    "from beak.models import mvt_nat\n",
    "from beak.utilities.io import load_model\n",
    "from importlib_resources import files\n",
    "\n",
    "# Choose model\n",
    "MODEL = \"MVT_PREFERRED_NUMERICAL\"\n",
    "model = mvt_nat.models[MODEL]\n",
    "\n",
    "LABELDATA = \"MVT_GROUND_TRUTH\"\n",
    "labeldata = mvt_nat.models[LABELDATA]\n",
    "\n",
    "# Choose data path\n",
    "BASE_PATH = (\n",
    "    files(\"beak.data\")\n",
    "    / \"LAWLEY22-EXPORT\"\n",
    "    / \"EPSG_3857_RES_5000\"\n",
    "    / \"CLIPPED_USC\"\n",
    ")\n",
    "\n",
    "PATH_NUMERICAL = BASE_PATH / \"NUMERICAL_SCALED_STANDARD\"\n",
    "PATH_CATEGORICAL = BASE_PATH / \"CATEGORICAL\"\n",
    "PATH_GROUND_TRUTH = BASE_PATH / \"GROUND_TRUTH\"\n",
    "\n",
    "print(\"-----------------\")\n",
    "print(\"--Load model data\")\n",
    "model_dict, file_list, counts = load_model(\n",
    "    model=model,\n",
    "    folders=[PATH_NUMERICAL, PATH_CATEGORICAL],\n",
    "    file_extensions=[\".tif\", \".tiff\"],\n",
    "    verbose=0,\n",
    ")    \n",
    "\n",
    "print(\"\")\n",
    "print(\"-----------------\")\n",
    "print(\"--Load label data\")\n",
    "label_data_dict, label_data_file_list, label_data_counts = load_model(\n",
    "    model=labeldata,\n",
    "    folders=[PATH_GROUND_TRUTH],\n",
    "    file_extensions=[\".tif\", \".tiff\"],\n",
    "    verbose=0,\n",
    ")    "
   ]
  },
  {
   "cell_type": "code",
   "execution_count": 4,
   "metadata": {},
   "outputs": [
    {
     "ename": "FileNotFoundError",
     "evalue": "[Errno 2] No such file or directory: 'D:/Programmieren/00_Repositories/beak-ta3/experiments/mvt_nat/som/results/input_file_list.txt'",
     "output_type": "error",
     "traceback": [
      "\u001b[1;31m---------------------------------------------------------------------------\u001b[0m",
      "\u001b[1;31mFileNotFoundError\u001b[0m                         Traceback (most recent call last)",
      "Cell \u001b[1;32mIn[4], line 6\u001b[0m\n\u001b[0;32m      3\u001b[0m label_data_file_path \u001b[38;5;241m=\u001b[39m base \u001b[38;5;241m+\u001b[39m \u001b[38;5;124m\"\u001b[39m\u001b[38;5;124m/beak-ta3/experiments/mvt_nat/som/results/label_file_list.txt\u001b[39m\u001b[38;5;124m\"\u001b[39m\n\u001b[0;32m      5\u001b[0m \u001b[38;5;66;03m# Open the file in write mode\u001b[39;00m\n\u001b[1;32m----> 6\u001b[0m \u001b[38;5;28;01mwith\u001b[39;00m \u001b[38;5;28;43mopen\u001b[39;49m\u001b[43m(\u001b[49m\u001b[43mfile_path\u001b[49m\u001b[43m,\u001b[49m\u001b[43m \u001b[49m\u001b[38;5;124;43m'\u001b[39;49m\u001b[38;5;124;43mw\u001b[39;49m\u001b[38;5;124;43m'\u001b[39;49m\u001b[43m)\u001b[49m \u001b[38;5;28;01mas\u001b[39;00m file:\n\u001b[0;32m      7\u001b[0m     \u001b[38;5;66;03m# Write each string followed by a newline character\u001b[39;00m\n\u001b[0;32m      8\u001b[0m     \u001b[38;5;28;01mfor\u001b[39;00m string \u001b[38;5;129;01min\u001b[39;00m file_list:\n\u001b[0;32m      9\u001b[0m         file\u001b[38;5;241m.\u001b[39mwrite(\u001b[38;5;124mf\u001b[39m\u001b[38;5;124m\"\u001b[39m\u001b[38;5;132;01m{\u001b[39;00mstring\u001b[38;5;132;01m}\u001b[39;00m\u001b[38;5;130;01m\\n\u001b[39;00m\u001b[38;5;124m\"\u001b[39m)\n",
      "File \u001b[1;32mc:\\Users\\storch\\AppData\\Local\\miniconda3\\envs\\beak-ta3\\lib\\site-packages\\IPython\\core\\interactiveshell.py:310\u001b[0m, in \u001b[0;36m_modified_open\u001b[1;34m(file, *args, **kwargs)\u001b[0m\n\u001b[0;32m    303\u001b[0m \u001b[38;5;28;01mif\u001b[39;00m file \u001b[38;5;129;01min\u001b[39;00m {\u001b[38;5;241m0\u001b[39m, \u001b[38;5;241m1\u001b[39m, \u001b[38;5;241m2\u001b[39m}:\n\u001b[0;32m    304\u001b[0m     \u001b[38;5;28;01mraise\u001b[39;00m \u001b[38;5;167;01mValueError\u001b[39;00m(\n\u001b[0;32m    305\u001b[0m         \u001b[38;5;124mf\u001b[39m\u001b[38;5;124m\"\u001b[39m\u001b[38;5;124mIPython won\u001b[39m\u001b[38;5;124m'\u001b[39m\u001b[38;5;124mt let you open fd=\u001b[39m\u001b[38;5;132;01m{\u001b[39;00mfile\u001b[38;5;132;01m}\u001b[39;00m\u001b[38;5;124m by default \u001b[39m\u001b[38;5;124m\"\u001b[39m\n\u001b[0;32m    306\u001b[0m         \u001b[38;5;124m\"\u001b[39m\u001b[38;5;124mas it is likely to crash IPython. If you know what you are doing, \u001b[39m\u001b[38;5;124m\"\u001b[39m\n\u001b[0;32m    307\u001b[0m         \u001b[38;5;124m\"\u001b[39m\u001b[38;5;124myou can use builtins\u001b[39m\u001b[38;5;124m'\u001b[39m\u001b[38;5;124m open.\u001b[39m\u001b[38;5;124m\"\u001b[39m\n\u001b[0;32m    308\u001b[0m     )\n\u001b[1;32m--> 310\u001b[0m \u001b[38;5;28;01mreturn\u001b[39;00m io_open(file, \u001b[38;5;241m*\u001b[39margs, \u001b[38;5;241m*\u001b[39m\u001b[38;5;241m*\u001b[39mkwargs)\n",
      "\u001b[1;31mFileNotFoundError\u001b[0m: [Errno 2] No such file or directory: 'D:/Programmieren/00_Repositories/beak-ta3/experiments/mvt_nat/som/results/input_file_list.txt'"
     ]
    }
   ],
   "source": [
    "base = \"d:/Programmieren/00_Repositories\"\n",
    "file_path = base + \"/beak-ta3/experiments/mvt_nat/som/results/input_file_list.txt\"\n",
    "label_data_file_path = base + \"/beak-ta3/experiments/mvt_nat/som/results/label_file_list.txt\"\n",
    "\n",
    "# Open the file in write mode\n",
    "with open(file_path, 'w') as file:\n",
    "    # Write each string followed by a newline character\n",
    "    for string in file_list:\n",
    "        file.write(f\"{string}\\n\")\n",
    "\n",
    "# Open the file in write mode\n",
    "with open(label_data_file_path, 'w') as file:\n",
    "    # Write each string followed by a newline character\n",
    "    for string in label_data_file_list:\n",
    "        file.write(f\"{string}\\n\")\n"
   ]
  }
 ],
 "metadata": {
  "kernelspec": {
   "display_name": "beak-ta3",
   "language": "python",
   "name": "python3"
  },
  "language_info": {
   "codemirror_mode": {
    "name": "ipython",
    "version": 3
   },
   "file_extension": ".py",
   "mimetype": "text/x-python",
   "name": "python",
   "nbconvert_exporter": "python",
   "pygments_lexer": "ipython3",
   "version": "3.9.15"
  }
 },
 "nbformat": 4,
 "nbformat_minor": 2
}
