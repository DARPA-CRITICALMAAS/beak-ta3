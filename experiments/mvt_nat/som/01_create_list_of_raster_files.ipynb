{
 "cells": [
  {
   "cell_type": "markdown",
   "metadata": {},
   "source": [
    "# Information\n",
    "This notebook is about to give you some **examples** about how to use the notebooks and associated functionalities in the **beak** package."
   ]
  },
  {
   "cell_type": "markdown",
   "metadata": {},
   "source": [
    "# Examples"
   ]
  },
  {
   "cell_type": "markdown",
   "metadata": {},
   "source": [
    "## 1. Create a list of raster files based on a pre-defined model definition.\n",
    "Case:\n",
    "- You have a list of raster files in a folder or some subfolders.\n",
    "- You have a model definition for a specific model, stored in the respective model module.\n",
    "- You need a list of files corresponding to the evidence layers defined in the model definition."
   ]
  },
  {
   "cell_type": "markdown",
   "metadata": {},
   "source": [
    "Load file paths: You can use the practical handling from the package, if data are stored in the beak data folder.<br>\n",
    "Also, you can provide multiple folders to load from"
   ]
  },
  {
   "cell_type": "code",
   "execution_count": 1,
   "metadata": {},
   "outputs": [
    {
     "name": "stdout",
     "output_type": "stream",
     "text": [
      "-----------------\n",
      "--Load model data\n",
      "Loading model definition...\n",
      "Selected 12 evidence layers.\n",
      "\n",
      "Searching for files and folders in provided paths...\n",
      "Found 3 folders, 43 subfolders and 813 files.\n",
      "\n",
      "Searching for corresponding files...\n",
      "Found 'Gravity_GOCE_ShapeIndex' in 1 file(s).\n",
      "Found 'Gravity_Bouguer_UpCont30km_HGM' in 1 file(s).\n",
      "Found 'Gravity_Bouguer_HGM_Worms_Proximity' in 1 file(s).\n",
      "Found 'Gravity_Bouguer_UpCont30km_HGM_Worms_Proximity' in 1 file(s).\n",
      "Searched for 'US_IsostaticGravity_HGM_WGS84' but no matching file was found.\n",
      "Searched for 'US_IsostaticGravity_WGS84' but no matching file was found.\n",
      "Found 'Magnetic_HGM' in 1 file(s).\n",
      "Found 'Magnetic_LongWavelength_HGM' in 1 file(s).\n",
      "Found 'Magnetic_HGM_Worms_Proximity' in 1 file(s).\n",
      "Found 'Magnetic_LongWavelength_HGM_Worms_Proximity' in 1 file(s).\n",
      "Found 'Seismic_LAB_Hoggard' in 1 file(s).\n",
      "Found 'Seismic_Moho' in 1 file(s).\n",
      "\n",
      "Ensuring that all layers have matching files...\n",
      "WARNING: No file found for evidence layer 'US_IsostaticGravity_HGM_WGS84'.\n",
      "WARNING: No file found for evidence layer 'US_IsostaticGravity_WGS84'.\n",
      "WARNING: 2 layers have no matching files.\n",
      "\n",
      "Checking files for multiple occurences...\n"
     ]
    },
    {
     "ename": "TypeError",
     "evalue": "'NoneType' object is not iterable",
     "output_type": "error",
     "traceback": [
      "\u001b[1;31m---------------------------------------------------------------------------\u001b[0m",
      "\u001b[1;31mTypeError\u001b[0m                                 Traceback (most recent call last)",
      "Cell \u001b[1;32mIn[1], line 27\u001b[0m\n\u001b[0;32m     25\u001b[0m \u001b[38;5;28mprint\u001b[39m(\u001b[38;5;124m\"\u001b[39m\u001b[38;5;124m-----------------\u001b[39m\u001b[38;5;124m\"\u001b[39m)\n\u001b[0;32m     26\u001b[0m \u001b[38;5;28mprint\u001b[39m(\u001b[38;5;124m\"\u001b[39m\u001b[38;5;124m--Load model data\u001b[39m\u001b[38;5;124m\"\u001b[39m)\n\u001b[1;32m---> 27\u001b[0m model_dict, file_list, counts \u001b[38;5;241m=\u001b[39m \u001b[43mload_model\u001b[49m\u001b[43m(\u001b[49m\n\u001b[0;32m     28\u001b[0m \u001b[43m    \u001b[49m\u001b[43mmodel\u001b[49m\u001b[38;5;241;43m=\u001b[39;49m\u001b[43mmodel\u001b[49m\u001b[43m,\u001b[49m\n\u001b[0;32m     29\u001b[0m \u001b[43m    \u001b[49m\u001b[43mfolders\u001b[49m\u001b[38;5;241;43m=\u001b[39;49m\u001b[43m[\u001b[49m\u001b[43mPATH_NUMERICAL\u001b[49m\u001b[43m,\u001b[49m\u001b[43m \u001b[49m\u001b[43mPATH_CATEGORICAL\u001b[49m\u001b[43m,\u001b[49m\u001b[43m \u001b[49m\u001b[43mPATH_ISOGRAVITY\u001b[49m\u001b[43m]\u001b[49m\u001b[43m,\u001b[49m\n\u001b[0;32m     30\u001b[0m \u001b[43m    \u001b[49m\u001b[43mfile_extensions\u001b[49m\u001b[38;5;241;43m=\u001b[39;49m\u001b[43m[\u001b[49m\u001b[38;5;124;43m\"\u001b[39;49m\u001b[38;5;124;43m.tif\u001b[39;49m\u001b[38;5;124;43m\"\u001b[39;49m\u001b[43m,\u001b[49m\u001b[43m \u001b[49m\u001b[38;5;124;43m\"\u001b[39;49m\u001b[38;5;124;43m.tiff\u001b[39;49m\u001b[38;5;124;43m\"\u001b[39;49m\u001b[43m]\u001b[49m\u001b[43m,\u001b[49m\n\u001b[0;32m     31\u001b[0m \u001b[43m    \u001b[49m\u001b[43mverbose\u001b[49m\u001b[38;5;241;43m=\u001b[39;49m\u001b[38;5;241;43m0\u001b[39;49m\u001b[43m,\u001b[49m\n\u001b[0;32m     32\u001b[0m \u001b[43m)\u001b[49m    \n\u001b[0;32m     34\u001b[0m \u001b[38;5;28mprint\u001b[39m(\u001b[38;5;124m\"\u001b[39m\u001b[38;5;124m\"\u001b[39m)\n\u001b[0;32m     35\u001b[0m \u001b[38;5;28mprint\u001b[39m(\u001b[38;5;124m\"\u001b[39m\u001b[38;5;124m-----------------\u001b[39m\u001b[38;5;124m\"\u001b[39m)\n",
      "File \u001b[1;32md:\\programmieren\\00_repositories\\cmaas\\beak-ta3\\src\\beak\\utilities\\io.py:446\u001b[0m, in \u001b[0;36mload_model\u001b[1;34m(model, folders, file_extensions, verbose)\u001b[0m\n\u001b[0;32m    444\u001b[0m \u001b[38;5;66;03m# Count the occurrences of each filename\u001b[39;00m\n\u001b[0;32m    445\u001b[0m \u001b[38;5;28mprint\u001b[39m(\u001b[38;5;124m\"\u001b[39m\u001b[38;5;130;01m\\n\u001b[39;00m\u001b[38;5;124mChecking files for multiple occurences...\u001b[39m\u001b[38;5;124m\"\u001b[39m)\n\u001b[1;32m--> 446\u001b[0m file_list \u001b[38;5;241m=\u001b[39m [file \u001b[38;5;28;01mfor\u001b[39;00m values \u001b[38;5;129;01min\u001b[39;00m model_dict\u001b[38;5;241m.\u001b[39mvalues() \u001b[38;5;28;01mfor\u001b[39;00m file \u001b[38;5;129;01min\u001b[39;00m values]\n\u001b[0;32m    447\u001b[0m filename_counts \u001b[38;5;241m=\u001b[39m Counter([file\u001b[38;5;241m.\u001b[39mname \u001b[38;5;28;01mfor\u001b[39;00m file \u001b[38;5;129;01min\u001b[39;00m file_list])\n\u001b[0;32m    449\u001b[0m \u001b[38;5;66;03m# Print the filenames that occur multiple times and their counts\u001b[39;00m\n",
      "File \u001b[1;32md:\\programmieren\\00_repositories\\cmaas\\beak-ta3\\src\\beak\\utilities\\io.py:446\u001b[0m, in \u001b[0;36m<listcomp>\u001b[1;34m(.0)\u001b[0m\n\u001b[0;32m    444\u001b[0m \u001b[38;5;66;03m# Count the occurrences of each filename\u001b[39;00m\n\u001b[0;32m    445\u001b[0m \u001b[38;5;28mprint\u001b[39m(\u001b[38;5;124m\"\u001b[39m\u001b[38;5;130;01m\\n\u001b[39;00m\u001b[38;5;124mChecking files for multiple occurences...\u001b[39m\u001b[38;5;124m\"\u001b[39m)\n\u001b[1;32m--> 446\u001b[0m file_list \u001b[38;5;241m=\u001b[39m [file \u001b[38;5;28;01mfor\u001b[39;00m values \u001b[38;5;129;01min\u001b[39;00m model_dict\u001b[38;5;241m.\u001b[39mvalues() \u001b[38;5;28;01mfor\u001b[39;00m file \u001b[38;5;129;01min\u001b[39;00m values]\n\u001b[0;32m    447\u001b[0m filename_counts \u001b[38;5;241m=\u001b[39m Counter([file\u001b[38;5;241m.\u001b[39mname \u001b[38;5;28;01mfor\u001b[39;00m file \u001b[38;5;129;01min\u001b[39;00m file_list])\n\u001b[0;32m    449\u001b[0m \u001b[38;5;66;03m# Print the filenames that occur multiple times and their counts\u001b[39;00m\n",
      "\u001b[1;31mTypeError\u001b[0m: 'NoneType' object is not iterable"
     ]
    }
   ],
   "source": [
    "from beak.models import mvt_nat\n",
    "from beak.utilities.io import load_model\n",
    "from importlib_resources import files\n",
    "\n",
    "# Choose model\n",
    "MODEL = \"MVT_PREFERRED_GEOPHYSICS_SOM\"\n",
    "model = mvt_nat.models[MODEL]\n",
    "\n",
    "LABELDATA = \"MVT_GROUND_TRUTH\"\n",
    "labeldata = mvt_nat.models[LABELDATA]\n",
    "\n",
    "# Choose data path\n",
    "BASE_PATH = (\n",
    "    files(\"beak.data\")\n",
    "    / \"LAWLEY22-EXPORT\"\n",
    "    / \"EPSG_4326_RES_0_025\"\n",
    "    / \"CLIPPED_USC\"\n",
    ")\n",
    "\n",
    "PATH_NUMERICAL = BASE_PATH / \"NUMERICAL_IMPUTED_SCALED_STANDARD\"\n",
    "PATH_CATEGORICAL = BASE_PATH / \"CATEGORICAL\"\n",
    "PATH_GROUND_TRUTH = BASE_PATH / \"GROUND_TRUTH\"\n",
    "PATH_ISOGRAVITY = (files(\"beak.data\") / \"ISOGRAVITY-PROCESSED\" / \"EPSG_4326_RES_0_025\" / \"CLIPPED_USC\" / \"UNIFIED_IMPUTED_SCALED_STD\")\n",
    "\n",
    "print(\"-----------------\")\n",
    "print(\"--Load model data\")\n",
    "model_dict, file_list, counts = load_model(\n",
    "    model=model,\n",
    "    folders=[PATH_NUMERICAL, PATH_CATEGORICAL, PATH_ISOGRAVITY],\n",
    "    file_extensions=[\".tif\", \".tiff\"],\n",
    "    verbose=0,\n",
    ")    \n",
    "\n",
    "print(\"\")\n",
    "print(\"-----------------\")\n",
    "print(\"--Load label data\")\n",
    "label_data_dict, label_data_file_list, label_data_counts = load_model(\n",
    "    model=labeldata,\n",
    "    folders=[PATH_GROUND_TRUTH],\n",
    "    file_extensions=[\".tif\", \".tiff\"],\n",
    "    verbose=0,\n",
    ")    "
   ]
  },
  {
   "cell_type": "code",
   "execution_count": null,
   "metadata": {},
   "outputs": [],
   "source": [
    "base = \"d:/Programmieren/00_Repositories/CMAAS\"\n",
    "#base = \"d:/projekte/cmaas/repository\"\n",
    "file_path = base + \"/beak-ta3/experiments/mvt_nat/som/results/input_file_list.txt\"\n",
    "label_data_file_path = base + \"/beak-ta3/experiments/mvt_nat/som/results/label_file_list.txt\"\n",
    "\n",
    "# Open the file in write mode\n",
    "with open(file_path, 'w') as file:\n",
    "    # Write each string followed by a newline character\n",
    "    for string in file_list:\n",
    "        file.write(f\"{string}\\n\")\n",
    "\n",
    "# Open the file in write mode\n",
    "with open(label_data_file_path, 'w') as file:\n",
    "    # Write each string followed by a newline character\n",
    "    for string in label_data_file_list:\n",
    "        file.write(f\"{string}\\n\")\n"
   ]
  }
 ],
 "metadata": {
  "kernelspec": {
   "display_name": "beak-ta3",
   "language": "python",
   "name": "python3"
  },
  "language_info": {
   "codemirror_mode": {
    "name": "ipython",
    "version": 3
   },
   "file_extension": ".py",
   "mimetype": "text/x-python",
   "name": "python",
   "nbconvert_exporter": "python",
   "pygments_lexer": "ipython3",
   "version": "3.9.15"
  }
 },
 "nbformat": 4,
 "nbformat_minor": 2
}
